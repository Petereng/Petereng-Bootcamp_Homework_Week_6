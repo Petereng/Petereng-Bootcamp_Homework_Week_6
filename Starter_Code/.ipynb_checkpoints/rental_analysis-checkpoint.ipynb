{
 "cells": [
  {
   "cell_type": "markdown",
   "metadata": {},
   "source": [
    "Toronto Dwellings Analysis\n",
    "\n",
    "In this assignment, you will perform fundamental analysis for the Toronto dwellings market to \n",
    "allow potential real estate investors to choose rental investment properties."
   ]
  },
  {
   "cell_type": "code",
   "execution_count": 37,
   "metadata": {
    "tags": []
   },
   "outputs": [],
   "source": [
    "# imports\n",
    "import panel as pn\n",
    "pn.extension('plotly')\n",
    "import plotly.express as px\n",
    "import pandas as pd\n",
    "import hvplot.pandas\n",
    "import matplotlib.pyplot as plt\n",
    "import os\n",
    "from pathlib import Path\n",
    "from dotenv import load_dotenv"
   ]
  },
  {
   "cell_type": "code",
   "execution_count": 38,
   "metadata": {
    "tags": []
   },
   "outputs": [
    {
     "name": "stdout",
     "output_type": "stream",
     "text": [
      "1.20.1\n"
     ]
    }
   ],
   "source": [
    "import numpy as np\n",
    "print(np.__version__)"
   ]
  },
  {
   "cell_type": "code",
   "execution_count": 39,
   "metadata": {},
   "outputs": [],
   "source": [
    "# !pip install numpy --upgrade"
   ]
  },
  {
   "cell_type": "code",
   "execution_count": 40,
   "metadata": {},
   "outputs": [],
   "source": [
    "# Read the Mapbox API key\n",
    "load_dotenv()\n",
    "map_box_api = os.getenv(\"mapbox\")\n",
    "px.set_mapbox_access_token(map_box_api)"
   ]
  },
  {
   "cell_type": "markdown",
   "metadata": {},
   "source": [
    "## Load Data"
   ]
  },
  {
   "cell_type": "code",
   "execution_count": 41,
   "metadata": {},
   "outputs": [
    {
     "data": {
      "text/html": [
       "<div>\n",
       "<style scoped>\n",
       "    .dataframe tbody tr th:only-of-type {\n",
       "        vertical-align: middle;\n",
       "    }\n",
       "\n",
       "    .dataframe tbody tr th {\n",
       "        vertical-align: top;\n",
       "    }\n",
       "\n",
       "    .dataframe thead th {\n",
       "        text-align: right;\n",
       "    }\n",
       "</style>\n",
       "<table border=\"1\" class=\"dataframe\">\n",
       "  <thead>\n",
       "    <tr style=\"text-align: right;\">\n",
       "      <th></th>\n",
       "      <th>neighbourhood</th>\n",
       "      <th>single_detached_house</th>\n",
       "      <th>apartment_five_storeys_plus</th>\n",
       "      <th>movable_dwelling</th>\n",
       "      <th>semi_detached_house</th>\n",
       "      <th>row_house</th>\n",
       "      <th>duplex</th>\n",
       "      <th>apartment_five_storeys_less</th>\n",
       "      <th>other_house</th>\n",
       "      <th>average_house_value</th>\n",
       "      <th>shelter_costs_owned</th>\n",
       "      <th>shelter_costs_rented</th>\n",
       "    </tr>\n",
       "    <tr>\n",
       "      <th>year</th>\n",
       "      <th></th>\n",
       "      <th></th>\n",
       "      <th></th>\n",
       "      <th></th>\n",
       "      <th></th>\n",
       "      <th></th>\n",
       "      <th></th>\n",
       "      <th></th>\n",
       "      <th></th>\n",
       "      <th></th>\n",
       "      <th></th>\n",
       "      <th></th>\n",
       "    </tr>\n",
       "  </thead>\n",
       "  <tbody>\n",
       "    <tr>\n",
       "      <th>2001</th>\n",
       "      <td>Agincourt North</td>\n",
       "      <td>3715</td>\n",
       "      <td>1480</td>\n",
       "      <td>0</td>\n",
       "      <td>1055</td>\n",
       "      <td>1295</td>\n",
       "      <td>195</td>\n",
       "      <td>185</td>\n",
       "      <td>5</td>\n",
       "      <td>200388</td>\n",
       "      <td>810</td>\n",
       "      <td>870</td>\n",
       "    </tr>\n",
       "    <tr>\n",
       "      <th>2001</th>\n",
       "      <td>Agincourt South-Malvern West</td>\n",
       "      <td>3250</td>\n",
       "      <td>1835</td>\n",
       "      <td>0</td>\n",
       "      <td>545</td>\n",
       "      <td>455</td>\n",
       "      <td>105</td>\n",
       "      <td>425</td>\n",
       "      <td>0</td>\n",
       "      <td>203047</td>\n",
       "      <td>806</td>\n",
       "      <td>892</td>\n",
       "    </tr>\n",
       "    <tr>\n",
       "      <th>2001</th>\n",
       "      <td>Alderwood</td>\n",
       "      <td>3175</td>\n",
       "      <td>315</td>\n",
       "      <td>0</td>\n",
       "      <td>470</td>\n",
       "      <td>50</td>\n",
       "      <td>185</td>\n",
       "      <td>370</td>\n",
       "      <td>0</td>\n",
       "      <td>259998</td>\n",
       "      <td>817</td>\n",
       "      <td>924</td>\n",
       "    </tr>\n",
       "    <tr>\n",
       "      <th>2001</th>\n",
       "      <td>Annex</td>\n",
       "      <td>1060</td>\n",
       "      <td>6090</td>\n",
       "      <td>5</td>\n",
       "      <td>1980</td>\n",
       "      <td>605</td>\n",
       "      <td>275</td>\n",
       "      <td>3710</td>\n",
       "      <td>165</td>\n",
       "      <td>453850</td>\n",
       "      <td>1027</td>\n",
       "      <td>1378</td>\n",
       "    </tr>\n",
       "    <tr>\n",
       "      <th>2001</th>\n",
       "      <td>Banbury-Don Mills</td>\n",
       "      <td>3615</td>\n",
       "      <td>4465</td>\n",
       "      <td>0</td>\n",
       "      <td>240</td>\n",
       "      <td>380</td>\n",
       "      <td>15</td>\n",
       "      <td>1360</td>\n",
       "      <td>0</td>\n",
       "      <td>371864</td>\n",
       "      <td>1007</td>\n",
       "      <td>1163</td>\n",
       "    </tr>\n",
       "  </tbody>\n",
       "</table>\n",
       "</div>"
      ],
      "text/plain": [
       "                     neighbourhood  single_detached_house  \\\n",
       "year                                                        \n",
       "2001               Agincourt North                   3715   \n",
       "2001  Agincourt South-Malvern West                   3250   \n",
       "2001                     Alderwood                   3175   \n",
       "2001                         Annex                   1060   \n",
       "2001             Banbury-Don Mills                   3615   \n",
       "\n",
       "      apartment_five_storeys_plus  movable_dwelling  semi_detached_house  \\\n",
       "year                                                                       \n",
       "2001                         1480                 0                 1055   \n",
       "2001                         1835                 0                  545   \n",
       "2001                          315                 0                  470   \n",
       "2001                         6090                 5                 1980   \n",
       "2001                         4465                 0                  240   \n",
       "\n",
       "      row_house  duplex  apartment_five_storeys_less  other_house  \\\n",
       "year                                                                \n",
       "2001       1295     195                          185            5   \n",
       "2001        455     105                          425            0   \n",
       "2001         50     185                          370            0   \n",
       "2001        605     275                         3710          165   \n",
       "2001        380      15                         1360            0   \n",
       "\n",
       "      average_house_value  shelter_costs_owned  shelter_costs_rented  \n",
       "year                                                                  \n",
       "2001               200388                  810                   870  \n",
       "2001               203047                  806                   892  \n",
       "2001               259998                  817                   924  \n",
       "2001               453850                 1027                  1378  \n",
       "2001               371864                 1007                  1163  "
      ]
     },
     "execution_count": 41,
     "metadata": {},
     "output_type": "execute_result"
    }
   ],
   "source": [
    "# Read the census data into a Pandas DataFrame\n",
    "file_path = Path(\"./Data/toronto_neighbourhoods_census_data.csv\")\n",
    "to_data = pd.read_csv(file_path, index_col=\"year\")\n",
    "to_data.head()"
   ]
  },
  {
   "cell_type": "code",
   "execution_count": 42,
   "metadata": {},
   "outputs": [
    {
     "data": {
      "text/plain": [
       "Int64Index([2001, 2001, 2001, 2001, 2001, 2001, 2001, 2001, 2001, 2001,\n",
       "            ...\n",
       "            2016, 2016, 2016, 2016, 2016, 2016, 2016, 2016, 2016, 2016],\n",
       "           dtype='int64', name='year', length=560)"
      ]
     },
     "execution_count": 42,
     "metadata": {},
     "output_type": "execute_result"
    }
   ],
   "source": [
    "to_data.index\n",
    "# index check"
   ]
  },
  {
   "cell_type": "markdown",
   "metadata": {},
   "source": [
    "- - - "
   ]
  },
  {
   "cell_type": "markdown",
   "metadata": {},
   "source": [
    "## Dwelling Types Per Year\n",
    "\n",
    "In this section, you will calculate the number of dwelling types per year. Visualize the results using bar charts and the Pandas plot function. \n",
    "\n",
    "**Hint:** Use the Pandas `groupby` function.\n",
    "\n",
    "**Optional challenge:** Plot each bar chart in a different color."
   ]
  },
  {
   "cell_type": "code",
   "execution_count": 43,
   "metadata": {},
   "outputs": [
    {
     "data": {
      "text/html": [
       "<div>\n",
       "<style scoped>\n",
       "    .dataframe tbody tr th:only-of-type {\n",
       "        vertical-align: middle;\n",
       "    }\n",
       "\n",
       "    .dataframe tbody tr th {\n",
       "        vertical-align: top;\n",
       "    }\n",
       "\n",
       "    .dataframe thead th {\n",
       "        text-align: right;\n",
       "    }\n",
       "</style>\n",
       "<table border=\"1\" class=\"dataframe\">\n",
       "  <thead>\n",
       "    <tr style=\"text-align: right;\">\n",
       "      <th></th>\n",
       "      <th>single_detached_house</th>\n",
       "      <th>apartment_five_storeys_plus</th>\n",
       "      <th>movable_dwelling</th>\n",
       "      <th>semi_detached_house</th>\n",
       "      <th>row_house</th>\n",
       "      <th>duplex</th>\n",
       "      <th>apartment_five_storeys_less</th>\n",
       "      <th>other_house</th>\n",
       "    </tr>\n",
       "    <tr>\n",
       "      <th>year</th>\n",
       "      <th></th>\n",
       "      <th></th>\n",
       "      <th></th>\n",
       "      <th></th>\n",
       "      <th></th>\n",
       "      <th></th>\n",
       "      <th></th>\n",
       "      <th></th>\n",
       "    </tr>\n",
       "  </thead>\n",
       "  <tbody>\n",
       "    <tr>\n",
       "      <th>2001</th>\n",
       "      <td>300930</td>\n",
       "      <td>355015</td>\n",
       "      <td>75</td>\n",
       "      <td>90995</td>\n",
       "      <td>52355</td>\n",
       "      <td>23785</td>\n",
       "      <td>116900</td>\n",
       "      <td>3040</td>\n",
       "    </tr>\n",
       "    <tr>\n",
       "      <th>2006</th>\n",
       "      <td>266860</td>\n",
       "      <td>379400</td>\n",
       "      <td>165</td>\n",
       "      <td>69430</td>\n",
       "      <td>54690</td>\n",
       "      <td>44095</td>\n",
       "      <td>162850</td>\n",
       "      <td>1335</td>\n",
       "    </tr>\n",
       "    <tr>\n",
       "      <th>2011</th>\n",
       "      <td>274940</td>\n",
       "      <td>429220</td>\n",
       "      <td>100</td>\n",
       "      <td>72480</td>\n",
       "      <td>60355</td>\n",
       "      <td>44750</td>\n",
       "      <td>163895</td>\n",
       "      <td>2165</td>\n",
       "    </tr>\n",
       "    <tr>\n",
       "      <th>2016</th>\n",
       "      <td>269680</td>\n",
       "      <td>493270</td>\n",
       "      <td>95</td>\n",
       "      <td>71200</td>\n",
       "      <td>61565</td>\n",
       "      <td>48585</td>\n",
       "      <td>165575</td>\n",
       "      <td>2845</td>\n",
       "    </tr>\n",
       "  </tbody>\n",
       "</table>\n",
       "</div>"
      ],
      "text/plain": [
       "      single_detached_house  apartment_five_storeys_plus  movable_dwelling  \\\n",
       "year                                                                         \n",
       "2001                 300930                       355015                75   \n",
       "2006                 266860                       379400               165   \n",
       "2011                 274940                       429220               100   \n",
       "2016                 269680                       493270                95   \n",
       "\n",
       "      semi_detached_house  row_house  duplex  apartment_five_storeys_less  \\\n",
       "year                                                                        \n",
       "2001                90995      52355   23785                       116900   \n",
       "2006                69430      54690   44095                       162850   \n",
       "2011                72480      60355   44750                       163895   \n",
       "2016                71200      61565   48585                       165575   \n",
       "\n",
       "      other_house  \n",
       "year               \n",
       "2001         3040  \n",
       "2006         1335  \n",
       "2011         2165  \n",
       "2016         2845  "
      ]
     },
     "execution_count": 43,
     "metadata": {},
     "output_type": "execute_result"
    }
   ],
   "source": [
    "# Calculate the sum number of dwelling types units per year (hint: use groupby)\n",
    "dwelling_type_units = to_data[[\"single_detached_house\",\n",
    "                               \"apartment_five_storeys_plus\",\n",
    "                               \"movable_dwelling\", \n",
    "                               \"semi_detached_house\", \n",
    "                               \"row_house\", \"duplex\", \n",
    "                               \"apartment_five_storeys_less\", \n",
    "                               \"other_house\"]]\n",
    "dwelling_type_sum = dwelling_type_units.groupby('year').sum()\n",
    "dwelling_type_sum.head(10)\n",
    "\n",
    "# Googled:\n",
    "    # https://pandas.pydata.org/pandas-docs/stable/reference/api/pandas.DataFrame.reset_index.html \n",
    "    # -> used this to create a new dataframe\n",
    "        # https://pandas.pydata.org/pandas-docs/stable/reference/api/pandas.DataFrame.groupby.html\n",
    "  \n",
    "# From Week 6/1/06-Stu_Composing_Masterpieces/Solved/ activities\n",
    "    # loan_data = loan_data.groupby('State Code').sum()\n",
    "    # loan_data.head()\n",
    "   \n",
    "# This seemed to be a lot harder than it should have been, and has taken me three hours to work out believe it or not"
   ]
  },
  {
   "cell_type": "code",
   "execution_count": 44,
   "metadata": {},
   "outputs": [],
   "source": [
    "# Save the dataframe as a csv file\n",
    "\n",
    "dwelling_type_sum.to_csv('dwelling_type_sum.csv')\n",
    "\n",
    "# Googled https://towardsdatascience.com/how-to-export-pandas-dataframe-to-csv-2038e43d9c03 \n",
    "# The easiest way to do this \"df.to_csv('file_name.csv')\""
   ]
  },
  {
   "cell_type": "code",
   "execution_count": 45,
   "metadata": {},
   "outputs": [],
   "source": [
    "# dwelling_type_sum.loc[2001].plot.bar()\n",
    "\n",
    "# Test hvplot installation -> Lost hours from type errors caused by problematic installation, and fixed by my tutor\n",
    "# Seriously, the amount of time lost from the confusing environment and package installations is super frustrating"
   ]
  },
  {
   "cell_type": "code",
   "execution_count": 46,
   "metadata": {},
   "outputs": [],
   "source": [
    " # create_bar_chart function"
   ]
  },
  {
   "cell_type": "code",
   "execution_count": 47,
   "metadata": {},
   "outputs": [],
   "source": [
    " def create_bar_chart(data, bar_title, bar_xlabel, bar_ylabel, bar_color):\n",
    "    dwelling_plot = data.plot.bar(title = bar_title, color = bar_color)\n",
    "    dwelling_plot.set_xlabel(bar_xlabel)\n",
    "    dwelling_plot.set_ylabel(bar_ylabel)\n",
    "    plt.show()\n",
    "    \n",
    "    \"\"\"\n",
    "    Create a barplot based in the data argument.\n",
    "    \n",
    "    \"\"\"        \n",
    "# Googled https://hvplot.holoviz.org/user_guide/Plotting.html"
   ]
  },
  {
   "cell_type": "code",
   "execution_count": 48,
   "metadata": {},
   "outputs": [
    {
     "data": {
      "image/png": "[encoded data removed]",
      "text/plain": [
       "<Figure size 432x288 with 1 Axes>"
      ]
     },
     "metadata": {
      "needs_background": "light"
     },
     "output_type": "display_data"
    },
    {
     "data": {
      "image/png": "[encoded data removed]",
      "text/plain": [
       "<Figure size 432x288 with 1 Axes>"
      ]
     },
     "metadata": {
      "needs_background": "light"
     },
     "output_type": "display_data"
    },
    {
     "data": {
      "image/png": "[encoded data removed]",
      "text/plain": [
       "<Figure size 432x288 with 1 Axes>"
      ]
     },
     "metadata": {
      "needs_background": "light"
     },
     "output_type": "display_data"
    },
    {
     "data": {
      "image/png": "[encoded data removed]",
      "text/plain": [
       "<Figure size 432x288 with 1 Axes>"
      ]
     },
     "metadata": {
      "needs_background": "light"
     },
     "output_type": "display_data"
    }
   ],
   "source": [
    "# Create a bar chart per year to show the number of dwelling types\n",
    "\n",
    "# Bar chart for 2001\n",
    "bar_2001 = create_bar_chart(dwelling_type_sum.loc[2001], \"2001\", \"Dwelling type\", \"Number\", \"red\")\n",
    "\n",
    "# Bar chart for 2006\n",
    "bar_2006 = create_bar_chart(dwelling_type_sum.loc[2006], \"2006\", \"Dwelling type\", \"Number\", \"blue\")\n",
    "\n",
    "# Bar chart for 2011\n",
    "bar_2011 = create_bar_chart(dwelling_type_sum.loc[2011], \"2011\", \"Dwelling type\", \"Number\", \"green\")\n",
    "\n",
    "# Bar chart for 2016\n",
    "bar_2016 = create_bar_chart(dwelling_type_sum.loc[2016], \"2016\", \"Dwelling type\", \"Number\", \"purple\")"
   ]
  },
  {
   "cell_type": "markdown",
   "metadata": {},
   "source": [
    "- - - "
   ]
  },
  {
   "cell_type": "markdown",
   "metadata": {},
   "source": [
    "## Average Monthly Shelter Costs in Toronto Per Year\n",
    "\n",
    "In this section, you will calculate the average monthly shelter costs for owned and rented dwellings and the average house value for each year. Plot the results as a line chart.\n",
    "\n",
    "**Optional challenge:** Plot each line chart in a different color."
   ]
  },
  {
   "cell_type": "code",
   "execution_count": 49,
   "metadata": {},
   "outputs": [
    {
     "data": {
      "text/html": [
       "<div>\n",
       "<style scoped>\n",
       "    .dataframe tbody tr th:only-of-type {\n",
       "        vertical-align: middle;\n",
       "    }\n",
       "\n",
       "    .dataframe tbody tr th {\n",
       "        vertical-align: top;\n",
       "    }\n",
       "\n",
       "    .dataframe thead th {\n",
       "        text-align: right;\n",
       "    }\n",
       "</style>\n",
       "<table border=\"1\" class=\"dataframe\">\n",
       "  <thead>\n",
       "    <tr style=\"text-align: right;\">\n",
       "      <th></th>\n",
       "      <th>shelter_costs_owned</th>\n",
       "      <th>shelter_costs_rented</th>\n",
       "    </tr>\n",
       "    <tr>\n",
       "      <th>year</th>\n",
       "      <th></th>\n",
       "      <th></th>\n",
       "    </tr>\n",
       "  </thead>\n",
       "  <tbody>\n",
       "    <tr>\n",
       "      <th>2001</th>\n",
       "      <td>118563</td>\n",
       "      <td>152031</td>\n",
       "    </tr>\n",
       "    <tr>\n",
       "      <th>2006</th>\n",
       "      <td>184352</td>\n",
       "      <td>129558</td>\n",
       "    </tr>\n",
       "    <tr>\n",
       "      <th>2011</th>\n",
       "      <td>202750</td>\n",
       "      <td>142771</td>\n",
       "    </tr>\n",
       "    <tr>\n",
       "      <th>2016</th>\n",
       "      <td>246584</td>\n",
       "      <td>175885</td>\n",
       "    </tr>\n",
       "  </tbody>\n",
       "</table>\n",
       "</div>"
      ],
      "text/plain": [
       "      shelter_costs_owned  shelter_costs_rented\n",
       "year                                           \n",
       "2001               118563                152031\n",
       "2006               184352                129558\n",
       "2011               202750                142771\n",
       "2016               246584                175885"
      ]
     },
     "execution_count": 49,
     "metadata": {},
     "output_type": "execute_result"
    }
   ],
   "source": [
    "# Calculate the average monthly shelter costs for owned and rented dwellings\n",
    "\n",
    "monthly_shelter_costs = to_data[[\"shelter_costs_owned\",\"shelter_costs_rented\"]]\n",
    "monthly_shelter_costs = monthly_shelter_costs.groupby('year').sum()\n",
    "monthly_shelter_costs.head()\n"
   ]
  },
  {
   "cell_type": "code",
   "execution_count": 50,
   "metadata": {},
   "outputs": [
    {
     "data": {
      "text/html": [
       "<div>\n",
       "<style scoped>\n",
       "    .dataframe tbody tr th:only-of-type {\n",
       "        vertical-align: middle;\n",
       "    }\n",
       "\n",
       "    .dataframe tbody tr th {\n",
       "        vertical-align: top;\n",
       "    }\n",
       "\n",
       "    .dataframe thead th {\n",
       "        text-align: right;\n",
       "    }\n",
       "</style>\n",
       "<table border=\"1\" class=\"dataframe\">\n",
       "  <thead>\n",
       "    <tr style=\"text-align: right;\">\n",
       "      <th></th>\n",
       "      <th>shelter_costs_owned</th>\n",
       "      <th>shelter_costs_rented</th>\n",
       "    </tr>\n",
       "    <tr>\n",
       "      <th>year</th>\n",
       "      <th></th>\n",
       "      <th></th>\n",
       "    </tr>\n",
       "  </thead>\n",
       "  <tbody>\n",
       "    <tr>\n",
       "      <th>2001</th>\n",
       "      <td>846.878571</td>\n",
       "      <td>1085.935714</td>\n",
       "    </tr>\n",
       "    <tr>\n",
       "      <th>2006</th>\n",
       "      <td>1316.800000</td>\n",
       "      <td>925.414286</td>\n",
       "    </tr>\n",
       "    <tr>\n",
       "      <th>2011</th>\n",
       "      <td>1448.214286</td>\n",
       "      <td>1019.792857</td>\n",
       "    </tr>\n",
       "    <tr>\n",
       "      <th>2016</th>\n",
       "      <td>1761.314286</td>\n",
       "      <td>1256.321429</td>\n",
       "    </tr>\n",
       "  </tbody>\n",
       "</table>\n",
       "</div>"
      ],
      "text/plain": [
       "      shelter_costs_owned  shelter_costs_rented\n",
       "year                                           \n",
       "2001           846.878571           1085.935714\n",
       "2006          1316.800000            925.414286\n",
       "2011          1448.214286           1019.792857\n",
       "2016          1761.314286           1256.321429"
      ]
     },
     "execution_count": 50,
     "metadata": {},
     "output_type": "execute_result"
    }
   ],
   "source": [
    "monthly_shelter_costs = to_data[[\"shelter_costs_owned\",\"shelter_costs_rented\"]]\n",
    "monthly_shelter_costs = monthly_shelter_costs.groupby('year').mean()\n",
    "monthly_shelter_costs.head()"
   ]
  },
  {
   "cell_type": "code",
   "execution_count": 51,
   "metadata": {},
   "outputs": [],
   "source": [
    "# create_line_chart function\n",
    "\n",
    "def create_line_chart(data, line_title, line_xlabel, line_ylabel, line_color):\n",
    "    \n",
    "    \"\"\"\n",
    "    Create a line chart based in the data argument.\n",
    "    \n",
    "    \"\"\"\n",
    "    dwelling_plot = data.plot.line(title = line_title, color = line_color)\n",
    "    dwelling_plot.set_xlabel(line_xlabel)\n",
    "    dwelling_plot.set_ylabel(line_ylabel)\n",
    "    plt.show()"
   ]
  },
  {
   "cell_type": "code",
   "execution_count": 52,
   "metadata": {},
   "outputs": [
    {
     "data": {
      "image/png": "[encoded data removed]",
      "text/plain": [
       "<Figure size 432x288 with 1 Axes>"
      ]
     },
     "metadata": {
      "needs_background": "light"
     },
     "output_type": "display_data"
    }
   ],
   "source": [
    "# Create two line charts, one to plot the monthly shelter costs for owned dwelling and other for rented dwellings per year\n",
    "\n",
    "# Line chart for owned dwellings\n",
    "    \n",
    "line_owned = create_line_chart(monthly_shelter_costs\n",
    "        [\"shelter_costs_owned\"], \n",
    "        \"Monthly shelter costs for owned properties\", \n",
    "        \"Year\", \n",
    "        \"Cost\", \n",
    "        \"red\"\n",
    ")"
   ]
  },
  {
   "cell_type": "code",
   "execution_count": 53,
   "metadata": {},
   "outputs": [
    {
     "data": {
      "image/png": "[encoded data removed]",
      "text/plain": [
       "<Figure size 432x288 with 1 Axes>"
      ]
     },
     "metadata": {
      "needs_background": "light"
     },
     "output_type": "display_data"
    }
   ],
   "source": [
    "# Line chart for rented dwellings\n",
    "\n",
    "line_rent = create_line_chart(monthly_shelter_costs\n",
    "        [\"shelter_costs_rented\"],\n",
    "        \"Monthly shelter costs for rented properties\",\n",
    "        \"Year\", \n",
    "        \"Cost\",\n",
    "        \"green\"\n",
    ")"
   ]
  },
  {
   "cell_type": "markdown",
   "metadata": {},
   "source": [
    "## Average House Value per Year\n",
    "\n",
    "In this section, you want to determine the average house value per year. An investor may want to understand better the sales price of the rental property over time. For example, a customer will want to know if they should expect an increase or decrease in the property value over time so they can determine how long to hold the rental property. You will visualize the `average_house_value` per year as a bar chart."
   ]
  },
  {
   "cell_type": "code",
   "execution_count": 54,
   "metadata": {},
   "outputs": [
    {
     "data": {
      "text/plain": [
       "year\n",
       "2001    289882.885714\n",
       "2006    424059.664286\n",
       "2011    530424.721429\n",
       "2016    664068.328571\n",
       "Name: average_house_value, dtype: float64"
      ]
     },
     "execution_count": 54,
     "metadata": {},
     "output_type": "execute_result"
    }
   ],
   "source": [
    "# Calculate the average house value per year\n",
    "average_house_value_per_year = to_data[\"average_house_value\"]\n",
    "average_house_value_per_year = average_house_value_per_year.groupby('year').mean()\n",
    "average_house_value_per_year.head()\n"
   ]
  },
  {
   "cell_type": "code",
   "execution_count": 55,
   "metadata": {},
   "outputs": [
    {
     "data": {
      "image/png": "[encoded data removed]",
      "text/plain": [
       "<Figure size 432x288 with 1 Axes>"
      ]
     },
     "metadata": {
      "needs_background": "light"
     },
     "output_type": "display_data"
    }
   ],
   "source": [
    "# Plot the average house value per year as a bar chart\n",
    "\n",
    "average_house_value_per_year.plot.bar(\n",
    "    title = \"Average House Value\", \n",
    "    color = \"green\",\n",
    "    ylabel = \"Value\",\n",
    "    xlabel = \"Year\"\n",
    ")\n",
    "plt.show()"
   ]
  },
  {
   "cell_type": "markdown",
   "metadata": {},
   "source": [
    "- - - "
   ]
  },
  {
   "cell_type": "markdown",
   "metadata": {},
   "source": [
    "## Average House Value by Neighbourhood\n",
    "\n",
    "In this section, you will use `hvplot` to create an interactive visualization of the average house value with a dropdown selector for the neighbourhood.\n",
    "\n",
    "**Hint:** It will be easier to create a new DataFrame from grouping the data and calculating the mean house values for each year and neighbourhood."
   ]
  },
  {
   "cell_type": "code",
   "execution_count": 56,
   "metadata": {},
   "outputs": [
    {
     "data": {
      "text/html": [
       "<div>\n",
       "<style scoped>\n",
       "    .dataframe tbody tr th:only-of-type {\n",
       "        vertical-align: middle;\n",
       "    }\n",
       "\n",
       "    .dataframe tbody tr th {\n",
       "        vertical-align: top;\n",
       "    }\n",
       "\n",
       "    .dataframe thead th {\n",
       "        text-align: right;\n",
       "    }\n",
       "</style>\n",
       "<table border=\"1\" class=\"dataframe\">\n",
       "  <thead>\n",
       "    <tr style=\"text-align: right;\">\n",
       "      <th></th>\n",
       "      <th>year</th>\n",
       "      <th>neighbourhood</th>\n",
       "      <th>average_house_value</th>\n",
       "    </tr>\n",
       "  </thead>\n",
       "  <tbody>\n",
       "    <tr>\n",
       "      <th>0</th>\n",
       "      <td>2001</td>\n",
       "      <td>Agincourt North</td>\n",
       "      <td>200388</td>\n",
       "    </tr>\n",
       "    <tr>\n",
       "      <th>1</th>\n",
       "      <td>2001</td>\n",
       "      <td>Agincourt South-Malvern West</td>\n",
       "      <td>203047</td>\n",
       "    </tr>\n",
       "    <tr>\n",
       "      <th>2</th>\n",
       "      <td>2001</td>\n",
       "      <td>Alderwood</td>\n",
       "      <td>259998</td>\n",
       "    </tr>\n",
       "    <tr>\n",
       "      <th>3</th>\n",
       "      <td>2001</td>\n",
       "      <td>Annex</td>\n",
       "      <td>453850</td>\n",
       "    </tr>\n",
       "    <tr>\n",
       "      <th>4</th>\n",
       "      <td>2001</td>\n",
       "      <td>Banbury-Don Mills</td>\n",
       "      <td>371864</td>\n",
       "    </tr>\n",
       "    <tr>\n",
       "      <th>...</th>\n",
       "      <td>...</td>\n",
       "      <td>...</td>\n",
       "      <td>...</td>\n",
       "    </tr>\n",
       "    <tr>\n",
       "      <th>555</th>\n",
       "      <td>2016</td>\n",
       "      <td>Wychwood</td>\n",
       "      <td>787760</td>\n",
       "    </tr>\n",
       "    <tr>\n",
       "      <th>556</th>\n",
       "      <td>2016</td>\n",
       "      <td>Yonge-Eglinton</td>\n",
       "      <td>1127052</td>\n",
       "    </tr>\n",
       "    <tr>\n",
       "      <th>557</th>\n",
       "      <td>2016</td>\n",
       "      <td>Yonge-St.Clair</td>\n",
       "      <td>1131888</td>\n",
       "    </tr>\n",
       "    <tr>\n",
       "      <th>558</th>\n",
       "      <td>2016</td>\n",
       "      <td>York University Heights</td>\n",
       "      <td>425769</td>\n",
       "    </tr>\n",
       "    <tr>\n",
       "      <th>559</th>\n",
       "      <td>2016</td>\n",
       "      <td>Yorkdale-Glen Park</td>\n",
       "      <td>599698</td>\n",
       "    </tr>\n",
       "  </tbody>\n",
       "</table>\n",
       "<p>560 rows × 3 columns</p>\n",
       "</div>"
      ],
      "text/plain": [
       "     year                 neighbourhood  average_house_value\n",
       "0    2001               Agincourt North               200388\n",
       "1    2001  Agincourt South-Malvern West               203047\n",
       "2    2001                     Alderwood               259998\n",
       "3    2001                         Annex               453850\n",
       "4    2001             Banbury-Don Mills               371864\n",
       "..    ...                           ...                  ...\n",
       "555  2016                      Wychwood               787760\n",
       "556  2016                Yonge-Eglinton              1127052\n",
       "557  2016                Yonge-St.Clair              1131888\n",
       "558  2016       York University Heights               425769\n",
       "559  2016            Yorkdale-Glen Park               599698\n",
       "\n",
       "[560 rows x 3 columns]"
      ]
     },
     "execution_count": 56,
     "metadata": {},
     "output_type": "execute_result"
    }
   ],
   "source": [
    "# Create a new DataFrame with the mean house values by neighbourhood per year\n",
    "average_house_values_by_neighbourhood = to_data[[\"neighbourhood\",\"average_house_value\"]].reset_index()\n",
    "average_house_values_by_neighbourhood"
   ]
  },
  {
   "cell_type": "code",
   "execution_count": 57,
   "metadata": {},
   "outputs": [],
   "source": [
    "# Use hvplot to create an interactive line chart of the average house value per neighbourhood\n",
    "# The plot should have a dropdown selector for the neighbourhood\n",
    "\n",
    "# average_house_values_by_neighbourhood.hvplot.line()\n",
    "# A quick test to see if hvplot installation has worked"
   ]
  },
  {
   "cell_type": "code",
   "execution_count": 58,
   "metadata": {},
   "outputs": [
    {
     "data": {},
     "metadata": {},
     "output_type": "display_data"
    },
    {
     "data": {
      "application/vnd.holoviews_exec.v0+json": "",
      "text/html": [
       "<div id='1438'>\n",
       "\n",
       "\n",
       "\n",
       "\n",
       "\n",
       "  <div class=\"bk-root\" id=\"b156299e-4927-42de-8d51-f9acf9794ec9\" data-root-id=\"1438\"></div>\n",
       "</div>\n",
       "<script type=\"application/javascript\">(function(root) {\n",
       "  function embed_document(root) {\n",
       "    var docs_json = {\"9c507c8e-2dfe-4bda-9d0f-a685299824fa\":{\"defs\":[],\"roots\":{\"references\":[{\"attributes\":{},\"id\":\"1461\",\"type\":\"PanTool\"},{\"attributes\":{\"line_color\":\"#30a2da\",\"line_width\":2,\"x\":{\"field\":\"year\"},\"y\":{\"field\":\"average_house_value\"}},\"id\":\"1476\",\"type\":\"Line\"},{\"attributes\":{\"callback\":null,\"renderers\":[{\"id\":\"1479\"}],\"tags\":[\"hv_created\"],\"tooltips\":[[\"year\",\"@{year}\"],[\"average_house_value\",\"@{average_house_value}\"]]},\"id\":\"1442\",\"type\":\"HoverTool\"},{\"attributes\":{\"format\":\"%.0f\"},\"id\":\"1482\",\"type\":\"PrintfTickFormatter\"},{\"attributes\":{\"axis\":{\"id\":\"1452\"},\"grid_line_color\":null,\"ticker\":null},\"id\":\"1455\",\"type\":\"Grid\"},{\"attributes\":{\"margin\":[5,5,5,5],\"name\":\"HSpacer02622\",\"sizing_mode\":\"stretch_width\"},\"id\":\"1515\",\"type\":\"Spacer\"},{\"attributes\":{\"active_multi\":null,\"tools\":[{\"id\":\"1442\"},{\"id\":\"1460\"},{\"id\":\"1461\"},{\"id\":\"1462\"},{\"id\":\"1463\"},{\"id\":\"1464\"}]},\"id\":\"1466\",\"type\":\"Toolbar\"},{\"attributes\":{\"end\":484917.3,\"reset_end\":484917.3,\"reset_start\":174521.7,\"start\":174521.7,\"tags\":[[[\"average_house_value\",\"average_house_value\",null]]]},\"id\":\"1441\",\"type\":\"Range1d\"},{\"attributes\":{},\"id\":\"1460\",\"type\":\"SaveTool\"},{\"attributes\":{\"data_source\":{\"id\":\"1473\"},\"glyph\":{\"id\":\"1476\"},\"hover_glyph\":null,\"muted_glyph\":{\"id\":\"1478\"},\"nonselection_glyph\":{\"id\":\"1477\"},\"selection_glyph\":{\"id\":\"1481\"},\"view\":{\"id\":\"1480\"}},\"id\":\"1479\",\"type\":\"GlyphRenderer\"},{\"attributes\":{},\"id\":\"1474\",\"type\":\"Selection\"},{\"attributes\":{},\"id\":\"1453\",\"type\":\"BasicTicker\"},{\"attributes\":{\"axis\":{\"id\":\"1456\"},\"dimension\":1,\"grid_line_color\":null,\"ticker\":null},\"id\":\"1459\",\"type\":\"Grid\"},{\"attributes\":{\"margin\":[5,5,5,5],\"name\":\"VSpacer02618\",\"sizing_mode\":\"stretch_height\"},\"id\":\"1517\",\"type\":\"Spacer\"},{\"attributes\":{},\"id\":\"1457\",\"type\":\"BasicTicker\"},{\"attributes\":{\"children\":[{\"id\":\"1517\"},{\"id\":\"1518\"},{\"id\":\"1520\"}],\"margin\":[0,0,0,0],\"name\":\"Column02620\"},\"id\":\"1516\",\"type\":\"Column\"},{\"attributes\":{\"axis_label\":\"Average house value\",\"formatter\":{\"id\":\"1482\"},\"major_label_policy\":{\"id\":\"1488\"},\"ticker\":{\"id\":\"1457\"}},\"id\":\"1456\",\"type\":\"LinearAxis\"},{\"attributes\":{\"text\":\"An interactive line chart of the average house value per neighbourhood\",\"text_color\":\"black\",\"text_font_size\":\"12pt\"},\"id\":\"1444\",\"type\":\"Title\"},{\"attributes\":{\"bottom_units\":\"screen\",\"fill_alpha\":0.5,\"fill_color\":\"lightgrey\",\"left_units\":\"screen\",\"level\":\"overlay\",\"line_alpha\":1.0,\"line_color\":\"black\",\"line_dash\":[4,4],\"line_width\":2,\"right_units\":\"screen\",\"syncable\":false,\"top_units\":\"screen\"},\"id\":\"1465\",\"type\":\"BoxAnnotation\"},{\"attributes\":{\"children\":[{\"id\":\"1519\"}],\"css_classes\":[\"panel-widget-box\"],\"margin\":[5,5,5,5],\"name\":\"WidgetBox02613\"},\"id\":\"1518\",\"type\":\"Column\"},{\"attributes\":{\"overlay\":{\"id\":\"1465\"}},\"id\":\"1463\",\"type\":\"BoxZoomTool\"},{\"attributes\":{},\"id\":\"1488\",\"type\":\"AllLabels\"},{\"attributes\":{\"children\":[{\"id\":\"1439\"},{\"id\":\"1443\"},{\"id\":\"1515\"},{\"id\":\"1516\"}],\"margin\":[0,0,0,0],\"name\":\"Row02612\"},\"id\":\"1438\",\"type\":\"Row\"},{\"attributes\":{\"line_color\":\"#30a2da\",\"line_width\":2,\"x\":{\"field\":\"year\"},\"y\":{\"field\":\"average_house_value\"}},\"id\":\"1481\",\"type\":\"Line\"},{\"attributes\":{},\"id\":\"1450\",\"type\":\"LinearScale\"},{\"attributes\":{\"data\":{\"average_house_value\":[200388,293140,366667,459051],\"year\":[2001,2006,2011,2016]},\"selected\":{\"id\":\"1474\"},\"selection_policy\":{\"id\":\"1504\"}},\"id\":\"1473\",\"type\":\"ColumnDataSource\"},{\"attributes\":{},\"id\":\"1462\",\"type\":\"WheelZoomTool\"},{\"attributes\":{\"line_alpha\":0.1,\"line_color\":\"#30a2da\",\"line_width\":2,\"x\":{\"field\":\"year\"},\"y\":{\"field\":\"average_house_value\"}},\"id\":\"1477\",\"type\":\"Line\"},{\"attributes\":{\"axis_label\":\"Year\",\"formatter\":{\"id\":\"1484\"},\"major_label_policy\":{\"id\":\"1485\"},\"ticker\":{\"id\":\"1453\"}},\"id\":\"1452\",\"type\":\"LinearAxis\"},{\"attributes\":{},\"id\":\"1484\",\"type\":\"BasicTickFormatter\"},{\"attributes\":{\"margin\":[20,20,20,20],\"min_width\":250,\"options\":[\"Agincourt North\",\"Agincourt South-Malvern West\",\"Alderwood\",\"Annex\",\"Banbury-Don Mills\",\"Bathurst Manor\",\"Bay Street Corridor\",\"Bayview Village\",\"Bayview Woods-Steeles\",\"Bedford Park-Nortown\",\"Beechborough-Greenbrook\",\"Bendale\",\"Birchcliffe-Cliffside\",\"Black Creek\",\"Blake-Jones\",\"Briar Hill-Belgravia\",\"Bridle Path-Sunnybrook-York Mills\",\"Broadview North\",\"Brookhaven-Amesbury\",\"Cabbagetown-South St.James Town\",\"Caledonia-Fairbank\",\"Casa Loma\",\"Centennial Scarborough\",\"Church-Yonge Corridor\",\"Clairlea-Birchmount\",\"Clanton Park\",\"Cliffcrest\",\"Corso Italia-Davenport\",\"Danforth\",\"Danforth-East York\",\"Don Valley Village\",\"Dorset Park\",\"Dovercourt-Wallace Emerson-Juncti\",\"Downsview-Roding-CFB\",\"Dufferin Grove\",\"East End-Danforth\",\"Edenbridge-Humber Valley\",\"Eglinton East\",\"Elms-Old Rexdale\",\"Englemount-Lawrence\",\"Eringate-Centennial-West Deane\",\"Etobicoke West Mall\",\"Flemingdon Park\",\"Forest Hill North\",\"Forest Hill South\",\"Glenfield-Jane Heights\",\"Greenwood-Coxwell\",\"Guildwood\",\"Henry Farm\",\"High Park North\",\"High Park-Swansea\",\"Highland Creek\",\"Hillcrest Village\",\"Humber Heights-Westmount\",\"Humber Summit\",\"Humbermede\",\"Humewood-Cedarvale\",\"Ionview\",\"Islington-City Centre West\",\"Junction Area\",\"Keelesdale-Eglinton West\",\"Kennedy Park\",\"Kensington-Chinatown\",\"Kingsview Village-The Westway\",\"Kingsway South\",\"L'Amoreaux\",\"Lambton Baby Point\",\"Lansing-Westgate\",\"Lawrence Park North\",\"Lawrence Park South\",\"Leaside-Bennington\",\"Little Portugal\",\"Long Branch\",\"Malvern\",\"Maple Leaf\",\"Markland Wood\",\"Milliken\",\"Mimico\",\"Morningside\",\"Moss Park\",\"Mount Dennis\",\"Mount Olive-Silverstone-Jamestown\",\"Mount Pleasant East\",\"Mount Pleasant West\",\"New Toronto\",\"Newtonbrook East\",\"Newtonbrook West\",\"Niagara\",\"North Riverdale\",\"North St.James Town\",\"O'Connor-Parkview\",\"Oakridge\",\"Oakwood Village\",\"Old East York\",\"Palmerston-Little Italy\",\"Parkwoods-Donalda\",\"Pelmo Park-Humberlea\",\"Playter Estates-Danforth\",\"Pleasant View\",\"Princess-Rosethorn\",\"Regent Park\",\"Rexdale-Kipling\",\"Rockcliffe-Smythe\",\"Roncesvalles\",\"Rosedale-Moore Park\",\"Rouge\",\"Runnymede-Bloor West Village\",\"Rustic\",\"Scarborough Village\",\"South Parkdale\",\"South Riverdale\",\"St.Andrew-Windfields\",\"Steeles\",\"Stonegate-Queensway\",\"Tam O'Shanter-Sullivan\",\"Taylor-Massey\",\"The Beaches\",\"Thistletown-Beaumond Heights\",\"Thorncliffe Park\",\"Trinity-Bellwoods\",\"University\",\"Victoria Village\",\"Waterfront Communities-The Island\",\"West Hill\",\"West Humber-Clairville\",\"Westminster-Branson\",\"Weston\",\"Weston-Pellam Park\",\"Wexford/Maryvale\",\"Willowdale East\",\"Willowdale West\",\"Willowridge-Martingrove-Richview\",\"Woburn\",\"Woodbine Corridor\",\"Woodbine-Lumsden\",\"Wychwood\",\"Yonge-Eglinton\",\"Yonge-St.Clair\",\"York University Heights\",\"Yorkdale-Glen Park\"],\"title\":\"neighbourhood\",\"value\":\"Agincourt North\",\"width\":250},\"id\":\"1519\",\"type\":\"Select\"},{\"attributes\":{\"margin\":[5,5,5,5],\"name\":\"VSpacer02619\",\"sizing_mode\":\"stretch_height\"},\"id\":\"1520\",\"type\":\"Spacer\"},{\"attributes\":{\"margin\":[5,5,5,5],\"name\":\"HSpacer02621\",\"sizing_mode\":\"stretch_width\"},\"id\":\"1439\",\"type\":\"Spacer\"},{\"attributes\":{\"end\":2016.0,\"reset_end\":2016.0,\"reset_start\":2001.0,\"start\":2001.0,\"tags\":[[[\"year\",\"year\",null]]]},\"id\":\"1440\",\"type\":\"Range1d\"},{\"attributes\":{\"line_alpha\":0.2,\"line_color\":\"#30a2da\",\"line_width\":2,\"x\":{\"field\":\"year\"},\"y\":{\"field\":\"average_house_value\"}},\"id\":\"1478\",\"type\":\"Line\"},{\"attributes\":{},\"id\":\"1464\",\"type\":\"ResetTool\"},{\"attributes\":{},\"id\":\"1485\",\"type\":\"AllLabels\"},{\"attributes\":{},\"id\":\"1504\",\"type\":\"UnionRenderers\"},{\"attributes\":{},\"id\":\"1448\",\"type\":\"LinearScale\"},{\"attributes\":{\"source\":{\"id\":\"1473\"}},\"id\":\"1480\",\"type\":\"CDSView\"},{\"attributes\":{\"below\":[{\"id\":\"1452\"}],\"center\":[{\"id\":\"1455\"},{\"id\":\"1459\"}],\"height\":300,\"left\":[{\"id\":\"1456\"}],\"margin\":[5,5,5,5],\"min_border_bottom\":10,\"min_border_left\":10,\"min_border_right\":10,\"min_border_top\":10,\"renderers\":[{\"id\":\"1479\"}],\"sizing_mode\":\"fixed\",\"title\":{\"id\":\"1444\"},\"toolbar\":{\"id\":\"1466\"},\"width\":700,\"x_range\":{\"id\":\"1440\"},\"x_scale\":{\"id\":\"1448\"},\"y_range\":{\"id\":\"1441\"},\"y_scale\":{\"id\":\"1450\"}},\"id\":\"1443\",\"subtype\":\"Figure\",\"type\":\"Plot\"},{\"attributes\":{\"client_comm_id\":\"50ba795216c84f07836e8cf112c0ab1b\",\"comm_id\":\"6aa275ece8af4ff5ab0bdcd5497b5f09\",\"plot_id\":\"1438\"},\"id\":\"1548\",\"type\":\"panel.models.comm_manager.CommManager\"}],\"root_ids\":[\"1438\",\"1548\"]},\"title\":\"Bokeh Application\",\"version\":\"2.3.2\"}};\n",
       "    var render_items = [{\"docid\":\"9c507c8e-2dfe-4bda-9d0f-a685299824fa\",\"root_ids\":[\"1438\"],\"roots\":{\"1438\":\"b156299e-4927-42de-8d51-f9acf9794ec9\"}}];\n",
       "    root.Bokeh.embed.embed_items_notebook(docs_json, render_items);\n",
       "  }\n",
       "  if (root.Bokeh !== undefined && root.Bokeh.Panel !== undefined && root['Plotly'] !== undefined ) {\n",
       "    embed_document(root);\n",
       "  } else {\n",
       "    var attempts = 0;\n",
       "    var timer = setInterval(function(root) {\n",
       "      if (root.Bokeh !== undefined && root.Bokeh.Panel !== undefined && root['Plotly'] !== undefined) {\n",
       "        clearInterval(timer);\n",
       "        embed_document(root);\n",
       "      } else if (document.readyState == \"complete\") {\n",
       "        attempts++;\n",
       "        if (attempts > 100) {\n",
       "          clearInterval(timer);\n",
       "          console.log(\"Bokeh: ERROR: Unable to run BokehJS code because BokehJS library is missing\");\n",
       "        }\n",
       "      }\n",
       "    }, 10, root)\n",
       "  }\n",
       "})(window);</script>"
      ],
      "text/plain": [
       ":DynamicMap   [neighbourhood]\n",
       "   :Curve   [year]   (average_house_value)"
      ]
     },
     "execution_count": 58,
     "metadata": {
      "application/vnd.holoviews_exec.v0+json": {
       "id": "1438"
      }
     },
     "output_type": "execute_result"
    }
   ],
   "source": [
    "average_house_values_by_neighbourhood.hvplot.line(\n",
    "    x='year',\n",
    "    y='average_house_value', \n",
    "    groupby='neighbourhood',\n",
    "    xlabel=\"Year\",\n",
    "    ylabel=\"Average house value\",\n",
    "    title =\"An interactive line chart of the average house value per neighbourhood\"\n",
    ").opts(yformatter=\"%.0f\")\n",
    "\n",
    "# From Week 6/1/07-Ins_Viz_Options/Solved activities"
   ]
  },
  {
   "cell_type": "markdown",
   "metadata": {},
   "source": [
    "## Number of Dwelling Types per Year\n",
    "\n",
    "In this section, you will use `hvplot` to create an interactive visualization of the average number of dwelling types per year with a dropdown selector for the neighbourhood."
   ]
  },
  {
   "cell_type": "code",
   "execution_count": 59,
   "metadata": {},
   "outputs": [
    {
     "data": {
      "text/html": [
       "<div>\n",
       "<style scoped>\n",
       "    .dataframe tbody tr th:only-of-type {\n",
       "        vertical-align: middle;\n",
       "    }\n",
       "\n",
       "    .dataframe tbody tr th {\n",
       "        vertical-align: top;\n",
       "    }\n",
       "\n",
       "    .dataframe thead th {\n",
       "        text-align: right;\n",
       "    }\n",
       "</style>\n",
       "<table border=\"1\" class=\"dataframe\">\n",
       "  <thead>\n",
       "    <tr style=\"text-align: right;\">\n",
       "      <th></th>\n",
       "      <th>year</th>\n",
       "      <th>neighbourhood</th>\n",
       "      <th>single_detached_house</th>\n",
       "      <th>apartment_five_storeys_plus</th>\n",
       "      <th>movable_dwelling</th>\n",
       "      <th>semi_detached_house</th>\n",
       "      <th>row_house</th>\n",
       "      <th>duplex</th>\n",
       "      <th>apartment_five_storeys_less</th>\n",
       "      <th>other_house</th>\n",
       "    </tr>\n",
       "  </thead>\n",
       "  <tbody>\n",
       "    <tr>\n",
       "      <th>0</th>\n",
       "      <td>2001</td>\n",
       "      <td>Agincourt North</td>\n",
       "      <td>3715</td>\n",
       "      <td>1480</td>\n",
       "      <td>0</td>\n",
       "      <td>1055</td>\n",
       "      <td>1295</td>\n",
       "      <td>195</td>\n",
       "      <td>185</td>\n",
       "      <td>5</td>\n",
       "    </tr>\n",
       "    <tr>\n",
       "      <th>1</th>\n",
       "      <td>2001</td>\n",
       "      <td>Agincourt South-Malvern West</td>\n",
       "      <td>3250</td>\n",
       "      <td>1835</td>\n",
       "      <td>0</td>\n",
       "      <td>545</td>\n",
       "      <td>455</td>\n",
       "      <td>105</td>\n",
       "      <td>425</td>\n",
       "      <td>0</td>\n",
       "    </tr>\n",
       "    <tr>\n",
       "      <th>2</th>\n",
       "      <td>2001</td>\n",
       "      <td>Alderwood</td>\n",
       "      <td>3175</td>\n",
       "      <td>315</td>\n",
       "      <td>0</td>\n",
       "      <td>470</td>\n",
       "      <td>50</td>\n",
       "      <td>185</td>\n",
       "      <td>370</td>\n",
       "      <td>0</td>\n",
       "    </tr>\n",
       "    <tr>\n",
       "      <th>3</th>\n",
       "      <td>2001</td>\n",
       "      <td>Annex</td>\n",
       "      <td>1060</td>\n",
       "      <td>6090</td>\n",
       "      <td>5</td>\n",
       "      <td>1980</td>\n",
       "      <td>605</td>\n",
       "      <td>275</td>\n",
       "      <td>3710</td>\n",
       "      <td>165</td>\n",
       "    </tr>\n",
       "    <tr>\n",
       "      <th>4</th>\n",
       "      <td>2001</td>\n",
       "      <td>Banbury-Don Mills</td>\n",
       "      <td>3615</td>\n",
       "      <td>4465</td>\n",
       "      <td>0</td>\n",
       "      <td>240</td>\n",
       "      <td>380</td>\n",
       "      <td>15</td>\n",
       "      <td>1360</td>\n",
       "      <td>0</td>\n",
       "    </tr>\n",
       "    <tr>\n",
       "      <th>...</th>\n",
       "      <td>...</td>\n",
       "      <td>...</td>\n",
       "      <td>...</td>\n",
       "      <td>...</td>\n",
       "      <td>...</td>\n",
       "      <td>...</td>\n",
       "      <td>...</td>\n",
       "      <td>...</td>\n",
       "      <td>...</td>\n",
       "      <td>...</td>\n",
       "    </tr>\n",
       "    <tr>\n",
       "      <th>555</th>\n",
       "      <td>2016</td>\n",
       "      <td>Wychwood</td>\n",
       "      <td>920</td>\n",
       "      <td>1295</td>\n",
       "      <td>0</td>\n",
       "      <td>880</td>\n",
       "      <td>290</td>\n",
       "      <td>395</td>\n",
       "      <td>2080</td>\n",
       "      <td>35</td>\n",
       "    </tr>\n",
       "    <tr>\n",
       "      <th>556</th>\n",
       "      <td>2016</td>\n",
       "      <td>Yonge-Eglinton</td>\n",
       "      <td>1400</td>\n",
       "      <td>1995</td>\n",
       "      <td>0</td>\n",
       "      <td>465</td>\n",
       "      <td>60</td>\n",
       "      <td>310</td>\n",
       "      <td>1445</td>\n",
       "      <td>0</td>\n",
       "    </tr>\n",
       "    <tr>\n",
       "      <th>557</th>\n",
       "      <td>2016</td>\n",
       "      <td>Yonge-St.Clair</td>\n",
       "      <td>520</td>\n",
       "      <td>4315</td>\n",
       "      <td>0</td>\n",
       "      <td>450</td>\n",
       "      <td>220</td>\n",
       "      <td>130</td>\n",
       "      <td>1370</td>\n",
       "      <td>0</td>\n",
       "    </tr>\n",
       "    <tr>\n",
       "      <th>558</th>\n",
       "      <td>2016</td>\n",
       "      <td>York University Heights</td>\n",
       "      <td>1235</td>\n",
       "      <td>5505</td>\n",
       "      <td>0</td>\n",
       "      <td>1360</td>\n",
       "      <td>775</td>\n",
       "      <td>280</td>\n",
       "      <td>995</td>\n",
       "      <td>0</td>\n",
       "    </tr>\n",
       "    <tr>\n",
       "      <th>559</th>\n",
       "      <td>2016</td>\n",
       "      <td>Yorkdale-Glen Park</td>\n",
       "      <td>2165</td>\n",
       "      <td>1185</td>\n",
       "      <td>0</td>\n",
       "      <td>80</td>\n",
       "      <td>600</td>\n",
       "      <td>465</td>\n",
       "      <td>830</td>\n",
       "      <td>5</td>\n",
       "    </tr>\n",
       "  </tbody>\n",
       "</table>\n",
       "<p>560 rows × 10 columns</p>\n",
       "</div>"
      ],
      "text/plain": [
       "     year                 neighbourhood  single_detached_house  \\\n",
       "0    2001               Agincourt North                   3715   \n",
       "1    2001  Agincourt South-Malvern West                   3250   \n",
       "2    2001                     Alderwood                   3175   \n",
       "3    2001                         Annex                   1060   \n",
       "4    2001             Banbury-Don Mills                   3615   \n",
       "..    ...                           ...                    ...   \n",
       "555  2016                      Wychwood                    920   \n",
       "556  2016                Yonge-Eglinton                   1400   \n",
       "557  2016                Yonge-St.Clair                    520   \n",
       "558  2016       York University Heights                   1235   \n",
       "559  2016            Yorkdale-Glen Park                   2165   \n",
       "\n",
       "     apartment_five_storeys_plus  movable_dwelling  semi_detached_house  \\\n",
       "0                           1480                 0                 1055   \n",
       "1                           1835                 0                  545   \n",
       "2                            315                 0                  470   \n",
       "3                           6090                 5                 1980   \n",
       "4                           4465                 0                  240   \n",
       "..                           ...               ...                  ...   \n",
       "555                         1295                 0                  880   \n",
       "556                         1995                 0                  465   \n",
       "557                         4315                 0                  450   \n",
       "558                         5505                 0                 1360   \n",
       "559                         1185                 0                   80   \n",
       "\n",
       "     row_house  duplex  apartment_five_storeys_less  other_house  \n",
       "0         1295     195                          185            5  \n",
       "1          455     105                          425            0  \n",
       "2           50     185                          370            0  \n",
       "3          605     275                         3710          165  \n",
       "4          380      15                         1360            0  \n",
       "..         ...     ...                          ...          ...  \n",
       "555        290     395                         2080           35  \n",
       "556         60     310                         1445            0  \n",
       "557        220     130                         1370            0  \n",
       "558        775     280                          995            0  \n",
       "559        600     465                          830            5  \n",
       "\n",
       "[560 rows x 10 columns]"
      ]
     },
     "execution_count": 59,
     "metadata": {},
     "output_type": "execute_result"
    }
   ],
   "source": [
    "# Fetch the data of all dwelling types per year\n",
    "dwelling_type_neighbourhood = to_data[\n",
    "    [\"neighbourhood\",\n",
    "     \"single_detached_house\",\n",
    "     \"apartment_five_storeys_plus\",\n",
    "     \"movable_dwelling\", \"semi_detached_house\", \n",
    "     \"row_house\", \"duplex\", \n",
    "     \"apartment_five_storeys_less\", \n",
    "     \"other_house\"]\n",
    "].reset_index()\n",
    "dwelling_type_neighbourhood"
   ]
  },
  {
   "cell_type": "code",
   "execution_count": 60,
   "metadata": {},
   "outputs": [],
   "source": [
    "# Use hvplot to create an interactive bar chart of the number of dwelling types per neighbourhood\n",
    "# The plot should have a dropdown selector for the neighbourhood\n",
    "\n",
    "# dwelling_type_neighbourhood.hvplot.bar()\n",
    "# A quick test hvplt.bar() coz I've had some much trouble with kernel environments..."
   ]
  },
  {
   "cell_type": "code",
   "execution_count": 61,
   "metadata": {},
   "outputs": [
    {
     "data": {},
     "metadata": {},
     "output_type": "display_data"
    },
    {
     "data": {
      "application/vnd.holoviews_exec.v0+json": "",
      "text/html": [
       "<div id='1594'>\n",
       "\n",
       "\n",
       "\n",
       "\n",
       "\n",
       "  <div class=\"bk-root\" id=\"d233394c-0fbf-4773-b232-e173862a9e73\" data-root-id=\"1594\"></div>\n",
       "</div>\n",
       "<script type=\"application/javascript\">(function(root) {\n",
       "  function embed_document(root) {\n",
       "    var docs_json = {\"2bb17541-66a3-4ae4-8c6d-611533b7e2f2\":{\"defs\":[],\"roots\":{\"references\":[{\"attributes\":{\"margin\":[5,5,5,5],\"name\":\"HSpacer02927\",\"sizing_mode\":\"stretch_width\"},\"id\":\"1595\",\"type\":\"Spacer\"},{\"attributes\":{\"active_multi\":null,\"tools\":[{\"id\":\"1598\"},{\"id\":\"1615\"},{\"id\":\"1616\"},{\"id\":\"1617\"},{\"id\":\"1618\"},{\"id\":\"1619\"}]},\"id\":\"1621\",\"type\":\"Toolbar\"},{\"attributes\":{\"source\":{\"id\":\"1629\"}},\"id\":\"1636\",\"type\":\"CDSView\"},{\"attributes\":{\"margin\":[5,5,5,5],\"name\":\"VSpacer02925\",\"sizing_mode\":\"stretch_height\"},\"id\":\"1675\",\"type\":\"Spacer\"},{\"attributes\":{},\"id\":\"1638\",\"type\":\"CategoricalTickFormatter\"},{\"attributes\":{\"end\":4086.5,\"reset_end\":4086.5,\"reset_start\":0.0,\"tags\":[[[\"value\",\"value\",null]]]},\"id\":\"1597\",\"type\":\"Range1d\"},{\"attributes\":{\"fill_alpha\":{\"value\":0.2},\"fill_color\":{\"field\":\"Variable\",\"transform\":{\"id\":\"1628\"}},\"line_alpha\":{\"value\":0.2},\"top\":{\"field\":\"value\"},\"width\":{\"value\":0.8},\"x\":{\"field\":\"xoffsets\"}},\"id\":\"1634\",\"type\":\"VBar\"},{\"attributes\":{\"margin\":[20,20,20,20],\"min_width\":250,\"options\":[\"Agincourt North\",\"Agincourt South-Malvern West\",\"Alderwood\",\"Annex\",\"Banbury-Don Mills\",\"Bathurst Manor\",\"Bay Street Corridor\",\"Bayview Village\",\"Bayview Woods-Steeles\",\"Bedford Park-Nortown\",\"Beechborough-Greenbrook\",\"Bendale\",\"Birchcliffe-Cliffside\",\"Black Creek\",\"Blake-Jones\",\"Briar Hill-Belgravia\",\"Bridle Path-Sunnybrook-York Mills\",\"Broadview North\",\"Brookhaven-Amesbury\",\"Cabbagetown-South St.James Town\",\"Caledonia-Fairbank\",\"Casa Loma\",\"Centennial Scarborough\",\"Church-Yonge Corridor\",\"Clairlea-Birchmount\",\"Clanton Park\",\"Cliffcrest\",\"Corso Italia-Davenport\",\"Danforth\",\"Danforth-East York\",\"Don Valley Village\",\"Dorset Park\",\"Dovercourt-Wallace Emerson-Juncti\",\"Downsview-Roding-CFB\",\"Dufferin Grove\",\"East End-Danforth\",\"Edenbridge-Humber Valley\",\"Eglinton East\",\"Elms-Old Rexdale\",\"Englemount-Lawrence\",\"Eringate-Centennial-West Deane\",\"Etobicoke West Mall\",\"Flemingdon Park\",\"Forest Hill North\",\"Forest Hill South\",\"Glenfield-Jane Heights\",\"Greenwood-Coxwell\",\"Guildwood\",\"Henry Farm\",\"High Park North\",\"High Park-Swansea\",\"Highland Creek\",\"Hillcrest Village\",\"Humber Heights-Westmount\",\"Humber Summit\",\"Humbermede\",\"Humewood-Cedarvale\",\"Ionview\",\"Islington-City Centre West\",\"Junction Area\",\"Keelesdale-Eglinton West\",\"Kennedy Park\",\"Kensington-Chinatown\",\"Kingsview Village-The Westway\",\"Kingsway South\",\"L'Amoreaux\",\"Lambton Baby Point\",\"Lansing-Westgate\",\"Lawrence Park North\",\"Lawrence Park South\",\"Leaside-Bennington\",\"Little Portugal\",\"Long Branch\",\"Malvern\",\"Maple Leaf\",\"Markland Wood\",\"Milliken\",\"Mimico\",\"Morningside\",\"Moss Park\",\"Mount Dennis\",\"Mount Olive-Silverstone-Jamestown\",\"Mount Pleasant East\",\"Mount Pleasant West\",\"New Toronto\",\"Newtonbrook East\",\"Newtonbrook West\",\"Niagara\",\"North Riverdale\",\"North St.James Town\",\"O'Connor-Parkview\",\"Oakridge\",\"Oakwood Village\",\"Old East York\",\"Palmerston-Little Italy\",\"Parkwoods-Donalda\",\"Pelmo Park-Humberlea\",\"Playter Estates-Danforth\",\"Pleasant View\",\"Princess-Rosethorn\",\"Regent Park\",\"Rexdale-Kipling\",\"Rockcliffe-Smythe\",\"Roncesvalles\",\"Rosedale-Moore Park\",\"Rouge\",\"Runnymede-Bloor West Village\",\"Rustic\",\"Scarborough Village\",\"South Parkdale\",\"South Riverdale\",\"St.Andrew-Windfields\",\"Steeles\",\"Stonegate-Queensway\",\"Tam O'Shanter-Sullivan\",\"Taylor-Massey\",\"The Beaches\",\"Thistletown-Beaumond Heights\",\"Thorncliffe Park\",\"Trinity-Bellwoods\",\"University\",\"Victoria Village\",\"Waterfront Communities-The Island\",\"West Hill\",\"West Humber-Clairville\",\"Westminster-Branson\",\"Weston\",\"Weston-Pellam Park\",\"Wexford/Maryvale\",\"Willowdale East\",\"Willowdale West\",\"Willowridge-Martingrove-Richview\",\"Woburn\",\"Woodbine Corridor\",\"Woodbine-Lumsden\",\"Wychwood\",\"Yonge-Eglinton\",\"Yonge-St.Clair\",\"York University Heights\",\"Yorkdale-Glen Park\"],\"title\":\"neighbourhood\",\"value\":\"Agincourt North\",\"width\":250},\"id\":\"1674\",\"type\":\"Select\"},{\"attributes\":{\"children\":[{\"id\":\"1672\"},{\"id\":\"1673\"},{\"id\":\"1675\"}],\"margin\":[0,0,0,0],\"name\":\"Column02926\"},\"id\":\"1671\",\"type\":\"Column\"},{\"attributes\":{},\"id\":\"1639\",\"type\":\"AllLabels\"},{\"attributes\":{\"factors\":[[\"2001\",\"other_house\"],[\"2001\",\"apartment_five_storeys_less\"],[\"2001\",\"duplex\"],[\"2001\",\"row_house\"],[\"2001\",\"semi_detached_house\"],[\"2001\",\"movable_dwelling\"],[\"2001\",\"apartment_five_storeys_plus\"],[\"2001\",\"single_detached_house\"],[\"2006\",\"other_house\"],[\"2006\",\"apartment_five_storeys_less\"],[\"2006\",\"duplex\"],[\"2006\",\"row_house\"],[\"2006\",\"semi_detached_house\"],[\"2006\",\"movable_dwelling\"],[\"2006\",\"apartment_five_storeys_plus\"],[\"2006\",\"single_detached_house\"],[\"2011\",\"other_house\"],[\"2011\",\"apartment_five_storeys_less\"],[\"2011\",\"duplex\"],[\"2011\",\"row_house\"],[\"2011\",\"semi_detached_house\"],[\"2011\",\"movable_dwelling\"],[\"2011\",\"apartment_five_storeys_plus\"],[\"2011\",\"single_detached_house\"],[\"2016\",\"other_house\"],[\"2016\",\"apartment_five_storeys_less\"],[\"2016\",\"duplex\"],[\"2016\",\"row_house\"],[\"2016\",\"semi_detached_house\"],[\"2016\",\"movable_dwelling\"],[\"2016\",\"apartment_five_storeys_plus\"],[\"2016\",\"single_detached_house\"]],\"tags\":[[[\"year\",\"year\",null],[\"Variable\",\"Variable\",null]]]},\"id\":\"1596\",\"type\":\"FactorRange\"},{\"attributes\":{\"factors\":[\"single_detached_house\",\"apartment_five_storeys_plus\",\"movable_dwelling\",\"semi_detached_house\",\"row_house\",\"duplex\",\"apartment_five_storeys_less\",\"other_house\"],\"palette\":[\"#30a2da\",\"#fc4f30\",\"#e5ae38\",\"#6d904f\",\"#8b8b8b\",\"#17becf\",\"#9467bd\",\"#d62728\"]},\"id\":\"1628\",\"type\":\"CategoricalColorMapper\"},{\"attributes\":{},\"id\":\"1615\",\"type\":\"SaveTool\"},{\"attributes\":{},\"id\":\"1616\",\"type\":\"PanTool\"},{\"attributes\":{},\"id\":\"1619\",\"type\":\"ResetTool\"},{\"attributes\":{},\"id\":\"1643\",\"type\":\"AllLabels\"},{\"attributes\":{},\"id\":\"1617\",\"type\":\"WheelZoomTool\"},{\"attributes\":{\"axis\":{\"id\":\"1608\"},\"grid_line_color\":null,\"ticker\":null},\"id\":\"1610\",\"type\":\"Grid\"},{\"attributes\":{\"children\":[{\"id\":\"1674\"}],\"css_classes\":[\"panel-widget-box\"],\"margin\":[5,5,5,5],\"name\":\"WidgetBox02919\"},\"id\":\"1673\",\"type\":\"Column\"},{\"attributes\":{\"overlay\":{\"id\":\"1620\"}},\"id\":\"1618\",\"type\":\"BoxZoomTool\"},{\"attributes\":{\"fill_color\":{\"field\":\"Variable\",\"transform\":{\"id\":\"1628\"}},\"top\":{\"field\":\"value\"},\"width\":{\"value\":0.8},\"x\":{\"field\":\"xoffsets\"}},\"id\":\"1632\",\"type\":\"VBar\"},{\"attributes\":{\"axis_label\":\"Dwelling type by year\",\"formatter\":{\"id\":\"1638\"},\"major_label_orientation\":1.5707963267948966,\"major_label_policy\":{\"id\":\"1639\"},\"ticker\":{\"id\":\"1609\"}},\"id\":\"1608\",\"type\":\"CategoricalAxis\"},{\"attributes\":{\"bottom_units\":\"screen\",\"fill_alpha\":0.5,\"fill_color\":\"lightgrey\",\"left_units\":\"screen\",\"level\":\"overlay\",\"line_alpha\":1.0,\"line_color\":\"black\",\"line_dash\":[4,4],\"line_width\":2,\"right_units\":\"screen\",\"syncable\":false,\"top_units\":\"screen\"},\"id\":\"1620\",\"type\":\"BoxAnnotation\"},{\"attributes\":{},\"id\":\"1612\",\"type\":\"BasicTicker\"},{\"attributes\":{\"client_comm_id\":\"449e368983a54eaf8d5da9f87779cc2b\",\"comm_id\":\"2420722b1b614b2fba46e76d8eefb995\",\"plot_id\":\"1594\"},\"id\":\"1706\",\"type\":\"panel.models.comm_manager.CommManager\"},{\"attributes\":{\"text\":\"Interactive bar chart of the number of dwelling types per neighbourhood by year\",\"text_color\":\"black\",\"text_font_size\":\"12pt\"},\"id\":\"1600\",\"type\":\"Title\"},{\"attributes\":{},\"id\":\"1604\",\"type\":\"CategoricalScale\"},{\"attributes\":{\"data_source\":{\"id\":\"1629\"},\"glyph\":{\"id\":\"1632\"},\"hover_glyph\":null,\"muted_glyph\":{\"id\":\"1634\"},\"nonselection_glyph\":{\"id\":\"1633\"},\"selection_glyph\":{\"id\":\"1637\"},\"view\":{\"id\":\"1636\"}},\"id\":\"1635\",\"type\":\"GlyphRenderer\"},{\"attributes\":{\"below\":[{\"id\":\"1608\"}],\"center\":[{\"id\":\"1610\"},{\"id\":\"1614\"}],\"height\":300,\"left\":[{\"id\":\"1611\"}],\"margin\":[5,5,5,5],\"min_border_bottom\":10,\"min_border_left\":10,\"min_border_right\":10,\"min_border_top\":10,\"renderers\":[{\"id\":\"1635\"}],\"sizing_mode\":\"fixed\",\"title\":{\"id\":\"1600\"},\"toolbar\":{\"id\":\"1621\"},\"width\":700,\"x_range\":{\"id\":\"1596\"},\"x_scale\":{\"id\":\"1604\"},\"y_range\":{\"id\":\"1597\"},\"y_scale\":{\"id\":\"1606\"}},\"id\":\"1599\",\"subtype\":\"Figure\",\"type\":\"Plot\"},{\"attributes\":{},\"id\":\"1606\",\"type\":\"LinearScale\"},{\"attributes\":{\"margin\":[5,5,5,5],\"name\":\"VSpacer02924\",\"sizing_mode\":\"stretch_height\"},\"id\":\"1672\",\"type\":\"Spacer\"},{\"attributes\":{},\"id\":\"1642\",\"type\":\"BasicTickFormatter\"},{\"attributes\":{},\"id\":\"1609\",\"type\":\"CategoricalTicker\"},{\"attributes\":{\"axis_label\":\"Units\",\"formatter\":{\"id\":\"1642\"},\"major_label_policy\":{\"id\":\"1643\"},\"ticker\":{\"id\":\"1612\"}},\"id\":\"1611\",\"type\":\"LinearAxis\"},{\"attributes\":{\"fill_alpha\":{\"value\":0.1},\"fill_color\":{\"field\":\"Variable\",\"transform\":{\"id\":\"1628\"}},\"line_alpha\":{\"value\":0.1},\"top\":{\"field\":\"value\"},\"width\":{\"value\":0.8},\"x\":{\"field\":\"xoffsets\"}},\"id\":\"1633\",\"type\":\"VBar\"},{\"attributes\":{\"children\":[{\"id\":\"1595\"},{\"id\":\"1599\"},{\"id\":\"1670\"},{\"id\":\"1671\"}],\"margin\":[0,0,0,0],\"name\":\"Row02918\"},\"id\":\"1594\",\"type\":\"Row\"},{\"attributes\":{\"margin\":[5,5,5,5],\"name\":\"HSpacer02928\",\"sizing_mode\":\"stretch_width\"},\"id\":\"1670\",\"type\":\"Spacer\"},{\"attributes\":{\"data\":{\"Variable\":[\"single_detached_house\",\"single_detached_house\",\"single_detached_house\",\"single_detached_house\",\"apartment_five_storeys_plus\",\"apartment_five_storeys_plus\",\"apartment_five_storeys_plus\",\"apartment_five_storeys_plus\",\"movable_dwelling\",\"movable_dwelling\",\"movable_dwelling\",\"movable_dwelling\",\"semi_detached_house\",\"semi_detached_house\",\"semi_detached_house\",\"semi_detached_house\",\"row_house\",\"row_house\",\"row_house\",\"row_house\",\"duplex\",\"duplex\",\"duplex\",\"duplex\",\"apartment_five_storeys_less\",\"apartment_five_storeys_less\",\"apartment_five_storeys_less\",\"apartment_five_storeys_less\",\"other_house\",\"other_house\",\"other_house\",\"other_house\"],\"value\":[3715,3295,3385,3345,1480,2060,2130,2120,0,0,5,5,1055,775,820,805,1295,1425,1465,1440,195,600,610,645,185,565,705,735,5,0,20,15],\"xoffsets\":[[\"2001\",\"single_detached_house\"],[\"2006\",\"single_detached_house\"],[\"2011\",\"single_detached_house\"],[\"2016\",\"single_detached_house\"],[\"2001\",\"apartment_five_storeys_plus\"],[\"2006\",\"apartment_five_storeys_plus\"],[\"2011\",\"apartment_five_storeys_plus\"],[\"2016\",\"apartment_five_storeys_plus\"],[\"2001\",\"movable_dwelling\"],[\"2006\",\"movable_dwelling\"],[\"2011\",\"movable_dwelling\"],[\"2016\",\"movable_dwelling\"],[\"2001\",\"semi_detached_house\"],[\"2006\",\"semi_detached_house\"],[\"2011\",\"semi_detached_house\"],[\"2016\",\"semi_detached_house\"],[\"2001\",\"row_house\"],[\"2006\",\"row_house\"],[\"2011\",\"row_house\"],[\"2016\",\"row_house\"],[\"2001\",\"duplex\"],[\"2006\",\"duplex\"],[\"2011\",\"duplex\"],[\"2016\",\"duplex\"],[\"2001\",\"apartment_five_storeys_less\"],[\"2006\",\"apartment_five_storeys_less\"],[\"2011\",\"apartment_five_storeys_less\"],[\"2016\",\"apartment_five_storeys_less\"],[\"2001\",\"other_house\"],[\"2006\",\"other_house\"],[\"2011\",\"other_house\"],[\"2016\",\"other_house\"]],\"year\":[\"2001\",\"2006\",\"2011\",\"2016\",\"2001\",\"2006\",\"2011\",\"2016\",\"2001\",\"2006\",\"2011\",\"2016\",\"2001\",\"2006\",\"2011\",\"2016\",\"2001\",\"2006\",\"2011\",\"2016\",\"2001\",\"2006\",\"2011\",\"2016\",\"2001\",\"2006\",\"2011\",\"2016\",\"2001\",\"2006\",\"2011\",\"2016\"]},\"selected\":{\"id\":\"1630\"},\"selection_policy\":{\"id\":\"1658\"}},\"id\":\"1629\",\"type\":\"ColumnDataSource\"},{\"attributes\":{},\"id\":\"1658\",\"type\":\"UnionRenderers\"},{\"attributes\":{\"axis\":{\"id\":\"1611\"},\"dimension\":1,\"grid_line_color\":null,\"ticker\":null},\"id\":\"1614\",\"type\":\"Grid\"},{\"attributes\":{},\"id\":\"1630\",\"type\":\"Selection\"},{\"attributes\":{\"bottom\":{\"value\":0},\"fill_alpha\":{\"value\":1.0},\"fill_color\":{\"field\":\"Variable\",\"transform\":{\"id\":\"1628\"}},\"hatch_alpha\":{\"value\":1.0},\"hatch_color\":{\"value\":\"black\"},\"hatch_scale\":{\"value\":12.0},\"hatch_weight\":{\"value\":1.0},\"line_alpha\":{\"value\":1.0},\"line_cap\":{\"value\":\"butt\"},\"line_color\":{\"value\":\"black\"},\"line_dash\":{\"value\":[]},\"line_dash_offset\":{\"value\":0},\"line_join\":{\"value\":\"bevel\"},\"line_width\":{\"value\":1},\"top\":{\"field\":\"value\"},\"width\":{\"value\":0.8},\"x\":{\"field\":\"xoffsets\"}},\"id\":\"1637\",\"type\":\"VBar\"},{\"attributes\":{\"callback\":null,\"renderers\":[{\"id\":\"1635\"}],\"tags\":[\"hv_created\"],\"tooltips\":[[\"year\",\"@{year}\"],[\"Variable\",\"@{Variable}\"],[\"value\",\"@{value}\"]]},\"id\":\"1598\",\"type\":\"HoverTool\"}],\"root_ids\":[\"1594\",\"1706\"]},\"title\":\"Bokeh Application\",\"version\":\"2.3.2\"}};\n",
       "    var render_items = [{\"docid\":\"2bb17541-66a3-4ae4-8c6d-611533b7e2f2\",\"root_ids\":[\"1594\"],\"roots\":{\"1594\":\"d233394c-0fbf-4773-b232-e173862a9e73\"}}];\n",
       "    root.Bokeh.embed.embed_items_notebook(docs_json, render_items);\n",
       "  }\n",
       "  if (root.Bokeh !== undefined && root.Bokeh.Panel !== undefined && root['Plotly'] !== undefined ) {\n",
       "    embed_document(root);\n",
       "  } else {\n",
       "    var attempts = 0;\n",
       "    var timer = setInterval(function(root) {\n",
       "      if (root.Bokeh !== undefined && root.Bokeh.Panel !== undefined && root['Plotly'] !== undefined) {\n",
       "        clearInterval(timer);\n",
       "        embed_document(root);\n",
       "      } else if (document.readyState == \"complete\") {\n",
       "        attempts++;\n",
       "        if (attempts > 100) {\n",
       "          clearInterval(timer);\n",
       "          console.log(\"Bokeh: ERROR: Unable to run BokehJS code because BokehJS library is missing\");\n",
       "        }\n",
       "      }\n",
       "    }, 10, root)\n",
       "  }\n",
       "})(window);</script>"
      ],
      "text/plain": [
       ":DynamicMap   [neighbourhood]\n",
       "   :Bars   [year,Variable]   (value)"
      ]
     },
     "execution_count": 61,
     "metadata": {
      "application/vnd.holoviews_exec.v0+json": {
       "id": "1594"
      }
     },
     "output_type": "execute_result"
    }
   ],
   "source": [
    "dwelling_type_neighbourhood.hvplot.bar(\n",
    "    x='year',\n",
    "    groupby='neighbourhood',\n",
    "    xlabel=\"Dwelling type by year\",\n",
    "    ylabel=\"Units\",\n",
    "    rot=90,\n",
    "    title = \"Interactive bar chart of the number of dwelling types per neighbourhood by year\"\n",
    ")\n",
    "# My version of an interactive bar chart of the number of dwelling types per neighbourhood"
   ]
  },
  {
   "cell_type": "markdown",
   "metadata": {},
   "source": [
    "- - - "
   ]
  },
  {
   "cell_type": "markdown",
   "metadata": {},
   "source": [
    "## The Top 10 Most Expensive Neighbourhoods\n",
    "\n",
    "In this section, you will need to calculate the house value for each neighbourhood and then sort the values to obtain the top 10 most expensive neighbourhoods on average. Plot the results as a bar chart."
   ]
  },
  {
   "cell_type": "code",
   "execution_count": 62,
   "metadata": {},
   "outputs": [
    {
     "data": {
      "text/html": [
       "<div>\n",
       "<style scoped>\n",
       "    .dataframe tbody tr th:only-of-type {\n",
       "        vertical-align: middle;\n",
       "    }\n",
       "\n",
       "    .dataframe tbody tr th {\n",
       "        vertical-align: top;\n",
       "    }\n",
       "\n",
       "    .dataframe thead th {\n",
       "        text-align: right;\n",
       "    }\n",
       "</style>\n",
       "<table border=\"1\" class=\"dataframe\">\n",
       "  <thead>\n",
       "    <tr style=\"text-align: right;\">\n",
       "      <th></th>\n",
       "      <th>average_house_value</th>\n",
       "    </tr>\n",
       "    <tr>\n",
       "      <th>neighbourhood</th>\n",
       "      <th></th>\n",
       "    </tr>\n",
       "  </thead>\n",
       "  <tbody>\n",
       "    <tr>\n",
       "      <th>Bridle Path-Sunnybrook-York Mills</th>\n",
       "      <td>1526485.75</td>\n",
       "    </tr>\n",
       "    <tr>\n",
       "      <th>Forest Hill South</th>\n",
       "      <td>1195992.50</td>\n",
       "    </tr>\n",
       "    <tr>\n",
       "      <th>Lawrence Park South</th>\n",
       "      <td>1094027.75</td>\n",
       "    </tr>\n",
       "    <tr>\n",
       "      <th>Rosedale-Moore Park</th>\n",
       "      <td>1093640.00</td>\n",
       "    </tr>\n",
       "    <tr>\n",
       "      <th>St.Andrew-Windfields</th>\n",
       "      <td>999107.00</td>\n",
       "    </tr>\n",
       "    <tr>\n",
       "      <th>Casa Loma</th>\n",
       "      <td>981064.25</td>\n",
       "    </tr>\n",
       "    <tr>\n",
       "      <th>Bedford Park-Nortown</th>\n",
       "      <td>930415.25</td>\n",
       "    </tr>\n",
       "    <tr>\n",
       "      <th>Forest Hill North</th>\n",
       "      <td>851680.50</td>\n",
       "    </tr>\n",
       "    <tr>\n",
       "      <th>Kingsway South</th>\n",
       "      <td>843234.25</td>\n",
       "    </tr>\n",
       "    <tr>\n",
       "      <th>Yonge-St.Clair</th>\n",
       "      <td>813220.25</td>\n",
       "    </tr>\n",
       "  </tbody>\n",
       "</table>\n",
       "</div>"
      ],
      "text/plain": [
       "                                   average_house_value\n",
       "neighbourhood                                         \n",
       "Bridle Path-Sunnybrook-York Mills           1526485.75\n",
       "Forest Hill South                           1195992.50\n",
       "Lawrence Park South                         1094027.75\n",
       "Rosedale-Moore Park                         1093640.00\n",
       "St.Andrew-Windfields                         999107.00\n",
       "Casa Loma                                    981064.25\n",
       "Bedford Park-Nortown                         930415.25\n",
       "Forest Hill North                            851680.50\n",
       "Kingsway South                               843234.25\n",
       "Yonge-St.Clair                               813220.25"
      ]
     },
     "execution_count": 62,
     "metadata": {},
     "output_type": "execute_result"
    }
   ],
   "source": [
    "# Getting the data from the top 10 expensive neighbourhoods\n",
    "top_ten_expensive = to_data[['neighbourhood','average_house_value']].reset_index().drop(columns = ['year'])\n",
    "top_ten_expensive = top_ten_expensive.groupby(['neighbourhood']).mean()\n",
    "top_ten_expensive = top_ten_expensive.sort_values(by='average_house_value',ascending=False).head(10)\n",
    "top_ten_expensive\n",
    "\n",
    "# How to sort a column of stuff googled at:\n",
    "# sort_values https://pandas.pydata.org/pandas-docs/stable/reference/api/pandas.DataFrame.sort_values.html "
   ]
  },
  {
   "cell_type": "code",
   "execution_count": 63,
   "metadata": {},
   "outputs": [
    {
     "data": {},
     "metadata": {},
     "output_type": "display_data"
    },
    {
     "data": {
      "application/vnd.holoviews_exec.v0+json": "",
      "text/html": [
       "<div id='1757'>\n",
       "\n",
       "\n",
       "\n",
       "\n",
       "\n",
       "  <div class=\"bk-root\" id=\"2d3e47ba-8c8d-4af1-9074-54a76ef17a09\" data-root-id=\"1757\"></div>\n",
       "</div>\n",
       "<script type=\"application/javascript\">(function(root) {\n",
       "  function embed_document(root) {\n",
       "    var docs_json = {\"c1c9d1ff-c133-4665-a90d-110a6e5c196f\":{\"defs\":[],\"roots\":{\"references\":[{\"attributes\":{\"fill_color\":{\"value\":\"#30a2da\"},\"height\":{\"value\":0.8},\"right\":{\"field\":\"average_house_value\"},\"y\":{\"field\":\"neighbourhood\"}},\"id\":\"1794\",\"type\":\"HBar\"},{\"attributes\":{\"below\":[{\"id\":\"1771\"}],\"center\":[{\"id\":\"1774\"},{\"id\":\"1777\"}],\"height\":500,\"left\":[{\"id\":\"1775\"}],\"margin\":[5,5,5,5],\"min_border_bottom\":10,\"min_border_left\":10,\"min_border_right\":10,\"min_border_top\":10,\"renderers\":[{\"id\":\"1797\"}],\"sizing_mode\":\"fixed\",\"title\":{\"id\":\"1763\"},\"toolbar\":{\"id\":\"1784\"},\"width\":900,\"x_range\":{\"id\":\"1759\"},\"x_scale\":{\"id\":\"1767\"},\"y_range\":{\"id\":\"1760\"},\"y_scale\":{\"id\":\"1769\"}},\"id\":\"1762\",\"subtype\":\"Figure\",\"type\":\"Plot\"},{\"attributes\":{\"children\":[{\"id\":\"1758\"},{\"id\":\"1762\"},{\"id\":\"1827\"}],\"margin\":[0,0,0,0],\"name\":\"Row03534\",\"tags\":[\"embedded\"]},\"id\":\"1757\",\"type\":\"Row\"},{\"attributes\":{\"fill_alpha\":{\"value\":1.0},\"fill_color\":{\"value\":\"#30a2da\"},\"hatch_alpha\":{\"value\":1.0},\"hatch_color\":{\"value\":\"black\"},\"hatch_scale\":{\"value\":12.0},\"hatch_weight\":{\"value\":1.0},\"height\":{\"value\":0.8},\"left\":{\"value\":0},\"line_alpha\":{\"value\":1.0},\"line_cap\":{\"value\":\"butt\"},\"line_color\":{\"value\":\"black\"},\"line_dash\":{\"value\":[]},\"line_dash_offset\":{\"value\":0},\"line_join\":{\"value\":\"bevel\"},\"line_width\":{\"value\":1},\"right\":{\"field\":\"average_house_value\"},\"y\":{\"field\":\"neighbourhood\"}},\"id\":\"1799\",\"type\":\"HBar\"},{\"attributes\":{\"factors\":[\"Bridle Path-Sunnybrook-York Mills\",\"Forest Hill South\",\"Lawrence Park South\",\"Rosedale-Moore Park\",\"St.Andrew-Windfields\",\"Casa Loma\",\"Bedford Park-Nortown\",\"Forest Hill North\",\"Kingsway South\",\"Yonge-St.Clair\"],\"tags\":[[[\"neighbourhood\",\"neighbourhood\",null]]]},\"id\":\"1760\",\"type\":\"FactorRange\"},{\"attributes\":{},\"id\":\"1807\",\"type\":\"AllLabels\"},{\"attributes\":{},\"id\":\"1806\",\"type\":\"CategoricalTickFormatter\"},{\"attributes\":{},\"id\":\"1778\",\"type\":\"SaveTool\"},{\"attributes\":{},\"id\":\"1779\",\"type\":\"PanTool\"},{\"attributes\":{},\"id\":\"1816\",\"type\":\"UnionRenderers\"},{\"attributes\":{},\"id\":\"1782\",\"type\":\"ResetTool\"},{\"attributes\":{\"format\":\"%.0f\"},\"id\":\"1800\",\"type\":\"PrintfTickFormatter\"},{\"attributes\":{},\"id\":\"1780\",\"type\":\"WheelZoomTool\"},{\"attributes\":{\"source\":{\"id\":\"1791\"}},\"id\":\"1798\",\"type\":\"CDSView\"},{\"attributes\":{},\"id\":\"1803\",\"type\":\"AllLabels\"},{\"attributes\":{\"fill_alpha\":{\"value\":0.2},\"fill_color\":{\"value\":\"#30a2da\"},\"height\":{\"value\":0.8},\"line_alpha\":{\"value\":0.2},\"right\":{\"field\":\"average_house_value\"},\"y\":{\"field\":\"neighbourhood\"}},\"id\":\"1796\",\"type\":\"HBar\"},{\"attributes\":{\"data_source\":{\"id\":\"1791\"},\"glyph\":{\"id\":\"1794\"},\"hover_glyph\":null,\"muted_glyph\":{\"id\":\"1796\"},\"nonselection_glyph\":{\"id\":\"1795\"},\"selection_glyph\":{\"id\":\"1799\"},\"view\":{\"id\":\"1798\"}},\"id\":\"1797\",\"type\":\"GlyphRenderer\"},{\"attributes\":{\"overlay\":{\"id\":\"1783\"}},\"id\":\"1781\",\"type\":\"BoxZoomTool\"},{\"attributes\":{\"margin\":[5,5,5,5],\"name\":\"HSpacer03538\",\"sizing_mode\":\"stretch_width\"},\"id\":\"1758\",\"type\":\"Spacer\"},{\"attributes\":{\"axis\":{\"id\":\"1771\"},\"grid_line_color\":null,\"ticker\":null},\"id\":\"1774\",\"type\":\"Grid\"},{\"attributes\":{\"text\":\"The top 10 expensive neighbourhoods\",\"text_color\":\"black\",\"text_font_size\":\"15pt\"},\"id\":\"1763\",\"type\":\"Title\"},{\"attributes\":{\"end\":1597812.3,\"reset_end\":1597812.3,\"reset_start\":0.0,\"tags\":[[[\"average_house_value\",\"average_house_value\",null]]]},\"id\":\"1759\",\"type\":\"Range1d\"},{\"attributes\":{},\"id\":\"1772\",\"type\":\"BasicTicker\"},{\"attributes\":{},\"id\":\"1767\",\"type\":\"LinearScale\"},{\"attributes\":{\"fill_alpha\":{\"value\":0.1},\"fill_color\":{\"value\":\"#30a2da\"},\"height\":{\"value\":0.8},\"line_alpha\":{\"value\":0.1},\"right\":{\"field\":\"average_house_value\"},\"y\":{\"field\":\"neighbourhood\"}},\"id\":\"1795\",\"type\":\"HBar\"},{\"attributes\":{},\"id\":\"1769\",\"type\":\"CategoricalScale\"},{\"attributes\":{},\"id\":\"1776\",\"type\":\"CategoricalTicker\"},{\"attributes\":{\"axis_label\":\"Average House Value $\",\"axis_label_text_font_size\":\"14pt\",\"formatter\":{\"id\":\"1800\"},\"major_label_orientation\":0.7853981633974483,\"major_label_policy\":{\"id\":\"1803\"},\"major_label_text_font_size\":\"10pt\",\"ticker\":{\"id\":\"1772\"}},\"id\":\"1771\",\"type\":\"LinearAxis\"},{\"attributes\":{\"data\":{\"average_house_value\":{\"__ndarray__\":\"AAAAwNVKN0EAAACA2D8yQQAAAMCLsTBBAAAAAAiwMEEAAAAAhn0uQQAAAICQ8C1BAAAAgN5kLEEAAAAAwf0pQQAAAIDEuylBAAAAgEjRKEE=\",\"dtype\":\"float64\",\"order\":\"little\",\"shape\":[10]},\"neighbourhood\":[\"Bridle Path-Sunnybrook-York Mills\",\"Forest Hill South\",\"Lawrence Park South\",\"Rosedale-Moore Park\",\"St.Andrew-Windfields\",\"Casa Loma\",\"Bedford Park-Nortown\",\"Forest Hill North\",\"Kingsway South\",\"Yonge-St.Clair\"]},\"selected\":{\"id\":\"1792\"},\"selection_policy\":{\"id\":\"1816\"}},\"id\":\"1791\",\"type\":\"ColumnDataSource\"},{\"attributes\":{},\"id\":\"1792\",\"type\":\"Selection\"},{\"attributes\":{\"margin\":[5,5,5,5],\"name\":\"HSpacer03539\",\"sizing_mode\":\"stretch_width\"},\"id\":\"1827\",\"type\":\"Spacer\"},{\"attributes\":{\"axis_label\":\"Neighbourhood\",\"axis_label_text_font_size\":\"14pt\",\"formatter\":{\"id\":\"1806\"},\"group_text_font_size\":\"10pt\",\"major_label_policy\":{\"id\":\"1807\"},\"major_label_text_font_size\":\"10pt\",\"ticker\":{\"id\":\"1776\"}},\"id\":\"1775\",\"type\":\"CategoricalAxis\"},{\"attributes\":{\"active_multi\":null,\"tools\":[{\"id\":\"1761\"},{\"id\":\"1778\"},{\"id\":\"1779\"},{\"id\":\"1780\"},{\"id\":\"1781\"},{\"id\":\"1782\"}]},\"id\":\"1784\",\"type\":\"Toolbar\"},{\"attributes\":{\"axis\":{\"id\":\"1775\"},\"dimension\":1,\"grid_line_color\":null,\"ticker\":null},\"id\":\"1777\",\"type\":\"Grid\"},{\"attributes\":{\"callback\":null,\"renderers\":[{\"id\":\"1797\"}],\"tags\":[\"hv_created\"],\"tooltips\":[[\"neighbourhood\",\"@{neighbourhood}\"],[\"average_house_value\",\"@{average_house_value}\"]]},\"id\":\"1761\",\"type\":\"HoverTool\"},{\"attributes\":{\"bottom_units\":\"screen\",\"fill_alpha\":0.5,\"fill_color\":\"lightgrey\",\"left_units\":\"screen\",\"level\":\"overlay\",\"line_alpha\":1.0,\"line_color\":\"black\",\"line_dash\":[4,4],\"line_width\":2,\"right_units\":\"screen\",\"syncable\":false,\"top_units\":\"screen\"},\"id\":\"1783\",\"type\":\"BoxAnnotation\"}],\"root_ids\":[\"1757\"]},\"title\":\"Bokeh Application\",\"version\":\"2.3.2\"}};\n",
       "    var render_items = [{\"docid\":\"c1c9d1ff-c133-4665-a90d-110a6e5c196f\",\"root_ids\":[\"1757\"],\"roots\":{\"1757\":\"2d3e47ba-8c8d-4af1-9074-54a76ef17a09\"}}];\n",
       "    root.Bokeh.embed.embed_items_notebook(docs_json, render_items);\n",
       "  }\n",
       "  if (root.Bokeh !== undefined && root.Bokeh.Panel !== undefined && root['Plotly'] !== undefined ) {\n",
       "    embed_document(root);\n",
       "  } else {\n",
       "    var attempts = 0;\n",
       "    var timer = setInterval(function(root) {\n",
       "      if (root.Bokeh !== undefined && root.Bokeh.Panel !== undefined && root['Plotly'] !== undefined) {\n",
       "        clearInterval(timer);\n",
       "        embed_document(root);\n",
       "      } else if (document.readyState == \"complete\") {\n",
       "        attempts++;\n",
       "        if (attempts > 100) {\n",
       "          clearInterval(timer);\n",
       "          console.log(\"Bokeh: ERROR: Unable to run BokehJS code because BokehJS library is missing\");\n",
       "        }\n",
       "      }\n",
       "    }, 10, root)\n",
       "  }\n",
       "})(window);</script>"
      ],
      "text/plain": [
       ":Bars   [neighbourhood]   (average_house_value)"
      ]
     },
     "execution_count": 63,
     "metadata": {
      "application/vnd.holoviews_exec.v0+json": {
       "id": "1757"
      }
     },
     "output_type": "execute_result"
    }
   ],
   "source": [
    "# Plotting the data from the top 10 expensive neighbourhoods\n",
    "# YOUR CODE HERE!\n",
    "\n",
    "top_ten_expensive.hvplot.barh(\n",
    "    xlabel=\"Neighbourhood\",\n",
    "    ylabel=\"Average House Value $\",\n",
    "    title = \"The top 10 expensive neighbourhoods\",\n",
    "    rot=45,\n",
    "    height = 500,\n",
    "    width = 900\n",
    ").opts( xformatter=\"%.0f\",fontsize={\n",
    "    'title': 15, \n",
    "    'labels': 14, \n",
    "    'xticks': 10, \n",
    "    'yticks': 10,\n",
    "})\n",
    "\n",
    "# Man, I tried everything to find something to convert 1.400e+6 to normal numbers... no luck!!!\n",
    "# Googled https://stackoverflow.com/questions/59070661/change-fontsize-in-holoviews-or-hvplot\n",
    "    # .opts(fontscale=2) didn't work\n",
    "    # .opts(fontsize={'title': 15, 'labels': 14, 'xticks': 10, 'yticks': 10,}) didn't do what I wanted\n",
    "# Tried turning the bars horizontal, still didn't work\n",
    "# Finally found in Week 6/1/07-Ins_Viz_Options/Solved/viz_options actvities - use < xformatter=\"%.0f\", >\n",
    "# Now go back and fix the earlier graph:\"An interactive line chart of the average house value per neighbourhood\""
   ]
  },
  {
   "cell_type": "markdown",
   "metadata": {},
   "source": [
    "- - - "
   ]
  },
  {
   "cell_type": "markdown",
   "metadata": {},
   "source": [
    "## Neighbourhood Map\n",
    "\n",
    "In this section, you will read in neighbourhoods location data and build an interactive map with the average house value per neighbourhood. Use a `scatter_mapbox` from Plotly express to create the visualization. Remember, you will need your Mapbox API key for this."
   ]
  },
  {
   "cell_type": "markdown",
   "metadata": {},
   "source": [
    "### Load Location Data"
   ]
  },
  {
   "cell_type": "code",
   "execution_count": 64,
   "metadata": {
    "scrolled": true
   },
   "outputs": [
    {
     "data": {
      "text/html": [
       "<div>\n",
       "<style scoped>\n",
       "    .dataframe tbody tr th:only-of-type {\n",
       "        vertical-align: middle;\n",
       "    }\n",
       "\n",
       "    .dataframe tbody tr th {\n",
       "        vertical-align: top;\n",
       "    }\n",
       "\n",
       "    .dataframe thead th {\n",
       "        text-align: right;\n",
       "    }\n",
       "</style>\n",
       "<table border=\"1\" class=\"dataframe\">\n",
       "  <thead>\n",
       "    <tr style=\"text-align: right;\">\n",
       "      <th></th>\n",
       "      <th>neighbourhood</th>\n",
       "      <th>lat</th>\n",
       "      <th>lon</th>\n",
       "    </tr>\n",
       "  </thead>\n",
       "  <tbody>\n",
       "    <tr>\n",
       "      <th>0</th>\n",
       "      <td>Agincourt North</td>\n",
       "      <td>43.805441</td>\n",
       "      <td>-79.266712</td>\n",
       "    </tr>\n",
       "    <tr>\n",
       "      <th>1</th>\n",
       "      <td>Agincourt South-Malvern West</td>\n",
       "      <td>43.788658</td>\n",
       "      <td>-79.265612</td>\n",
       "    </tr>\n",
       "    <tr>\n",
       "      <th>2</th>\n",
       "      <td>Alderwood</td>\n",
       "      <td>43.604937</td>\n",
       "      <td>-79.541611</td>\n",
       "    </tr>\n",
       "    <tr>\n",
       "      <th>3</th>\n",
       "      <td>Annex</td>\n",
       "      <td>43.671585</td>\n",
       "      <td>-79.404001</td>\n",
       "    </tr>\n",
       "    <tr>\n",
       "      <th>4</th>\n",
       "      <td>Banbury-Don Mills</td>\n",
       "      <td>43.737657</td>\n",
       "      <td>-79.349718</td>\n",
       "    </tr>\n",
       "  </tbody>\n",
       "</table>\n",
       "</div>"
      ],
      "text/plain": [
       "                  neighbourhood        lat        lon\n",
       "0               Agincourt North  43.805441 -79.266712\n",
       "1  Agincourt South-Malvern West  43.788658 -79.265612\n",
       "2                     Alderwood  43.604937 -79.541611\n",
       "3                         Annex  43.671585 -79.404001\n",
       "4             Banbury-Don Mills  43.737657 -79.349718"
      ]
     },
     "execution_count": 64,
     "metadata": {},
     "output_type": "execute_result"
    }
   ],
   "source": [
    "# Load neighbourhoods coordinates data\n",
    "file_path = Path(\"Data/toronto_neighbourhoods_coordinates.csv\")\n",
    "df_neighbourhood_locations = pd.read_csv(file_path)\n",
    "df_neighbourhood_locations.head()"
   ]
  },
  {
   "cell_type": "code",
   "execution_count": 65,
   "metadata": {
    "scrolled": true
   },
   "outputs": [
    {
     "data": {
      "text/html": [
       "<div>\n",
       "<style scoped>\n",
       "    .dataframe tbody tr th:only-of-type {\n",
       "        vertical-align: middle;\n",
       "    }\n",
       "\n",
       "    .dataframe tbody tr th {\n",
       "        vertical-align: top;\n",
       "    }\n",
       "\n",
       "    .dataframe thead th {\n",
       "        text-align: right;\n",
       "    }\n",
       "</style>\n",
       "<table border=\"1\" class=\"dataframe\">\n",
       "  <thead>\n",
       "    <tr style=\"text-align: right;\">\n",
       "      <th></th>\n",
       "      <th>year</th>\n",
       "      <th>neighbourhood</th>\n",
       "      <th>average_house_value</th>\n",
       "    </tr>\n",
       "  </thead>\n",
       "  <tbody>\n",
       "    <tr>\n",
       "      <th>0</th>\n",
       "      <td>2001</td>\n",
       "      <td>Agincourt North</td>\n",
       "      <td>200388</td>\n",
       "    </tr>\n",
       "    <tr>\n",
       "      <th>1</th>\n",
       "      <td>2001</td>\n",
       "      <td>Agincourt South-Malvern West</td>\n",
       "      <td>203047</td>\n",
       "    </tr>\n",
       "    <tr>\n",
       "      <th>2</th>\n",
       "      <td>2001</td>\n",
       "      <td>Alderwood</td>\n",
       "      <td>259998</td>\n",
       "    </tr>\n",
       "    <tr>\n",
       "      <th>3</th>\n",
       "      <td>2001</td>\n",
       "      <td>Annex</td>\n",
       "      <td>453850</td>\n",
       "    </tr>\n",
       "    <tr>\n",
       "      <th>4</th>\n",
       "      <td>2001</td>\n",
       "      <td>Banbury-Don Mills</td>\n",
       "      <td>371864</td>\n",
       "    </tr>\n",
       "  </tbody>\n",
       "</table>\n",
       "</div>"
      ],
      "text/plain": [
       "   year                 neighbourhood  average_house_value\n",
       "0  2001               Agincourt North               200388\n",
       "1  2001  Agincourt South-Malvern West               203047\n",
       "2  2001                     Alderwood               259998\n",
       "3  2001                         Annex               453850\n",
       "4  2001             Banbury-Don Mills               371864"
      ]
     },
     "execution_count": 65,
     "metadata": {},
     "output_type": "execute_result"
    }
   ],
   "source": [
    "average_house_values_by_neighbourhood.head()"
   ]
  },
  {
   "cell_type": "markdown",
   "metadata": {},
   "source": [
    "### Data Preparation\n",
    "\n",
    "You will need to join the location data with the mean values per neighbourhood.\n",
    "\n",
    "1. Calculate the mean values for each neighbourhood.\n",
    "\n",
    "2. Join the average values with the neighbourhood locations."
   ]
  },
  {
   "cell_type": "code",
   "execution_count": 66,
   "metadata": {},
   "outputs": [],
   "source": [
    "# Calculate the mean values for each neighborhood\n",
    "# YOUR CODE HERE! recommendation to me to try pd.merge(df_1, df_2, on=\"mergebycolumn\") rather than concat etc\n",
    "\n",
    "left = df_neighbourhood_locations\n",
    "right = average_house_values_by_neighbourhood.groupby(by=['neighbourhood']).mean()"
   ]
  },
  {
   "cell_type": "code",
   "execution_count": 67,
   "metadata": {},
   "outputs": [
    {
     "data": {
      "text/html": [
       "<div>\n",
       "<style scoped>\n",
       "    .dataframe tbody tr th:only-of-type {\n",
       "        vertical-align: middle;\n",
       "    }\n",
       "\n",
       "    .dataframe tbody tr th {\n",
       "        vertical-align: top;\n",
       "    }\n",
       "\n",
       "    .dataframe thead th {\n",
       "        text-align: right;\n",
       "    }\n",
       "</style>\n",
       "<table border=\"1\" class=\"dataframe\">\n",
       "  <thead>\n",
       "    <tr style=\"text-align: right;\">\n",
       "      <th></th>\n",
       "      <th>neighbourhood</th>\n",
       "      <th>lat</th>\n",
       "      <th>lon</th>\n",
       "      <th>average_house_value</th>\n",
       "    </tr>\n",
       "  </thead>\n",
       "  <tbody>\n",
       "    <tr>\n",
       "      <th>0</th>\n",
       "      <td>Agincourt North</td>\n",
       "      <td>43.805441</td>\n",
       "      <td>-79.266712</td>\n",
       "      <td>329811.50</td>\n",
       "    </tr>\n",
       "    <tr>\n",
       "      <th>1</th>\n",
       "      <td>Agincourt South-Malvern West</td>\n",
       "      <td>43.788658</td>\n",
       "      <td>-79.265612</td>\n",
       "      <td>334189.00</td>\n",
       "    </tr>\n",
       "    <tr>\n",
       "      <th>2</th>\n",
       "      <td>Alderwood</td>\n",
       "      <td>43.604937</td>\n",
       "      <td>-79.541611</td>\n",
       "      <td>427922.50</td>\n",
       "    </tr>\n",
       "    <tr>\n",
       "      <th>3</th>\n",
       "      <td>Annex</td>\n",
       "      <td>43.671585</td>\n",
       "      <td>-79.404001</td>\n",
       "      <td>746977.00</td>\n",
       "    </tr>\n",
       "    <tr>\n",
       "      <th>4</th>\n",
       "      <td>Banbury-Don Mills</td>\n",
       "      <td>43.737657</td>\n",
       "      <td>-79.349718</td>\n",
       "      <td>612039.00</td>\n",
       "    </tr>\n",
       "    <tr>\n",
       "      <th>...</th>\n",
       "      <td>...</td>\n",
       "      <td>...</td>\n",
       "      <td>...</td>\n",
       "      <td>...</td>\n",
       "    </tr>\n",
       "    <tr>\n",
       "      <th>135</th>\n",
       "      <td>Wychwood</td>\n",
       "      <td>43.676919</td>\n",
       "      <td>-79.425515</td>\n",
       "      <td>565976.50</td>\n",
       "    </tr>\n",
       "    <tr>\n",
       "      <th>136</th>\n",
       "      <td>Yonge-Eglinton</td>\n",
       "      <td>43.704689</td>\n",
       "      <td>-79.403590</td>\n",
       "      <td>809745.75</td>\n",
       "    </tr>\n",
       "    <tr>\n",
       "      <th>137</th>\n",
       "      <td>Yonge-St.Clair</td>\n",
       "      <td>43.687859</td>\n",
       "      <td>-79.397871</td>\n",
       "      <td>813220.25</td>\n",
       "    </tr>\n",
       "    <tr>\n",
       "      <th>138</th>\n",
       "      <td>York University Heights</td>\n",
       "      <td>43.765736</td>\n",
       "      <td>-79.488883</td>\n",
       "      <td>305899.50</td>\n",
       "    </tr>\n",
       "    <tr>\n",
       "      <th>139</th>\n",
       "      <td>Yorkdale-Glen Park</td>\n",
       "      <td>43.714672</td>\n",
       "      <td>-79.457108</td>\n",
       "      <td>430861.25</td>\n",
       "    </tr>\n",
       "  </tbody>\n",
       "</table>\n",
       "<p>140 rows × 4 columns</p>\n",
       "</div>"
      ],
      "text/plain": [
       "                    neighbourhood        lat        lon  average_house_value\n",
       "0                 Agincourt North  43.805441 -79.266712            329811.50\n",
       "1    Agincourt South-Malvern West  43.788658 -79.265612            334189.00\n",
       "2                       Alderwood  43.604937 -79.541611            427922.50\n",
       "3                           Annex  43.671585 -79.404001            746977.00\n",
       "4               Banbury-Don Mills  43.737657 -79.349718            612039.00\n",
       "..                            ...        ...        ...                  ...\n",
       "135                      Wychwood  43.676919 -79.425515            565976.50\n",
       "136                Yonge-Eglinton  43.704689 -79.403590            809745.75\n",
       "137                Yonge-St.Clair  43.687859 -79.397871            813220.25\n",
       "138       York University Heights  43.765736 -79.488883            305899.50\n",
       "139            Yorkdale-Glen Park  43.714672 -79.457108            430861.25\n",
       "\n",
       "[140 rows x 4 columns]"
      ]
     },
     "execution_count": 67,
     "metadata": {},
     "output_type": "execute_result"
    }
   ],
   "source": [
    "# Join the average values with the neighbourhood locations\n",
    "# YOUR CODE HERE!\n",
    "\n",
    "# Try this\n",
    "\n",
    "    # pd.merge(left,right,how=\"inner\",on=None,left_on=None,right_on=None,left_index=False,right_index=False,sort=True,\n",
    "    # suffixes=(\"_x\", \"_y\"),copy=True,indicator=False,validate=None,)\n",
    "\n",
    "# nope\n",
    "\n",
    "# Lots and lots of googling:\n",
    "    # https://pandas.pydata.org/docs/reference/api/pandas.DataFrame.merge.html usual barf of useless general info\n",
    "    # https://pandas.pydata.org/pandas-docs/stable/user_guide/merging.html had a useful example\n",
    "    # https://realpython.com/pandas-merge-join-and-concat/ had a well documented explanation of merging inners etc\n",
    "\n",
    "# Try this https://jakevdp.github.io/PythonDataScienceHandbook/03.07-merge-and-join.html\n",
    "\n",
    "merged_data = pd.merge(left, right, on='neighbourhood').drop(columns=['year'])\n",
    "merged_data\n",
    "\n",
    "# Yep, worked! Add a drop command to get rid of year column"
   ]
  },
  {
   "cell_type": "markdown",
   "metadata": {},
   "source": [
    "### Mapbox Visualization\n",
    "\n",
    "Plot the average values per neighbourhood using a Plotly express `scatter_mapbox` visualization."
   ]
  },
  {
   "cell_type": "code",
   "execution_count": 68,
   "metadata": {},
   "outputs": [],
   "source": [
    "# Create a scatter mapbox to analyze neighbourhood info\n",
    "# YOUR CODE HERE!\n",
    "\n",
    "load_dotenv()\n",
    "map_box_api = os.getenv(\"mapbox\")\n",
    "\n",
    "# Set the Mapbox API\n",
    "\n",
    "px.set_mapbox_access_token(map_box_api)"
   ]
  },
  {
   "cell_type": "code",
   "execution_count": 69,
   "metadata": {},
   "outputs": [],
   "source": [
    "merged_data.to_csv('merged_data.csv')"
   ]
  },
  {
   "cell_type": "code",
   "execution_count": 70,
   "metadata": {},
   "outputs": [
    {
     "data": {
      "application/vnd.plotly.v1+json": {
       "config": {
        "plotlyServerURL": "https://plot.ly"
       },
       "data": [
        {
         "hovertemplate": "average_house_value=%{marker.color}<br>lat=%{lat}<br>lon=%{lon}<extra></extra>",
         "lat": [
          43.80544058,
          43.78865755,
          43.6049369,
          43.67158544,
          43.737657,
          43.76481331,
          43.65751135,
          43.77636052,
          43.79680187,
          43.73148623,
          43.69321649,
          43.76036631,
          43.69468198,
          43.76489025,
          43.67617288,
          43.69902438,
          43.73101314,
          43.68882512,
          43.70132631,
          43.66764773,
          43.68856865,
          43.6818521,
          43.7823765,
          43.65964886,
          43.71359238,
          43.74197843,
          43.72112117,
          43.67766091,
          43.68402547,
          43.68946809,
          43.78329369,
          43.75927437,
          43.66567693,
          43.73329235,
          43.65542833,
          43.68417388,
          43.67088591,
          43.7409223,
          43.72151887,
          43.72034467,
          43.65801676,
          43.64506262,
          43.71592975,
          43.70421756,
          43.69452576,
          43.74563575,
          43.67261231,
          43.74882934,
          43.77114414,
          43.65756491,
          43.64506458,
          43.79077477,
          43.80298783,
          43.6922328,
          43.75891975,
          43.74342952,
          43.69136981,
          43.73536441,
          43.63346335,
          43.66788977,
          43.68572747,
          43.72555572,
          43.65355413,
          43.69899257,
          43.65352043,
          43.79571603,
          43.65742013,
          43.75427115,
          43.73006017,
          43.7172117,
          43.70379663,
          43.64753593,
          43.59236169,
          43.8036582,
          43.71557394,
          43.63354175,
          43.82069079,
          43.61592386,
          43.78239861,
          43.65651762,
          43.68814409,
          43.7468678,
          43.70485217,
          43.70443517,
          43.6005886,
          43.79153579,
          43.78582994,
          43.63668088,
          43.67199515,
          43.66962341,
          43.70680049,
          43.69740813,
          43.68856556,
          43.69678127,
          43.6591571,
          43.75503347,
          43.7175146,
          43.67970047,
          43.78698176,
          43.6660506,
          43.65999214,
          43.72372548,
          43.67479045,
          43.64612299,
          43.68282043,
          43.82120126,
          43.65926882,
          43.71160912,
          43.73865186,
          43.63669952,
          43.64929206,
          43.75624583,
          43.81295883,
          43.63551813,
          43.78012985,
          43.69499819,
          43.67104999,
          43.73798792,
          43.70774921,
          43.6501763,
          43.6625062,
          43.72848902,
          43.63388036,
          43.76749026,
          43.7161804,
          43.77881322,
          43.70271605,
          43.67396204,
          43.74857214,
          43.77060226,
          43.77121049,
          43.68364496,
          43.76674024,
          43.67677292,
          43.69410674,
          43.67691927,
          43.70468937,
          43.68785887,
          43.76573649,
          43.71467153
         ],
         "legendgroup": "",
         "lon": [
          -79.26671217,
          -79.2656118,
          -79.54161093,
          -79.40400062,
          -79.34971798,
          -79.45605516,
          -79.38572125,
          -79.37711686,
          -79.38211795,
          -79.42022735,
          -79.47947251,
          -79.25740037,
          -79.26509259,
          -79.52197932,
          -79.33739417,
          -79.4528513,
          -79.37890418,
          -79.35562951,
          -79.48558926,
          -79.36610666,
          -79.45521208,
          -79.40800665,
          -79.15084327,
          -79.37901717,
          -79.28138178,
          -79.44630258,
          -79.23552957,
          -79.44746933,
          -79.32981941,
          -79.33140338,
          -79.35364413,
          -79.27890794,
          -79.4385407,
          -79.49049735,
          -79.43734104,
          -79.29935867,
          -79.52245776,
          -79.24559804,
          -79.54898272,
          -79.43740855,
          -79.58044524,
          -79.56893877,
          -79.33264597,
          -79.42814316,
          -79.41431786,
          -79.51346532,
          -79.32431802,
          -79.19505535,
          -79.34124067,
          -79.46630217,
          -79.46787222,
          -79.17747247,
          -79.354804,
          -79.5224162,
          -79.55617474,
          -79.54236712,
          -79.42768335,
          -79.27247049,
          -79.54331654,
          -79.47143987,
          -79.47143711,
          -79.26038221,
          -79.39723988,
          -79.54786331,
          -79.5105768,
          -79.31408424,
          -79.49604526,
          -79.42474772,
          -79.40397836,
          -79.40603941,
          -79.36607234,
          -79.43032271,
          -79.53334545,
          -79.22251662,
          -79.48075802,
          -79.57343155,
          -79.27500892,
          -79.50013664,
          -79.20704119,
          -79.36729703,
          -79.49998906,
          -79.58725926,
          -79.38492395,
          -79.39335955,
          -79.51035809,
          -79.40593745,
          -79.43142151,
          -79.4124204,
          -79.35126041,
          -79.37524658,
          -79.31222777,
          -79.27970834,
          -79.43978548,
          -79.33548836,
          -79.41840873,
          -79.33017952,
          -79.5282822,
          -79.35488729,
          -79.33494843,
          -79.54455929,
          -79.36050881,
          -79.56622841,
          -79.49442045,
          -79.44299245,
          -79.3796694,
          -79.18634345,
          -79.48570818,
          -79.49809147,
          -79.21681262,
          -79.43933783,
          -79.33565132,
          -79.37903709,
          -79.32120701,
          -79.50112821,
          -79.30291871,
          -79.29590112,
          -79.2996013,
          -79.56349102,
          -79.34998361,
          -79.41534216,
          -79.40117975,
          -79.31487383,
          -79.37720231,
          -79.17667603,
          -79.59635645,
          -79.45241823,
          -79.51572255,
          -79.46024391,
          -79.29863657,
          -79.40148379,
          -79.4275578,
          -79.55422105,
          -79.22858577,
          -79.31540738,
          -79.31116353,
          -79.42551495,
          -79.40359017,
          -79.39787077,
          -79.48888293,
          -79.45710807
         ],
         "marker": {
          "color": [
           329811.5,
           334189,
           427922.5,
           746977,
           612039,
           501576.75,
           423653.5,
           539258.75,
           565413.5,
           930415.25,
           370927.75,
           301123.25,
           437315,
           260841.75,
           511437,
           365524.5,
           1526485.75,
           443373.25,
           350943,
           494110.5,
           361714.25,
           981064.25,
           409862.75,
           406117.5,
           354555.25,
           551561.25,
           417422,
           419930.5,
           466943,
           421679.25,
           398010.25,
           262000.25,
           434699.5,
           381415.5,
           457588.75,
           478054.25,
           796162.5,
           268966.5,
           268341.25,
           568936.75,
           397781.75,
           309412,
           207799,
           851680.5,
           1195992.5,
           327597.75,
           387055.5,
           369373.5,
           369958,
           532497,
           582977.75,
           428838.5,
           395023,
           449150.5,
           352082.5,
           319783.75,
           697085.5,
           287685.75,
           451685.25,
           433269.25,
           322774.75,
           287233.5,
           440485.75,
           338344.75,
           843234.25,
           650307.75,
           336617.75,
           613216.5,
           759392.5,
           1094027.75,
           806471.75,
           540192.5,
           385830.25,
           256880.25,
           453229,
           443974.75,
           344988.25,
           393490.5,
           285013.5,
           409456,
           262308.75,
           253182.25,
           677370.25,
           468181.75,
           407812,
           559573.25,
           460568.5,
           369993,
           703063.25,
           411455.75,
           298315.75,
           422257.5,
           441202.75,
           443413.5,
           622191.75,
           454652.5,
           405431.25,
           648859.25,
           373375.25,
           765746.5,
           392578.25,
           360999.25,
           345660.25,
           508937.25,
           1093640,
           376286.75,
           552082,
           431090.5,
           329835.75,
           447478.5,
           455020.5,
           999107,
           376014.5,
           550432.25,
           353926.5,
           239414,
           666306,
           375864,
           255264.75,
           534465.75,
           618316.75,
           352133,
           376863,
           284647.5,
           343254.25,
           349320.25,
           308007.75,
           351802,
           348319.25,
           469045.5,
           466134.75,
           464278,
           298505.75,
           445382.75,
           369918.5,
           565976.5,
           809745.75,
           813220.25,
           305899.5,
           430861.25
          ],
          "coloraxis": "coloraxis",
          "size": [
           329811.5,
           334189,
           427922.5,
           746977,
           612039,
           501576.75,
           423653.5,
           539258.75,
           565413.5,
           930415.25,
           370927.75,
           301123.25,
           437315,
           260841.75,
           511437,
           365524.5,
           1526485.75,
           443373.25,
           350943,
           494110.5,
           361714.25,
           981064.25,
           409862.75,
           406117.5,
           354555.25,
           551561.25,
           417422,
           419930.5,
           466943,
           421679.25,
           398010.25,
           262000.25,
           434699.5,
           381415.5,
           457588.75,
           478054.25,
           796162.5,
           268966.5,
           268341.25,
           568936.75,
           397781.75,
           309412,
           207799,
           851680.5,
           1195992.5,
           327597.75,
           387055.5,
           369373.5,
           369958,
           532497,
           582977.75,
           428838.5,
           395023,
           449150.5,
           352082.5,
           319783.75,
           697085.5,
           287685.75,
           451685.25,
           433269.25,
           322774.75,
           287233.5,
           440485.75,
           338344.75,
           843234.25,
           650307.75,
           336617.75,
           613216.5,
           759392.5,
           1094027.75,
           806471.75,
           540192.5,
           385830.25,
           256880.25,
           453229,
           443974.75,
           344988.25,
           393490.5,
           285013.5,
           409456,
           262308.75,
           253182.25,
           677370.25,
           468181.75,
           407812,
           559573.25,
           460568.5,
           369993,
           703063.25,
           411455.75,
           298315.75,
           422257.5,
           441202.75,
           443413.5,
           622191.75,
           454652.5,
           405431.25,
           648859.25,
           373375.25,
           765746.5,
           392578.25,
           360999.25,
           345660.25,
           508937.25,
           1093640,
           376286.75,
           552082,
           431090.5,
           329835.75,
           447478.5,
           455020.5,
           999107,
           376014.5,
           550432.25,
           353926.5,
           239414,
           666306,
           375864,
           255264.75,
           534465.75,
           618316.75,
           352133,
           376863,
           284647.5,
           343254.25,
           349320.25,
           308007.75,
           351802,
           348319.25,
           469045.5,
           466134.75,
           464278,
           298505.75,
           445382.75,
           369918.5,
           565976.5,
           809745.75,
           813220.25,
           305899.5,
           430861.25
          ],
          "sizemode": "area",
          "sizeref": 3816.214375
         },
         "mode": "markers",
         "name": "",
         "showlegend": false,
         "subplot": "mapbox",
         "type": "scattermapbox"
        }
       ],
       "layout": {
        "coloraxis": {
         "colorbar": {
          "title": {
           "text": "average_house_value"
          }
         },
         "colorscale": [
          [
           0,
           "#0d0887"
          ],
          [
           0.1111111111111111,
           "#46039f"
          ],
          [
           0.2222222222222222,
           "#7201a8"
          ],
          [
           0.3333333333333333,
           "#9c179e"
          ],
          [
           0.4444444444444444,
           "#bd3786"
          ],
          [
           0.5555555555555556,
           "#d8576b"
          ],
          [
           0.6666666666666666,
           "#ed7953"
          ],
          [
           0.7777777777777778,
           "#fb9f3a"
          ],
          [
           0.8888888888888888,
           "#fdca26"
          ],
          [
           1,
           "#f0f921"
          ]
         ]
        },
        "legend": {
         "itemsizing": "constant",
         "tracegroupgap": 0
        },
        "mapbox": {
         "accesstoken": "pk.eyJ1IjoicGV0ZXJlbmciLCJhIjoiY2tweHNkNXlxMDE2eDJ3bnQ3c2t5ejQ4byJ9.YuibM51k26kC2NafvWrFXA",
         "center": {
          "lat": 43.708840577642846,
          "lon": -79.4001855035
         },
         "domain": {
          "x": [
           0,
           1
          ],
          "y": [
           0,
           1
          ]
         },
         "zoom": 10
        },
        "template": {
         "data": {
          "bar": [
           {
            "error_x": {
             "color": "#2a3f5f"
            },
            "error_y": {
             "color": "#2a3f5f"
            },
            "marker": {
             "line": {
              "color": "#E5ECF6",
              "width": 0.5
             }
            },
            "type": "bar"
           }
          ],
          "barpolar": [
           {
            "marker": {
             "line": {
              "color": "#E5ECF6",
              "width": 0.5
             }
            },
            "type": "barpolar"
           }
          ],
          "carpet": [
           {
            "aaxis": {
             "endlinecolor": "#2a3f5f",
             "gridcolor": "white",
             "linecolor": "white",
             "minorgridcolor": "white",
             "startlinecolor": "#2a3f5f"
            },
            "baxis": {
             "endlinecolor": "#2a3f5f",
             "gridcolor": "white",
             "linecolor": "white",
             "minorgridcolor": "white",
             "startlinecolor": "#2a3f5f"
            },
            "type": "carpet"
           }
          ],
          "choropleth": [
           {
            "colorbar": {
             "outlinewidth": 0,
             "ticks": ""
            },
            "type": "choropleth"
           }
          ],
          "contour": [
           {
            "colorbar": {
             "outlinewidth": 0,
             "ticks": ""
            },
            "colorscale": [
             [
              0,
              "#0d0887"
             ],
             [
              0.1111111111111111,
              "#46039f"
             ],
             [
              0.2222222222222222,
              "#7201a8"
             ],
             [
              0.3333333333333333,
              "#9c179e"
             ],
             [
              0.4444444444444444,
              "#bd3786"
             ],
             [
              0.5555555555555556,
              "#d8576b"
             ],
             [
              0.6666666666666666,
              "#ed7953"
             ],
             [
              0.7777777777777778,
              "#fb9f3a"
             ],
             [
              0.8888888888888888,
              "#fdca26"
             ],
             [
              1,
              "#f0f921"
             ]
            ],
            "type": "contour"
           }
          ],
          "contourcarpet": [
           {
            "colorbar": {
             "outlinewidth": 0,
             "ticks": ""
            },
            "type": "contourcarpet"
           }
          ],
          "heatmap": [
           {
            "colorbar": {
             "outlinewidth": 0,
             "ticks": ""
            },
            "colorscale": [
             [
              0,
              "#0d0887"
             ],
             [
              0.1111111111111111,
              "#46039f"
             ],
             [
              0.2222222222222222,
              "#7201a8"
             ],
             [
              0.3333333333333333,
              "#9c179e"
             ],
             [
              0.4444444444444444,
              "#bd3786"
             ],
             [
              0.5555555555555556,
              "#d8576b"
             ],
             [
              0.6666666666666666,
              "#ed7953"
             ],
             [
              0.7777777777777778,
              "#fb9f3a"
             ],
             [
              0.8888888888888888,
              "#fdca26"
             ],
             [
              1,
              "#f0f921"
             ]
            ],
            "type": "heatmap"
           }
          ],
          "heatmapgl": [
           {
            "colorbar": {
             "outlinewidth": 0,
             "ticks": ""
            },
            "colorscale": [
             [
              0,
              "#0d0887"
             ],
             [
              0.1111111111111111,
              "#46039f"
             ],
             [
              0.2222222222222222,
              "#7201a8"
             ],
             [
              0.3333333333333333,
              "#9c179e"
             ],
             [
              0.4444444444444444,
              "#bd3786"
             ],
             [
              0.5555555555555556,
              "#d8576b"
             ],
             [
              0.6666666666666666,
              "#ed7953"
             ],
             [
              0.7777777777777778,
              "#fb9f3a"
             ],
             [
              0.8888888888888888,
              "#fdca26"
             ],
             [
              1,
              "#f0f921"
             ]
            ],
            "type": "heatmapgl"
           }
          ],
          "histogram": [
           {
            "marker": {
             "colorbar": {
              "outlinewidth": 0,
              "ticks": ""
             }
            },
            "type": "histogram"
           }
          ],
          "histogram2d": [
           {
            "colorbar": {
             "outlinewidth": 0,
             "ticks": ""
            },
            "colorscale": [
             [
              0,
              "#0d0887"
             ],
             [
              0.1111111111111111,
              "#46039f"
             ],
             [
              0.2222222222222222,
              "#7201a8"
             ],
             [
              0.3333333333333333,
              "#9c179e"
             ],
             [
              0.4444444444444444,
              "#bd3786"
             ],
             [
              0.5555555555555556,
              "#d8576b"
             ],
             [
              0.6666666666666666,
              "#ed7953"
             ],
             [
              0.7777777777777778,
              "#fb9f3a"
             ],
             [
              0.8888888888888888,
              "#fdca26"
             ],
             [
              1,
              "#f0f921"
             ]
            ],
            "type": "histogram2d"
           }
          ],
          "histogram2dcontour": [
           {
            "colorbar": {
             "outlinewidth": 0,
             "ticks": ""
            },
            "colorscale": [
             [
              0,
              "#0d0887"
             ],
             [
              0.1111111111111111,
              "#46039f"
             ],
             [
              0.2222222222222222,
              "#7201a8"
             ],
             [
              0.3333333333333333,
              "#9c179e"
             ],
             [
              0.4444444444444444,
              "#bd3786"
             ],
             [
              0.5555555555555556,
              "#d8576b"
             ],
             [
              0.6666666666666666,
              "#ed7953"
             ],
             [
              0.7777777777777778,
              "#fb9f3a"
             ],
             [
              0.8888888888888888,
              "#fdca26"
             ],
             [
              1,
              "#f0f921"
             ]
            ],
            "type": "histogram2dcontour"
           }
          ],
          "mesh3d": [
           {
            "colorbar": {
             "outlinewidth": 0,
             "ticks": ""
            },
            "type": "mesh3d"
           }
          ],
          "parcoords": [
           {
            "line": {
             "colorbar": {
              "outlinewidth": 0,
              "ticks": ""
             }
            },
            "type": "parcoords"
           }
          ],
          "pie": [
           {
            "automargin": true,
            "type": "pie"
           }
          ],
          "scatter": [
           {
            "marker": {
             "colorbar": {
              "outlinewidth": 0,
              "ticks": ""
             }
            },
            "type": "scatter"
           }
          ],
          "scatter3d": [
           {
            "line": {
             "colorbar": {
              "outlinewidth": 0,
              "ticks": ""
             }
            },
            "marker": {
             "colorbar": {
              "outlinewidth": 0,
              "ticks": ""
             }
            },
            "type": "scatter3d"
           }
          ],
          "scattercarpet": [
           {
            "marker": {
             "colorbar": {
              "outlinewidth": 0,
              "ticks": ""
             }
            },
            "type": "scattercarpet"
           }
          ],
          "scattergeo": [
           {
            "marker": {
             "colorbar": {
              "outlinewidth": 0,
              "ticks": ""
             }
            },
            "type": "scattergeo"
           }
          ],
          "scattergl": [
           {
            "marker": {
             "colorbar": {
              "outlinewidth": 0,
              "ticks": ""
             }
            },
            "type": "scattergl"
           }
          ],
          "scattermapbox": [
           {
            "marker": {
             "colorbar": {
              "outlinewidth": 0,
              "ticks": ""
             }
            },
            "type": "scattermapbox"
           }
          ],
          "scatterpolar": [
           {
            "marker": {
             "colorbar": {
              "outlinewidth": 0,
              "ticks": ""
             }
            },
            "type": "scatterpolar"
           }
          ],
          "scatterpolargl": [
           {
            "marker": {
             "colorbar": {
              "outlinewidth": 0,
              "ticks": ""
             }
            },
            "type": "scatterpolargl"
           }
          ],
          "scatterternary": [
           {
            "marker": {
             "colorbar": {
              "outlinewidth": 0,
              "ticks": ""
             }
            },
            "type": "scatterternary"
           }
          ],
          "surface": [
           {
            "colorbar": {
             "outlinewidth": 0,
             "ticks": ""
            },
            "colorscale": [
             [
              0,
              "#0d0887"
             ],
             [
              0.1111111111111111,
              "#46039f"
             ],
             [
              0.2222222222222222,
              "#7201a8"
             ],
             [
              0.3333333333333333,
              "#9c179e"
             ],
             [
              0.4444444444444444,
              "#bd3786"
             ],
             [
              0.5555555555555556,
              "#d8576b"
             ],
             [
              0.6666666666666666,
              "#ed7953"
             ],
             [
              0.7777777777777778,
              "#fb9f3a"
             ],
             [
              0.8888888888888888,
              "#fdca26"
             ],
             [
              1,
              "#f0f921"
             ]
            ],
            "type": "surface"
           }
          ],
          "table": [
           {
            "cells": {
             "fill": {
              "color": "#EBF0F8"
             },
             "line": {
              "color": "white"
             }
            },
            "header": {
             "fill": {
              "color": "#C8D4E3"
             },
             "line": {
              "color": "white"
             }
            },
            "type": "table"
           }
          ]
         },
         "layout": {
          "annotationdefaults": {
           "arrowcolor": "#2a3f5f",
           "arrowhead": 0,
           "arrowwidth": 1
          },
          "coloraxis": {
           "colorbar": {
            "outlinewidth": 0,
            "ticks": ""
           }
          },
          "colorscale": {
           "diverging": [
            [
             0,
             "#8e0152"
            ],
            [
             0.1,
             "#c51b7d"
            ],
            [
             0.2,
             "#de77ae"
            ],
            [
             0.3,
             "#f1b6da"
            ],
            [
             0.4,
             "#fde0ef"
            ],
            [
             0.5,
             "#f7f7f7"
            ],
            [
             0.6,
             "#e6f5d0"
            ],
            [
             0.7,
             "#b8e186"
            ],
            [
             0.8,
             "#7fbc41"
            ],
            [
             0.9,
             "#4d9221"
            ],
            [
             1,
             "#276419"
            ]
           ],
           "sequential": [
            [
             0,
             "#0d0887"
            ],
            [
             0.1111111111111111,
             "#46039f"
            ],
            [
             0.2222222222222222,
             "#7201a8"
            ],
            [
             0.3333333333333333,
             "#9c179e"
            ],
            [
             0.4444444444444444,
             "#bd3786"
            ],
            [
             0.5555555555555556,
             "#d8576b"
            ],
            [
             0.6666666666666666,
             "#ed7953"
            ],
            [
             0.7777777777777778,
             "#fb9f3a"
            ],
            [
             0.8888888888888888,
             "#fdca26"
            ],
            [
             1,
             "#f0f921"
            ]
           ],
           "sequentialminus": [
            [
             0,
             "#0d0887"
            ],
            [
             0.1111111111111111,
             "#46039f"
            ],
            [
             0.2222222222222222,
             "#7201a8"
            ],
            [
             0.3333333333333333,
             "#9c179e"
            ],
            [
             0.4444444444444444,
             "#bd3786"
            ],
            [
             0.5555555555555556,
             "#d8576b"
            ],
            [
             0.6666666666666666,
             "#ed7953"
            ],
            [
             0.7777777777777778,
             "#fb9f3a"
            ],
            [
             0.8888888888888888,
             "#fdca26"
            ],
            [
             1,
             "#f0f921"
            ]
           ]
          },
          "colorway": [
           "#636efa",
           "#EF553B",
           "#00cc96",
           "#ab63fa",
           "#FFA15A",
           "#19d3f3",
           "#FF6692",
           "#B6E880",
           "#FF97FF",
           "#FECB52"
          ],
          "font": {
           "color": "#2a3f5f"
          },
          "geo": {
           "bgcolor": "white",
           "lakecolor": "white",
           "landcolor": "#E5ECF6",
           "showlakes": true,
           "showland": true,
           "subunitcolor": "white"
          },
          "hoverlabel": {
           "align": "left"
          },
          "hovermode": "closest",
          "mapbox": {
           "style": "light"
          },
          "paper_bgcolor": "white",
          "plot_bgcolor": "#E5ECF6",
          "polar": {
           "angularaxis": {
            "gridcolor": "white",
            "linecolor": "white",
            "ticks": ""
           },
           "bgcolor": "#E5ECF6",
           "radialaxis": {
            "gridcolor": "white",
            "linecolor": "white",
            "ticks": ""
           }
          },
          "scene": {
           "xaxis": {
            "backgroundcolor": "#E5ECF6",
            "gridcolor": "white",
            "gridwidth": 2,
            "linecolor": "white",
            "showbackground": true,
            "ticks": "",
            "zerolinecolor": "white"
           },
           "yaxis": {
            "backgroundcolor": "#E5ECF6",
            "gridcolor": "white",
            "gridwidth": 2,
            "linecolor": "white",
            "showbackground": true,
            "ticks": "",
            "zerolinecolor": "white"
           },
           "zaxis": {
            "backgroundcolor": "#E5ECF6",
            "gridcolor": "white",
            "gridwidth": 2,
            "linecolor": "white",
            "showbackground": true,
            "ticks": "",
            "zerolinecolor": "white"
           }
          },
          "shapedefaults": {
           "line": {
            "color": "#2a3f5f"
           }
          },
          "ternary": {
           "aaxis": {
            "gridcolor": "white",
            "linecolor": "white",
            "ticks": ""
           },
           "baxis": {
            "gridcolor": "white",
            "linecolor": "white",
            "ticks": ""
           },
           "bgcolor": "#E5ECF6",
           "caxis": {
            "gridcolor": "white",
            "linecolor": "white",
            "ticks": ""
           }
          },
          "title": {
           "x": 0.05
          },
          "xaxis": {
           "automargin": true,
           "gridcolor": "white",
           "linecolor": "white",
           "ticks": "",
           "title": {
            "standoff": 15
           },
           "zerolinecolor": "white",
           "zerolinewidth": 2
          },
          "yaxis": {
           "automargin": true,
           "gridcolor": "white",
           "linecolor": "white",
           "ticks": "",
           "title": {
            "standoff": 15
           },
           "zerolinecolor": "white",
           "zerolinewidth": 2
          }
         }
        },
        "title": {
         "text": "Average values per neighbourhood"
        }
       }
      },
      "text/html": [
       "<div>                            <div id=\"2ead46d4-c43e-46d9-baf8-f710c59e4555\" class=\"plotly-graph-div\" style=\"height:525px; width:100%;\"></div>            <script type=\"text/javascript\">                require([\"plotly\"], function(Plotly) {                    window.PLOTLYENV=window.PLOTLYENV || {};                                    if (document.getElementById(\"2ead46d4-c43e-46d9-baf8-f710c59e4555\")) {                    Plotly.newPlot(                        \"2ead46d4-c43e-46d9-baf8-f710c59e4555\",                        [{\"hovertemplate\": \"average_house_value=%{marker.color}<br>lat=%{lat}<br>lon=%{lon}<extra></extra>\", \"lat\": [43.80544058, 43.78865755, 43.6049369, 43.67158544, 43.737657, 43.76481331, 43.65751135, 43.77636052, 43.79680187, 43.73148623, 43.69321649, 43.76036631, 43.69468198, 43.76489025, 43.67617288, 43.69902438, 43.73101314, 43.68882512, 43.70132631, 43.66764773, 43.68856865, 43.6818521, 43.7823765, 43.65964886, 43.71359238, 43.74197843, 43.72112117, 43.67766091, 43.68402547, 43.68946809, 43.78329369, 43.75927437, 43.66567693, 43.73329235, 43.65542833, 43.68417388, 43.67088591, 43.7409223, 43.72151887, 43.72034467, 43.65801676, 43.64506262, 43.71592975, 43.70421756, 43.69452576, 43.74563575, 43.67261231, 43.74882934, 43.77114414, 43.65756491, 43.64506458, 43.79077477, 43.80298783, 43.6922328, 43.75891975, 43.74342952, 43.69136981, 43.73536441, 43.63346335, 43.66788977, 43.68572747, 43.72555572, 43.65355413, 43.69899257, 43.65352043, 43.79571603, 43.65742013, 43.75427115, 43.73006017, 43.7172117, 43.70379663, 43.64753593, 43.59236169, 43.8036582, 43.71557394, 43.63354175, 43.82069079, 43.61592386, 43.78239861, 43.65651762, 43.68814409, 43.7468678, 43.70485217, 43.70443517, 43.6005886, 43.79153579, 43.78582994, 43.63668088, 43.67199515, 43.66962341, 43.70680049, 43.69740813, 43.68856556, 43.69678127, 43.6591571, 43.75503347, 43.7175146, 43.67970047, 43.78698176, 43.6660506, 43.65999214, 43.72372548, 43.67479045, 43.64612299, 43.68282043, 43.82120126, 43.65926882, 43.71160912, 43.73865186, 43.63669952, 43.64929206, 43.75624583, 43.81295883, 43.63551813, 43.78012985, 43.69499819, 43.67104999, 43.73798792, 43.70774921, 43.6501763, 43.6625062, 43.72848902, 43.63388036, 43.76749026, 43.7161804, 43.77881322, 43.70271605, 43.67396204, 43.74857214, 43.77060226, 43.77121049, 43.68364496, 43.76674024, 43.67677292, 43.69410674, 43.67691927, 43.70468937, 43.68785887, 43.76573649, 43.71467153], \"legendgroup\": \"\", \"lon\": [-79.26671217, -79.2656118, -79.54161093, -79.40400062, -79.34971798, -79.45605516, -79.38572125, -79.37711686, -79.38211795, -79.42022735, -79.47947251, -79.25740037, -79.26509259, -79.52197932, -79.33739417, -79.4528513, -79.37890418, -79.35562951, -79.48558926, -79.36610666, -79.45521208, -79.40800665, -79.15084327, -79.37901717, -79.28138178, -79.44630258, -79.23552957, -79.44746933, -79.32981941, -79.33140338, -79.35364413, -79.27890794, -79.4385407, -79.49049735, -79.43734104, -79.29935867, -79.52245776, -79.24559804, -79.54898272, -79.43740855, -79.58044524, -79.56893877, -79.33264597, -79.42814316, -79.41431786, -79.51346532, -79.32431802, -79.19505535, -79.34124067, -79.46630217, -79.46787222, -79.17747247, -79.354804, -79.5224162, -79.55617474, -79.54236712, -79.42768335, -79.27247049, -79.54331654, -79.47143987, -79.47143711, -79.26038221, -79.39723988, -79.54786331, -79.5105768, -79.31408424, -79.49604526, -79.42474772, -79.40397836, -79.40603941, -79.36607234, -79.43032271, -79.53334545, -79.22251662, -79.48075802, -79.57343155, -79.27500892, -79.50013664, -79.20704119, -79.36729703, -79.49998906, -79.58725926, -79.38492395, -79.39335955, -79.51035809, -79.40593745, -79.43142151, -79.4124204, -79.35126041, -79.37524658, -79.31222777, -79.27970834, -79.43978548, -79.33548836, -79.41840873, -79.33017952, -79.5282822, -79.35488729, -79.33494843, -79.54455929, -79.36050881, -79.56622841, -79.49442045, -79.44299245, -79.3796694, -79.18634345, -79.48570818, -79.49809147, -79.21681262, -79.43933783, -79.33565132, -79.37903709, -79.32120701, -79.50112821, -79.30291871, -79.29590112, -79.2996013, -79.56349102, -79.34998361, -79.41534216, -79.40117975, -79.31487383, -79.37720231, -79.17667603, -79.59635645, -79.45241823, -79.51572255, -79.46024391, -79.29863657, -79.40148379, -79.4275578, -79.55422105, -79.22858577, -79.31540738, -79.31116353, -79.42551495, -79.40359017, -79.39787077, -79.48888293, -79.45710807], \"marker\": {\"color\": [329811.5, 334189.0, 427922.5, 746977.0, 612039.0, 501576.75, 423653.5, 539258.75, 565413.5, 930415.25, 370927.75, 301123.25, 437315.0, 260841.75, 511437.0, 365524.5, 1526485.75, 443373.25, 350943.0, 494110.5, 361714.25, 981064.25, 409862.75, 406117.5, 354555.25, 551561.25, 417422.0, 419930.5, 466943.0, 421679.25, 398010.25, 262000.25, 434699.5, 381415.5, 457588.75, 478054.25, 796162.5, 268966.5, 268341.25, 568936.75, 397781.75, 309412.0, 207799.0, 851680.5, 1195992.5, 327597.75, 387055.5, 369373.5, 369958.0, 532497.0, 582977.75, 428838.5, 395023.0, 449150.5, 352082.5, 319783.75, 697085.5, 287685.75, 451685.25, 433269.25, 322774.75, 287233.5, 440485.75, 338344.75, 843234.25, 650307.75, 336617.75, 613216.5, 759392.5, 1094027.75, 806471.75, 540192.5, 385830.25, 256880.25, 453229.0, 443974.75, 344988.25, 393490.5, 285013.5, 409456.0, 262308.75, 253182.25, 677370.25, 468181.75, 407812.0, 559573.25, 460568.5, 369993.0, 703063.25, 411455.75, 298315.75, 422257.5, 441202.75, 443413.5, 622191.75, 454652.5, 405431.25, 648859.25, 373375.25, 765746.5, 392578.25, 360999.25, 345660.25, 508937.25, 1093640.0, 376286.75, 552082.0, 431090.5, 329835.75, 447478.5, 455020.5, 999107.0, 376014.5, 550432.25, 353926.5, 239414.0, 666306.0, 375864.0, 255264.75, 534465.75, 618316.75, 352133.0, 376863.0, 284647.5, 343254.25, 349320.25, 308007.75, 351802.0, 348319.25, 469045.5, 466134.75, 464278.0, 298505.75, 445382.75, 369918.5, 565976.5, 809745.75, 813220.25, 305899.5, 430861.25], \"coloraxis\": \"coloraxis\", \"size\": [329811.5, 334189.0, 427922.5, 746977.0, 612039.0, 501576.75, 423653.5, 539258.75, 565413.5, 930415.25, 370927.75, 301123.25, 437315.0, 260841.75, 511437.0, 365524.5, 1526485.75, 443373.25, 350943.0, 494110.5, 361714.25, 981064.25, 409862.75, 406117.5, 354555.25, 551561.25, 417422.0, 419930.5, 466943.0, 421679.25, 398010.25, 262000.25, 434699.5, 381415.5, 457588.75, 478054.25, 796162.5, 268966.5, 268341.25, 568936.75, 397781.75, 309412.0, 207799.0, 851680.5, 1195992.5, 327597.75, 387055.5, 369373.5, 369958.0, 532497.0, 582977.75, 428838.5, 395023.0, 449150.5, 352082.5, 319783.75, 697085.5, 287685.75, 451685.25, 433269.25, 322774.75, 287233.5, 440485.75, 338344.75, 843234.25, 650307.75, 336617.75, 613216.5, 759392.5, 1094027.75, 806471.75, 540192.5, 385830.25, 256880.25, 453229.0, 443974.75, 344988.25, 393490.5, 285013.5, 409456.0, 262308.75, 253182.25, 677370.25, 468181.75, 407812.0, 559573.25, 460568.5, 369993.0, 703063.25, 411455.75, 298315.75, 422257.5, 441202.75, 443413.5, 622191.75, 454652.5, 405431.25, 648859.25, 373375.25, 765746.5, 392578.25, 360999.25, 345660.25, 508937.25, 1093640.0, 376286.75, 552082.0, 431090.5, 329835.75, 447478.5, 455020.5, 999107.0, 376014.5, 550432.25, 353926.5, 239414.0, 666306.0, 375864.0, 255264.75, 534465.75, 618316.75, 352133.0, 376863.0, 284647.5, 343254.25, 349320.25, 308007.75, 351802.0, 348319.25, 469045.5, 466134.75, 464278.0, 298505.75, 445382.75, 369918.5, 565976.5, 809745.75, 813220.25, 305899.5, 430861.25], \"sizemode\": \"area\", \"sizeref\": 3816.214375}, \"mode\": \"markers\", \"name\": \"\", \"showlegend\": false, \"subplot\": \"mapbox\", \"type\": \"scattermapbox\"}],                        {\"coloraxis\": {\"colorbar\": {\"title\": {\"text\": \"average_house_value\"}}, \"colorscale\": [[0.0, \"#0d0887\"], [0.1111111111111111, \"#46039f\"], [0.2222222222222222, \"#7201a8\"], [0.3333333333333333, \"#9c179e\"], [0.4444444444444444, \"#bd3786\"], [0.5555555555555556, \"#d8576b\"], [0.6666666666666666, \"#ed7953\"], [0.7777777777777778, \"#fb9f3a\"], [0.8888888888888888, \"#fdca26\"], [1.0, \"#f0f921\"]]}, \"legend\": {\"itemsizing\": \"constant\", \"tracegroupgap\": 0}, \"mapbox\": {\"accesstoken\": \"pk.eyJ1IjoicGV0ZXJlbmciLCJhIjoiY2tweHNkNXlxMDE2eDJ3bnQ3c2t5ejQ4byJ9.YuibM51k26kC2NafvWrFXA\", \"center\": {\"lat\": 43.708840577642846, \"lon\": -79.4001855035}, \"domain\": {\"x\": [0.0, 1.0], \"y\": [0.0, 1.0]}, \"zoom\": 10}, \"template\": {\"data\": {\"bar\": [{\"error_x\": {\"color\": \"#2a3f5f\"}, \"error_y\": {\"color\": \"#2a3f5f\"}, \"marker\": {\"line\": {\"color\": \"#E5ECF6\", \"width\": 0.5}}, \"type\": \"bar\"}], \"barpolar\": [{\"marker\": {\"line\": {\"color\": \"#E5ECF6\", \"width\": 0.5}}, \"type\": \"barpolar\"}], \"carpet\": [{\"aaxis\": {\"endlinecolor\": \"#2a3f5f\", \"gridcolor\": \"white\", \"linecolor\": \"white\", \"minorgridcolor\": \"white\", \"startlinecolor\": \"#2a3f5f\"}, \"baxis\": {\"endlinecolor\": \"#2a3f5f\", \"gridcolor\": \"white\", \"linecolor\": \"white\", \"minorgridcolor\": \"white\", \"startlinecolor\": \"#2a3f5f\"}, \"type\": \"carpet\"}], \"choropleth\": [{\"colorbar\": {\"outlinewidth\": 0, \"ticks\": \"\"}, \"type\": \"choropleth\"}], \"contour\": [{\"colorbar\": {\"outlinewidth\": 0, \"ticks\": \"\"}, \"colorscale\": [[0.0, \"#0d0887\"], [0.1111111111111111, \"#46039f\"], [0.2222222222222222, \"#7201a8\"], [0.3333333333333333, \"#9c179e\"], [0.4444444444444444, \"#bd3786\"], [0.5555555555555556, \"#d8576b\"], [0.6666666666666666, \"#ed7953\"], [0.7777777777777778, \"#fb9f3a\"], [0.8888888888888888, \"#fdca26\"], [1.0, \"#f0f921\"]], \"type\": \"contour\"}], \"contourcarpet\": [{\"colorbar\": {\"outlinewidth\": 0, \"ticks\": \"\"}, \"type\": \"contourcarpet\"}], \"heatmap\": [{\"colorbar\": {\"outlinewidth\": 0, \"ticks\": \"\"}, \"colorscale\": [[0.0, \"#0d0887\"], [0.1111111111111111, \"#46039f\"], [0.2222222222222222, \"#7201a8\"], [0.3333333333333333, \"#9c179e\"], [0.4444444444444444, \"#bd3786\"], [0.5555555555555556, \"#d8576b\"], [0.6666666666666666, \"#ed7953\"], [0.7777777777777778, \"#fb9f3a\"], [0.8888888888888888, \"#fdca26\"], [1.0, \"#f0f921\"]], \"type\": \"heatmap\"}], \"heatmapgl\": [{\"colorbar\": {\"outlinewidth\": 0, \"ticks\": \"\"}, \"colorscale\": [[0.0, \"#0d0887\"], [0.1111111111111111, \"#46039f\"], [0.2222222222222222, \"#7201a8\"], [0.3333333333333333, \"#9c179e\"], [0.4444444444444444, \"#bd3786\"], [0.5555555555555556, \"#d8576b\"], [0.6666666666666666, \"#ed7953\"], [0.7777777777777778, \"#fb9f3a\"], [0.8888888888888888, \"#fdca26\"], [1.0, \"#f0f921\"]], \"type\": \"heatmapgl\"}], \"histogram\": [{\"marker\": {\"colorbar\": {\"outlinewidth\": 0, \"ticks\": \"\"}}, \"type\": \"histogram\"}], \"histogram2d\": [{\"colorbar\": {\"outlinewidth\": 0, \"ticks\": \"\"}, \"colorscale\": [[0.0, \"#0d0887\"], [0.1111111111111111, \"#46039f\"], [0.2222222222222222, \"#7201a8\"], [0.3333333333333333, \"#9c179e\"], [0.4444444444444444, \"#bd3786\"], [0.5555555555555556, \"#d8576b\"], [0.6666666666666666, \"#ed7953\"], [0.7777777777777778, \"#fb9f3a\"], [0.8888888888888888, \"#fdca26\"], [1.0, \"#f0f921\"]], \"type\": \"histogram2d\"}], \"histogram2dcontour\": [{\"colorbar\": {\"outlinewidth\": 0, \"ticks\": \"\"}, \"colorscale\": [[0.0, \"#0d0887\"], [0.1111111111111111, \"#46039f\"], [0.2222222222222222, \"#7201a8\"], [0.3333333333333333, \"#9c179e\"], [0.4444444444444444, \"#bd3786\"], [0.5555555555555556, \"#d8576b\"], [0.6666666666666666, \"#ed7953\"], [0.7777777777777778, \"#fb9f3a\"], [0.8888888888888888, \"#fdca26\"], [1.0, \"#f0f921\"]], \"type\": \"histogram2dcontour\"}], \"mesh3d\": [{\"colorbar\": {\"outlinewidth\": 0, \"ticks\": \"\"}, \"type\": \"mesh3d\"}], \"parcoords\": [{\"line\": {\"colorbar\": {\"outlinewidth\": 0, \"ticks\": \"\"}}, \"type\": \"parcoords\"}], \"pie\": [{\"automargin\": true, \"type\": \"pie\"}], \"scatter\": [{\"marker\": {\"colorbar\": {\"outlinewidth\": 0, \"ticks\": \"\"}}, \"type\": \"scatter\"}], \"scatter3d\": [{\"line\": {\"colorbar\": {\"outlinewidth\": 0, \"ticks\": \"\"}}, \"marker\": {\"colorbar\": {\"outlinewidth\": 0, \"ticks\": \"\"}}, \"type\": \"scatter3d\"}], \"scattercarpet\": [{\"marker\": {\"colorbar\": {\"outlinewidth\": 0, \"ticks\": \"\"}}, \"type\": \"scattercarpet\"}], \"scattergeo\": [{\"marker\": {\"colorbar\": {\"outlinewidth\": 0, \"ticks\": \"\"}}, \"type\": \"scattergeo\"}], \"scattergl\": [{\"marker\": {\"colorbar\": {\"outlinewidth\": 0, \"ticks\": \"\"}}, \"type\": \"scattergl\"}], \"scattermapbox\": [{\"marker\": {\"colorbar\": {\"outlinewidth\": 0, \"ticks\": \"\"}}, \"type\": \"scattermapbox\"}], \"scatterpolar\": [{\"marker\": {\"colorbar\": {\"outlinewidth\": 0, \"ticks\": \"\"}}, \"type\": \"scatterpolar\"}], \"scatterpolargl\": [{\"marker\": {\"colorbar\": {\"outlinewidth\": 0, \"ticks\": \"\"}}, \"type\": \"scatterpolargl\"}], \"scatterternary\": [{\"marker\": {\"colorbar\": {\"outlinewidth\": 0, \"ticks\": \"\"}}, \"type\": \"scatterternary\"}], \"surface\": [{\"colorbar\": {\"outlinewidth\": 0, \"ticks\": \"\"}, \"colorscale\": [[0.0, \"#0d0887\"], [0.1111111111111111, \"#46039f\"], [0.2222222222222222, \"#7201a8\"], [0.3333333333333333, \"#9c179e\"], [0.4444444444444444, \"#bd3786\"], [0.5555555555555556, \"#d8576b\"], [0.6666666666666666, \"#ed7953\"], [0.7777777777777778, \"#fb9f3a\"], [0.8888888888888888, \"#fdca26\"], [1.0, \"#f0f921\"]], \"type\": \"surface\"}], \"table\": [{\"cells\": {\"fill\": {\"color\": \"#EBF0F8\"}, \"line\": {\"color\": \"white\"}}, \"header\": {\"fill\": {\"color\": \"#C8D4E3\"}, \"line\": {\"color\": \"white\"}}, \"type\": \"table\"}]}, \"layout\": {\"annotationdefaults\": {\"arrowcolor\": \"#2a3f5f\", \"arrowhead\": 0, \"arrowwidth\": 1}, \"coloraxis\": {\"colorbar\": {\"outlinewidth\": 0, \"ticks\": \"\"}}, \"colorscale\": {\"diverging\": [[0, \"#8e0152\"], [0.1, \"#c51b7d\"], [0.2, \"#de77ae\"], [0.3, \"#f1b6da\"], [0.4, \"#fde0ef\"], [0.5, \"#f7f7f7\"], [0.6, \"#e6f5d0\"], [0.7, \"#b8e186\"], [0.8, \"#7fbc41\"], [0.9, \"#4d9221\"], [1, \"#276419\"]], \"sequential\": [[0.0, \"#0d0887\"], [0.1111111111111111, \"#46039f\"], [0.2222222222222222, \"#7201a8\"], [0.3333333333333333, \"#9c179e\"], [0.4444444444444444, \"#bd3786\"], [0.5555555555555556, \"#d8576b\"], [0.6666666666666666, \"#ed7953\"], [0.7777777777777778, \"#fb9f3a\"], [0.8888888888888888, \"#fdca26\"], [1.0, \"#f0f921\"]], \"sequentialminus\": [[0.0, \"#0d0887\"], [0.1111111111111111, \"#46039f\"], [0.2222222222222222, \"#7201a8\"], [0.3333333333333333, \"#9c179e\"], [0.4444444444444444, \"#bd3786\"], [0.5555555555555556, \"#d8576b\"], [0.6666666666666666, \"#ed7953\"], [0.7777777777777778, \"#fb9f3a\"], [0.8888888888888888, \"#fdca26\"], [1.0, \"#f0f921\"]]}, \"colorway\": [\"#636efa\", \"#EF553B\", \"#00cc96\", \"#ab63fa\", \"#FFA15A\", \"#19d3f3\", \"#FF6692\", \"#B6E880\", \"#FF97FF\", \"#FECB52\"], \"font\": {\"color\": \"#2a3f5f\"}, \"geo\": {\"bgcolor\": \"white\", \"lakecolor\": \"white\", \"landcolor\": \"#E5ECF6\", \"showlakes\": true, \"showland\": true, \"subunitcolor\": \"white\"}, \"hoverlabel\": {\"align\": \"left\"}, \"hovermode\": \"closest\", \"mapbox\": {\"style\": \"light\"}, \"paper_bgcolor\": \"white\", \"plot_bgcolor\": \"#E5ECF6\", \"polar\": {\"angularaxis\": {\"gridcolor\": \"white\", \"linecolor\": \"white\", \"ticks\": \"\"}, \"bgcolor\": \"#E5ECF6\", \"radialaxis\": {\"gridcolor\": \"white\", \"linecolor\": \"white\", \"ticks\": \"\"}}, \"scene\": {\"xaxis\": {\"backgroundcolor\": \"#E5ECF6\", \"gridcolor\": \"white\", \"gridwidth\": 2, \"linecolor\": \"white\", \"showbackground\": true, \"ticks\": \"\", \"zerolinecolor\": \"white\"}, \"yaxis\": {\"backgroundcolor\": \"#E5ECF6\", \"gridcolor\": \"white\", \"gridwidth\": 2, \"linecolor\": \"white\", \"showbackground\": true, \"ticks\": \"\", \"zerolinecolor\": \"white\"}, \"zaxis\": {\"backgroundcolor\": \"#E5ECF6\", \"gridcolor\": \"white\", \"gridwidth\": 2, \"linecolor\": \"white\", \"showbackground\": true, \"ticks\": \"\", \"zerolinecolor\": \"white\"}}, \"shapedefaults\": {\"line\": {\"color\": \"#2a3f5f\"}}, \"ternary\": {\"aaxis\": {\"gridcolor\": \"white\", \"linecolor\": \"white\", \"ticks\": \"\"}, \"baxis\": {\"gridcolor\": \"white\", \"linecolor\": \"white\", \"ticks\": \"\"}, \"bgcolor\": \"#E5ECF6\", \"caxis\": {\"gridcolor\": \"white\", \"linecolor\": \"white\", \"ticks\": \"\"}}, \"title\": {\"x\": 0.05}, \"xaxis\": {\"automargin\": true, \"gridcolor\": \"white\", \"linecolor\": \"white\", \"ticks\": \"\", \"title\": {\"standoff\": 15}, \"zerolinecolor\": \"white\", \"zerolinewidth\": 2}, \"yaxis\": {\"automargin\": true, \"gridcolor\": \"white\", \"linecolor\": \"white\", \"ticks\": \"\", \"title\": {\"standoff\": 15}, \"zerolinecolor\": \"white\", \"zerolinewidth\": 2}}}, \"title\": {\"text\": \"Average values per neighbourhood\"}},                        {\"responsive\": true}                    ).then(function(){\n",
       "                            \n",
       "var gd = document.getElementById('2ead46d4-c43e-46d9-baf8-f710c59e4555');\n",
       "var x = new MutationObserver(function (mutations, observer) {{\n",
       "        var display = window.getComputedStyle(gd).display;\n",
       "        if (!display || display === 'none') {{\n",
       "            console.log([gd, 'removed!']);\n",
       "            Plotly.purge(gd);\n",
       "            observer.disconnect();\n",
       "        }}\n",
       "}});\n",
       "\n",
       "// Listen for the removal of the full notebook cells\n",
       "var notebookContainer = gd.closest('#notebook-container');\n",
       "if (notebookContainer) {{\n",
       "    x.observe(notebookContainer, {childList: true});\n",
       "}}\n",
       "\n",
       "// Listen for the clearing of the current output cell\n",
       "var outputEl = gd.closest('.output');\n",
       "if (outputEl) {{\n",
       "    x.observe(outputEl, {childList: true});\n",
       "}}\n",
       "\n",
       "                        })                };                });            </script>        </div>"
      ]
     },
     "metadata": {},
     "output_type": "display_data"
    }
   ],
   "source": [
    "map_plot = px.scatter_mapbox(merged_data,\n",
    "    lat=\"lat\",\n",
    "    lon=\"lon\",\n",
    "    size=\"average_house_value\",\n",
    "    color=\"average_house_value\",\n",
    "    zoom=10,\n",
    "    title=\"Average values per neighbourhood\"                  \n",
    ")\n",
    "\n",
    "# Display the map\n",
    "map_plot.show()\n",
    "\n",
    "# Went back to lectures and activities from Week 6/2/07-Ins_Mapbox_Demo/Solved/ to outline technique"
   ]
  },
  {
   "cell_type": "markdown",
   "metadata": {},
   "source": [
    "- - -"
   ]
  },
  {
   "cell_type": "markdown",
   "metadata": {},
   "source": [
    "## Cost Analysis - Optional Challenge\n",
    "\n",
    "In this section, you will use Plotly express to a couple of plots that investors can interactively filter and explore various factors related to the house value of the Toronto's neighbourhoods. \n",
    "\n",
    "### Create a bar chart row facet to plot the average house values for all Toronto's neighbourhoods per year"
   ]
  },
  {
   "cell_type": "code",
   "execution_count": 71,
   "metadata": {},
   "outputs": [
    {
     "data": {
      "application/vnd.plotly.v1+json": {
       "config": {
        "plotlyServerURL": "https://plot.ly"
       },
       "data": [
        {
         "alignmentgroup": "True",
         "hovertemplate": "neighbourhood=Agincourt North<br>year=%{x}<br>average_house_value=%{y}<extra></extra>",
         "legendgroup": "Agincourt North",
         "marker": {
          "color": "#636efa"
         },
         "name": "Agincourt North",
         "offsetgroup": "Agincourt North",
         "orientation": "v",
         "showlegend": true,
         "textposition": "auto",
         "type": "bar",
         "x": [
          2001,
          2006,
          2011,
          2016
         ],
         "xaxis": "x",
         "y": [
          200388,
          293140,
          366667,
          459051
         ],
         "yaxis": "y"
        },
        {
         "alignmentgroup": "True",
         "hovertemplate": "neighbourhood=Agincourt South-Malvern West<br>year=%{x}<br>average_house_value=%{y}<extra></extra>",
         "legendgroup": "Agincourt South-Malvern West",
         "marker": {
          "color": "#EF553B"
         },
         "name": "Agincourt South-Malvern West",
         "offsetgroup": "Agincourt South-Malvern West",
         "orientation": "v",
         "showlegend": true,
         "textposition": "auto",
         "type": "bar",
         "x": [
          2001,
          2006,
          2011,
          2016
         ],
         "xaxis": "x",
         "y": [
          203047,
          297031,
          371534,
          465144
         ],
         "yaxis": "y"
        },
        {
         "alignmentgroup": "True",
         "hovertemplate": "neighbourhood=Alderwood<br>year=%{x}<br>average_house_value=%{y}<extra></extra>",
         "legendgroup": "Alderwood",
         "marker": {
          "color": "#00cc96"
         },
         "name": "Alderwood",
         "offsetgroup": "Alderwood",
         "orientation": "v",
         "showlegend": true,
         "textposition": "auto",
         "type": "bar",
         "x": [
          2001,
          2006,
          2011,
          2016
         ],
         "xaxis": "x",
         "y": [
          259998,
          380342,
          475742,
          595608
         ],
         "yaxis": "y"
        },
        {
         "alignmentgroup": "True",
         "hovertemplate": "neighbourhood=Annex<br>year=%{x}<br>average_house_value=%{y}<extra></extra>",
         "legendgroup": "Annex",
         "marker": {
          "color": "#ab63fa"
         },
         "name": "Annex",
         "offsetgroup": "Annex",
         "orientation": "v",
         "showlegend": true,
         "textposition": "auto",
         "type": "bar",
         "x": [
          2001,
          2006,
          2011,
          2016
         ],
         "xaxis": "x",
         "y": [
          453850,
          663921,
          830450,
          1039687
         ],
         "yaxis": "y"
        },
        {
         "alignmentgroup": "True",
         "hovertemplate": "neighbourhood=Banbury-Don Mills<br>year=%{x}<br>average_house_value=%{y}<extra></extra>",
         "legendgroup": "Banbury-Don Mills",
         "marker": {
          "color": "#FFA15A"
         },
         "name": "Banbury-Don Mills",
         "offsetgroup": "Banbury-Don Mills",
         "orientation": "v",
         "showlegend": true,
         "textposition": "auto",
         "type": "bar",
         "x": [
          2001,
          2006,
          2011,
          2016
         ],
         "xaxis": "x",
         "y": [
          371864,
          543987,
          680433,
          851872
         ],
         "yaxis": "y"
        },
        {
         "alignmentgroup": "True",
         "hovertemplate": "neighbourhood=Bathurst Manor<br>year=%{x}<br>average_house_value=%{y}<extra></extra>",
         "legendgroup": "Bathurst Manor",
         "marker": {
          "color": "#19d3f3"
         },
         "name": "Bathurst Manor",
         "offsetgroup": "Bathurst Manor",
         "orientation": "v",
         "showlegend": true,
         "textposition": "auto",
         "type": "bar",
         "x": [
          2001,
          2006,
          2011,
          2016
         ],
         "xaxis": "x",
         "y": [
          304749,
          445807,
          557627,
          698124
         ],
         "yaxis": "y"
        },
        {
         "alignmentgroup": "True",
         "hovertemplate": "neighbourhood=Bay Street Corridor<br>year=%{x}<br>average_house_value=%{y}<extra></extra>",
         "legendgroup": "Bay Street Corridor",
         "marker": {
          "color": "#FF6692"
         },
         "name": "Bay Street Corridor",
         "offsetgroup": "Bay Street Corridor",
         "orientation": "v",
         "showlegend": true,
         "textposition": "auto",
         "type": "bar",
         "x": [
          2001,
          2006,
          2011,
          2016
         ],
         "xaxis": "x",
         "y": [
          257404,
          376548,
          470996,
          589666
         ],
         "yaxis": "y"
        },
        {
         "alignmentgroup": "True",
         "hovertemplate": "neighbourhood=Bayview Village<br>year=%{x}<br>average_house_value=%{y}<extra></extra>",
         "legendgroup": "Bayview Village",
         "marker": {
          "color": "#B6E880"
         },
         "name": "Bayview Village",
         "offsetgroup": "Bayview Village",
         "orientation": "v",
         "showlegend": true,
         "textposition": "auto",
         "type": "bar",
         "x": [
          2001,
          2006,
          2011,
          2016
         ],
         "xaxis": "x",
         "y": [
          327644,
          479299,
          599520,
          750572
         ],
         "yaxis": "y"
        },
        {
         "alignmentgroup": "True",
         "hovertemplate": "neighbourhood=Bayview Woods-Steeles<br>year=%{x}<br>average_house_value=%{y}<extra></extra>",
         "legendgroup": "Bayview Woods-Steeles",
         "marker": {
          "color": "#FF97FF"
         },
         "name": "Bayview Woods-Steeles",
         "offsetgroup": "Bayview Woods-Steeles",
         "orientation": "v",
         "showlegend": true,
         "textposition": "auto",
         "type": "bar",
         "x": [
          2001,
          2006,
          2011,
          2016
         ],
         "xaxis": "x",
         "y": [
          343535,
          502546,
          628597,
          786976
         ],
         "yaxis": "y"
        },
        {
         "alignmentgroup": "True",
         "hovertemplate": "neighbourhood=Bedford Park-Nortown<br>year=%{x}<br>average_house_value=%{y}<extra></extra>",
         "legendgroup": "Bedford Park-Nortown",
         "marker": {
          "color": "#FECB52"
         },
         "name": "Bedford Park-Nortown",
         "offsetgroup": "Bedford Park-Nortown",
         "orientation": "v",
         "showlegend": true,
         "textposition": "auto",
         "type": "bar",
         "x": [
          2001,
          2006,
          2011,
          2016
         ],
         "xaxis": "x",
         "y": [
          565304,
          826963,
          1034387,
          1295007
         ],
         "yaxis": "y"
        },
        {
         "alignmentgroup": "True",
         "hovertemplate": "neighbourhood=Beechborough-Greenbrook<br>year=%{x}<br>average_house_value=%{y}<extra></extra>",
         "legendgroup": "Beechborough-Greenbrook",
         "marker": {
          "color": "#636efa"
         },
         "name": "Beechborough-Greenbrook",
         "offsetgroup": "Beechborough-Greenbrook",
         "orientation": "v",
         "showlegend": true,
         "textposition": "auto",
         "type": "bar",
         "x": [
          2001,
          2006,
          2011,
          2016
         ],
         "xaxis": "x",
         "y": [
          225369,
          329685,
          412378,
          516279
         ],
         "yaxis": "y"
        },
        {
         "alignmentgroup": "True",
         "hovertemplate": "neighbourhood=Bendale<br>year=%{x}<br>average_house_value=%{y}<extra></extra>",
         "legendgroup": "Bendale",
         "marker": {
          "color": "#EF553B"
         },
         "name": "Bendale",
         "offsetgroup": "Bendale",
         "orientation": "v",
         "showlegend": true,
         "textposition": "auto",
         "type": "bar",
         "x": [
          2001,
          2006,
          2011,
          2016
         ],
         "xaxis": "x",
         "y": [
          182957,
          267642,
          334773,
          419121
         ],
         "yaxis": "y"
        },
        {
         "alignmentgroup": "True",
         "hovertemplate": "neighbourhood=Birchcliffe-Cliffside<br>year=%{x}<br>average_house_value=%{y}<extra></extra>",
         "legendgroup": "Birchcliffe-Cliffside",
         "marker": {
          "color": "#00cc96"
         },
         "name": "Birchcliffe-Cliffside",
         "offsetgroup": "Birchcliffe-Cliffside",
         "orientation": "v",
         "showlegend": true,
         "textposition": "auto",
         "type": "bar",
         "x": [
          2001,
          2006,
          2011,
          2016
         ],
         "xaxis": "x",
         "y": [
          265705,
          388690,
          486184,
          608681
         ],
         "yaxis": "y"
        },
        {
         "alignmentgroup": "True",
         "hovertemplate": "neighbourhood=Black Creek<br>year=%{x}<br>average_house_value=%{y}<extra></extra>",
         "legendgroup": "Black Creek",
         "marker": {
          "color": "#ab63fa"
         },
         "name": "Black Creek",
         "offsetgroup": "Black Creek",
         "orientation": "v",
         "showlegend": true,
         "textposition": "auto",
         "type": "bar",
         "x": [
          2001,
          2006,
          2011,
          2016
         ],
         "xaxis": "x",
         "y": [
          158483,
          231839,
          289990,
          363055
         ],
         "yaxis": "y"
        },
        {
         "alignmentgroup": "True",
         "hovertemplate": "neighbourhood=Blake-Jones<br>year=%{x}<br>average_house_value=%{y}<extra></extra>",
         "legendgroup": "Blake-Jones",
         "marker": {
          "color": "#FFA15A"
         },
         "name": "Blake-Jones",
         "offsetgroup": "Blake-Jones",
         "orientation": "v",
         "showlegend": true,
         "textposition": "auto",
         "type": "bar",
         "x": [
          2001,
          2006,
          2011,
          2016
         ],
         "xaxis": "x",
         "y": [
          310740,
          454571,
          568589,
          711848
         ],
         "yaxis": "y"
        },
        {
         "alignmentgroup": "True",
         "hovertemplate": "neighbourhood=Briar Hill-Belgravia<br>year=%{x}<br>average_house_value=%{y}<extra></extra>",
         "legendgroup": "Briar Hill-Belgravia",
         "marker": {
          "color": "#19d3f3"
         },
         "name": "Briar Hill-Belgravia",
         "offsetgroup": "Briar Hill-Belgravia",
         "orientation": "v",
         "showlegend": true,
         "textposition": "auto",
         "type": "bar",
         "x": [
          2001,
          2006,
          2011,
          2016
         ],
         "xaxis": "x",
         "y": [
          222086,
          324882,
          406371,
          508759
         ],
         "yaxis": "y"
        },
        {
         "alignmentgroup": "True",
         "hovertemplate": "neighbourhood=Bridle Path-Sunnybrook-York Mills<br>year=%{x}<br>average_house_value=%{y}<extra></extra>",
         "legendgroup": "Bridle Path-Sunnybrook-York Mills",
         "marker": {
          "color": "#FF6692"
         },
         "name": "Bridle Path-Sunnybrook-York Mills",
         "offsetgroup": "Bridle Path-Sunnybrook-York Mills",
         "orientation": "v",
         "showlegend": true,
         "textposition": "auto",
         "type": "bar",
         "x": [
          2001,
          2006,
          2011,
          2016
         ],
         "xaxis": "x",
         "y": [
          927466,
          1356757,
          1697067,
          2124653
         ],
         "yaxis": "y"
        },
        {
         "alignmentgroup": "True",
         "hovertemplate": "neighbourhood=Broadview North<br>year=%{x}<br>average_house_value=%{y}<extra></extra>",
         "legendgroup": "Broadview North",
         "marker": {
          "color": "#B6E880"
         },
         "name": "Broadview North",
         "offsetgroup": "Broadview North",
         "orientation": "v",
         "showlegend": true,
         "textposition": "auto",
         "type": "bar",
         "x": [
          2001,
          2006,
          2011,
          2016
         ],
         "xaxis": "x",
         "y": [
          269386,
          394075,
          492919,
          617113
         ],
         "yaxis": "y"
        },
        {
         "alignmentgroup": "True",
         "hovertemplate": "neighbourhood=Brookhaven-Amesbury<br>year=%{x}<br>average_house_value=%{y}<extra></extra>",
         "legendgroup": "Brookhaven-Amesbury",
         "marker": {
          "color": "#FF97FF"
         },
         "name": "Brookhaven-Amesbury",
         "offsetgroup": "Brookhaven-Amesbury",
         "orientation": "v",
         "showlegend": true,
         "textposition": "auto",
         "type": "bar",
         "x": [
          2001,
          2006,
          2011,
          2016
         ],
         "xaxis": "x",
         "y": [
          213227,
          311922,
          390160,
          488463
         ],
         "yaxis": "y"
        },
        {
         "alignmentgroup": "True",
         "hovertemplate": "neighbourhood=Cabbagetown-South St.James Town<br>year=%{x}<br>average_house_value=%{y}<extra></extra>",
         "legendgroup": "Cabbagetown-South St.James Town",
         "marker": {
          "color": "#FECB52"
         },
         "name": "Cabbagetown-South St.James Town",
         "offsetgroup": "Cabbagetown-South St.James Town",
         "orientation": "v",
         "showlegend": true,
         "textposition": "auto",
         "type": "bar",
         "x": [
          2001,
          2006,
          2011,
          2016
         ],
         "xaxis": "x",
         "y": [
          300213,
          439171,
          549326,
          687732
         ],
         "yaxis": "y"
        },
        {
         "alignmentgroup": "True",
         "hovertemplate": "neighbourhood=Caledonia-Fairbank<br>year=%{x}<br>average_house_value=%{y}<extra></extra>",
         "legendgroup": "Caledonia-Fairbank",
         "marker": {
          "color": "#636efa"
         },
         "name": "Caledonia-Fairbank",
         "offsetgroup": "Caledonia-Fairbank",
         "orientation": "v",
         "showlegend": true,
         "textposition": "auto",
         "type": "bar",
         "x": [
          2001,
          2006,
          2011,
          2016
         ],
         "xaxis": "x",
         "y": [
          219771,
          321496,
          402135,
          503455
         ],
         "yaxis": "y"
        },
        {
         "alignmentgroup": "True",
         "hovertemplate": "neighbourhood=Casa Loma<br>year=%{x}<br>average_house_value=%{y}<extra></extra>",
         "legendgroup": "Casa Loma",
         "marker": {
          "color": "#EF553B"
         },
         "name": "Casa Loma",
         "offsetgroup": "Casa Loma",
         "orientation": "v",
         "showlegend": true,
         "textposition": "auto",
         "type": "bar",
         "x": [
          2001,
          2006,
          2011,
          2016
         ],
         "xaxis": "x",
         "y": [
          596077,
          871981,
          1090696,
          1365503
         ],
         "yaxis": "y"
        },
        {
         "alignmentgroup": "True",
         "hovertemplate": "neighbourhood=Centennial Scarborough<br>year=%{x}<br>average_house_value=%{y}<extra></extra>",
         "legendgroup": "Centennial Scarborough",
         "marker": {
          "color": "#00cc96"
         },
         "name": "Centennial Scarborough",
         "offsetgroup": "Centennial Scarborough",
         "orientation": "v",
         "showlegend": true,
         "textposition": "auto",
         "type": "bar",
         "x": [
          2001,
          2006,
          2011,
          2016
         ],
         "xaxis": "x",
         "y": [
          249025,
          364291,
          455664,
          570471
         ],
         "yaxis": "y"
        },
        {
         "alignmentgroup": "True",
         "hovertemplate": "neighbourhood=Church-Yonge Corridor<br>year=%{x}<br>average_house_value=%{y}<extra></extra>",
         "legendgroup": "Church-Yonge Corridor",
         "marker": {
          "color": "#ab63fa"
         },
         "name": "Church-Yonge Corridor",
         "offsetgroup": "Church-Yonge Corridor",
         "orientation": "v",
         "showlegend": true,
         "textposition": "auto",
         "type": "bar",
         "x": [
          2001,
          2006,
          2011,
          2016
         ],
         "xaxis": "x",
         "y": [
          246750,
          360962,
          451500,
          565258
         ],
         "yaxis": "y"
        },
        {
         "alignmentgroup": "True",
         "hovertemplate": "neighbourhood=Clairlea-Birchmount<br>year=%{x}<br>average_house_value=%{y}<extra></extra>",
         "legendgroup": "Clairlea-Birchmount",
         "marker": {
          "color": "#FFA15A"
         },
         "name": "Clairlea-Birchmount",
         "offsetgroup": "Clairlea-Birchmount",
         "orientation": "v",
         "showlegend": true,
         "textposition": "auto",
         "type": "bar",
         "x": [
          2001,
          2006,
          2011,
          2016
         ],
         "xaxis": "x",
         "y": [
          215421,
          315133,
          394176,
          493491
         ],
         "yaxis": "y"
        },
        {
         "alignmentgroup": "True",
         "hovertemplate": "neighbourhood=Clanton Park<br>year=%{x}<br>average_house_value=%{y}<extra></extra>",
         "legendgroup": "Clanton Park",
         "marker": {
          "color": "#19d3f3"
         },
         "name": "Clanton Park",
         "offsetgroup": "Clanton Park",
         "orientation": "v",
         "showlegend": true,
         "textposition": "auto",
         "type": "bar",
         "x": [
          2001,
          2006,
          2011,
          2016
         ],
         "xaxis": "x",
         "y": [
          335119,
          490234,
          613197,
          767695
         ],
         "yaxis": "y"
        },
        {
         "alignmentgroup": "True",
         "hovertemplate": "neighbourhood=Cliffcrest<br>year=%{x}<br>average_house_value=%{y}<extra></extra>",
         "legendgroup": "Cliffcrest",
         "marker": {
          "color": "#FF6692"
         },
         "name": "Cliffcrest",
         "offsetgroup": "Cliffcrest",
         "orientation": "v",
         "showlegend": true,
         "textposition": "auto",
         "type": "bar",
         "x": [
          2001,
          2006,
          2011,
          2016
         ],
         "xaxis": "x",
         "y": [
          253618,
          371009,
          464068,
          580993
         ],
         "yaxis": "y"
        },
        {
         "alignmentgroup": "True",
         "hovertemplate": "neighbourhood=Corso Italia-Davenport<br>year=%{x}<br>average_house_value=%{y}<extra></extra>",
         "legendgroup": "Corso Italia-Davenport",
         "marker": {
          "color": "#B6E880"
         },
         "name": "Corso Italia-Davenport",
         "offsetgroup": "Corso Italia-Davenport",
         "orientation": "v",
         "showlegend": true,
         "textposition": "auto",
         "type": "bar",
         "x": [
          2001,
          2006,
          2011,
          2016
         ],
         "xaxis": "x",
         "y": [
          255142,
          373239,
          466857,
          584484
         ],
         "yaxis": "y"
        },
        {
         "alignmentgroup": "True",
         "hovertemplate": "neighbourhood=Danforth<br>year=%{x}<br>average_house_value=%{y}<extra></extra>",
         "legendgroup": "Danforth",
         "marker": {
          "color": "#FF97FF"
         },
         "name": "Danforth",
         "offsetgroup": "Danforth",
         "orientation": "v",
         "showlegend": true,
         "textposition": "auto",
         "type": "bar",
         "x": [
          2001,
          2006,
          2011,
          2016
         ],
         "xaxis": "x",
         "y": [
          283706,
          415024,
          519123,
          649919
         ],
         "yaxis": "y"
        },
        {
         "alignmentgroup": "True",
         "hovertemplate": "neighbourhood=Danforth-East York<br>year=%{x}<br>average_house_value=%{y}<extra></extra>",
         "legendgroup": "Danforth-East York",
         "marker": {
          "color": "#FECB52"
         },
         "name": "Danforth-East York",
         "offsetgroup": "Danforth-East York",
         "orientation": "v",
         "showlegend": true,
         "textposition": "auto",
         "type": "bar",
         "x": [
          2001,
          2006,
          2011,
          2016
         ],
         "xaxis": "x",
         "y": [
          256205,
          374793,
          468801,
          586918
         ],
         "yaxis": "y"
        },
        {
         "alignmentgroup": "True",
         "hovertemplate": "neighbourhood=Don Valley Village<br>year=%{x}<br>average_house_value=%{y}<extra></extra>",
         "legendgroup": "Don Valley Village",
         "marker": {
          "color": "#636efa"
         },
         "name": "Don Valley Village",
         "offsetgroup": "Don Valley Village",
         "orientation": "v",
         "showlegend": true,
         "textposition": "auto",
         "type": "bar",
         "x": [
          2001,
          2006,
          2011,
          2016
         ],
         "xaxis": "x",
         "y": [
          241824,
          353756,
          442487,
          553974
         ],
         "yaxis": "y"
        },
        {
         "alignmentgroup": "True",
         "hovertemplate": "neighbourhood=Dorset Park<br>year=%{x}<br>average_house_value=%{y}<extra></extra>",
         "legendgroup": "Dorset Park",
         "marker": {
          "color": "#EF553B"
         },
         "name": "Dorset Park",
         "offsetgroup": "Dorset Park",
         "orientation": "v",
         "showlegend": true,
         "textposition": "auto",
         "type": "bar",
         "x": [
          2001,
          2006,
          2011,
          2016
         ],
         "xaxis": "x",
         "y": [
          159187,
          232869,
          291278,
          364667
         ],
         "yaxis": "y"
        },
        {
         "alignmentgroup": "True",
         "hovertemplate": "neighbourhood=Dovercourt-Wallace Emerson-Juncti<br>year=%{x}<br>average_house_value=%{y}<extra></extra>",
         "legendgroup": "Dovercourt-Wallace Emerson-Juncti",
         "marker": {
          "color": "#00cc96"
         },
         "name": "Dovercourt-Wallace Emerson-Juncti",
         "offsetgroup": "Dovercourt-Wallace Emerson-Juncti",
         "orientation": "v",
         "showlegend": true,
         "textposition": "auto",
         "type": "bar",
         "x": [
          2001,
          2006,
          2011,
          2016
         ],
         "xaxis": "x",
         "y": [
          264116,
          386366,
          483276,
          605040
         ],
         "yaxis": "y"
        },
        {
         "alignmentgroup": "True",
         "hovertemplate": "neighbourhood=Downsview-Roding-CFB<br>year=%{x}<br>average_house_value=%{y}<extra></extra>",
         "legendgroup": "Downsview-Roding-CFB",
         "marker": {
          "color": "#ab63fa"
         },
         "name": "Downsview-Roding-CFB",
         "offsetgroup": "Downsview-Roding-CFB",
         "orientation": "v",
         "showlegend": true,
         "textposition": "auto",
         "type": "bar",
         "x": [
          2001,
          2006,
          2011,
          2016
         ],
         "xaxis": "x",
         "y": [
          231741,
          339006,
          424038,
          530877
         ],
         "yaxis": "y"
        },
        {
         "alignmentgroup": "True",
         "hovertemplate": "neighbourhood=Dufferin Grove<br>year=%{x}<br>average_house_value=%{y}<extra></extra>",
         "legendgroup": "Dufferin Grove",
         "marker": {
          "color": "#FFA15A"
         },
         "name": "Dufferin Grove",
         "offsetgroup": "Dufferin Grove",
         "orientation": "v",
         "showlegend": true,
         "textposition": "auto",
         "type": "bar",
         "x": [
          2001,
          2006,
          2011,
          2016
         ],
         "xaxis": "x",
         "y": [
          278023,
          406710,
          508723,
          636899
         ],
         "yaxis": "y"
        },
        {
         "alignmentgroup": "True",
         "hovertemplate": "neighbourhood=East End-Danforth<br>year=%{x}<br>average_house_value=%{y}<extra></extra>",
         "legendgroup": "East End-Danforth",
         "marker": {
          "color": "#19d3f3"
         },
         "name": "East End-Danforth",
         "offsetgroup": "East End-Danforth",
         "orientation": "v",
         "showlegend": true,
         "textposition": "auto",
         "type": "bar",
         "x": [
          2001,
          2006,
          2011,
          2016
         ],
         "xaxis": "x",
         "y": [
          290457,
          424900,
          531476,
          665384
         ],
         "yaxis": "y"
        },
        {
         "alignmentgroup": "True",
         "hovertemplate": "neighbourhood=Edenbridge-Humber Valley<br>year=%{x}<br>average_house_value=%{y}<extra></extra>",
         "legendgroup": "Edenbridge-Humber Valley",
         "marker": {
          "color": "#FF6692"
         },
         "name": "Edenbridge-Humber Valley",
         "offsetgroup": "Edenbridge-Humber Valley",
         "orientation": "v",
         "showlegend": true,
         "textposition": "auto",
         "type": "bar",
         "x": [
          2001,
          2006,
          2011,
          2016
         ],
         "xaxis": "x",
         "y": [
          483734,
          707638,
          885132,
          1108146
         ],
         "yaxis": "y"
        },
        {
         "alignmentgroup": "True",
         "hovertemplate": "neighbourhood=Eglinton East<br>year=%{x}<br>average_house_value=%{y}<extra></extra>",
         "legendgroup": "Eglinton East",
         "marker": {
          "color": "#B6E880"
         },
         "name": "Eglinton East",
         "offsetgroup": "Eglinton East",
         "orientation": "v",
         "showlegend": true,
         "textposition": "auto",
         "type": "bar",
         "x": [
          2001,
          2006,
          2011,
          2016
         ],
         "xaxis": "x",
         "y": [
          163419,
          239060,
          299023,
          374364
         ],
         "yaxis": "y"
        },
        {
         "alignmentgroup": "True",
         "hovertemplate": "neighbourhood=Elms-Old Rexdale<br>year=%{x}<br>average_house_value=%{y}<extra></extra>",
         "legendgroup": "Elms-Old Rexdale",
         "marker": {
          "color": "#FF97FF"
         },
         "name": "Elms-Old Rexdale",
         "offsetgroup": "Elms-Old Rexdale",
         "orientation": "v",
         "showlegend": true,
         "textposition": "auto",
         "type": "bar",
         "x": [
          2001,
          2006,
          2011,
          2016
         ],
         "xaxis": "x",
         "y": [
          163039,
          238505,
          298328,
          373493
         ],
         "yaxis": "y"
        },
        {
         "alignmentgroup": "True",
         "hovertemplate": "neighbourhood=Englemount-Lawrence<br>year=%{x}<br>average_house_value=%{y}<extra></extra>",
         "legendgroup": "Englemount-Lawrence",
         "marker": {
          "color": "#FECB52"
         },
         "name": "Englemount-Lawrence",
         "offsetgroup": "Englemount-Lawrence",
         "orientation": "v",
         "showlegend": true,
         "textposition": "auto",
         "type": "bar",
         "x": [
          2001,
          2006,
          2011,
          2016
         ],
         "xaxis": "x",
         "y": [
          345676,
          505677,
          632514,
          791880
         ],
         "yaxis": "y"
        },
        {
         "alignmentgroup": "True",
         "hovertemplate": "neighbourhood=Eringate-Centennial-West Deane<br>year=%{x}<br>average_house_value=%{y}<extra></extra>",
         "legendgroup": "Eringate-Centennial-West Deane",
         "marker": {
          "color": "#636efa"
         },
         "name": "Eringate-Centennial-West Deane",
         "offsetgroup": "Eringate-Centennial-West Deane",
         "orientation": "v",
         "showlegend": true,
         "textposition": "auto",
         "type": "bar",
         "x": [
          2001,
          2006,
          2011,
          2016
         ],
         "xaxis": "x",
         "y": [
          241685,
          353553,
          442233,
          553656
         ],
         "yaxis": "y"
        },
        {
         "alignmentgroup": "True",
         "hovertemplate": "neighbourhood=Etobicoke West Mall<br>year=%{x}<br>average_house_value=%{y}<extra></extra>",
         "legendgroup": "Etobicoke West Mall",
         "marker": {
          "color": "#EF553B"
         },
         "name": "Etobicoke West Mall",
         "offsetgroup": "Etobicoke West Mall",
         "orientation": "v",
         "showlegend": true,
         "textposition": "auto",
         "type": "bar",
         "x": [
          2001,
          2006,
          2011,
          2016
         ],
         "xaxis": "x",
         "y": [
          187993,
          275009,
          343988,
          430658
         ],
         "yaxis": "y"
        },
        {
         "alignmentgroup": "True",
         "hovertemplate": "neighbourhood=Flemingdon Park<br>year=%{x}<br>average_house_value=%{y}<extra></extra>",
         "legendgroup": "Flemingdon Park",
         "marker": {
          "color": "#00cc96"
         },
         "name": "Flemingdon Park",
         "offsetgroup": "Flemingdon Park",
         "orientation": "v",
         "showlegend": true,
         "textposition": "auto",
         "type": "bar",
         "x": [
          2001,
          2006,
          2011,
          2016
         ],
         "xaxis": "x",
         "y": [
          126255,
          184694,
          231020,
          289227
         ],
         "yaxis": "y"
        },
        {
         "alignmentgroup": "True",
         "hovertemplate": "neighbourhood=Forest Hill North<br>year=%{x}<br>average_house_value=%{y}<extra></extra>",
         "legendgroup": "Forest Hill North",
         "marker": {
          "color": "#ab63fa"
         },
         "name": "Forest Hill North",
         "offsetgroup": "Forest Hill North",
         "orientation": "v",
         "showlegend": true,
         "textposition": "auto",
         "type": "bar",
         "x": [
          2001,
          2006,
          2011,
          2016
         ],
         "xaxis": "x",
         "y": [
          517466,
          756983,
          946854,
          1185419
         ],
         "yaxis": "y"
        },
        {
         "alignmentgroup": "True",
         "hovertemplate": "neighbourhood=Forest Hill South<br>year=%{x}<br>average_house_value=%{y}<extra></extra>",
         "legendgroup": "Forest Hill South",
         "marker": {
          "color": "#FFA15A"
         },
         "name": "Forest Hill South",
         "offsetgroup": "Forest Hill South",
         "orientation": "v",
         "showlegend": true,
         "textposition": "auto",
         "type": "bar",
         "x": [
          2001,
          2006,
          2011,
          2016
         ],
         "xaxis": "x",
         "y": [
          726664,
          1063011,
          1329642,
          1664653
         ],
         "yaxis": "y"
        },
        {
         "alignmentgroup": "True",
         "hovertemplate": "neighbourhood=Glenfield-Jane Heights<br>year=%{x}<br>average_house_value=%{y}<extra></extra>",
         "legendgroup": "Glenfield-Jane Heights",
         "marker": {
          "color": "#19d3f3"
         },
         "name": "Glenfield-Jane Heights",
         "offsetgroup": "Glenfield-Jane Heights",
         "orientation": "v",
         "showlegend": true,
         "textposition": "auto",
         "type": "bar",
         "x": [
          2001,
          2006,
          2011,
          2016
         ],
         "xaxis": "x",
         "y": [
          199043,
          291172,
          364206,
          455970
         ],
         "yaxis": "y"
        },
        {
         "alignmentgroup": "True",
         "hovertemplate": "neighbourhood=Greenwood-Coxwell<br>year=%{x}<br>average_house_value=%{y}<extra></extra>",
         "legendgroup": "Greenwood-Coxwell",
         "marker": {
          "color": "#FF6692"
         },
         "name": "Greenwood-Coxwell",
         "offsetgroup": "Greenwood-Coxwell",
         "orientation": "v",
         "showlegend": true,
         "textposition": "auto",
         "type": "bar",
         "x": [
          2001,
          2006,
          2011,
          2016
         ],
         "xaxis": "x",
         "y": [
          235168,
          344019,
          430308,
          538727
         ],
         "yaxis": "y"
        },
        {
         "alignmentgroup": "True",
         "hovertemplate": "neighbourhood=Guildwood<br>year=%{x}<br>average_house_value=%{y}<extra></extra>",
         "legendgroup": "Guildwood",
         "marker": {
          "color": "#B6E880"
         },
         "name": "Guildwood",
         "offsetgroup": "Guildwood",
         "orientation": "v",
         "showlegend": true,
         "textposition": "auto",
         "type": "bar",
         "x": [
          2001,
          2006,
          2011,
          2016
         ],
         "xaxis": "x",
         "y": [
          224425,
          328303,
          410650,
          514116
         ],
         "yaxis": "y"
        },
        {
         "alignmentgroup": "True",
         "hovertemplate": "neighbourhood=Henry Farm<br>year=%{x}<br>average_house_value=%{y}<extra></extra>",
         "legendgroup": "Henry Farm",
         "marker": {
          "color": "#FF97FF"
         },
         "name": "Henry Farm",
         "offsetgroup": "Henry Farm",
         "orientation": "v",
         "showlegend": true,
         "textposition": "auto",
         "type": "bar",
         "x": [
          2001,
          2006,
          2011,
          2016
         ],
         "xaxis": "x",
         "y": [
          224780,
          328823,
          411300,
          514929
         ],
         "yaxis": "y"
        },
        {
         "alignmentgroup": "True",
         "hovertemplate": "neighbourhood=High Park North<br>year=%{x}<br>average_house_value=%{y}<extra></extra>",
         "legendgroup": "High Park North",
         "marker": {
          "color": "#FECB52"
         },
         "name": "High Park North",
         "offsetgroup": "High Park North",
         "orientation": "v",
         "showlegend": true,
         "textposition": "auto",
         "type": "bar",
         "x": [
          2001,
          2006,
          2011,
          2016
         ],
         "xaxis": "x",
         "y": [
          323536,
          473289,
          592002,
          741161
         ],
         "yaxis": "y"
        },
        {
         "alignmentgroup": "True",
         "hovertemplate": "neighbourhood=High Park-Swansea<br>year=%{x}<br>average_house_value=%{y}<extra></extra>",
         "legendgroup": "High Park-Swansea",
         "marker": {
          "color": "#636efa"
         },
         "name": "High Park-Swansea",
         "offsetgroup": "High Park-Swansea",
         "orientation": "v",
         "showlegend": true,
         "textposition": "auto",
         "type": "bar",
         "x": [
          2001,
          2006,
          2011,
          2016
         ],
         "xaxis": "x",
         "y": [
          354207,
          518157,
          648124,
          811423
         ],
         "yaxis": "y"
        },
        {
         "alignmentgroup": "True",
         "hovertemplate": "neighbourhood=Highland Creek<br>year=%{x}<br>average_house_value=%{y}<extra></extra>",
         "legendgroup": "Highland Creek",
         "marker": {
          "color": "#EF553B"
         },
         "name": "Highland Creek",
         "offsetgroup": "Highland Creek",
         "orientation": "v",
         "showlegend": true,
         "textposition": "auto",
         "type": "bar",
         "x": [
          2001,
          2006,
          2011,
          2016
         ],
         "xaxis": "x",
         "y": [
          260555,
          381156,
          476760,
          596883
         ],
         "yaxis": "y"
        },
        {
         "alignmentgroup": "True",
         "hovertemplate": "neighbourhood=Hillcrest Village<br>year=%{x}<br>average_house_value=%{y}<extra></extra>",
         "legendgroup": "Hillcrest Village",
         "marker": {
          "color": "#00cc96"
         },
         "name": "Hillcrest Village",
         "offsetgroup": "Hillcrest Village",
         "orientation": "v",
         "showlegend": true,
         "textposition": "auto",
         "type": "bar",
         "x": [
          2001,
          2006,
          2011,
          2016
         ],
         "xaxis": "x",
         "y": [
          240009,
          351101,
          439166,
          549816
         ],
         "yaxis": "y"
        },
        {
         "alignmentgroup": "True",
         "hovertemplate": "neighbourhood=Humber Heights-Westmount<br>year=%{x}<br>average_house_value=%{y}<extra></extra>",
         "legendgroup": "Humber Heights-Westmount",
         "marker": {
          "color": "#ab63fa"
         },
         "name": "Humber Heights-Westmount",
         "offsetgroup": "Humber Heights-Westmount",
         "orientation": "v",
         "showlegend": true,
         "textposition": "auto",
         "type": "bar",
         "x": [
          2001,
          2006,
          2011,
          2016
         ],
         "xaxis": "x",
         "y": [
          272896,
          399210,
          499342,
          625154
         ],
         "yaxis": "y"
        },
        {
         "alignmentgroup": "True",
         "hovertemplate": "neighbourhood=Humber Summit<br>year=%{x}<br>average_house_value=%{y}<extra></extra>",
         "legendgroup": "Humber Summit",
         "marker": {
          "color": "#FFA15A"
         },
         "name": "Humber Summit",
         "offsetgroup": "Humber Summit",
         "orientation": "v",
         "showlegend": true,
         "textposition": "auto",
         "type": "bar",
         "x": [
          2001,
          2006,
          2011,
          2016
         ],
         "xaxis": "x",
         "y": [
          213919,
          312935,
          391427,
          490049
         ],
         "yaxis": "y"
        },
        {
         "alignmentgroup": "True",
         "hovertemplate": "neighbourhood=Humbermede<br>year=%{x}<br>average_house_value=%{y}<extra></extra>",
         "legendgroup": "Humbermede",
         "marker": {
          "color": "#19d3f3"
         },
         "name": "Humbermede",
         "offsetgroup": "Humbermede",
         "orientation": "v",
         "showlegend": true,
         "textposition": "auto",
         "type": "bar",
         "x": [
          2001,
          2006,
          2011,
          2016
         ],
         "xaxis": "x",
         "y": [
          194295,
          284227,
          355519,
          445094
         ],
         "yaxis": "y"
        },
        {
         "alignmentgroup": "True",
         "hovertemplate": "neighbourhood=Humewood-Cedarvale<br>year=%{x}<br>average_house_value=%{y}<extra></extra>",
         "legendgroup": "Humewood-Cedarvale",
         "marker": {
          "color": "#FF6692"
         },
         "name": "Humewood-Cedarvale",
         "offsetgroup": "Humewood-Cedarvale",
         "orientation": "v",
         "showlegend": true,
         "textposition": "auto",
         "type": "bar",
         "x": [
          2001,
          2006,
          2011,
          2016
         ],
         "xaxis": "x",
         "y": [
          423537,
          619577,
          774983,
          970245
         ],
         "yaxis": "y"
        },
        {
         "alignmentgroup": "True",
         "hovertemplate": "neighbourhood=Ionview<br>year=%{x}<br>average_house_value=%{y}<extra></extra>",
         "legendgroup": "Ionview",
         "marker": {
          "color": "#B6E880"
         },
         "name": "Ionview",
         "offsetgroup": "Ionview",
         "orientation": "v",
         "showlegend": true,
         "textposition": "auto",
         "type": "bar",
         "x": [
          2001,
          2006,
          2011,
          2016
         ],
         "xaxis": "x",
         "y": [
          174793,
          255698,
          319834,
          400418
         ],
         "yaxis": "y"
        },
        {
         "alignmentgroup": "True",
         "hovertemplate": "neighbourhood=Islington-City Centre West<br>year=%{x}<br>average_house_value=%{y}<extra></extra>",
         "legendgroup": "Islington-City Centre West",
         "marker": {
          "color": "#FF97FF"
         },
         "name": "Islington-City Centre West",
         "offsetgroup": "Islington-City Centre West",
         "orientation": "v",
         "showlegend": true,
         "textposition": "auto",
         "type": "bar",
         "x": [
          2001,
          2006,
          2011,
          2016
         ],
         "xaxis": "x",
         "y": [
          274436,
          401463,
          502160,
          628682
         ],
         "yaxis": "y"
        },
        {
         "alignmentgroup": "True",
         "hovertemplate": "neighbourhood=Junction Area<br>year=%{x}<br>average_house_value=%{y}<extra></extra>",
         "legendgroup": "Junction Area",
         "marker": {
          "color": "#FECB52"
         },
         "name": "Junction Area",
         "offsetgroup": "Junction Area",
         "orientation": "v",
         "showlegend": true,
         "textposition": "auto",
         "type": "bar",
         "x": [
          2001,
          2006,
          2011,
          2016
         ],
         "xaxis": "x",
         "y": [
          263247,
          385094,
          481686,
          603050
         ],
         "yaxis": "y"
        },
        {
         "alignmentgroup": "True",
         "hovertemplate": "neighbourhood=Keelesdale-Eglinton West<br>year=%{x}<br>average_house_value=%{y}<extra></extra>",
         "legendgroup": "Keelesdale-Eglinton West",
         "marker": {
          "color": "#636efa"
         },
         "name": "Keelesdale-Eglinton West",
         "offsetgroup": "Keelesdale-Eglinton West",
         "orientation": "v",
         "showlegend": true,
         "textposition": "auto",
         "type": "bar",
         "x": [
          2001,
          2006,
          2011,
          2016
         ],
         "xaxis": "x",
         "y": [
          196112,
          286886,
          358844,
          449257
         ],
         "yaxis": "y"
        },
        {
         "alignmentgroup": "True",
         "hovertemplate": "neighbourhood=Kennedy Park<br>year=%{x}<br>average_house_value=%{y}<extra></extra>",
         "legendgroup": "Kennedy Park",
         "marker": {
          "color": "#EF553B"
         },
         "name": "Kennedy Park",
         "offsetgroup": "Kennedy Park",
         "orientation": "v",
         "showlegend": true,
         "textposition": "auto",
         "type": "bar",
         "x": [
          2001,
          2006,
          2011,
          2016
         ],
         "xaxis": "x",
         "y": [
          174518,
          255296,
          319331,
          399789
         ],
         "yaxis": "y"
        },
        {
         "alignmentgroup": "True",
         "hovertemplate": "neighbourhood=Kensington-Chinatown<br>year=%{x}<br>average_house_value=%{y}<extra></extra>",
         "legendgroup": "Kensington-Chinatown",
         "marker": {
          "color": "#00cc96"
         },
         "name": "Kensington-Chinatown",
         "offsetgroup": "Kensington-Chinatown",
         "orientation": "v",
         "showlegend": true,
         "textposition": "auto",
         "type": "bar",
         "x": [
          2001,
          2006,
          2011,
          2016
         ],
         "xaxis": "x",
         "y": [
          267631,
          391509,
          489709,
          613094
         ],
         "yaxis": "y"
        },
        {
         "alignmentgroup": "True",
         "hovertemplate": "neighbourhood=Kingsview Village-The Westway<br>year=%{x}<br>average_house_value=%{y}<extra></extra>",
         "legendgroup": "Kingsview Village-The Westway",
         "marker": {
          "color": "#ab63fa"
         },
         "name": "Kingsview Village-The Westway",
         "offsetgroup": "Kingsview Village-The Westway",
         "orientation": "v",
         "showlegend": true,
         "textposition": "auto",
         "type": "bar",
         "x": [
          2001,
          2006,
          2011,
          2016
         ],
         "xaxis": "x",
         "y": [
          205572,
          300725,
          376154,
          470928
         ],
         "yaxis": "y"
        },
        {
         "alignmentgroup": "True",
         "hovertemplate": "neighbourhood=Kingsway South<br>year=%{x}<br>average_house_value=%{y}<extra></extra>",
         "legendgroup": "Kingsway South",
         "marker": {
          "color": "#FFA15A"
         },
         "name": "Kingsway South",
         "offsetgroup": "Kingsway South",
         "orientation": "v",
         "showlegend": true,
         "textposition": "auto",
         "type": "bar",
         "x": [
          2001,
          2006,
          2011,
          2016
         ],
         "xaxis": "x",
         "y": [
          512334,
          749476,
          937464,
          1173663
         ],
         "yaxis": "y"
        },
        {
         "alignmentgroup": "True",
         "hovertemplate": "neighbourhood=L'Amoreaux<br>year=%{x}<br>average_house_value=%{y}<extra></extra>",
         "legendgroup": "L'Amoreaux",
         "marker": {
          "color": "#19d3f3"
         },
         "name": "L'Amoreaux",
         "offsetgroup": "L'Amoreaux",
         "orientation": "v",
         "showlegend": true,
         "textposition": "auto",
         "type": "bar",
         "x": [
          2001,
          2006,
          2011,
          2016
         ],
         "xaxis": "x",
         "y": [
          395115,
          578001,
          722978,
          905137
         ],
         "yaxis": "y"
        },
        {
         "alignmentgroup": "True",
         "hovertemplate": "neighbourhood=Lambton Baby Point<br>year=%{x}<br>average_house_value=%{y}<extra></extra>",
         "legendgroup": "Lambton Baby Point",
         "marker": {
          "color": "#FF6692"
         },
         "name": "Lambton Baby Point",
         "offsetgroup": "Lambton Baby Point",
         "orientation": "v",
         "showlegend": true,
         "textposition": "auto",
         "type": "bar",
         "x": [
          2001,
          2006,
          2011,
          2016
         ],
         "xaxis": "x",
         "y": [
          204523,
          299190,
          374234,
          468524
         ],
         "yaxis": "y"
        },
        {
         "alignmentgroup": "True",
         "hovertemplate": "neighbourhood=Lansing-Westgate<br>year=%{x}<br>average_house_value=%{y}<extra></extra>",
         "legendgroup": "Lansing-Westgate",
         "marker": {
          "color": "#B6E880"
         },
         "name": "Lansing-Westgate",
         "offsetgroup": "Lansing-Westgate",
         "orientation": "v",
         "showlegend": true,
         "textposition": "auto",
         "type": "bar",
         "x": [
          2001,
          2006,
          2011,
          2016
         ],
         "xaxis": "x",
         "y": [
          372579,
          545034,
          681742,
          853511
         ],
         "yaxis": "y"
        },
        {
         "alignmentgroup": "True",
         "hovertemplate": "neighbourhood=Lawrence Park North<br>year=%{x}<br>average_house_value=%{y}<extra></extra>",
         "legendgroup": "Lawrence Park North",
         "marker": {
          "color": "#FF97FF"
         },
         "name": "Lawrence Park North",
         "offsetgroup": "Lawrence Park North",
         "orientation": "v",
         "showlegend": true,
         "textposition": "auto",
         "type": "bar",
         "x": [
          2001,
          2006,
          2011,
          2016
         ],
         "xaxis": "x",
         "y": [
          461393,
          674957,
          844253,
          1056967
         ],
         "yaxis": "y"
        },
        {
         "alignmentgroup": "True",
         "hovertemplate": "neighbourhood=Lawrence Park South<br>year=%{x}<br>average_house_value=%{y}<extra></extra>",
         "legendgroup": "Lawrence Park South",
         "marker": {
          "color": "#FECB52"
         },
         "name": "Lawrence Park South",
         "offsetgroup": "Lawrence Park South",
         "orientation": "v",
         "showlegend": true,
         "textposition": "auto",
         "type": "bar",
         "x": [
          2001,
          2006,
          2011,
          2016
         ],
         "xaxis": "x",
         "y": [
          664712,
          972384,
          1216283,
          1522732
         ],
         "yaxis": "y"
        },
        {
         "alignmentgroup": "True",
         "hovertemplate": "neighbourhood=Leaside-Bennington<br>year=%{x}<br>average_house_value=%{y}<extra></extra>",
         "legendgroup": "Leaside-Bennington",
         "marker": {
          "color": "#636efa"
         },
         "name": "Leaside-Bennington",
         "offsetgroup": "Leaside-Bennington",
         "orientation": "v",
         "showlegend": true,
         "textposition": "auto",
         "type": "bar",
         "x": [
          2001,
          2006,
          2011,
          2016
         ],
         "xaxis": "x",
         "y": [
          489998,
          716801,
          896593,
          1122495
         ],
         "yaxis": "y"
        },
        {
         "alignmentgroup": "True",
         "hovertemplate": "neighbourhood=Little Portugal<br>year=%{x}<br>average_house_value=%{y}<extra></extra>",
         "legendgroup": "Little Portugal",
         "marker": {
          "color": "#EF553B"
         },
         "name": "Little Portugal",
         "offsetgroup": "Little Portugal",
         "orientation": "v",
         "showlegend": true,
         "textposition": "auto",
         "type": "bar",
         "x": [
          2001,
          2006,
          2011,
          2016
         ],
         "xaxis": "x",
         "y": [
          328211,
          480129,
          600558,
          751872
         ],
         "yaxis": "y"
        },
        {
         "alignmentgroup": "True",
         "hovertemplate": "neighbourhood=Long Branch<br>year=%{x}<br>average_house_value=%{y}<extra></extra>",
         "legendgroup": "Long Branch",
         "marker": {
          "color": "#00cc96"
         },
         "name": "Long Branch",
         "offsetgroup": "Long Branch",
         "orientation": "v",
         "showlegend": true,
         "textposition": "auto",
         "type": "bar",
         "x": [
          2001,
          2006,
          2011,
          2016
         ],
         "xaxis": "x",
         "y": [
          234424,
          342930,
          428946,
          537021
         ],
         "yaxis": "y"
        },
        {
         "alignmentgroup": "True",
         "hovertemplate": "neighbourhood=Malvern<br>year=%{x}<br>average_house_value=%{y}<extra></extra>",
         "legendgroup": "Malvern",
         "marker": {
          "color": "#ab63fa"
         },
         "name": "Malvern",
         "offsetgroup": "Malvern",
         "orientation": "v",
         "showlegend": true,
         "textposition": "auto",
         "type": "bar",
         "x": [
          2001,
          2006,
          2011,
          2016
         ],
         "xaxis": "x",
         "y": [
          156076,
          228318,
          285586,
          357541
         ],
         "yaxis": "y"
        },
        {
         "alignmentgroup": "True",
         "hovertemplate": "neighbourhood=Maple Leaf<br>year=%{x}<br>average_house_value=%{y}<extra></extra>",
         "legendgroup": "Maple Leaf",
         "marker": {
          "color": "#FFA15A"
         },
         "name": "Maple Leaf",
         "offsetgroup": "Maple Leaf",
         "orientation": "v",
         "showlegend": true,
         "textposition": "auto",
         "type": "bar",
         "x": [
          2001,
          2006,
          2011,
          2016
         ],
         "xaxis": "x",
         "y": [
          275374,
          402835,
          503876,
          630831
         ],
         "yaxis": "y"
        },
        {
         "alignmentgroup": "True",
         "hovertemplate": "neighbourhood=Markland Wood<br>year=%{x}<br>average_house_value=%{y}<extra></extra>",
         "legendgroup": "Markland Wood",
         "marker": {
          "color": "#19d3f3"
         },
         "name": "Markland Wood",
         "offsetgroup": "Markland Wood",
         "orientation": "v",
         "showlegend": true,
         "textposition": "auto",
         "type": "bar",
         "x": [
          2001,
          2006,
          2011,
          2016
         ],
         "xaxis": "x",
         "y": [
          269751,
          394610,
          493588,
          617950
         ],
         "yaxis": "y"
        },
        {
         "alignmentgroup": "True",
         "hovertemplate": "neighbourhood=Milliken<br>year=%{x}<br>average_house_value=%{y}<extra></extra>",
         "legendgroup": "Milliken",
         "marker": {
          "color": "#FF6692"
         },
         "name": "Milliken",
         "offsetgroup": "Milliken",
         "orientation": "v",
         "showlegend": true,
         "textposition": "auto",
         "type": "bar",
         "x": [
          2001,
          2006,
          2011,
          2016
         ],
         "xaxis": "x",
         "y": [
          209609,
          306629,
          383540,
          480175
         ],
         "yaxis": "y"
        },
        {
         "alignmentgroup": "True",
         "hovertemplate": "neighbourhood=Mimico<br>year=%{x}<br>average_house_value=%{y}<extra></extra>",
         "legendgroup": "Mimico",
         "marker": {
          "color": "#B6E880"
         },
         "name": "Mimico",
         "offsetgroup": "Mimico",
         "orientation": "v",
         "showlegend": true,
         "textposition": "auto",
         "type": "bar",
         "x": [
          2001,
          2006,
          2011,
          2016
         ],
         "xaxis": "x",
         "y": [
          239078,
          349739,
          437462,
          547683
         ],
         "yaxis": "y"
        },
        {
         "alignmentgroup": "True",
         "hovertemplate": "neighbourhood=Morningside<br>year=%{x}<br>average_house_value=%{y}<extra></extra>",
         "legendgroup": "Morningside",
         "marker": {
          "color": "#FF97FF"
         },
         "name": "Morningside",
         "offsetgroup": "Morningside",
         "orientation": "v",
         "showlegend": true,
         "textposition": "auto",
         "type": "bar",
         "x": [
          2001,
          2006,
          2011,
          2016
         ],
         "xaxis": "x",
         "y": [
          173169,
          253323,
          316863,
          396699
         ],
         "yaxis": "y"
        },
        {
         "alignmentgroup": "True",
         "hovertemplate": "neighbourhood=Moss Park<br>year=%{x}<br>average_house_value=%{y}<extra></extra>",
         "legendgroup": "Moss Park",
         "marker": {
          "color": "#FECB52"
         },
         "name": "Moss Park",
         "offsetgroup": "Moss Park",
         "orientation": "v",
         "showlegend": true,
         "textposition": "auto",
         "type": "bar",
         "x": [
          2001,
          2006,
          2011,
          2016
         ],
         "xaxis": "x",
         "y": [
          248778,
          363929,
          455212,
          569905
         ],
         "yaxis": "y"
        },
        {
         "alignmentgroup": "True",
         "hovertemplate": "neighbourhood=Mount Dennis<br>year=%{x}<br>average_house_value=%{y}<extra></extra>",
         "legendgroup": "Mount Dennis",
         "marker": {
          "color": "#636efa"
         },
         "name": "Mount Dennis",
         "offsetgroup": "Mount Dennis",
         "orientation": "v",
         "showlegend": true,
         "textposition": "auto",
         "type": "bar",
         "x": [
          2001,
          2006,
          2011,
          2016
         ],
         "xaxis": "x",
         "y": [
          159374,
          233143,
          291621,
          365097
         ],
         "yaxis": "y"
        },
        {
         "alignmentgroup": "True",
         "hovertemplate": "neighbourhood=Mount Olive-Silverstone-Jamestown<br>year=%{x}<br>average_house_value=%{y}<extra></extra>",
         "legendgroup": "Mount Olive-Silverstone-Jamestown",
         "marker": {
          "color": "#EF553B"
         },
         "name": "Mount Olive-Silverstone-Jamestown",
         "offsetgroup": "Mount Olive-Silverstone-Jamestown",
         "orientation": "v",
         "showlegend": true,
         "textposition": "auto",
         "type": "bar",
         "x": [
          2001,
          2006,
          2011,
          2016
         ],
         "xaxis": "x",
         "y": [
          153829,
          225031,
          281475,
          352394
         ],
         "yaxis": "y"
        },
        {
         "alignmentgroup": "True",
         "hovertemplate": "neighbourhood=Mount Pleasant East<br>year=%{x}<br>average_house_value=%{y}<extra></extra>",
         "legendgroup": "Mount Pleasant East",
         "marker": {
          "color": "#00cc96"
         },
         "name": "Mount Pleasant East",
         "offsetgroup": "Mount Pleasant East",
         "orientation": "v",
         "showlegend": true,
         "textposition": "auto",
         "type": "bar",
         "x": [
          2001,
          2006,
          2011,
          2016
         ],
         "xaxis": "x",
         "y": [
          411558,
          602054,
          753065,
          942804
         ],
         "yaxis": "y"
        },
        {
         "alignmentgroup": "True",
         "hovertemplate": "neighbourhood=Mount Pleasant West<br>year=%{x}<br>average_house_value=%{y}<extra></extra>",
         "legendgroup": "Mount Pleasant West",
         "marker": {
          "color": "#ab63fa"
         },
         "name": "Mount Pleasant West",
         "offsetgroup": "Mount Pleasant West",
         "orientation": "v",
         "showlegend": true,
         "textposition": "auto",
         "type": "bar",
         "x": [
          2001,
          2006,
          2011,
          2016
         ],
         "xaxis": "x",
         "y": [
          284459,
          416125,
          520500,
          651643
         ],
         "yaxis": "y"
        },
        {
         "alignmentgroup": "True",
         "hovertemplate": "neighbourhood=New Toronto<br>year=%{x}<br>average_house_value=%{y}<extra></extra>",
         "legendgroup": "New Toronto",
         "marker": {
          "color": "#FFA15A"
         },
         "name": "New Toronto",
         "offsetgroup": "New Toronto",
         "orientation": "v",
         "showlegend": true,
         "textposition": "auto",
         "type": "bar",
         "x": [
          2001,
          2006,
          2011,
          2016
         ],
         "xaxis": "x",
         "y": [
          247779,
          362468,
          453384,
          567617
         ],
         "yaxis": "y"
        },
        {
         "alignmentgroup": "True",
         "hovertemplate": "neighbourhood=Newtonbrook East<br>year=%{x}<br>average_house_value=%{y}<extra></extra>",
         "legendgroup": "Newtonbrook East",
         "marker": {
          "color": "#19d3f3"
         },
         "name": "Newtonbrook East",
         "offsetgroup": "Newtonbrook East",
         "orientation": "v",
         "showlegend": true,
         "textposition": "auto",
         "type": "bar",
         "x": [
          2001,
          2006,
          2011,
          2016
         ],
         "xaxis": "x",
         "y": [
          339987,
          497355,
          622104,
          778847
         ],
         "yaxis": "y"
        },
        {
         "alignmentgroup": "True",
         "hovertemplate": "neighbourhood=Newtonbrook West<br>year=%{x}<br>average_house_value=%{y}<extra></extra>",
         "legendgroup": "Newtonbrook West",
         "marker": {
          "color": "#FF6692"
         },
         "name": "Newtonbrook West",
         "offsetgroup": "Newtonbrook West",
         "orientation": "v",
         "showlegend": true,
         "textposition": "auto",
         "type": "bar",
         "x": [
          2001,
          2006,
          2011,
          2016
         ],
         "xaxis": "x",
         "y": [
          279833,
          409358,
          512036,
          641047
         ],
         "yaxis": "y"
        },
        {
         "alignmentgroup": "True",
         "hovertemplate": "neighbourhood=Niagara<br>year=%{x}<br>average_house_value=%{y}<extra></extra>",
         "legendgroup": "Niagara",
         "marker": {
          "color": "#B6E880"
         },
         "name": "Niagara",
         "offsetgroup": "Niagara",
         "orientation": "v",
         "showlegend": true,
         "textposition": "auto",
         "type": "bar",
         "x": [
          2001,
          2006,
          2011,
          2016
         ],
         "xaxis": "x",
         "y": [
          224801,
          328854,
          411339,
          514978
         ],
         "yaxis": "y"
        },
        {
         "alignmentgroup": "True",
         "hovertemplate": "neighbourhood=North Riverdale<br>year=%{x}<br>average_house_value=%{y}<extra></extra>",
         "legendgroup": "North Riverdale",
         "marker": {
          "color": "#FF97FF"
         },
         "name": "North Riverdale",
         "offsetgroup": "North Riverdale",
         "orientation": "v",
         "showlegend": true,
         "textposition": "auto",
         "type": "bar",
         "x": [
          2001,
          2006,
          2011,
          2016
         ],
         "xaxis": "x",
         "y": [
          427169,
          624890,
          781629,
          978565
         ],
         "yaxis": "y"
        },
        {
         "alignmentgroup": "True",
         "hovertemplate": "neighbourhood=North St.James Town<br>year=%{x}<br>average_house_value=%{y}<extra></extra>",
         "legendgroup": "North St.James Town",
         "marker": {
          "color": "#FECB52"
         },
         "name": "North St.James Town",
         "offsetgroup": "North St.James Town",
         "orientation": "v",
         "showlegend": true,
         "textposition": "auto",
         "type": "bar",
         "x": [
          2001,
          2006,
          2011,
          2016
         ],
         "xaxis": "x",
         "y": [
          249993,
          365706,
          457435,
          572689
         ],
         "yaxis": "y"
        },
        {
         "alignmentgroup": "True",
         "hovertemplate": "neighbourhood=O'Connor-Parkview<br>year=%{x}<br>average_house_value=%{y}<extra></extra>",
         "legendgroup": "O'Connor-Parkview",
         "marker": {
          "color": "#636efa"
         },
         "name": "O'Connor-Parkview",
         "offsetgroup": "O'Connor-Parkview",
         "orientation": "v",
         "showlegend": true,
         "textposition": "auto",
         "type": "bar",
         "x": [
          2001,
          2006,
          2011,
          2016
         ],
         "xaxis": "x",
         "y": [
          181251,
          265146,
          331652,
          415214
         ],
         "yaxis": "y"
        },
        {
         "alignmentgroup": "True",
         "hovertemplate": "neighbourhood=Oakridge<br>year=%{x}<br>average_house_value=%{y}<extra></extra>",
         "legendgroup": "Oakridge",
         "marker": {
          "color": "#EF553B"
         },
         "name": "Oakridge",
         "offsetgroup": "Oakridge",
         "orientation": "v",
         "showlegend": true,
         "textposition": "auto",
         "type": "bar",
         "x": [
          2001,
          2006,
          2011,
          2016
         ],
         "xaxis": "x",
         "y": [
          256556,
          375307,
          469444,
          587723
         ],
         "yaxis": "y"
        },
        {
         "alignmentgroup": "True",
         "hovertemplate": "neighbourhood=Oakwood Village<br>year=%{x}<br>average_house_value=%{y}<extra></extra>",
         "legendgroup": "Oakwood Village",
         "marker": {
          "color": "#00cc96"
         },
         "name": "Oakwood Village",
         "offsetgroup": "Oakwood Village",
         "orientation": "v",
         "showlegend": true,
         "textposition": "auto",
         "type": "bar",
         "x": [
          2001,
          2006,
          2011,
          2016
         ],
         "xaxis": "x",
         "y": [
          268067,
          392146,
          490506,
          614092
         ],
         "yaxis": "y"
        },
        {
         "alignmentgroup": "True",
         "hovertemplate": "neighbourhood=Old East York<br>year=%{x}<br>average_house_value=%{y}<extra></extra>",
         "legendgroup": "Old East York",
         "marker": {
          "color": "#ab63fa"
         },
         "name": "Old East York",
         "offsetgroup": "Old East York",
         "orientation": "v",
         "showlegend": true,
         "textposition": "auto",
         "type": "bar",
         "x": [
          2001,
          2006,
          2011,
          2016
         ],
         "xaxis": "x",
         "y": [
          269410,
          394111,
          492964,
          617169
         ],
         "yaxis": "y"
        },
        {
         "alignmentgroup": "True",
         "hovertemplate": "neighbourhood=Palmerston-Little Italy<br>year=%{x}<br>average_house_value=%{y}<extra></extra>",
         "legendgroup": "Palmerston-Little Italy",
         "marker": {
          "color": "#FFA15A"
         },
         "name": "Palmerston-Little Italy",
         "offsetgroup": "Palmerston-Little Italy",
         "orientation": "v",
         "showlegend": true,
         "textposition": "auto",
         "type": "bar",
         "x": [
          2001,
          2006,
          2011,
          2016
         ],
         "xaxis": "x",
         "y": [
          378033,
          553011,
          691720,
          866003
         ],
         "yaxis": "y"
        },
        {
         "alignmentgroup": "True",
         "hovertemplate": "neighbourhood=Parkwoods-Donalda<br>year=%{x}<br>average_house_value=%{y}<extra></extra>",
         "legendgroup": "Parkwoods-Donalda",
         "marker": {
          "color": "#19d3f3"
         },
         "name": "Parkwoods-Donalda",
         "offsetgroup": "Parkwoods-Donalda",
         "orientation": "v",
         "showlegend": true,
         "textposition": "auto",
         "type": "bar",
         "x": [
          2001,
          2006,
          2011,
          2016
         ],
         "xaxis": "x",
         "y": [
          276239,
          404100,
          505459,
          632812
         ],
         "yaxis": "y"
        },
        {
         "alignmentgroup": "True",
         "hovertemplate": "neighbourhood=Pelmo Park-Humberlea<br>year=%{x}<br>average_house_value=%{y}<extra></extra>",
         "legendgroup": "Pelmo Park-Humberlea",
         "marker": {
          "color": "#FF6692"
         },
         "name": "Pelmo Park-Humberlea",
         "offsetgroup": "Pelmo Park-Humberlea",
         "orientation": "v",
         "showlegend": true,
         "textposition": "auto",
         "type": "bar",
         "x": [
          2001,
          2006,
          2011,
          2016
         ],
         "xaxis": "x",
         "y": [
          246333,
          360352,
          450737,
          564303
         ],
         "yaxis": "y"
        },
        {
         "alignmentgroup": "True",
         "hovertemplate": "neighbourhood=Playter Estates-Danforth<br>year=%{x}<br>average_house_value=%{y}<extra></extra>",
         "legendgroup": "Playter Estates-Danforth",
         "marker": {
          "color": "#B6E880"
         },
         "name": "Playter Estates-Danforth",
         "offsetgroup": "Playter Estates-Danforth",
         "orientation": "v",
         "showlegend": true,
         "textposition": "auto",
         "type": "bar",
         "x": [
          2001,
          2006,
          2011,
          2016
         ],
         "xaxis": "x",
         "y": [
          394235,
          576713,
          721368,
          903121
         ],
         "yaxis": "y"
        },
        {
         "alignmentgroup": "True",
         "hovertemplate": "neighbourhood=Pleasant View<br>year=%{x}<br>average_house_value=%{y}<extra></extra>",
         "legendgroup": "Pleasant View",
         "marker": {
          "color": "#FF97FF"
         },
         "name": "Pleasant View",
         "offsetgroup": "Pleasant View",
         "orientation": "v",
         "showlegend": true,
         "textposition": "auto",
         "type": "bar",
         "x": [
          2001,
          2006,
          2011,
          2016
         ],
         "xaxis": "x",
         "y": [
          226856,
          331860,
          415099,
          519686
         ],
         "yaxis": "y"
        },
        {
         "alignmentgroup": "True",
         "hovertemplate": "neighbourhood=Princess-Rosethorn<br>year=%{x}<br>average_house_value=%{y}<extra></extra>",
         "legendgroup": "Princess-Rosethorn",
         "marker": {
          "color": "#FECB52"
         },
         "name": "Princess-Rosethorn",
         "offsetgroup": "Princess-Rosethorn",
         "orientation": "v",
         "showlegend": true,
         "textposition": "auto",
         "type": "bar",
         "x": [
          2001,
          2006,
          2011,
          2016
         ],
         "xaxis": "x",
         "y": [
          465254,
          680604,
          851317,
          1065811
         ],
         "yaxis": "y"
        },
        {
         "alignmentgroup": "True",
         "hovertemplate": "neighbourhood=Regent Park<br>year=%{x}<br>average_house_value=%{y}<extra></extra>",
         "legendgroup": "Regent Park",
         "marker": {
          "color": "#636efa"
         },
         "name": "Regent Park",
         "offsetgroup": "Regent Park",
         "orientation": "v",
         "showlegend": true,
         "textposition": "auto",
         "type": "bar",
         "x": [
          2001,
          2006,
          2011,
          2016
         ],
         "xaxis": "x",
         "y": [
          238524,
          348928,
          436448,
          546413
         ],
         "yaxis": "y"
        },
        {
         "alignmentgroup": "True",
         "hovertemplate": "neighbourhood=Rexdale-Kipling<br>year=%{x}<br>average_house_value=%{y}<extra></extra>",
         "legendgroup": "Rexdale-Kipling",
         "marker": {
          "color": "#EF553B"
         },
         "name": "Rexdale-Kipling",
         "offsetgroup": "Rexdale-Kipling",
         "orientation": "v",
         "showlegend": true,
         "textposition": "auto",
         "type": "bar",
         "x": [
          2001,
          2006,
          2011,
          2016
         ],
         "xaxis": "x",
         "y": [
          219337,
          320860,
          401340,
          502460
         ],
         "yaxis": "y"
        },
        {
         "alignmentgroup": "True",
         "hovertemplate": "neighbourhood=Rockcliffe-Smythe<br>year=%{x}<br>average_house_value=%{y}<extra></extra>",
         "legendgroup": "Rockcliffe-Smythe",
         "marker": {
          "color": "#00cc96"
         },
         "name": "Rockcliffe-Smythe",
         "offsetgroup": "Rockcliffe-Smythe",
         "orientation": "v",
         "showlegend": true,
         "textposition": "auto",
         "type": "bar",
         "x": [
          2001,
          2006,
          2011,
          2016
         ],
         "xaxis": "x",
         "y": [
          210017,
          307227,
          384287,
          481110
         ],
         "yaxis": "y"
        },
        {
         "alignmentgroup": "True",
         "hovertemplate": "neighbourhood=Roncesvalles<br>year=%{x}<br>average_house_value=%{y}<extra></extra>",
         "legendgroup": "Roncesvalles",
         "marker": {
          "color": "#ab63fa"
         },
         "name": "Roncesvalles",
         "offsetgroup": "Roncesvalles",
         "orientation": "v",
         "showlegend": true,
         "textposition": "auto",
         "type": "bar",
         "x": [
          2001,
          2006,
          2011,
          2016
         ],
         "xaxis": "x",
         "y": [
          309221,
          452349,
          565810,
          708369
         ],
         "yaxis": "y"
        },
        {
         "alignmentgroup": "True",
         "hovertemplate": "neighbourhood=Rosedale-Moore Park<br>year=%{x}<br>average_house_value=%{y}<extra></extra>",
         "legendgroup": "Rosedale-Moore Park",
         "marker": {
          "color": "#FFA15A"
         },
         "name": "Rosedale-Moore Park",
         "offsetgroup": "Rosedale-Moore Park",
         "orientation": "v",
         "showlegend": true,
         "textposition": "auto",
         "type": "bar",
         "x": [
          2001,
          2006,
          2011,
          2016
         ],
         "xaxis": "x",
         "y": [
          664476,
          972039,
          1215852,
          1522193
         ],
         "yaxis": "y"
        },
        {
         "alignmentgroup": "True",
         "hovertemplate": "neighbourhood=Rouge<br>year=%{x}<br>average_house_value=%{y}<extra></extra>",
         "legendgroup": "Rouge",
         "marker": {
          "color": "#19d3f3"
         },
         "name": "Rouge",
         "offsetgroup": "Rouge",
         "orientation": "v",
         "showlegend": true,
         "textposition": "auto",
         "type": "bar",
         "x": [
          2001,
          2006,
          2011,
          2016
         ],
         "xaxis": "x",
         "y": [
          228625,
          334448,
          418336,
          523738
         ],
         "yaxis": "y"
        },
        {
         "alignmentgroup": "True",
         "hovertemplate": "neighbourhood=Runnymede-Bloor West Village<br>year=%{x}<br>average_house_value=%{y}<extra></extra>",
         "legendgroup": "Runnymede-Bloor West Village",
         "marker": {
          "color": "#FF6692"
         },
         "name": "Runnymede-Bloor West Village",
         "offsetgroup": "Runnymede-Bloor West Village",
         "orientation": "v",
         "showlegend": true,
         "textposition": "auto",
         "type": "bar",
         "x": [
          2001,
          2006,
          2011,
          2016
         ],
         "xaxis": "x",
         "y": [
          335435,
          490697,
          613776,
          768420
         ],
         "yaxis": "y"
        },
        {
         "alignmentgroup": "True",
         "hovertemplate": "neighbourhood=Rustic<br>year=%{x}<br>average_house_value=%{y}<extra></extra>",
         "legendgroup": "Rustic",
         "marker": {
          "color": "#B6E880"
         },
         "name": "Rustic",
         "offsetgroup": "Rustic",
         "orientation": "v",
         "showlegend": true,
         "textposition": "auto",
         "type": "bar",
         "x": [
          2001,
          2006,
          2011,
          2016
         ],
         "xaxis": "x",
         "y": [
          261923,
          383158,
          479264,
          600017
         ],
         "yaxis": "y"
        },
        {
         "alignmentgroup": "True",
         "hovertemplate": "neighbourhood=Scarborough Village<br>year=%{x}<br>average_house_value=%{y}<extra></extra>",
         "legendgroup": "Scarborough Village",
         "marker": {
          "color": "#FF97FF"
         },
         "name": "Scarborough Village",
         "offsetgroup": "Scarborough Village",
         "orientation": "v",
         "showlegend": true,
         "textposition": "auto",
         "type": "bar",
         "x": [
          2001,
          2006,
          2011,
          2016
         ],
         "xaxis": "x",
         "y": [
          200402,
          293162,
          366694,
          459085
         ],
         "yaxis": "y"
        },
        {
         "alignmentgroup": "True",
         "hovertemplate": "neighbourhood=South Parkdale<br>year=%{x}<br>average_house_value=%{y}<extra></extra>",
         "legendgroup": "South Parkdale",
         "marker": {
          "color": "#FECB52"
         },
         "name": "South Parkdale",
         "offsetgroup": "South Parkdale",
         "orientation": "v",
         "showlegend": true,
         "textposition": "auto",
         "type": "bar",
         "x": [
          2001,
          2006,
          2011,
          2016
         ],
         "xaxis": "x",
         "y": [
          271880,
          397724,
          497483,
          622827
         ],
         "yaxis": "y"
        },
        {
         "alignmentgroup": "True",
         "hovertemplate": "neighbourhood=South Riverdale<br>year=%{x}<br>average_house_value=%{y}<extra></extra>",
         "legendgroup": "South Riverdale",
         "marker": {
          "color": "#636efa"
         },
         "name": "South Riverdale",
         "offsetgroup": "South Riverdale",
         "orientation": "v",
         "showlegend": true,
         "textposition": "auto",
         "type": "bar",
         "x": [
          2001,
          2006,
          2011,
          2016
         ],
         "xaxis": "x",
         "y": [
          276462,
          404427,
          505868,
          633325
         ],
         "yaxis": "y"
        },
        {
         "alignmentgroup": "True",
         "hovertemplate": "neighbourhood=St.Andrew-Windfields<br>year=%{x}<br>average_house_value=%{y}<extra></extra>",
         "legendgroup": "St.Andrew-Windfields",
         "marker": {
          "color": "#EF553B"
         },
         "name": "St.Andrew-Windfields",
         "offsetgroup": "St.Andrew-Windfields",
         "orientation": "v",
         "showlegend": true,
         "textposition": "auto",
         "type": "bar",
         "x": [
          2001,
          2006,
          2011,
          2016
         ],
         "xaxis": "x",
         "y": [
          607040,
          888017,
          1110755,
          1390616
         ],
         "yaxis": "y"
        },
        {
         "alignmentgroup": "True",
         "hovertemplate": "neighbourhood=Steeles<br>year=%{x}<br>average_house_value=%{y}<extra></extra>",
         "legendgroup": "Steeles",
         "marker": {
          "color": "#00cc96"
         },
         "name": "Steeles",
         "offsetgroup": "Steeles",
         "orientation": "v",
         "showlegend": true,
         "textposition": "auto",
         "type": "bar",
         "x": [
          2001,
          2006,
          2011,
          2016
         ],
         "xaxis": "x",
         "y": [
          228460,
          334206,
          418033,
          523359
         ],
         "yaxis": "y"
        },
        {
         "alignmentgroup": "True",
         "hovertemplate": "neighbourhood=Stonegate-Queensway<br>year=%{x}<br>average_house_value=%{y}<extra></extra>",
         "legendgroup": "Stonegate-Queensway",
         "marker": {
          "color": "#ab63fa"
         },
         "name": "Stonegate-Queensway",
         "offsetgroup": "Stonegate-Queensway",
         "orientation": "v",
         "showlegend": true,
         "textposition": "auto",
         "type": "bar",
         "x": [
          2001,
          2006,
          2011,
          2016
         ],
         "xaxis": "x",
         "y": [
          334433,
          489230,
          611942,
          766124
         ],
         "yaxis": "y"
        },
        {
         "alignmentgroup": "True",
         "hovertemplate": "neighbourhood=Tam O'Shanter-Sullivan<br>year=%{x}<br>average_house_value=%{y}<extra></extra>",
         "legendgroup": "Tam O'Shanter-Sullivan",
         "marker": {
          "color": "#FFA15A"
         },
         "name": "Tam O'Shanter-Sullivan",
         "offsetgroup": "Tam O'Shanter-Sullivan",
         "orientation": "v",
         "showlegend": true,
         "textposition": "auto",
         "type": "bar",
         "x": [
          2001,
          2006,
          2011,
          2016
         ],
         "xaxis": "x",
         "y": [
          215039,
          314574,
          393477,
          492616
         ],
         "yaxis": "y"
        },
        {
         "alignmentgroup": "True",
         "hovertemplate": "neighbourhood=Taylor-Massey<br>year=%{x}<br>average_house_value=%{y}<extra></extra>",
         "legendgroup": "Taylor-Massey",
         "marker": {
          "color": "#19d3f3"
         },
         "name": "Taylor-Massey",
         "offsetgroup": "Taylor-Massey",
         "orientation": "v",
         "showlegend": true,
         "textposition": "auto",
         "type": "bar",
         "x": [
          2001,
          2006,
          2011,
          2016
         ],
         "xaxis": "x",
         "y": [
          145464,
          212794,
          266168,
          333230
         ],
         "yaxis": "y"
        },
        {
         "alignmentgroup": "True",
         "hovertemplate": "neighbourhood=The Beaches<br>year=%{x}<br>average_house_value=%{y}<extra></extra>",
         "legendgroup": "The Beaches",
         "marker": {
          "color": "#FF6692"
         },
         "name": "The Beaches",
         "offsetgroup": "The Beaches",
         "orientation": "v",
         "showlegend": true,
         "textposition": "auto",
         "type": "bar",
         "x": [
          2001,
          2006,
          2011,
          2016
         ],
         "xaxis": "x",
         "y": [
          404836,
          592220,
          740764,
          927404
         ],
         "yaxis": "y"
        },
        {
         "alignmentgroup": "True",
         "hovertemplate": "neighbourhood=Thistletown-Beaumond Heights<br>year=%{x}<br>average_house_value=%{y}<extra></extra>",
         "legendgroup": "Thistletown-Beaumond Heights",
         "marker": {
          "color": "#B6E880"
         },
         "name": "Thistletown-Beaumond Heights",
         "offsetgroup": "Thistletown-Beaumond Heights",
         "orientation": "v",
         "showlegend": true,
         "textposition": "auto",
         "type": "bar",
         "x": [
          2001,
          2006,
          2011,
          2016
         ],
         "xaxis": "x",
         "y": [
          228368,
          334072,
          417866,
          523150
         ],
         "yaxis": "y"
        },
        {
         "alignmentgroup": "True",
         "hovertemplate": "neighbourhood=Thorncliffe Park<br>year=%{x}<br>average_house_value=%{y}<extra></extra>",
         "legendgroup": "Thorncliffe Park",
         "marker": {
          "color": "#FF97FF"
         },
         "name": "Thorncliffe Park",
         "offsetgroup": "Thorncliffe Park",
         "orientation": "v",
         "showlegend": true,
         "textposition": "auto",
         "type": "bar",
         "x": [
          2001,
          2006,
          2011,
          2016
         ],
         "xaxis": "x",
         "y": [
          155094,
          226882,
          283790,
          355293
         ],
         "yaxis": "y"
        },
        {
         "alignmentgroup": "True",
         "hovertemplate": "neighbourhood=Trinity-Bellwoods<br>year=%{x}<br>average_house_value=%{y}<extra></extra>",
         "legendgroup": "Trinity-Bellwoods",
         "marker": {
          "color": "#FECB52"
         },
         "name": "Trinity-Bellwoods",
         "offsetgroup": "Trinity-Bellwoods",
         "orientation": "v",
         "showlegend": true,
         "textposition": "auto",
         "type": "bar",
         "x": [
          2001,
          2006,
          2011,
          2016
         ],
         "xaxis": "x",
         "y": [
          324732,
          475039,
          594191,
          743901
         ],
         "yaxis": "y"
        },
        {
         "alignmentgroup": "True",
         "hovertemplate": "neighbourhood=University<br>year=%{x}<br>average_house_value=%{y}<extra></extra>",
         "legendgroup": "University",
         "marker": {
          "color": "#636efa"
         },
         "name": "University",
         "offsetgroup": "University",
         "orientation": "v",
         "showlegend": true,
         "textposition": "auto",
         "type": "bar",
         "x": [
          2001,
          2006,
          2011,
          2016
         ],
         "xaxis": "x",
         "y": [
          375678,
          549567,
          687412,
          860610
         ],
         "yaxis": "y"
        },
        {
         "alignmentgroup": "True",
         "hovertemplate": "neighbourhood=Victoria Village<br>year=%{x}<br>average_house_value=%{y}<extra></extra>",
         "legendgroup": "Victoria Village",
         "marker": {
          "color": "#EF553B"
         },
         "name": "Victoria Village",
         "offsetgroup": "Victoria Village",
         "orientation": "v",
         "showlegend": true,
         "textposition": "auto",
         "type": "bar",
         "x": [
          2001,
          2006,
          2011,
          2016
         ],
         "xaxis": "x",
         "y": [
          213950,
          312980,
          391483,
          490119
         ],
         "yaxis": "y"
        },
        {
         "alignmentgroup": "True",
         "hovertemplate": "neighbourhood=Waterfront Communities-The Island<br>year=%{x}<br>average_house_value=%{y}<extra></extra>",
         "legendgroup": "Waterfront Communities-The Island",
         "marker": {
          "color": "#00cc96"
         },
         "name": "Waterfront Communities-The Island",
         "offsetgroup": "Waterfront Communities-The Island",
         "orientation": "v",
         "showlegend": true,
         "textposition": "auto",
         "type": "bar",
         "x": [
          2001,
          2006,
          2011,
          2016
         ],
         "xaxis": "x",
         "y": [
          228975,
          334960,
          418977,
          524540
         ],
         "yaxis": "y"
        },
        {
         "alignmentgroup": "True",
         "hovertemplate": "neighbourhood=West Hill<br>year=%{x}<br>average_house_value=%{y}<extra></extra>",
         "legendgroup": "West Hill",
         "marker": {
          "color": "#ab63fa"
         },
         "name": "West Hill",
         "offsetgroup": "West Hill",
         "orientation": "v",
         "showlegend": true,
         "textposition": "auto",
         "type": "bar",
         "x": [
          2001,
          2006,
          2011,
          2016
         ],
         "xaxis": "x",
         "y": [
          172947,
          252998,
          316456,
          396189
         ],
         "yaxis": "y"
        },
        {
         "alignmentgroup": "True",
         "hovertemplate": "neighbourhood=West Humber-Clairville<br>year=%{x}<br>average_house_value=%{y}<extra></extra>",
         "legendgroup": "West Humber-Clairville",
         "marker": {
          "color": "#FFA15A"
         },
         "name": "West Humber-Clairville",
         "offsetgroup": "West Humber-Clairville",
         "orientation": "v",
         "showlegend": true,
         "textposition": "auto",
         "type": "bar",
         "x": [
          2001,
          2006,
          2011,
          2016
         ],
         "xaxis": "x",
         "y": [
          208555,
          305088,
          381612,
          477762
         ],
         "yaxis": "y"
        },
        {
         "alignmentgroup": "True",
         "hovertemplate": "neighbourhood=Westminster-Branson<br>year=%{x}<br>average_house_value=%{y}<extra></extra>",
         "legendgroup": "Westminster-Branson",
         "marker": {
          "color": "#19d3f3"
         },
         "name": "Westminster-Branson",
         "offsetgroup": "Westminster-Branson",
         "orientation": "v",
         "showlegend": true,
         "textposition": "auto",
         "type": "bar",
         "x": [
          2001,
          2006,
          2011,
          2016
         ],
         "xaxis": "x",
         "y": [
          212241,
          310480,
          388356,
          486204
         ],
         "yaxis": "y"
        },
        {
         "alignmentgroup": "True",
         "hovertemplate": "neighbourhood=Weston<br>year=%{x}<br>average_house_value=%{y}<extra></extra>",
         "legendgroup": "Weston",
         "marker": {
          "color": "#FF6692"
         },
         "name": "Weston",
         "offsetgroup": "Weston",
         "orientation": "v",
         "showlegend": true,
         "textposition": "auto",
         "type": "bar",
         "x": [
          2001,
          2006,
          2011,
          2016
         ],
         "xaxis": "x",
         "y": [
          187140,
          273761,
          342427,
          428703
         ],
         "yaxis": "y"
        },
        {
         "alignmentgroup": "True",
         "hovertemplate": "neighbourhood=Weston-Pellam Park<br>year=%{x}<br>average_house_value=%{y}<extra></extra>",
         "legendgroup": "Weston-Pellam Park",
         "marker": {
          "color": "#B6E880"
         },
         "name": "Weston-Pellam Park",
         "offsetgroup": "Weston-Pellam Park",
         "orientation": "v",
         "showlegend": true,
         "textposition": "auto",
         "type": "bar",
         "x": [
          2001,
          2006,
          2011,
          2016
         ],
         "xaxis": "x",
         "y": [
          213749,
          312685,
          391115,
          489659
         ],
         "yaxis": "y"
        },
        {
         "alignmentgroup": "True",
         "hovertemplate": "neighbourhood=Wexford/Maryvale<br>year=%{x}<br>average_house_value=%{y}<extra></extra>",
         "legendgroup": "Wexford/Maryvale",
         "marker": {
          "color": "#FF97FF"
         },
         "name": "Wexford/Maryvale",
         "offsetgroup": "Wexford/Maryvale",
         "orientation": "v",
         "showlegend": true,
         "textposition": "auto",
         "type": "bar",
         "x": [
          2001,
          2006,
          2011,
          2016
         ],
         "xaxis": "x",
         "y": [
          211633,
          309590,
          387243,
          484811
         ],
         "yaxis": "y"
        },
        {
         "alignmentgroup": "True",
         "hovertemplate": "neighbourhood=Willowdale East<br>year=%{x}<br>average_house_value=%{y}<extra></extra>",
         "legendgroup": "Willowdale East",
         "marker": {
          "color": "#FECB52"
         },
         "name": "Willowdale East",
         "offsetgroup": "Willowdale East",
         "orientation": "v",
         "showlegend": true,
         "textposition": "auto",
         "type": "bar",
         "x": [
          2001,
          2006,
          2011,
          2016
         ],
         "xaxis": "x",
         "y": [
          284984,
          416893,
          521460,
          652845
         ],
         "yaxis": "y"
        },
        {
         "alignmentgroup": "True",
         "hovertemplate": "neighbourhood=Willowdale West<br>year=%{x}<br>average_house_value=%{y}<extra></extra>",
         "legendgroup": "Willowdale West",
         "marker": {
          "color": "#636efa"
         },
         "name": "Willowdale West",
         "offsetgroup": "Willowdale West",
         "orientation": "v",
         "showlegend": true,
         "textposition": "auto",
         "type": "bar",
         "x": [
          2001,
          2006,
          2011,
          2016
         ],
         "xaxis": "x",
         "y": [
          283215,
          414306,
          518224,
          648794
         ],
         "yaxis": "y"
        },
        {
         "alignmentgroup": "True",
         "hovertemplate": "neighbourhood=Willowridge-Martingrove-Richview<br>year=%{x}<br>average_house_value=%{y}<extra></extra>",
         "legendgroup": "Willowridge-Martingrove-Richview",
         "marker": {
          "color": "#EF553B"
         },
         "name": "Willowridge-Martingrove-Richview",
         "offsetgroup": "Willowridge-Martingrove-Richview",
         "orientation": "v",
         "showlegend": true,
         "textposition": "auto",
         "type": "bar",
         "x": [
          2001,
          2006,
          2011,
          2016
         ],
         "xaxis": "x",
         "y": [
          282087,
          412655,
          516160,
          646210
         ],
         "yaxis": "y"
        },
        {
         "alignmentgroup": "True",
         "hovertemplate": "neighbourhood=Woburn<br>year=%{x}<br>average_house_value=%{y}<extra></extra>",
         "legendgroup": "Woburn",
         "marker": {
          "color": "#00cc96"
         },
         "name": "Woburn",
         "offsetgroup": "Woburn",
         "orientation": "v",
         "showlegend": true,
         "textposition": "auto",
         "type": "bar",
         "x": [
          2001,
          2006,
          2011,
          2016
         ],
         "xaxis": "x",
         "y": [
          181367,
          265315,
          331863,
          415478
         ],
         "yaxis": "y"
        },
        {
         "alignmentgroup": "True",
         "hovertemplate": "neighbourhood=Woodbine Corridor<br>year=%{x}<br>average_house_value=%{y}<extra></extra>",
         "legendgroup": "Woodbine Corridor",
         "marker": {
          "color": "#ab63fa"
         },
         "name": "Woodbine Corridor",
         "offsetgroup": "Woodbine Corridor",
         "orientation": "v",
         "showlegend": true,
         "textposition": "auto",
         "type": "bar",
         "x": [
          2001,
          2006,
          2011,
          2016
         ],
         "xaxis": "x",
         "y": [
          270607,
          395861,
          495153,
          619910
         ],
         "yaxis": "y"
        },
        {
         "alignmentgroup": "True",
         "hovertemplate": "neighbourhood=Woodbine-Lumsden<br>year=%{x}<br>average_house_value=%{y}<extra></extra>",
         "legendgroup": "Woodbine-Lumsden",
         "marker": {
          "color": "#FFA15A"
         },
         "name": "Woodbine-Lumsden",
         "offsetgroup": "Woodbine-Lumsden",
         "orientation": "v",
         "showlegend": true,
         "textposition": "auto",
         "type": "bar",
         "x": [
          2001,
          2006,
          2011,
          2016
         ],
         "xaxis": "x",
         "y": [
          224756,
          328788,
          411256,
          514874
         ],
         "yaxis": "y"
        },
        {
         "alignmentgroup": "True",
         "hovertemplate": "neighbourhood=Wychwood<br>year=%{x}<br>average_house_value=%{y}<extra></extra>",
         "legendgroup": "Wychwood",
         "marker": {
          "color": "#19d3f3"
         },
         "name": "Wychwood",
         "offsetgroup": "Wychwood",
         "orientation": "v",
         "showlegend": true,
         "textposition": "auto",
         "type": "bar",
         "x": [
          2001,
          2006,
          2011,
          2016
         ],
         "xaxis": "x",
         "y": [
          343877,
          503046,
          629223,
          787760
         ],
         "yaxis": "y"
        },
        {
         "alignmentgroup": "True",
         "hovertemplate": "neighbourhood=Yonge-Eglinton<br>year=%{x}<br>average_house_value=%{y}<extra></extra>",
         "legendgroup": "Yonge-Eglinton",
         "marker": {
          "color": "#FF6692"
         },
         "name": "Yonge-Eglinton",
         "offsetgroup": "Yonge-Eglinton",
         "orientation": "v",
         "showlegend": true,
         "textposition": "auto",
         "type": "bar",
         "x": [
          2001,
          2006,
          2011,
          2016
         ],
         "xaxis": "x",
         "y": [
          491987,
          719711,
          900233,
          1127052
         ],
         "yaxis": "y"
        },
        {
         "alignmentgroup": "True",
         "hovertemplate": "neighbourhood=Yonge-St.Clair<br>year=%{x}<br>average_house_value=%{y}<extra></extra>",
         "legendgroup": "Yonge-St.Clair",
         "marker": {
          "color": "#B6E880"
         },
         "name": "Yonge-St.Clair",
         "offsetgroup": "Yonge-St.Clair",
         "orientation": "v",
         "showlegend": true,
         "textposition": "auto",
         "type": "bar",
         "x": [
          2001,
          2006,
          2011,
          2016
         ],
         "xaxis": "x",
         "y": [
          494098,
          722799,
          904096,
          1131888
         ],
         "yaxis": "y"
        },
        {
         "alignmentgroup": "True",
         "hovertemplate": "neighbourhood=York University Heights<br>year=%{x}<br>average_house_value=%{y}<extra></extra>",
         "legendgroup": "York University Heights",
         "marker": {
          "color": "#FF97FF"
         },
         "name": "York University Heights",
         "offsetgroup": "York University Heights",
         "orientation": "v",
         "showlegend": true,
         "textposition": "auto",
         "type": "bar",
         "x": [
          2001,
          2006,
          2011,
          2016
         ],
         "xaxis": "x",
         "y": [
          185859,
          271887,
          340083,
          425769
         ],
         "yaxis": "y"
        },
        {
         "alignmentgroup": "True",
         "hovertemplate": "neighbourhood=Yorkdale-Glen Park<br>year=%{x}<br>average_house_value=%{y}<extra></extra>",
         "legendgroup": "Yorkdale-Glen Park",
         "marker": {
          "color": "#FECB52"
         },
         "name": "Yorkdale-Glen Park",
         "offsetgroup": "Yorkdale-Glen Park",
         "orientation": "v",
         "showlegend": true,
         "textposition": "auto",
         "type": "bar",
         "x": [
          2001,
          2006,
          2011,
          2016
         ],
         "xaxis": "x",
         "y": [
          261784,
          382954,
          479009,
          599698
         ],
         "yaxis": "y"
        }
       ],
       "layout": {
        "barmode": "relative",
        "legend": {
         "title": {
          "text": "neighbourhood"
         },
         "tracegroupgap": 0
        },
        "template": {
         "data": {
          "bar": [
           {
            "error_x": {
             "color": "#2a3f5f"
            },
            "error_y": {
             "color": "#2a3f5f"
            },
            "marker": {
             "line": {
              "color": "#E5ECF6",
              "width": 0.5
             }
            },
            "type": "bar"
           }
          ],
          "barpolar": [
           {
            "marker": {
             "line": {
              "color": "#E5ECF6",
              "width": 0.5
             }
            },
            "type": "barpolar"
           }
          ],
          "carpet": [
           {
            "aaxis": {
             "endlinecolor": "#2a3f5f",
             "gridcolor": "white",
             "linecolor": "white",
             "minorgridcolor": "white",
             "startlinecolor": "#2a3f5f"
            },
            "baxis": {
             "endlinecolor": "#2a3f5f",
             "gridcolor": "white",
             "linecolor": "white",
             "minorgridcolor": "white",
             "startlinecolor": "#2a3f5f"
            },
            "type": "carpet"
           }
          ],
          "choropleth": [
           {
            "colorbar": {
             "outlinewidth": 0,
             "ticks": ""
            },
            "type": "choropleth"
           }
          ],
          "contour": [
           {
            "colorbar": {
             "outlinewidth": 0,
             "ticks": ""
            },
            "colorscale": [
             [
              0,
              "#0d0887"
             ],
             [
              0.1111111111111111,
              "#46039f"
             ],
             [
              0.2222222222222222,
              "#7201a8"
             ],
             [
              0.3333333333333333,
              "#9c179e"
             ],
             [
              0.4444444444444444,
              "#bd3786"
             ],
             [
              0.5555555555555556,
              "#d8576b"
             ],
             [
              0.6666666666666666,
              "#ed7953"
             ],
             [
              0.7777777777777778,
              "#fb9f3a"
             ],
             [
              0.8888888888888888,
              "#fdca26"
             ],
             [
              1,
              "#f0f921"
             ]
            ],
            "type": "contour"
           }
          ],
          "contourcarpet": [
           {
            "colorbar": {
             "outlinewidth": 0,
             "ticks": ""
            },
            "type": "contourcarpet"
           }
          ],
          "heatmap": [
           {
            "colorbar": {
             "outlinewidth": 0,
             "ticks": ""
            },
            "colorscale": [
             [
              0,
              "#0d0887"
             ],
             [
              0.1111111111111111,
              "#46039f"
             ],
             [
              0.2222222222222222,
              "#7201a8"
             ],
             [
              0.3333333333333333,
              "#9c179e"
             ],
             [
              0.4444444444444444,
              "#bd3786"
             ],
             [
              0.5555555555555556,
              "#d8576b"
             ],
             [
              0.6666666666666666,
              "#ed7953"
             ],
             [
              0.7777777777777778,
              "#fb9f3a"
             ],
             [
              0.8888888888888888,
              "#fdca26"
             ],
             [
              1,
              "#f0f921"
             ]
            ],
            "type": "heatmap"
           }
          ],
          "heatmapgl": [
           {
            "colorbar": {
             "outlinewidth": 0,
             "ticks": ""
            },
            "colorscale": [
             [
              0,
              "#0d0887"
             ],
             [
              0.1111111111111111,
              "#46039f"
             ],
             [
              0.2222222222222222,
              "#7201a8"
             ],
             [
              0.3333333333333333,
              "#9c179e"
             ],
             [
              0.4444444444444444,
              "#bd3786"
             ],
             [
              0.5555555555555556,
              "#d8576b"
             ],
             [
              0.6666666666666666,
              "#ed7953"
             ],
             [
              0.7777777777777778,
              "#fb9f3a"
             ],
             [
              0.8888888888888888,
              "#fdca26"
             ],
             [
              1,
              "#f0f921"
             ]
            ],
            "type": "heatmapgl"
           }
          ],
          "histogram": [
           {
            "marker": {
             "colorbar": {
              "outlinewidth": 0,
              "ticks": ""
             }
            },
            "type": "histogram"
           }
          ],
          "histogram2d": [
           {
            "colorbar": {
             "outlinewidth": 0,
             "ticks": ""
            },
            "colorscale": [
             [
              0,
              "#0d0887"
             ],
             [
              0.1111111111111111,
              "#46039f"
             ],
             [
              0.2222222222222222,
              "#7201a8"
             ],
             [
              0.3333333333333333,
              "#9c179e"
             ],
             [
              0.4444444444444444,
              "#bd3786"
             ],
             [
              0.5555555555555556,
              "#d8576b"
             ],
             [
              0.6666666666666666,
              "#ed7953"
             ],
             [
              0.7777777777777778,
              "#fb9f3a"
             ],
             [
              0.8888888888888888,
              "#fdca26"
             ],
             [
              1,
              "#f0f921"
             ]
            ],
            "type": "histogram2d"
           }
          ],
          "histogram2dcontour": [
           {
            "colorbar": {
             "outlinewidth": 0,
             "ticks": ""
            },
            "colorscale": [
             [
              0,
              "#0d0887"
             ],
             [
              0.1111111111111111,
              "#46039f"
             ],
             [
              0.2222222222222222,
              "#7201a8"
             ],
             [
              0.3333333333333333,
              "#9c179e"
             ],
             [
              0.4444444444444444,
              "#bd3786"
             ],
             [
              0.5555555555555556,
              "#d8576b"
             ],
             [
              0.6666666666666666,
              "#ed7953"
             ],
             [
              0.7777777777777778,
              "#fb9f3a"
             ],
             [
              0.8888888888888888,
              "#fdca26"
             ],
             [
              1,
              "#f0f921"
             ]
            ],
            "type": "histogram2dcontour"
           }
          ],
          "mesh3d": [
           {
            "colorbar": {
             "outlinewidth": 0,
             "ticks": ""
            },
            "type": "mesh3d"
           }
          ],
          "parcoords": [
           {
            "line": {
             "colorbar": {
              "outlinewidth": 0,
              "ticks": ""
             }
            },
            "type": "parcoords"
           }
          ],
          "pie": [
           {
            "automargin": true,
            "type": "pie"
           }
          ],
          "scatter": [
           {
            "marker": {
             "colorbar": {
              "outlinewidth": 0,
              "ticks": ""
             }
            },
            "type": "scatter"
           }
          ],
          "scatter3d": [
           {
            "line": {
             "colorbar": {
              "outlinewidth": 0,
              "ticks": ""
             }
            },
            "marker": {
             "colorbar": {
              "outlinewidth": 0,
              "ticks": ""
             }
            },
            "type": "scatter3d"
           }
          ],
          "scattercarpet": [
           {
            "marker": {
             "colorbar": {
              "outlinewidth": 0,
              "ticks": ""
             }
            },
            "type": "scattercarpet"
           }
          ],
          "scattergeo": [
           {
            "marker": {
             "colorbar": {
              "outlinewidth": 0,
              "ticks": ""
             }
            },
            "type": "scattergeo"
           }
          ],
          "scattergl": [
           {
            "marker": {
             "colorbar": {
              "outlinewidth": 0,
              "ticks": ""
             }
            },
            "type": "scattergl"
           }
          ],
          "scattermapbox": [
           {
            "marker": {
             "colorbar": {
              "outlinewidth": 0,
              "ticks": ""
             }
            },
            "type": "scattermapbox"
           }
          ],
          "scatterpolar": [
           {
            "marker": {
             "colorbar": {
              "outlinewidth": 0,
              "ticks": ""
             }
            },
            "type": "scatterpolar"
           }
          ],
          "scatterpolargl": [
           {
            "marker": {
             "colorbar": {
              "outlinewidth": 0,
              "ticks": ""
             }
            },
            "type": "scatterpolargl"
           }
          ],
          "scatterternary": [
           {
            "marker": {
             "colorbar": {
              "outlinewidth": 0,
              "ticks": ""
             }
            },
            "type": "scatterternary"
           }
          ],
          "surface": [
           {
            "colorbar": {
             "outlinewidth": 0,
             "ticks": ""
            },
            "colorscale": [
             [
              0,
              "#0d0887"
             ],
             [
              0.1111111111111111,
              "#46039f"
             ],
             [
              0.2222222222222222,
              "#7201a8"
             ],
             [
              0.3333333333333333,
              "#9c179e"
             ],
             [
              0.4444444444444444,
              "#bd3786"
             ],
             [
              0.5555555555555556,
              "#d8576b"
             ],
             [
              0.6666666666666666,
              "#ed7953"
             ],
             [
              0.7777777777777778,
              "#fb9f3a"
             ],
             [
              0.8888888888888888,
              "#fdca26"
             ],
             [
              1,
              "#f0f921"
             ]
            ],
            "type": "surface"
           }
          ],
          "table": [
           {
            "cells": {
             "fill": {
              "color": "#EBF0F8"
             },
             "line": {
              "color": "white"
             }
            },
            "header": {
             "fill": {
              "color": "#C8D4E3"
             },
             "line": {
              "color": "white"
             }
            },
            "type": "table"
           }
          ]
         },
         "layout": {
          "annotationdefaults": {
           "arrowcolor": "#2a3f5f",
           "arrowhead": 0,
           "arrowwidth": 1
          },
          "coloraxis": {
           "colorbar": {
            "outlinewidth": 0,
            "ticks": ""
           }
          },
          "colorscale": {
           "diverging": [
            [
             0,
             "#8e0152"
            ],
            [
             0.1,
             "#c51b7d"
            ],
            [
             0.2,
             "#de77ae"
            ],
            [
             0.3,
             "#f1b6da"
            ],
            [
             0.4,
             "#fde0ef"
            ],
            [
             0.5,
             "#f7f7f7"
            ],
            [
             0.6,
             "#e6f5d0"
            ],
            [
             0.7,
             "#b8e186"
            ],
            [
             0.8,
             "#7fbc41"
            ],
            [
             0.9,
             "#4d9221"
            ],
            [
             1,
             "#276419"
            ]
           ],
           "sequential": [
            [
             0,
             "#0d0887"
            ],
            [
             0.1111111111111111,
             "#46039f"
            ],
            [
             0.2222222222222222,
             "#7201a8"
            ],
            [
             0.3333333333333333,
             "#9c179e"
            ],
            [
             0.4444444444444444,
             "#bd3786"
            ],
            [
             0.5555555555555556,
             "#d8576b"
            ],
            [
             0.6666666666666666,
             "#ed7953"
            ],
            [
             0.7777777777777778,
             "#fb9f3a"
            ],
            [
             0.8888888888888888,
             "#fdca26"
            ],
            [
             1,
             "#f0f921"
            ]
           ],
           "sequentialminus": [
            [
             0,
             "#0d0887"
            ],
            [
             0.1111111111111111,
             "#46039f"
            ],
            [
             0.2222222222222222,
             "#7201a8"
            ],
            [
             0.3333333333333333,
             "#9c179e"
            ],
            [
             0.4444444444444444,
             "#bd3786"
            ],
            [
             0.5555555555555556,
             "#d8576b"
            ],
            [
             0.6666666666666666,
             "#ed7953"
            ],
            [
             0.7777777777777778,
             "#fb9f3a"
            ],
            [
             0.8888888888888888,
             "#fdca26"
            ],
            [
             1,
             "#f0f921"
            ]
           ]
          },
          "colorway": [
           "#636efa",
           "#EF553B",
           "#00cc96",
           "#ab63fa",
           "#FFA15A",
           "#19d3f3",
           "#FF6692",
           "#B6E880",
           "#FF97FF",
           "#FECB52"
          ],
          "font": {
           "color": "#2a3f5f"
          },
          "geo": {
           "bgcolor": "white",
           "lakecolor": "white",
           "landcolor": "#E5ECF6",
           "showlakes": true,
           "showland": true,
           "subunitcolor": "white"
          },
          "hoverlabel": {
           "align": "left"
          },
          "hovermode": "closest",
          "mapbox": {
           "style": "light"
          },
          "paper_bgcolor": "white",
          "plot_bgcolor": "#E5ECF6",
          "polar": {
           "angularaxis": {
            "gridcolor": "white",
            "linecolor": "white",
            "ticks": ""
           },
           "bgcolor": "#E5ECF6",
           "radialaxis": {
            "gridcolor": "white",
            "linecolor": "white",
            "ticks": ""
           }
          },
          "scene": {
           "xaxis": {
            "backgroundcolor": "#E5ECF6",
            "gridcolor": "white",
            "gridwidth": 2,
            "linecolor": "white",
            "showbackground": true,
            "ticks": "",
            "zerolinecolor": "white"
           },
           "yaxis": {
            "backgroundcolor": "#E5ECF6",
            "gridcolor": "white",
            "gridwidth": 2,
            "linecolor": "white",
            "showbackground": true,
            "ticks": "",
            "zerolinecolor": "white"
           },
           "zaxis": {
            "backgroundcolor": "#E5ECF6",
            "gridcolor": "white",
            "gridwidth": 2,
            "linecolor": "white",
            "showbackground": true,
            "ticks": "",
            "zerolinecolor": "white"
           }
          },
          "shapedefaults": {
           "line": {
            "color": "#2a3f5f"
           }
          },
          "ternary": {
           "aaxis": {
            "gridcolor": "white",
            "linecolor": "white",
            "ticks": ""
           },
           "baxis": {
            "gridcolor": "white",
            "linecolor": "white",
            "ticks": ""
           },
           "bgcolor": "#E5ECF6",
           "caxis": {
            "gridcolor": "white",
            "linecolor": "white",
            "ticks": ""
           }
          },
          "title": {
           "x": 0.05
          },
          "xaxis": {
           "automargin": true,
           "gridcolor": "white",
           "linecolor": "white",
           "ticks": "",
           "title": {
            "standoff": 15
           },
           "zerolinecolor": "white",
           "zerolinewidth": 2
          },
          "yaxis": {
           "automargin": true,
           "gridcolor": "white",
           "linecolor": "white",
           "ticks": "",
           "title": {
            "standoff": 15
           },
           "zerolinecolor": "white",
           "zerolinewidth": 2
          }
         }
        },
        "title": {
         "text": "Average House Values in Toronto"
        },
        "xaxis": {
         "anchor": "y",
         "domain": [
          0,
          1
         ],
         "title": {
          "text": "year"
         }
        },
        "yaxis": {
         "anchor": "x",
         "domain": [
          0,
          1
         ],
         "title": {
          "text": "average_house_value"
         }
        }
       }
      },
      "text/html": [
       "<div>                            <div id=\"a6b49bca-07aa-4c55-b6b2-bba2a2bca908\" class=\"plotly-graph-div\" style=\"height:525px; width:100%;\"></div>            <script type=\"text/javascript\">                require([\"plotly\"], function(Plotly) {                    window.PLOTLYENV=window.PLOTLYENV || {};                                    if (document.getElementById(\"a6b49bca-07aa-4c55-b6b2-bba2a2bca908\")) {                    Plotly.newPlot(                        \"a6b49bca-07aa-4c55-b6b2-bba2a2bca908\",                        [{\"alignmentgroup\": \"True\", \"hovertemplate\": \"neighbourhood=Agincourt North<br>year=%{x}<br>average_house_value=%{y}<extra></extra>\", \"legendgroup\": \"Agincourt North\", \"marker\": {\"color\": \"#636efa\"}, \"name\": \"Agincourt North\", \"offsetgroup\": \"Agincourt North\", \"orientation\": \"v\", \"showlegend\": true, \"textposition\": \"auto\", \"type\": \"bar\", \"x\": [2001, 2006, 2011, 2016], \"xaxis\": \"x\", \"y\": [200388, 293140, 366667, 459051], \"yaxis\": \"y\"}, {\"alignmentgroup\": \"True\", \"hovertemplate\": \"neighbourhood=Agincourt South-Malvern West<br>year=%{x}<br>average_house_value=%{y}<extra></extra>\", \"legendgroup\": \"Agincourt South-Malvern West\", \"marker\": {\"color\": \"#EF553B\"}, \"name\": \"Agincourt South-Malvern West\", \"offsetgroup\": \"Agincourt South-Malvern West\", \"orientation\": \"v\", \"showlegend\": true, \"textposition\": \"auto\", \"type\": \"bar\", \"x\": [2001, 2006, 2011, 2016], \"xaxis\": \"x\", \"y\": [203047, 297031, 371534, 465144], \"yaxis\": \"y\"}, {\"alignmentgroup\": \"True\", \"hovertemplate\": \"neighbourhood=Alderwood<br>year=%{x}<br>average_house_value=%{y}<extra></extra>\", \"legendgroup\": \"Alderwood\", \"marker\": {\"color\": \"#00cc96\"}, \"name\": \"Alderwood\", \"offsetgroup\": \"Alderwood\", \"orientation\": \"v\", \"showlegend\": true, \"textposition\": \"auto\", \"type\": \"bar\", \"x\": [2001, 2006, 2011, 2016], \"xaxis\": \"x\", \"y\": [259998, 380342, 475742, 595608], \"yaxis\": \"y\"}, {\"alignmentgroup\": \"True\", \"hovertemplate\": \"neighbourhood=Annex<br>year=%{x}<br>average_house_value=%{y}<extra></extra>\", \"legendgroup\": \"Annex\", \"marker\": {\"color\": \"#ab63fa\"}, \"name\": \"Annex\", \"offsetgroup\": \"Annex\", \"orientation\": \"v\", \"showlegend\": true, \"textposition\": \"auto\", \"type\": \"bar\", \"x\": [2001, 2006, 2011, 2016], \"xaxis\": \"x\", \"y\": [453850, 663921, 830450, 1039687], \"yaxis\": \"y\"}, {\"alignmentgroup\": \"True\", \"hovertemplate\": \"neighbourhood=Banbury-Don Mills<br>year=%{x}<br>average_house_value=%{y}<extra></extra>\", \"legendgroup\": \"Banbury-Don Mills\", \"marker\": {\"color\": \"#FFA15A\"}, \"name\": \"Banbury-Don Mills\", \"offsetgroup\": \"Banbury-Don Mills\", \"orientation\": \"v\", \"showlegend\": true, \"textposition\": \"auto\", \"type\": \"bar\", \"x\": [2001, 2006, 2011, 2016], \"xaxis\": \"x\", \"y\": [371864, 543987, 680433, 851872], \"yaxis\": \"y\"}, {\"alignmentgroup\": \"True\", \"hovertemplate\": \"neighbourhood=Bathurst Manor<br>year=%{x}<br>average_house_value=%{y}<extra></extra>\", \"legendgroup\": \"Bathurst Manor\", \"marker\": {\"color\": \"#19d3f3\"}, \"name\": \"Bathurst Manor\", \"offsetgroup\": \"Bathurst Manor\", \"orientation\": \"v\", \"showlegend\": true, \"textposition\": \"auto\", \"type\": \"bar\", \"x\": [2001, 2006, 2011, 2016], \"xaxis\": \"x\", \"y\": [304749, 445807, 557627, 698124], \"yaxis\": \"y\"}, {\"alignmentgroup\": \"True\", \"hovertemplate\": \"neighbourhood=Bay Street Corridor<br>year=%{x}<br>average_house_value=%{y}<extra></extra>\", \"legendgroup\": \"Bay Street Corridor\", \"marker\": {\"color\": \"#FF6692\"}, \"name\": \"Bay Street Corridor\", \"offsetgroup\": \"Bay Street Corridor\", \"orientation\": \"v\", \"showlegend\": true, \"textposition\": \"auto\", \"type\": \"bar\", \"x\": [2001, 2006, 2011, 2016], \"xaxis\": \"x\", \"y\": [257404, 376548, 470996, 589666], \"yaxis\": \"y\"}, {\"alignmentgroup\": \"True\", \"hovertemplate\": \"neighbourhood=Bayview Village<br>year=%{x}<br>average_house_value=%{y}<extra></extra>\", \"legendgroup\": \"Bayview Village\", \"marker\": {\"color\": \"#B6E880\"}, \"name\": \"Bayview Village\", \"offsetgroup\": \"Bayview Village\", \"orientation\": \"v\", \"showlegend\": true, \"textposition\": \"auto\", \"type\": \"bar\", \"x\": [2001, 2006, 2011, 2016], \"xaxis\": \"x\", \"y\": [327644, 479299, 599520, 750572], \"yaxis\": \"y\"}, {\"alignmentgroup\": \"True\", \"hovertemplate\": \"neighbourhood=Bayview Woods-Steeles<br>year=%{x}<br>average_house_value=%{y}<extra></extra>\", \"legendgroup\": \"Bayview Woods-Steeles\", \"marker\": {\"color\": \"#FF97FF\"}, \"name\": \"Bayview Woods-Steeles\", \"offsetgroup\": \"Bayview Woods-Steeles\", \"orientation\": \"v\", \"showlegend\": true, \"textposition\": \"auto\", \"type\": \"bar\", \"x\": [2001, 2006, 2011, 2016], \"xaxis\": \"x\", \"y\": [343535, 502546, 628597, 786976], \"yaxis\": \"y\"}, {\"alignmentgroup\": \"True\", \"hovertemplate\": \"neighbourhood=Bedford Park-Nortown<br>year=%{x}<br>average_house_value=%{y}<extra></extra>\", \"legendgroup\": \"Bedford Park-Nortown\", \"marker\": {\"color\": \"#FECB52\"}, \"name\": \"Bedford Park-Nortown\", \"offsetgroup\": \"Bedford Park-Nortown\", \"orientation\": \"v\", \"showlegend\": true, \"textposition\": \"auto\", \"type\": \"bar\", \"x\": [2001, 2006, 2011, 2016], \"xaxis\": \"x\", \"y\": [565304, 826963, 1034387, 1295007], \"yaxis\": \"y\"}, {\"alignmentgroup\": \"True\", \"hovertemplate\": \"neighbourhood=Beechborough-Greenbrook<br>year=%{x}<br>average_house_value=%{y}<extra></extra>\", \"legendgroup\": \"Beechborough-Greenbrook\", \"marker\": {\"color\": \"#636efa\"}, \"name\": \"Beechborough-Greenbrook\", \"offsetgroup\": \"Beechborough-Greenbrook\", \"orientation\": \"v\", \"showlegend\": true, \"textposition\": \"auto\", \"type\": \"bar\", \"x\": [2001, 2006, 2011, 2016], \"xaxis\": \"x\", \"y\": [225369, 329685, 412378, 516279], \"yaxis\": \"y\"}, {\"alignmentgroup\": \"True\", \"hovertemplate\": \"neighbourhood=Bendale<br>year=%{x}<br>average_house_value=%{y}<extra></extra>\", \"legendgroup\": \"Bendale\", \"marker\": {\"color\": \"#EF553B\"}, \"name\": \"Bendale\", \"offsetgroup\": \"Bendale\", \"orientation\": \"v\", \"showlegend\": true, \"textposition\": \"auto\", \"type\": \"bar\", \"x\": [2001, 2006, 2011, 2016], \"xaxis\": \"x\", \"y\": [182957, 267642, 334773, 419121], \"yaxis\": \"y\"}, {\"alignmentgroup\": \"True\", \"hovertemplate\": \"neighbourhood=Birchcliffe-Cliffside<br>year=%{x}<br>average_house_value=%{y}<extra></extra>\", \"legendgroup\": \"Birchcliffe-Cliffside\", \"marker\": {\"color\": \"#00cc96\"}, \"name\": \"Birchcliffe-Cliffside\", \"offsetgroup\": \"Birchcliffe-Cliffside\", \"orientation\": \"v\", \"showlegend\": true, \"textposition\": \"auto\", \"type\": \"bar\", \"x\": [2001, 2006, 2011, 2016], \"xaxis\": \"x\", \"y\": [265705, 388690, 486184, 608681], \"yaxis\": \"y\"}, {\"alignmentgroup\": \"True\", \"hovertemplate\": \"neighbourhood=Black Creek<br>year=%{x}<br>average_house_value=%{y}<extra></extra>\", \"legendgroup\": \"Black Creek\", \"marker\": {\"color\": \"#ab63fa\"}, \"name\": \"Black Creek\", \"offsetgroup\": \"Black Creek\", \"orientation\": \"v\", \"showlegend\": true, \"textposition\": \"auto\", \"type\": \"bar\", \"x\": [2001, 2006, 2011, 2016], \"xaxis\": \"x\", \"y\": [158483, 231839, 289990, 363055], \"yaxis\": \"y\"}, {\"alignmentgroup\": \"True\", \"hovertemplate\": \"neighbourhood=Blake-Jones<br>year=%{x}<br>average_house_value=%{y}<extra></extra>\", \"legendgroup\": \"Blake-Jones\", \"marker\": {\"color\": \"#FFA15A\"}, \"name\": \"Blake-Jones\", \"offsetgroup\": \"Blake-Jones\", \"orientation\": \"v\", \"showlegend\": true, \"textposition\": \"auto\", \"type\": \"bar\", \"x\": [2001, 2006, 2011, 2016], \"xaxis\": \"x\", \"y\": [310740, 454571, 568589, 711848], \"yaxis\": \"y\"}, {\"alignmentgroup\": \"True\", \"hovertemplate\": \"neighbourhood=Briar Hill-Belgravia<br>year=%{x}<br>average_house_value=%{y}<extra></extra>\", \"legendgroup\": \"Briar Hill-Belgravia\", \"marker\": {\"color\": \"#19d3f3\"}, \"name\": \"Briar Hill-Belgravia\", \"offsetgroup\": \"Briar Hill-Belgravia\", \"orientation\": \"v\", \"showlegend\": true, \"textposition\": \"auto\", \"type\": \"bar\", \"x\": [2001, 2006, 2011, 2016], \"xaxis\": \"x\", \"y\": [222086, 324882, 406371, 508759], \"yaxis\": \"y\"}, {\"alignmentgroup\": \"True\", \"hovertemplate\": \"neighbourhood=Bridle Path-Sunnybrook-York Mills<br>year=%{x}<br>average_house_value=%{y}<extra></extra>\", \"legendgroup\": \"Bridle Path-Sunnybrook-York Mills\", \"marker\": {\"color\": \"#FF6692\"}, \"name\": \"Bridle Path-Sunnybrook-York Mills\", \"offsetgroup\": \"Bridle Path-Sunnybrook-York Mills\", \"orientation\": \"v\", \"showlegend\": true, \"textposition\": \"auto\", \"type\": \"bar\", \"x\": [2001, 2006, 2011, 2016], \"xaxis\": \"x\", \"y\": [927466, 1356757, 1697067, 2124653], \"yaxis\": \"y\"}, {\"alignmentgroup\": \"True\", \"hovertemplate\": \"neighbourhood=Broadview North<br>year=%{x}<br>average_house_value=%{y}<extra></extra>\", \"legendgroup\": \"Broadview North\", \"marker\": {\"color\": \"#B6E880\"}, \"name\": \"Broadview North\", \"offsetgroup\": \"Broadview North\", \"orientation\": \"v\", \"showlegend\": true, \"textposition\": \"auto\", \"type\": \"bar\", \"x\": [2001, 2006, 2011, 2016], \"xaxis\": \"x\", \"y\": [269386, 394075, 492919, 617113], \"yaxis\": \"y\"}, {\"alignmentgroup\": \"True\", \"hovertemplate\": \"neighbourhood=Brookhaven-Amesbury<br>year=%{x}<br>average_house_value=%{y}<extra></extra>\", \"legendgroup\": \"Brookhaven-Amesbury\", \"marker\": {\"color\": \"#FF97FF\"}, \"name\": \"Brookhaven-Amesbury\", \"offsetgroup\": \"Brookhaven-Amesbury\", \"orientation\": \"v\", \"showlegend\": true, \"textposition\": \"auto\", \"type\": \"bar\", \"x\": [2001, 2006, 2011, 2016], \"xaxis\": \"x\", \"y\": [213227, 311922, 390160, 488463], \"yaxis\": \"y\"}, {\"alignmentgroup\": \"True\", \"hovertemplate\": \"neighbourhood=Cabbagetown-South St.James Town<br>year=%{x}<br>average_house_value=%{y}<extra></extra>\", \"legendgroup\": \"Cabbagetown-South St.James Town\", \"marker\": {\"color\": \"#FECB52\"}, \"name\": \"Cabbagetown-South St.James Town\", \"offsetgroup\": \"Cabbagetown-South St.James Town\", \"orientation\": \"v\", \"showlegend\": true, \"textposition\": \"auto\", \"type\": \"bar\", \"x\": [2001, 2006, 2011, 2016], \"xaxis\": \"x\", \"y\": [300213, 439171, 549326, 687732], \"yaxis\": \"y\"}, {\"alignmentgroup\": \"True\", \"hovertemplate\": \"neighbourhood=Caledonia-Fairbank<br>year=%{x}<br>average_house_value=%{y}<extra></extra>\", \"legendgroup\": \"Caledonia-Fairbank\", \"marker\": {\"color\": \"#636efa\"}, \"name\": \"Caledonia-Fairbank\", \"offsetgroup\": \"Caledonia-Fairbank\", \"orientation\": \"v\", \"showlegend\": true, \"textposition\": \"auto\", \"type\": \"bar\", \"x\": [2001, 2006, 2011, 2016], \"xaxis\": \"x\", \"y\": [219771, 321496, 402135, 503455], \"yaxis\": \"y\"}, {\"alignmentgroup\": \"True\", \"hovertemplate\": \"neighbourhood=Casa Loma<br>year=%{x}<br>average_house_value=%{y}<extra></extra>\", \"legendgroup\": \"Casa Loma\", \"marker\": {\"color\": \"#EF553B\"}, \"name\": \"Casa Loma\", \"offsetgroup\": \"Casa Loma\", \"orientation\": \"v\", \"showlegend\": true, \"textposition\": \"auto\", \"type\": \"bar\", \"x\": [2001, 2006, 2011, 2016], \"xaxis\": \"x\", \"y\": [596077, 871981, 1090696, 1365503], \"yaxis\": \"y\"}, {\"alignmentgroup\": \"True\", \"hovertemplate\": \"neighbourhood=Centennial Scarborough<br>year=%{x}<br>average_house_value=%{y}<extra></extra>\", \"legendgroup\": \"Centennial Scarborough\", \"marker\": {\"color\": \"#00cc96\"}, \"name\": \"Centennial Scarborough\", \"offsetgroup\": \"Centennial Scarborough\", \"orientation\": \"v\", \"showlegend\": true, \"textposition\": \"auto\", \"type\": \"bar\", \"x\": [2001, 2006, 2011, 2016], \"xaxis\": \"x\", \"y\": [249025, 364291, 455664, 570471], \"yaxis\": \"y\"}, {\"alignmentgroup\": \"True\", \"hovertemplate\": \"neighbourhood=Church-Yonge Corridor<br>year=%{x}<br>average_house_value=%{y}<extra></extra>\", \"legendgroup\": \"Church-Yonge Corridor\", \"marker\": {\"color\": \"#ab63fa\"}, \"name\": \"Church-Yonge Corridor\", \"offsetgroup\": \"Church-Yonge Corridor\", \"orientation\": \"v\", \"showlegend\": true, \"textposition\": \"auto\", \"type\": \"bar\", \"x\": [2001, 2006, 2011, 2016], \"xaxis\": \"x\", \"y\": [246750, 360962, 451500, 565258], \"yaxis\": \"y\"}, {\"alignmentgroup\": \"True\", \"hovertemplate\": \"neighbourhood=Clairlea-Birchmount<br>year=%{x}<br>average_house_value=%{y}<extra></extra>\", \"legendgroup\": \"Clairlea-Birchmount\", \"marker\": {\"color\": \"#FFA15A\"}, \"name\": \"Clairlea-Birchmount\", \"offsetgroup\": \"Clairlea-Birchmount\", \"orientation\": \"v\", \"showlegend\": true, \"textposition\": \"auto\", \"type\": \"bar\", \"x\": [2001, 2006, 2011, 2016], \"xaxis\": \"x\", \"y\": [215421, 315133, 394176, 493491], \"yaxis\": \"y\"}, {\"alignmentgroup\": \"True\", \"hovertemplate\": \"neighbourhood=Clanton Park<br>year=%{x}<br>average_house_value=%{y}<extra></extra>\", \"legendgroup\": \"Clanton Park\", \"marker\": {\"color\": \"#19d3f3\"}, \"name\": \"Clanton Park\", \"offsetgroup\": \"Clanton Park\", \"orientation\": \"v\", \"showlegend\": true, \"textposition\": \"auto\", \"type\": \"bar\", \"x\": [2001, 2006, 2011, 2016], \"xaxis\": \"x\", \"y\": [335119, 490234, 613197, 767695], \"yaxis\": \"y\"}, {\"alignmentgroup\": \"True\", \"hovertemplate\": \"neighbourhood=Cliffcrest<br>year=%{x}<br>average_house_value=%{y}<extra></extra>\", \"legendgroup\": \"Cliffcrest\", \"marker\": {\"color\": \"#FF6692\"}, \"name\": \"Cliffcrest\", \"offsetgroup\": \"Cliffcrest\", \"orientation\": \"v\", \"showlegend\": true, \"textposition\": \"auto\", \"type\": \"bar\", \"x\": [2001, 2006, 2011, 2016], \"xaxis\": \"x\", \"y\": [253618, 371009, 464068, 580993], \"yaxis\": \"y\"}, {\"alignmentgroup\": \"True\", \"hovertemplate\": \"neighbourhood=Corso Italia-Davenport<br>year=%{x}<br>average_house_value=%{y}<extra></extra>\", \"legendgroup\": \"Corso Italia-Davenport\", \"marker\": {\"color\": \"#B6E880\"}, \"name\": \"Corso Italia-Davenport\", \"offsetgroup\": \"Corso Italia-Davenport\", \"orientation\": \"v\", \"showlegend\": true, \"textposition\": \"auto\", \"type\": \"bar\", \"x\": [2001, 2006, 2011, 2016], \"xaxis\": \"x\", \"y\": [255142, 373239, 466857, 584484], \"yaxis\": \"y\"}, {\"alignmentgroup\": \"True\", \"hovertemplate\": \"neighbourhood=Danforth<br>year=%{x}<br>average_house_value=%{y}<extra></extra>\", \"legendgroup\": \"Danforth\", \"marker\": {\"color\": \"#FF97FF\"}, \"name\": \"Danforth\", \"offsetgroup\": \"Danforth\", \"orientation\": \"v\", \"showlegend\": true, \"textposition\": \"auto\", \"type\": \"bar\", \"x\": [2001, 2006, 2011, 2016], \"xaxis\": \"x\", \"y\": [283706, 415024, 519123, 649919], \"yaxis\": \"y\"}, {\"alignmentgroup\": \"True\", \"hovertemplate\": \"neighbourhood=Danforth-East York<br>year=%{x}<br>average_house_value=%{y}<extra></extra>\", \"legendgroup\": \"Danforth-East York\", \"marker\": {\"color\": \"#FECB52\"}, \"name\": \"Danforth-East York\", \"offsetgroup\": \"Danforth-East York\", \"orientation\": \"v\", \"showlegend\": true, \"textposition\": \"auto\", \"type\": \"bar\", \"x\": [2001, 2006, 2011, 2016], \"xaxis\": \"x\", \"y\": [256205, 374793, 468801, 586918], \"yaxis\": \"y\"}, {\"alignmentgroup\": \"True\", \"hovertemplate\": \"neighbourhood=Don Valley Village<br>year=%{x}<br>average_house_value=%{y}<extra></extra>\", \"legendgroup\": \"Don Valley Village\", \"marker\": {\"color\": \"#636efa\"}, \"name\": \"Don Valley Village\", \"offsetgroup\": \"Don Valley Village\", \"orientation\": \"v\", \"showlegend\": true, \"textposition\": \"auto\", \"type\": \"bar\", \"x\": [2001, 2006, 2011, 2016], \"xaxis\": \"x\", \"y\": [241824, 353756, 442487, 553974], \"yaxis\": \"y\"}, {\"alignmentgroup\": \"True\", \"hovertemplate\": \"neighbourhood=Dorset Park<br>year=%{x}<br>average_house_value=%{y}<extra></extra>\", \"legendgroup\": \"Dorset Park\", \"marker\": {\"color\": \"#EF553B\"}, \"name\": \"Dorset Park\", \"offsetgroup\": \"Dorset Park\", \"orientation\": \"v\", \"showlegend\": true, \"textposition\": \"auto\", \"type\": \"bar\", \"x\": [2001, 2006, 2011, 2016], \"xaxis\": \"x\", \"y\": [159187, 232869, 291278, 364667], \"yaxis\": \"y\"}, {\"alignmentgroup\": \"True\", \"hovertemplate\": \"neighbourhood=Dovercourt-Wallace Emerson-Juncti<br>year=%{x}<br>average_house_value=%{y}<extra></extra>\", \"legendgroup\": \"Dovercourt-Wallace Emerson-Juncti\", \"marker\": {\"color\": \"#00cc96\"}, \"name\": \"Dovercourt-Wallace Emerson-Juncti\", \"offsetgroup\": \"Dovercourt-Wallace Emerson-Juncti\", \"orientation\": \"v\", \"showlegend\": true, \"textposition\": \"auto\", \"type\": \"bar\", \"x\": [2001, 2006, 2011, 2016], \"xaxis\": \"x\", \"y\": [264116, 386366, 483276, 605040], \"yaxis\": \"y\"}, {\"alignmentgroup\": \"True\", \"hovertemplate\": \"neighbourhood=Downsview-Roding-CFB<br>year=%{x}<br>average_house_value=%{y}<extra></extra>\", \"legendgroup\": \"Downsview-Roding-CFB\", \"marker\": {\"color\": \"#ab63fa\"}, \"name\": \"Downsview-Roding-CFB\", \"offsetgroup\": \"Downsview-Roding-CFB\", \"orientation\": \"v\", \"showlegend\": true, \"textposition\": \"auto\", \"type\": \"bar\", \"x\": [2001, 2006, 2011, 2016], \"xaxis\": \"x\", \"y\": [231741, 339006, 424038, 530877], \"yaxis\": \"y\"}, {\"alignmentgroup\": \"True\", \"hovertemplate\": \"neighbourhood=Dufferin Grove<br>year=%{x}<br>average_house_value=%{y}<extra></extra>\", \"legendgroup\": \"Dufferin Grove\", \"marker\": {\"color\": \"#FFA15A\"}, \"name\": \"Dufferin Grove\", \"offsetgroup\": \"Dufferin Grove\", \"orientation\": \"v\", \"showlegend\": true, \"textposition\": \"auto\", \"type\": \"bar\", \"x\": [2001, 2006, 2011, 2016], \"xaxis\": \"x\", \"y\": [278023, 406710, 508723, 636899], \"yaxis\": \"y\"}, {\"alignmentgroup\": \"True\", \"hovertemplate\": \"neighbourhood=East End-Danforth<br>year=%{x}<br>average_house_value=%{y}<extra></extra>\", \"legendgroup\": \"East End-Danforth\", \"marker\": {\"color\": \"#19d3f3\"}, \"name\": \"East End-Danforth\", \"offsetgroup\": \"East End-Danforth\", \"orientation\": \"v\", \"showlegend\": true, \"textposition\": \"auto\", \"type\": \"bar\", \"x\": [2001, 2006, 2011, 2016], \"xaxis\": \"x\", \"y\": [290457, 424900, 531476, 665384], \"yaxis\": \"y\"}, {\"alignmentgroup\": \"True\", \"hovertemplate\": \"neighbourhood=Edenbridge-Humber Valley<br>year=%{x}<br>average_house_value=%{y}<extra></extra>\", \"legendgroup\": \"Edenbridge-Humber Valley\", \"marker\": {\"color\": \"#FF6692\"}, \"name\": \"Edenbridge-Humber Valley\", \"offsetgroup\": \"Edenbridge-Humber Valley\", \"orientation\": \"v\", \"showlegend\": true, \"textposition\": \"auto\", \"type\": \"bar\", \"x\": [2001, 2006, 2011, 2016], \"xaxis\": \"x\", \"y\": [483734, 707638, 885132, 1108146], \"yaxis\": \"y\"}, {\"alignmentgroup\": \"True\", \"hovertemplate\": \"neighbourhood=Eglinton East<br>year=%{x}<br>average_house_value=%{y}<extra></extra>\", \"legendgroup\": \"Eglinton East\", \"marker\": {\"color\": \"#B6E880\"}, \"name\": \"Eglinton East\", \"offsetgroup\": \"Eglinton East\", \"orientation\": \"v\", \"showlegend\": true, \"textposition\": \"auto\", \"type\": \"bar\", \"x\": [2001, 2006, 2011, 2016], \"xaxis\": \"x\", \"y\": [163419, 239060, 299023, 374364], \"yaxis\": \"y\"}, {\"alignmentgroup\": \"True\", \"hovertemplate\": \"neighbourhood=Elms-Old Rexdale<br>year=%{x}<br>average_house_value=%{y}<extra></extra>\", \"legendgroup\": \"Elms-Old Rexdale\", \"marker\": {\"color\": \"#FF97FF\"}, \"name\": \"Elms-Old Rexdale\", \"offsetgroup\": \"Elms-Old Rexdale\", \"orientation\": \"v\", \"showlegend\": true, \"textposition\": \"auto\", \"type\": \"bar\", \"x\": [2001, 2006, 2011, 2016], \"xaxis\": \"x\", \"y\": [163039, 238505, 298328, 373493], \"yaxis\": \"y\"}, {\"alignmentgroup\": \"True\", \"hovertemplate\": \"neighbourhood=Englemount-Lawrence<br>year=%{x}<br>average_house_value=%{y}<extra></extra>\", \"legendgroup\": \"Englemount-Lawrence\", \"marker\": {\"color\": \"#FECB52\"}, \"name\": \"Englemount-Lawrence\", \"offsetgroup\": \"Englemount-Lawrence\", \"orientation\": \"v\", \"showlegend\": true, \"textposition\": \"auto\", \"type\": \"bar\", \"x\": [2001, 2006, 2011, 2016], \"xaxis\": \"x\", \"y\": [345676, 505677, 632514, 791880], \"yaxis\": \"y\"}, {\"alignmentgroup\": \"True\", \"hovertemplate\": \"neighbourhood=Eringate-Centennial-West Deane<br>year=%{x}<br>average_house_value=%{y}<extra></extra>\", \"legendgroup\": \"Eringate-Centennial-West Deane\", \"marker\": {\"color\": \"#636efa\"}, \"name\": \"Eringate-Centennial-West Deane\", \"offsetgroup\": \"Eringate-Centennial-West Deane\", \"orientation\": \"v\", \"showlegend\": true, \"textposition\": \"auto\", \"type\": \"bar\", \"x\": [2001, 2006, 2011, 2016], \"xaxis\": \"x\", \"y\": [241685, 353553, 442233, 553656], \"yaxis\": \"y\"}, {\"alignmentgroup\": \"True\", \"hovertemplate\": \"neighbourhood=Etobicoke West Mall<br>year=%{x}<br>average_house_value=%{y}<extra></extra>\", \"legendgroup\": \"Etobicoke West Mall\", \"marker\": {\"color\": \"#EF553B\"}, \"name\": \"Etobicoke West Mall\", \"offsetgroup\": \"Etobicoke West Mall\", \"orientation\": \"v\", \"showlegend\": true, \"textposition\": \"auto\", \"type\": \"bar\", \"x\": [2001, 2006, 2011, 2016], \"xaxis\": \"x\", \"y\": [187993, 275009, 343988, 430658], \"yaxis\": \"y\"}, {\"alignmentgroup\": \"True\", \"hovertemplate\": \"neighbourhood=Flemingdon Park<br>year=%{x}<br>average_house_value=%{y}<extra></extra>\", \"legendgroup\": \"Flemingdon Park\", \"marker\": {\"color\": \"#00cc96\"}, \"name\": \"Flemingdon Park\", \"offsetgroup\": \"Flemingdon Park\", \"orientation\": \"v\", \"showlegend\": true, \"textposition\": \"auto\", \"type\": \"bar\", \"x\": [2001, 2006, 2011, 2016], \"xaxis\": \"x\", \"y\": [126255, 184694, 231020, 289227], \"yaxis\": \"y\"}, {\"alignmentgroup\": \"True\", \"hovertemplate\": \"neighbourhood=Forest Hill North<br>year=%{x}<br>average_house_value=%{y}<extra></extra>\", \"legendgroup\": \"Forest Hill North\", \"marker\": {\"color\": \"#ab63fa\"}, \"name\": \"Forest Hill North\", \"offsetgroup\": \"Forest Hill North\", \"orientation\": \"v\", \"showlegend\": true, \"textposition\": \"auto\", \"type\": \"bar\", \"x\": [2001, 2006, 2011, 2016], \"xaxis\": \"x\", \"y\": [517466, 756983, 946854, 1185419], \"yaxis\": \"y\"}, {\"alignmentgroup\": \"True\", \"hovertemplate\": \"neighbourhood=Forest Hill South<br>year=%{x}<br>average_house_value=%{y}<extra></extra>\", \"legendgroup\": \"Forest Hill South\", \"marker\": {\"color\": \"#FFA15A\"}, \"name\": \"Forest Hill South\", \"offsetgroup\": \"Forest Hill South\", \"orientation\": \"v\", \"showlegend\": true, \"textposition\": \"auto\", \"type\": \"bar\", \"x\": [2001, 2006, 2011, 2016], \"xaxis\": \"x\", \"y\": [726664, 1063011, 1329642, 1664653], \"yaxis\": \"y\"}, {\"alignmentgroup\": \"True\", \"hovertemplate\": \"neighbourhood=Glenfield-Jane Heights<br>year=%{x}<br>average_house_value=%{y}<extra></extra>\", \"legendgroup\": \"Glenfield-Jane Heights\", \"marker\": {\"color\": \"#19d3f3\"}, \"name\": \"Glenfield-Jane Heights\", \"offsetgroup\": \"Glenfield-Jane Heights\", \"orientation\": \"v\", \"showlegend\": true, \"textposition\": \"auto\", \"type\": \"bar\", \"x\": [2001, 2006, 2011, 2016], \"xaxis\": \"x\", \"y\": [199043, 291172, 364206, 455970], \"yaxis\": \"y\"}, {\"alignmentgroup\": \"True\", \"hovertemplate\": \"neighbourhood=Greenwood-Coxwell<br>year=%{x}<br>average_house_value=%{y}<extra></extra>\", \"legendgroup\": \"Greenwood-Coxwell\", \"marker\": {\"color\": \"#FF6692\"}, \"name\": \"Greenwood-Coxwell\", \"offsetgroup\": \"Greenwood-Coxwell\", \"orientation\": \"v\", \"showlegend\": true, \"textposition\": \"auto\", \"type\": \"bar\", \"x\": [2001, 2006, 2011, 2016], \"xaxis\": \"x\", \"y\": [235168, 344019, 430308, 538727], \"yaxis\": \"y\"}, {\"alignmentgroup\": \"True\", \"hovertemplate\": \"neighbourhood=Guildwood<br>year=%{x}<br>average_house_value=%{y}<extra></extra>\", \"legendgroup\": \"Guildwood\", \"marker\": {\"color\": \"#B6E880\"}, \"name\": \"Guildwood\", \"offsetgroup\": \"Guildwood\", \"orientation\": \"v\", \"showlegend\": true, \"textposition\": \"auto\", \"type\": \"bar\", \"x\": [2001, 2006, 2011, 2016], \"xaxis\": \"x\", \"y\": [224425, 328303, 410650, 514116], \"yaxis\": \"y\"}, {\"alignmentgroup\": \"True\", \"hovertemplate\": \"neighbourhood=Henry Farm<br>year=%{x}<br>average_house_value=%{y}<extra></extra>\", \"legendgroup\": \"Henry Farm\", \"marker\": {\"color\": \"#FF97FF\"}, \"name\": \"Henry Farm\", \"offsetgroup\": \"Henry Farm\", \"orientation\": \"v\", \"showlegend\": true, \"textposition\": \"auto\", \"type\": \"bar\", \"x\": [2001, 2006, 2011, 2016], \"xaxis\": \"x\", \"y\": [224780, 328823, 411300, 514929], \"yaxis\": \"y\"}, {\"alignmentgroup\": \"True\", \"hovertemplate\": \"neighbourhood=High Park North<br>year=%{x}<br>average_house_value=%{y}<extra></extra>\", \"legendgroup\": \"High Park North\", \"marker\": {\"color\": \"#FECB52\"}, \"name\": \"High Park North\", \"offsetgroup\": \"High Park North\", \"orientation\": \"v\", \"showlegend\": true, \"textposition\": \"auto\", \"type\": \"bar\", \"x\": [2001, 2006, 2011, 2016], \"xaxis\": \"x\", \"y\": [323536, 473289, 592002, 741161], \"yaxis\": \"y\"}, {\"alignmentgroup\": \"True\", \"hovertemplate\": \"neighbourhood=High Park-Swansea<br>year=%{x}<br>average_house_value=%{y}<extra></extra>\", \"legendgroup\": \"High Park-Swansea\", \"marker\": {\"color\": \"#636efa\"}, \"name\": \"High Park-Swansea\", \"offsetgroup\": \"High Park-Swansea\", \"orientation\": \"v\", \"showlegend\": true, \"textposition\": \"auto\", \"type\": \"bar\", \"x\": [2001, 2006, 2011, 2016], \"xaxis\": \"x\", \"y\": [354207, 518157, 648124, 811423], \"yaxis\": \"y\"}, {\"alignmentgroup\": \"True\", \"hovertemplate\": \"neighbourhood=Highland Creek<br>year=%{x}<br>average_house_value=%{y}<extra></extra>\", \"legendgroup\": \"Highland Creek\", \"marker\": {\"color\": \"#EF553B\"}, \"name\": \"Highland Creek\", \"offsetgroup\": \"Highland Creek\", \"orientation\": \"v\", \"showlegend\": true, \"textposition\": \"auto\", \"type\": \"bar\", \"x\": [2001, 2006, 2011, 2016], \"xaxis\": \"x\", \"y\": [260555, 381156, 476760, 596883], \"yaxis\": \"y\"}, {\"alignmentgroup\": \"True\", \"hovertemplate\": \"neighbourhood=Hillcrest Village<br>year=%{x}<br>average_house_value=%{y}<extra></extra>\", \"legendgroup\": \"Hillcrest Village\", \"marker\": {\"color\": \"#00cc96\"}, \"name\": \"Hillcrest Village\", \"offsetgroup\": \"Hillcrest Village\", \"orientation\": \"v\", \"showlegend\": true, \"textposition\": \"auto\", \"type\": \"bar\", \"x\": [2001, 2006, 2011, 2016], \"xaxis\": \"x\", \"y\": [240009, 351101, 439166, 549816], \"yaxis\": \"y\"}, {\"alignmentgroup\": \"True\", \"hovertemplate\": \"neighbourhood=Humber Heights-Westmount<br>year=%{x}<br>average_house_value=%{y}<extra></extra>\", \"legendgroup\": \"Humber Heights-Westmount\", \"marker\": {\"color\": \"#ab63fa\"}, \"name\": \"Humber Heights-Westmount\", \"offsetgroup\": \"Humber Heights-Westmount\", \"orientation\": \"v\", \"showlegend\": true, \"textposition\": \"auto\", \"type\": \"bar\", \"x\": [2001, 2006, 2011, 2016], \"xaxis\": \"x\", \"y\": [272896, 399210, 499342, 625154], \"yaxis\": \"y\"}, {\"alignmentgroup\": \"True\", \"hovertemplate\": \"neighbourhood=Humber Summit<br>year=%{x}<br>average_house_value=%{y}<extra></extra>\", \"legendgroup\": \"Humber Summit\", \"marker\": {\"color\": \"#FFA15A\"}, \"name\": \"Humber Summit\", \"offsetgroup\": \"Humber Summit\", \"orientation\": \"v\", \"showlegend\": true, \"textposition\": \"auto\", \"type\": \"bar\", \"x\": [2001, 2006, 2011, 2016], \"xaxis\": \"x\", \"y\": [213919, 312935, 391427, 490049], \"yaxis\": \"y\"}, {\"alignmentgroup\": \"True\", \"hovertemplate\": \"neighbourhood=Humbermede<br>year=%{x}<br>average_house_value=%{y}<extra></extra>\", \"legendgroup\": \"Humbermede\", \"marker\": {\"color\": \"#19d3f3\"}, \"name\": \"Humbermede\", \"offsetgroup\": \"Humbermede\", \"orientation\": \"v\", \"showlegend\": true, \"textposition\": \"auto\", \"type\": \"bar\", \"x\": [2001, 2006, 2011, 2016], \"xaxis\": \"x\", \"y\": [194295, 284227, 355519, 445094], \"yaxis\": \"y\"}, {\"alignmentgroup\": \"True\", \"hovertemplate\": \"neighbourhood=Humewood-Cedarvale<br>year=%{x}<br>average_house_value=%{y}<extra></extra>\", \"legendgroup\": \"Humewood-Cedarvale\", \"marker\": {\"color\": \"#FF6692\"}, \"name\": \"Humewood-Cedarvale\", \"offsetgroup\": \"Humewood-Cedarvale\", \"orientation\": \"v\", \"showlegend\": true, \"textposition\": \"auto\", \"type\": \"bar\", \"x\": [2001, 2006, 2011, 2016], \"xaxis\": \"x\", \"y\": [423537, 619577, 774983, 970245], \"yaxis\": \"y\"}, {\"alignmentgroup\": \"True\", \"hovertemplate\": \"neighbourhood=Ionview<br>year=%{x}<br>average_house_value=%{y}<extra></extra>\", \"legendgroup\": \"Ionview\", \"marker\": {\"color\": \"#B6E880\"}, \"name\": \"Ionview\", \"offsetgroup\": \"Ionview\", \"orientation\": \"v\", \"showlegend\": true, \"textposition\": \"auto\", \"type\": \"bar\", \"x\": [2001, 2006, 2011, 2016], \"xaxis\": \"x\", \"y\": [174793, 255698, 319834, 400418], \"yaxis\": \"y\"}, {\"alignmentgroup\": \"True\", \"hovertemplate\": \"neighbourhood=Islington-City Centre West<br>year=%{x}<br>average_house_value=%{y}<extra></extra>\", \"legendgroup\": \"Islington-City Centre West\", \"marker\": {\"color\": \"#FF97FF\"}, \"name\": \"Islington-City Centre West\", \"offsetgroup\": \"Islington-City Centre West\", \"orientation\": \"v\", \"showlegend\": true, \"textposition\": \"auto\", \"type\": \"bar\", \"x\": [2001, 2006, 2011, 2016], \"xaxis\": \"x\", \"y\": [274436, 401463, 502160, 628682], \"yaxis\": \"y\"}, {\"alignmentgroup\": \"True\", \"hovertemplate\": \"neighbourhood=Junction Area<br>year=%{x}<br>average_house_value=%{y}<extra></extra>\", \"legendgroup\": \"Junction Area\", \"marker\": {\"color\": \"#FECB52\"}, \"name\": \"Junction Area\", \"offsetgroup\": \"Junction Area\", \"orientation\": \"v\", \"showlegend\": true, \"textposition\": \"auto\", \"type\": \"bar\", \"x\": [2001, 2006, 2011, 2016], \"xaxis\": \"x\", \"y\": [263247, 385094, 481686, 603050], \"yaxis\": \"y\"}, {\"alignmentgroup\": \"True\", \"hovertemplate\": \"neighbourhood=Keelesdale-Eglinton West<br>year=%{x}<br>average_house_value=%{y}<extra></extra>\", \"legendgroup\": \"Keelesdale-Eglinton West\", \"marker\": {\"color\": \"#636efa\"}, \"name\": \"Keelesdale-Eglinton West\", \"offsetgroup\": \"Keelesdale-Eglinton West\", \"orientation\": \"v\", \"showlegend\": true, \"textposition\": \"auto\", \"type\": \"bar\", \"x\": [2001, 2006, 2011, 2016], \"xaxis\": \"x\", \"y\": [196112, 286886, 358844, 449257], \"yaxis\": \"y\"}, {\"alignmentgroup\": \"True\", \"hovertemplate\": \"neighbourhood=Kennedy Park<br>year=%{x}<br>average_house_value=%{y}<extra></extra>\", \"legendgroup\": \"Kennedy Park\", \"marker\": {\"color\": \"#EF553B\"}, \"name\": \"Kennedy Park\", \"offsetgroup\": \"Kennedy Park\", \"orientation\": \"v\", \"showlegend\": true, \"textposition\": \"auto\", \"type\": \"bar\", \"x\": [2001, 2006, 2011, 2016], \"xaxis\": \"x\", \"y\": [174518, 255296, 319331, 399789], \"yaxis\": \"y\"}, {\"alignmentgroup\": \"True\", \"hovertemplate\": \"neighbourhood=Kensington-Chinatown<br>year=%{x}<br>average_house_value=%{y}<extra></extra>\", \"legendgroup\": \"Kensington-Chinatown\", \"marker\": {\"color\": \"#00cc96\"}, \"name\": \"Kensington-Chinatown\", \"offsetgroup\": \"Kensington-Chinatown\", \"orientation\": \"v\", \"showlegend\": true, \"textposition\": \"auto\", \"type\": \"bar\", \"x\": [2001, 2006, 2011, 2016], \"xaxis\": \"x\", \"y\": [267631, 391509, 489709, 613094], \"yaxis\": \"y\"}, {\"alignmentgroup\": \"True\", \"hovertemplate\": \"neighbourhood=Kingsview Village-The Westway<br>year=%{x}<br>average_house_value=%{y}<extra></extra>\", \"legendgroup\": \"Kingsview Village-The Westway\", \"marker\": {\"color\": \"#ab63fa\"}, \"name\": \"Kingsview Village-The Westway\", \"offsetgroup\": \"Kingsview Village-The Westway\", \"orientation\": \"v\", \"showlegend\": true, \"textposition\": \"auto\", \"type\": \"bar\", \"x\": [2001, 2006, 2011, 2016], \"xaxis\": \"x\", \"y\": [205572, 300725, 376154, 470928], \"yaxis\": \"y\"}, {\"alignmentgroup\": \"True\", \"hovertemplate\": \"neighbourhood=Kingsway South<br>year=%{x}<br>average_house_value=%{y}<extra></extra>\", \"legendgroup\": \"Kingsway South\", \"marker\": {\"color\": \"#FFA15A\"}, \"name\": \"Kingsway South\", \"offsetgroup\": \"Kingsway South\", \"orientation\": \"v\", \"showlegend\": true, \"textposition\": \"auto\", \"type\": \"bar\", \"x\": [2001, 2006, 2011, 2016], \"xaxis\": \"x\", \"y\": [512334, 749476, 937464, 1173663], \"yaxis\": \"y\"}, {\"alignmentgroup\": \"True\", \"hovertemplate\": \"neighbourhood=L'Amoreaux<br>year=%{x}<br>average_house_value=%{y}<extra></extra>\", \"legendgroup\": \"L'Amoreaux\", \"marker\": {\"color\": \"#19d3f3\"}, \"name\": \"L'Amoreaux\", \"offsetgroup\": \"L'Amoreaux\", \"orientation\": \"v\", \"showlegend\": true, \"textposition\": \"auto\", \"type\": \"bar\", \"x\": [2001, 2006, 2011, 2016], \"xaxis\": \"x\", \"y\": [395115, 578001, 722978, 905137], \"yaxis\": \"y\"}, {\"alignmentgroup\": \"True\", \"hovertemplate\": \"neighbourhood=Lambton Baby Point<br>year=%{x}<br>average_house_value=%{y}<extra></extra>\", \"legendgroup\": \"Lambton Baby Point\", \"marker\": {\"color\": \"#FF6692\"}, \"name\": \"Lambton Baby Point\", \"offsetgroup\": \"Lambton Baby Point\", \"orientation\": \"v\", \"showlegend\": true, \"textposition\": \"auto\", \"type\": \"bar\", \"x\": [2001, 2006, 2011, 2016], \"xaxis\": \"x\", \"y\": [204523, 299190, 374234, 468524], \"yaxis\": \"y\"}, {\"alignmentgroup\": \"True\", \"hovertemplate\": \"neighbourhood=Lansing-Westgate<br>year=%{x}<br>average_house_value=%{y}<extra></extra>\", \"legendgroup\": \"Lansing-Westgate\", \"marker\": {\"color\": \"#B6E880\"}, \"name\": \"Lansing-Westgate\", \"offsetgroup\": \"Lansing-Westgate\", \"orientation\": \"v\", \"showlegend\": true, \"textposition\": \"auto\", \"type\": \"bar\", \"x\": [2001, 2006, 2011, 2016], \"xaxis\": \"x\", \"y\": [372579, 545034, 681742, 853511], \"yaxis\": \"y\"}, {\"alignmentgroup\": \"True\", \"hovertemplate\": \"neighbourhood=Lawrence Park North<br>year=%{x}<br>average_house_value=%{y}<extra></extra>\", \"legendgroup\": \"Lawrence Park North\", \"marker\": {\"color\": \"#FF97FF\"}, \"name\": \"Lawrence Park North\", \"offsetgroup\": \"Lawrence Park North\", \"orientation\": \"v\", \"showlegend\": true, \"textposition\": \"auto\", \"type\": \"bar\", \"x\": [2001, 2006, 2011, 2016], \"xaxis\": \"x\", \"y\": [461393, 674957, 844253, 1056967], \"yaxis\": \"y\"}, {\"alignmentgroup\": \"True\", \"hovertemplate\": \"neighbourhood=Lawrence Park South<br>year=%{x}<br>average_house_value=%{y}<extra></extra>\", \"legendgroup\": \"Lawrence Park South\", \"marker\": {\"color\": \"#FECB52\"}, \"name\": \"Lawrence Park South\", \"offsetgroup\": \"Lawrence Park South\", \"orientation\": \"v\", \"showlegend\": true, \"textposition\": \"auto\", \"type\": \"bar\", \"x\": [2001, 2006, 2011, 2016], \"xaxis\": \"x\", \"y\": [664712, 972384, 1216283, 1522732], \"yaxis\": \"y\"}, {\"alignmentgroup\": \"True\", \"hovertemplate\": \"neighbourhood=Leaside-Bennington<br>year=%{x}<br>average_house_value=%{y}<extra></extra>\", \"legendgroup\": \"Leaside-Bennington\", \"marker\": {\"color\": \"#636efa\"}, \"name\": \"Leaside-Bennington\", \"offsetgroup\": \"Leaside-Bennington\", \"orientation\": \"v\", \"showlegend\": true, \"textposition\": \"auto\", \"type\": \"bar\", \"x\": [2001, 2006, 2011, 2016], \"xaxis\": \"x\", \"y\": [489998, 716801, 896593, 1122495], \"yaxis\": \"y\"}, {\"alignmentgroup\": \"True\", \"hovertemplate\": \"neighbourhood=Little Portugal<br>year=%{x}<br>average_house_value=%{y}<extra></extra>\", \"legendgroup\": \"Little Portugal\", \"marker\": {\"color\": \"#EF553B\"}, \"name\": \"Little Portugal\", \"offsetgroup\": \"Little Portugal\", \"orientation\": \"v\", \"showlegend\": true, \"textposition\": \"auto\", \"type\": \"bar\", \"x\": [2001, 2006, 2011, 2016], \"xaxis\": \"x\", \"y\": [328211, 480129, 600558, 751872], \"yaxis\": \"y\"}, {\"alignmentgroup\": \"True\", \"hovertemplate\": \"neighbourhood=Long Branch<br>year=%{x}<br>average_house_value=%{y}<extra></extra>\", \"legendgroup\": \"Long Branch\", \"marker\": {\"color\": \"#00cc96\"}, \"name\": \"Long Branch\", \"offsetgroup\": \"Long Branch\", \"orientation\": \"v\", \"showlegend\": true, \"textposition\": \"auto\", \"type\": \"bar\", \"x\": [2001, 2006, 2011, 2016], \"xaxis\": \"x\", \"y\": [234424, 342930, 428946, 537021], \"yaxis\": \"y\"}, {\"alignmentgroup\": \"True\", \"hovertemplate\": \"neighbourhood=Malvern<br>year=%{x}<br>average_house_value=%{y}<extra></extra>\", \"legendgroup\": \"Malvern\", \"marker\": {\"color\": \"#ab63fa\"}, \"name\": \"Malvern\", \"offsetgroup\": \"Malvern\", \"orientation\": \"v\", \"showlegend\": true, \"textposition\": \"auto\", \"type\": \"bar\", \"x\": [2001, 2006, 2011, 2016], \"xaxis\": \"x\", \"y\": [156076, 228318, 285586, 357541], \"yaxis\": \"y\"}, {\"alignmentgroup\": \"True\", \"hovertemplate\": \"neighbourhood=Maple Leaf<br>year=%{x}<br>average_house_value=%{y}<extra></extra>\", \"legendgroup\": \"Maple Leaf\", \"marker\": {\"color\": \"#FFA15A\"}, \"name\": \"Maple Leaf\", \"offsetgroup\": \"Maple Leaf\", \"orientation\": \"v\", \"showlegend\": true, \"textposition\": \"auto\", \"type\": \"bar\", \"x\": [2001, 2006, 2011, 2016], \"xaxis\": \"x\", \"y\": [275374, 402835, 503876, 630831], \"yaxis\": \"y\"}, {\"alignmentgroup\": \"True\", \"hovertemplate\": \"neighbourhood=Markland Wood<br>year=%{x}<br>average_house_value=%{y}<extra></extra>\", \"legendgroup\": \"Markland Wood\", \"marker\": {\"color\": \"#19d3f3\"}, \"name\": \"Markland Wood\", \"offsetgroup\": \"Markland Wood\", \"orientation\": \"v\", \"showlegend\": true, \"textposition\": \"auto\", \"type\": \"bar\", \"x\": [2001, 2006, 2011, 2016], \"xaxis\": \"x\", \"y\": [269751, 394610, 493588, 617950], \"yaxis\": \"y\"}, {\"alignmentgroup\": \"True\", \"hovertemplate\": \"neighbourhood=Milliken<br>year=%{x}<br>average_house_value=%{y}<extra></extra>\", \"legendgroup\": \"Milliken\", \"marker\": {\"color\": \"#FF6692\"}, \"name\": \"Milliken\", \"offsetgroup\": \"Milliken\", \"orientation\": \"v\", \"showlegend\": true, \"textposition\": \"auto\", \"type\": \"bar\", \"x\": [2001, 2006, 2011, 2016], \"xaxis\": \"x\", \"y\": [209609, 306629, 383540, 480175], \"yaxis\": \"y\"}, {\"alignmentgroup\": \"True\", \"hovertemplate\": \"neighbourhood=Mimico<br>year=%{x}<br>average_house_value=%{y}<extra></extra>\", \"legendgroup\": \"Mimico\", \"marker\": {\"color\": \"#B6E880\"}, \"name\": \"Mimico\", \"offsetgroup\": \"Mimico\", \"orientation\": \"v\", \"showlegend\": true, \"textposition\": \"auto\", \"type\": \"bar\", \"x\": [2001, 2006, 2011, 2016], \"xaxis\": \"x\", \"y\": [239078, 349739, 437462, 547683], \"yaxis\": \"y\"}, {\"alignmentgroup\": \"True\", \"hovertemplate\": \"neighbourhood=Morningside<br>year=%{x}<br>average_house_value=%{y}<extra></extra>\", \"legendgroup\": \"Morningside\", \"marker\": {\"color\": \"#FF97FF\"}, \"name\": \"Morningside\", \"offsetgroup\": \"Morningside\", \"orientation\": \"v\", \"showlegend\": true, \"textposition\": \"auto\", \"type\": \"bar\", \"x\": [2001, 2006, 2011, 2016], \"xaxis\": \"x\", \"y\": [173169, 253323, 316863, 396699], \"yaxis\": \"y\"}, {\"alignmentgroup\": \"True\", \"hovertemplate\": \"neighbourhood=Moss Park<br>year=%{x}<br>average_house_value=%{y}<extra></extra>\", \"legendgroup\": \"Moss Park\", \"marker\": {\"color\": \"#FECB52\"}, \"name\": \"Moss Park\", \"offsetgroup\": \"Moss Park\", \"orientation\": \"v\", \"showlegend\": true, \"textposition\": \"auto\", \"type\": \"bar\", \"x\": [2001, 2006, 2011, 2016], \"xaxis\": \"x\", \"y\": [248778, 363929, 455212, 569905], \"yaxis\": \"y\"}, {\"alignmentgroup\": \"True\", \"hovertemplate\": \"neighbourhood=Mount Dennis<br>year=%{x}<br>average_house_value=%{y}<extra></extra>\", \"legendgroup\": \"Mount Dennis\", \"marker\": {\"color\": \"#636efa\"}, \"name\": \"Mount Dennis\", \"offsetgroup\": \"Mount Dennis\", \"orientation\": \"v\", \"showlegend\": true, \"textposition\": \"auto\", \"type\": \"bar\", \"x\": [2001, 2006, 2011, 2016], \"xaxis\": \"x\", \"y\": [159374, 233143, 291621, 365097], \"yaxis\": \"y\"}, {\"alignmentgroup\": \"True\", \"hovertemplate\": \"neighbourhood=Mount Olive-Silverstone-Jamestown<br>year=%{x}<br>average_house_value=%{y}<extra></extra>\", \"legendgroup\": \"Mount Olive-Silverstone-Jamestown\", \"marker\": {\"color\": \"#EF553B\"}, \"name\": \"Mount Olive-Silverstone-Jamestown\", \"offsetgroup\": \"Mount Olive-Silverstone-Jamestown\", \"orientation\": \"v\", \"showlegend\": true, \"textposition\": \"auto\", \"type\": \"bar\", \"x\": [2001, 2006, 2011, 2016], \"xaxis\": \"x\", \"y\": [153829, 225031, 281475, 352394], \"yaxis\": \"y\"}, {\"alignmentgroup\": \"True\", \"hovertemplate\": \"neighbourhood=Mount Pleasant East<br>year=%{x}<br>average_house_value=%{y}<extra></extra>\", \"legendgroup\": \"Mount Pleasant East\", \"marker\": {\"color\": \"#00cc96\"}, \"name\": \"Mount Pleasant East\", \"offsetgroup\": \"Mount Pleasant East\", \"orientation\": \"v\", \"showlegend\": true, \"textposition\": \"auto\", \"type\": \"bar\", \"x\": [2001, 2006, 2011, 2016], \"xaxis\": \"x\", \"y\": [411558, 602054, 753065, 942804], \"yaxis\": \"y\"}, {\"alignmentgroup\": \"True\", \"hovertemplate\": \"neighbourhood=Mount Pleasant West<br>year=%{x}<br>average_house_value=%{y}<extra></extra>\", \"legendgroup\": \"Mount Pleasant West\", \"marker\": {\"color\": \"#ab63fa\"}, \"name\": \"Mount Pleasant West\", \"offsetgroup\": \"Mount Pleasant West\", \"orientation\": \"v\", \"showlegend\": true, \"textposition\": \"auto\", \"type\": \"bar\", \"x\": [2001, 2006, 2011, 2016], \"xaxis\": \"x\", \"y\": [284459, 416125, 520500, 651643], \"yaxis\": \"y\"}, {\"alignmentgroup\": \"True\", \"hovertemplate\": \"neighbourhood=New Toronto<br>year=%{x}<br>average_house_value=%{y}<extra></extra>\", \"legendgroup\": \"New Toronto\", \"marker\": {\"color\": \"#FFA15A\"}, \"name\": \"New Toronto\", \"offsetgroup\": \"New Toronto\", \"orientation\": \"v\", \"showlegend\": true, \"textposition\": \"auto\", \"type\": \"bar\", \"x\": [2001, 2006, 2011, 2016], \"xaxis\": \"x\", \"y\": [247779, 362468, 453384, 567617], \"yaxis\": \"y\"}, {\"alignmentgroup\": \"True\", \"hovertemplate\": \"neighbourhood=Newtonbrook East<br>year=%{x}<br>average_house_value=%{y}<extra></extra>\", \"legendgroup\": \"Newtonbrook East\", \"marker\": {\"color\": \"#19d3f3\"}, \"name\": \"Newtonbrook East\", \"offsetgroup\": \"Newtonbrook East\", \"orientation\": \"v\", \"showlegend\": true, \"textposition\": \"auto\", \"type\": \"bar\", \"x\": [2001, 2006, 2011, 2016], \"xaxis\": \"x\", \"y\": [339987, 497355, 622104, 778847], \"yaxis\": \"y\"}, {\"alignmentgroup\": \"True\", \"hovertemplate\": \"neighbourhood=Newtonbrook West<br>year=%{x}<br>average_house_value=%{y}<extra></extra>\", \"legendgroup\": \"Newtonbrook West\", \"marker\": {\"color\": \"#FF6692\"}, \"name\": \"Newtonbrook West\", \"offsetgroup\": \"Newtonbrook West\", \"orientation\": \"v\", \"showlegend\": true, \"textposition\": \"auto\", \"type\": \"bar\", \"x\": [2001, 2006, 2011, 2016], \"xaxis\": \"x\", \"y\": [279833, 409358, 512036, 641047], \"yaxis\": \"y\"}, {\"alignmentgroup\": \"True\", \"hovertemplate\": \"neighbourhood=Niagara<br>year=%{x}<br>average_house_value=%{y}<extra></extra>\", \"legendgroup\": \"Niagara\", \"marker\": {\"color\": \"#B6E880\"}, \"name\": \"Niagara\", \"offsetgroup\": \"Niagara\", \"orientation\": \"v\", \"showlegend\": true, \"textposition\": \"auto\", \"type\": \"bar\", \"x\": [2001, 2006, 2011, 2016], \"xaxis\": \"x\", \"y\": [224801, 328854, 411339, 514978], \"yaxis\": \"y\"}, {\"alignmentgroup\": \"True\", \"hovertemplate\": \"neighbourhood=North Riverdale<br>year=%{x}<br>average_house_value=%{y}<extra></extra>\", \"legendgroup\": \"North Riverdale\", \"marker\": {\"color\": \"#FF97FF\"}, \"name\": \"North Riverdale\", \"offsetgroup\": \"North Riverdale\", \"orientation\": \"v\", \"showlegend\": true, \"textposition\": \"auto\", \"type\": \"bar\", \"x\": [2001, 2006, 2011, 2016], \"xaxis\": \"x\", \"y\": [427169, 624890, 781629, 978565], \"yaxis\": \"y\"}, {\"alignmentgroup\": \"True\", \"hovertemplate\": \"neighbourhood=North St.James Town<br>year=%{x}<br>average_house_value=%{y}<extra></extra>\", \"legendgroup\": \"North St.James Town\", \"marker\": {\"color\": \"#FECB52\"}, \"name\": \"North St.James Town\", \"offsetgroup\": \"North St.James Town\", \"orientation\": \"v\", \"showlegend\": true, \"textposition\": \"auto\", \"type\": \"bar\", \"x\": [2001, 2006, 2011, 2016], \"xaxis\": \"x\", \"y\": [249993, 365706, 457435, 572689], \"yaxis\": \"y\"}, {\"alignmentgroup\": \"True\", \"hovertemplate\": \"neighbourhood=O'Connor-Parkview<br>year=%{x}<br>average_house_value=%{y}<extra></extra>\", \"legendgroup\": \"O'Connor-Parkview\", \"marker\": {\"color\": \"#636efa\"}, \"name\": \"O'Connor-Parkview\", \"offsetgroup\": \"O'Connor-Parkview\", \"orientation\": \"v\", \"showlegend\": true, \"textposition\": \"auto\", \"type\": \"bar\", \"x\": [2001, 2006, 2011, 2016], \"xaxis\": \"x\", \"y\": [181251, 265146, 331652, 415214], \"yaxis\": \"y\"}, {\"alignmentgroup\": \"True\", \"hovertemplate\": \"neighbourhood=Oakridge<br>year=%{x}<br>average_house_value=%{y}<extra></extra>\", \"legendgroup\": \"Oakridge\", \"marker\": {\"color\": \"#EF553B\"}, \"name\": \"Oakridge\", \"offsetgroup\": \"Oakridge\", \"orientation\": \"v\", \"showlegend\": true, \"textposition\": \"auto\", \"type\": \"bar\", \"x\": [2001, 2006, 2011, 2016], \"xaxis\": \"x\", \"y\": [256556, 375307, 469444, 587723], \"yaxis\": \"y\"}, {\"alignmentgroup\": \"True\", \"hovertemplate\": \"neighbourhood=Oakwood Village<br>year=%{x}<br>average_house_value=%{y}<extra></extra>\", \"legendgroup\": \"Oakwood Village\", \"marker\": {\"color\": \"#00cc96\"}, \"name\": \"Oakwood Village\", \"offsetgroup\": \"Oakwood Village\", \"orientation\": \"v\", \"showlegend\": true, \"textposition\": \"auto\", \"type\": \"bar\", \"x\": [2001, 2006, 2011, 2016], \"xaxis\": \"x\", \"y\": [268067, 392146, 490506, 614092], \"yaxis\": \"y\"}, {\"alignmentgroup\": \"True\", \"hovertemplate\": \"neighbourhood=Old East York<br>year=%{x}<br>average_house_value=%{y}<extra></extra>\", \"legendgroup\": \"Old East York\", \"marker\": {\"color\": \"#ab63fa\"}, \"name\": \"Old East York\", \"offsetgroup\": \"Old East York\", \"orientation\": \"v\", \"showlegend\": true, \"textposition\": \"auto\", \"type\": \"bar\", \"x\": [2001, 2006, 2011, 2016], \"xaxis\": \"x\", \"y\": [269410, 394111, 492964, 617169], \"yaxis\": \"y\"}, {\"alignmentgroup\": \"True\", \"hovertemplate\": \"neighbourhood=Palmerston-Little Italy<br>year=%{x}<br>average_house_value=%{y}<extra></extra>\", \"legendgroup\": \"Palmerston-Little Italy\", \"marker\": {\"color\": \"#FFA15A\"}, \"name\": \"Palmerston-Little Italy\", \"offsetgroup\": \"Palmerston-Little Italy\", \"orientation\": \"v\", \"showlegend\": true, \"textposition\": \"auto\", \"type\": \"bar\", \"x\": [2001, 2006, 2011, 2016], \"xaxis\": \"x\", \"y\": [378033, 553011, 691720, 866003], \"yaxis\": \"y\"}, {\"alignmentgroup\": \"True\", \"hovertemplate\": \"neighbourhood=Parkwoods-Donalda<br>year=%{x}<br>average_house_value=%{y}<extra></extra>\", \"legendgroup\": \"Parkwoods-Donalda\", \"marker\": {\"color\": \"#19d3f3\"}, \"name\": \"Parkwoods-Donalda\", \"offsetgroup\": \"Parkwoods-Donalda\", \"orientation\": \"v\", \"showlegend\": true, \"textposition\": \"auto\", \"type\": \"bar\", \"x\": [2001, 2006, 2011, 2016], \"xaxis\": \"x\", \"y\": [276239, 404100, 505459, 632812], \"yaxis\": \"y\"}, {\"alignmentgroup\": \"True\", \"hovertemplate\": \"neighbourhood=Pelmo Park-Humberlea<br>year=%{x}<br>average_house_value=%{y}<extra></extra>\", \"legendgroup\": \"Pelmo Park-Humberlea\", \"marker\": {\"color\": \"#FF6692\"}, \"name\": \"Pelmo Park-Humberlea\", \"offsetgroup\": \"Pelmo Park-Humberlea\", \"orientation\": \"v\", \"showlegend\": true, \"textposition\": \"auto\", \"type\": \"bar\", \"x\": [2001, 2006, 2011, 2016], \"xaxis\": \"x\", \"y\": [246333, 360352, 450737, 564303], \"yaxis\": \"y\"}, {\"alignmentgroup\": \"True\", \"hovertemplate\": \"neighbourhood=Playter Estates-Danforth<br>year=%{x}<br>average_house_value=%{y}<extra></extra>\", \"legendgroup\": \"Playter Estates-Danforth\", \"marker\": {\"color\": \"#B6E880\"}, \"name\": \"Playter Estates-Danforth\", \"offsetgroup\": \"Playter Estates-Danforth\", \"orientation\": \"v\", \"showlegend\": true, \"textposition\": \"auto\", \"type\": \"bar\", \"x\": [2001, 2006, 2011, 2016], \"xaxis\": \"x\", \"y\": [394235, 576713, 721368, 903121], \"yaxis\": \"y\"}, {\"alignmentgroup\": \"True\", \"hovertemplate\": \"neighbourhood=Pleasant View<br>year=%{x}<br>average_house_value=%{y}<extra></extra>\", \"legendgroup\": \"Pleasant View\", \"marker\": {\"color\": \"#FF97FF\"}, \"name\": \"Pleasant View\", \"offsetgroup\": \"Pleasant View\", \"orientation\": \"v\", \"showlegend\": true, \"textposition\": \"auto\", \"type\": \"bar\", \"x\": [2001, 2006, 2011, 2016], \"xaxis\": \"x\", \"y\": [226856, 331860, 415099, 519686], \"yaxis\": \"y\"}, {\"alignmentgroup\": \"True\", \"hovertemplate\": \"neighbourhood=Princess-Rosethorn<br>year=%{x}<br>average_house_value=%{y}<extra></extra>\", \"legendgroup\": \"Princess-Rosethorn\", \"marker\": {\"color\": \"#FECB52\"}, \"name\": \"Princess-Rosethorn\", \"offsetgroup\": \"Princess-Rosethorn\", \"orientation\": \"v\", \"showlegend\": true, \"textposition\": \"auto\", \"type\": \"bar\", \"x\": [2001, 2006, 2011, 2016], \"xaxis\": \"x\", \"y\": [465254, 680604, 851317, 1065811], \"yaxis\": \"y\"}, {\"alignmentgroup\": \"True\", \"hovertemplate\": \"neighbourhood=Regent Park<br>year=%{x}<br>average_house_value=%{y}<extra></extra>\", \"legendgroup\": \"Regent Park\", \"marker\": {\"color\": \"#636efa\"}, \"name\": \"Regent Park\", \"offsetgroup\": \"Regent Park\", \"orientation\": \"v\", \"showlegend\": true, \"textposition\": \"auto\", \"type\": \"bar\", \"x\": [2001, 2006, 2011, 2016], \"xaxis\": \"x\", \"y\": [238524, 348928, 436448, 546413], \"yaxis\": \"y\"}, {\"alignmentgroup\": \"True\", \"hovertemplate\": \"neighbourhood=Rexdale-Kipling<br>year=%{x}<br>average_house_value=%{y}<extra></extra>\", \"legendgroup\": \"Rexdale-Kipling\", \"marker\": {\"color\": \"#EF553B\"}, \"name\": \"Rexdale-Kipling\", \"offsetgroup\": \"Rexdale-Kipling\", \"orientation\": \"v\", \"showlegend\": true, \"textposition\": \"auto\", \"type\": \"bar\", \"x\": [2001, 2006, 2011, 2016], \"xaxis\": \"x\", \"y\": [219337, 320860, 401340, 502460], \"yaxis\": \"y\"}, {\"alignmentgroup\": \"True\", \"hovertemplate\": \"neighbourhood=Rockcliffe-Smythe<br>year=%{x}<br>average_house_value=%{y}<extra></extra>\", \"legendgroup\": \"Rockcliffe-Smythe\", \"marker\": {\"color\": \"#00cc96\"}, \"name\": \"Rockcliffe-Smythe\", \"offsetgroup\": \"Rockcliffe-Smythe\", \"orientation\": \"v\", \"showlegend\": true, \"textposition\": \"auto\", \"type\": \"bar\", \"x\": [2001, 2006, 2011, 2016], \"xaxis\": \"x\", \"y\": [210017, 307227, 384287, 481110], \"yaxis\": \"y\"}, {\"alignmentgroup\": \"True\", \"hovertemplate\": \"neighbourhood=Roncesvalles<br>year=%{x}<br>average_house_value=%{y}<extra></extra>\", \"legendgroup\": \"Roncesvalles\", \"marker\": {\"color\": \"#ab63fa\"}, \"name\": \"Roncesvalles\", \"offsetgroup\": \"Roncesvalles\", \"orientation\": \"v\", \"showlegend\": true, \"textposition\": \"auto\", \"type\": \"bar\", \"x\": [2001, 2006, 2011, 2016], \"xaxis\": \"x\", \"y\": [309221, 452349, 565810, 708369], \"yaxis\": \"y\"}, {\"alignmentgroup\": \"True\", \"hovertemplate\": \"neighbourhood=Rosedale-Moore Park<br>year=%{x}<br>average_house_value=%{y}<extra></extra>\", \"legendgroup\": \"Rosedale-Moore Park\", \"marker\": {\"color\": \"#FFA15A\"}, \"name\": \"Rosedale-Moore Park\", \"offsetgroup\": \"Rosedale-Moore Park\", \"orientation\": \"v\", \"showlegend\": true, \"textposition\": \"auto\", \"type\": \"bar\", \"x\": [2001, 2006, 2011, 2016], \"xaxis\": \"x\", \"y\": [664476, 972039, 1215852, 1522193], \"yaxis\": \"y\"}, {\"alignmentgroup\": \"True\", \"hovertemplate\": \"neighbourhood=Rouge<br>year=%{x}<br>average_house_value=%{y}<extra></extra>\", \"legendgroup\": \"Rouge\", \"marker\": {\"color\": \"#19d3f3\"}, \"name\": \"Rouge\", \"offsetgroup\": \"Rouge\", \"orientation\": \"v\", \"showlegend\": true, \"textposition\": \"auto\", \"type\": \"bar\", \"x\": [2001, 2006, 2011, 2016], \"xaxis\": \"x\", \"y\": [228625, 334448, 418336, 523738], \"yaxis\": \"y\"}, {\"alignmentgroup\": \"True\", \"hovertemplate\": \"neighbourhood=Runnymede-Bloor West Village<br>year=%{x}<br>average_house_value=%{y}<extra></extra>\", \"legendgroup\": \"Runnymede-Bloor West Village\", \"marker\": {\"color\": \"#FF6692\"}, \"name\": \"Runnymede-Bloor West Village\", \"offsetgroup\": \"Runnymede-Bloor West Village\", \"orientation\": \"v\", \"showlegend\": true, \"textposition\": \"auto\", \"type\": \"bar\", \"x\": [2001, 2006, 2011, 2016], \"xaxis\": \"x\", \"y\": [335435, 490697, 613776, 768420], \"yaxis\": \"y\"}, {\"alignmentgroup\": \"True\", \"hovertemplate\": \"neighbourhood=Rustic<br>year=%{x}<br>average_house_value=%{y}<extra></extra>\", \"legendgroup\": \"Rustic\", \"marker\": {\"color\": \"#B6E880\"}, \"name\": \"Rustic\", \"offsetgroup\": \"Rustic\", \"orientation\": \"v\", \"showlegend\": true, \"textposition\": \"auto\", \"type\": \"bar\", \"x\": [2001, 2006, 2011, 2016], \"xaxis\": \"x\", \"y\": [261923, 383158, 479264, 600017], \"yaxis\": \"y\"}, {\"alignmentgroup\": \"True\", \"hovertemplate\": \"neighbourhood=Scarborough Village<br>year=%{x}<br>average_house_value=%{y}<extra></extra>\", \"legendgroup\": \"Scarborough Village\", \"marker\": {\"color\": \"#FF97FF\"}, \"name\": \"Scarborough Village\", \"offsetgroup\": \"Scarborough Village\", \"orientation\": \"v\", \"showlegend\": true, \"textposition\": \"auto\", \"type\": \"bar\", \"x\": [2001, 2006, 2011, 2016], \"xaxis\": \"x\", \"y\": [200402, 293162, 366694, 459085], \"yaxis\": \"y\"}, {\"alignmentgroup\": \"True\", \"hovertemplate\": \"neighbourhood=South Parkdale<br>year=%{x}<br>average_house_value=%{y}<extra></extra>\", \"legendgroup\": \"South Parkdale\", \"marker\": {\"color\": \"#FECB52\"}, \"name\": \"South Parkdale\", \"offsetgroup\": \"South Parkdale\", \"orientation\": \"v\", \"showlegend\": true, \"textposition\": \"auto\", \"type\": \"bar\", \"x\": [2001, 2006, 2011, 2016], \"xaxis\": \"x\", \"y\": [271880, 397724, 497483, 622827], \"yaxis\": \"y\"}, {\"alignmentgroup\": \"True\", \"hovertemplate\": \"neighbourhood=South Riverdale<br>year=%{x}<br>average_house_value=%{y}<extra></extra>\", \"legendgroup\": \"South Riverdale\", \"marker\": {\"color\": \"#636efa\"}, \"name\": \"South Riverdale\", \"offsetgroup\": \"South Riverdale\", \"orientation\": \"v\", \"showlegend\": true, \"textposition\": \"auto\", \"type\": \"bar\", \"x\": [2001, 2006, 2011, 2016], \"xaxis\": \"x\", \"y\": [276462, 404427, 505868, 633325], \"yaxis\": \"y\"}, {\"alignmentgroup\": \"True\", \"hovertemplate\": \"neighbourhood=St.Andrew-Windfields<br>year=%{x}<br>average_house_value=%{y}<extra></extra>\", \"legendgroup\": \"St.Andrew-Windfields\", \"marker\": {\"color\": \"#EF553B\"}, \"name\": \"St.Andrew-Windfields\", \"offsetgroup\": \"St.Andrew-Windfields\", \"orientation\": \"v\", \"showlegend\": true, \"textposition\": \"auto\", \"type\": \"bar\", \"x\": [2001, 2006, 2011, 2016], \"xaxis\": \"x\", \"y\": [607040, 888017, 1110755, 1390616], \"yaxis\": \"y\"}, {\"alignmentgroup\": \"True\", \"hovertemplate\": \"neighbourhood=Steeles<br>year=%{x}<br>average_house_value=%{y}<extra></extra>\", \"legendgroup\": \"Steeles\", \"marker\": {\"color\": \"#00cc96\"}, \"name\": \"Steeles\", \"offsetgroup\": \"Steeles\", \"orientation\": \"v\", \"showlegend\": true, \"textposition\": \"auto\", \"type\": \"bar\", \"x\": [2001, 2006, 2011, 2016], \"xaxis\": \"x\", \"y\": [228460, 334206, 418033, 523359], \"yaxis\": \"y\"}, {\"alignmentgroup\": \"True\", \"hovertemplate\": \"neighbourhood=Stonegate-Queensway<br>year=%{x}<br>average_house_value=%{y}<extra></extra>\", \"legendgroup\": \"Stonegate-Queensway\", \"marker\": {\"color\": \"#ab63fa\"}, \"name\": \"Stonegate-Queensway\", \"offsetgroup\": \"Stonegate-Queensway\", \"orientation\": \"v\", \"showlegend\": true, \"textposition\": \"auto\", \"type\": \"bar\", \"x\": [2001, 2006, 2011, 2016], \"xaxis\": \"x\", \"y\": [334433, 489230, 611942, 766124], \"yaxis\": \"y\"}, {\"alignmentgroup\": \"True\", \"hovertemplate\": \"neighbourhood=Tam O'Shanter-Sullivan<br>year=%{x}<br>average_house_value=%{y}<extra></extra>\", \"legendgroup\": \"Tam O'Shanter-Sullivan\", \"marker\": {\"color\": \"#FFA15A\"}, \"name\": \"Tam O'Shanter-Sullivan\", \"offsetgroup\": \"Tam O'Shanter-Sullivan\", \"orientation\": \"v\", \"showlegend\": true, \"textposition\": \"auto\", \"type\": \"bar\", \"x\": [2001, 2006, 2011, 2016], \"xaxis\": \"x\", \"y\": [215039, 314574, 393477, 492616], \"yaxis\": \"y\"}, {\"alignmentgroup\": \"True\", \"hovertemplate\": \"neighbourhood=Taylor-Massey<br>year=%{x}<br>average_house_value=%{y}<extra></extra>\", \"legendgroup\": \"Taylor-Massey\", \"marker\": {\"color\": \"#19d3f3\"}, \"name\": \"Taylor-Massey\", \"offsetgroup\": \"Taylor-Massey\", \"orientation\": \"v\", \"showlegend\": true, \"textposition\": \"auto\", \"type\": \"bar\", \"x\": [2001, 2006, 2011, 2016], \"xaxis\": \"x\", \"y\": [145464, 212794, 266168, 333230], \"yaxis\": \"y\"}, {\"alignmentgroup\": \"True\", \"hovertemplate\": \"neighbourhood=The Beaches<br>year=%{x}<br>average_house_value=%{y}<extra></extra>\", \"legendgroup\": \"The Beaches\", \"marker\": {\"color\": \"#FF6692\"}, \"name\": \"The Beaches\", \"offsetgroup\": \"The Beaches\", \"orientation\": \"v\", \"showlegend\": true, \"textposition\": \"auto\", \"type\": \"bar\", \"x\": [2001, 2006, 2011, 2016], \"xaxis\": \"x\", \"y\": [404836, 592220, 740764, 927404], \"yaxis\": \"y\"}, {\"alignmentgroup\": \"True\", \"hovertemplate\": \"neighbourhood=Thistletown-Beaumond Heights<br>year=%{x}<br>average_house_value=%{y}<extra></extra>\", \"legendgroup\": \"Thistletown-Beaumond Heights\", \"marker\": {\"color\": \"#B6E880\"}, \"name\": \"Thistletown-Beaumond Heights\", \"offsetgroup\": \"Thistletown-Beaumond Heights\", \"orientation\": \"v\", \"showlegend\": true, \"textposition\": \"auto\", \"type\": \"bar\", \"x\": [2001, 2006, 2011, 2016], \"xaxis\": \"x\", \"y\": [228368, 334072, 417866, 523150], \"yaxis\": \"y\"}, {\"alignmentgroup\": \"True\", \"hovertemplate\": \"neighbourhood=Thorncliffe Park<br>year=%{x}<br>average_house_value=%{y}<extra></extra>\", \"legendgroup\": \"Thorncliffe Park\", \"marker\": {\"color\": \"#FF97FF\"}, \"name\": \"Thorncliffe Park\", \"offsetgroup\": \"Thorncliffe Park\", \"orientation\": \"v\", \"showlegend\": true, \"textposition\": \"auto\", \"type\": \"bar\", \"x\": [2001, 2006, 2011, 2016], \"xaxis\": \"x\", \"y\": [155094, 226882, 283790, 355293], \"yaxis\": \"y\"}, {\"alignmentgroup\": \"True\", \"hovertemplate\": \"neighbourhood=Trinity-Bellwoods<br>year=%{x}<br>average_house_value=%{y}<extra></extra>\", \"legendgroup\": \"Trinity-Bellwoods\", \"marker\": {\"color\": \"#FECB52\"}, \"name\": \"Trinity-Bellwoods\", \"offsetgroup\": \"Trinity-Bellwoods\", \"orientation\": \"v\", \"showlegend\": true, \"textposition\": \"auto\", \"type\": \"bar\", \"x\": [2001, 2006, 2011, 2016], \"xaxis\": \"x\", \"y\": [324732, 475039, 594191, 743901], \"yaxis\": \"y\"}, {\"alignmentgroup\": \"True\", \"hovertemplate\": \"neighbourhood=University<br>year=%{x}<br>average_house_value=%{y}<extra></extra>\", \"legendgroup\": \"University\", \"marker\": {\"color\": \"#636efa\"}, \"name\": \"University\", \"offsetgroup\": \"University\", \"orientation\": \"v\", \"showlegend\": true, \"textposition\": \"auto\", \"type\": \"bar\", \"x\": [2001, 2006, 2011, 2016], \"xaxis\": \"x\", \"y\": [375678, 549567, 687412, 860610], \"yaxis\": \"y\"}, {\"alignmentgroup\": \"True\", \"hovertemplate\": \"neighbourhood=Victoria Village<br>year=%{x}<br>average_house_value=%{y}<extra></extra>\", \"legendgroup\": \"Victoria Village\", \"marker\": {\"color\": \"#EF553B\"}, \"name\": \"Victoria Village\", \"offsetgroup\": \"Victoria Village\", \"orientation\": \"v\", \"showlegend\": true, \"textposition\": \"auto\", \"type\": \"bar\", \"x\": [2001, 2006, 2011, 2016], \"xaxis\": \"x\", \"y\": [213950, 312980, 391483, 490119], \"yaxis\": \"y\"}, {\"alignmentgroup\": \"True\", \"hovertemplate\": \"neighbourhood=Waterfront Communities-The Island<br>year=%{x}<br>average_house_value=%{y}<extra></extra>\", \"legendgroup\": \"Waterfront Communities-The Island\", \"marker\": {\"color\": \"#00cc96\"}, \"name\": \"Waterfront Communities-The Island\", \"offsetgroup\": \"Waterfront Communities-The Island\", \"orientation\": \"v\", \"showlegend\": true, \"textposition\": \"auto\", \"type\": \"bar\", \"x\": [2001, 2006, 2011, 2016], \"xaxis\": \"x\", \"y\": [228975, 334960, 418977, 524540], \"yaxis\": \"y\"}, {\"alignmentgroup\": \"True\", \"hovertemplate\": \"neighbourhood=West Hill<br>year=%{x}<br>average_house_value=%{y}<extra></extra>\", \"legendgroup\": \"West Hill\", \"marker\": {\"color\": \"#ab63fa\"}, \"name\": \"West Hill\", \"offsetgroup\": \"West Hill\", \"orientation\": \"v\", \"showlegend\": true, \"textposition\": \"auto\", \"type\": \"bar\", \"x\": [2001, 2006, 2011, 2016], \"xaxis\": \"x\", \"y\": [172947, 252998, 316456, 396189], \"yaxis\": \"y\"}, {\"alignmentgroup\": \"True\", \"hovertemplate\": \"neighbourhood=West Humber-Clairville<br>year=%{x}<br>average_house_value=%{y}<extra></extra>\", \"legendgroup\": \"West Humber-Clairville\", \"marker\": {\"color\": \"#FFA15A\"}, \"name\": \"West Humber-Clairville\", \"offsetgroup\": \"West Humber-Clairville\", \"orientation\": \"v\", \"showlegend\": true, \"textposition\": \"auto\", \"type\": \"bar\", \"x\": [2001, 2006, 2011, 2016], \"xaxis\": \"x\", \"y\": [208555, 305088, 381612, 477762], \"yaxis\": \"y\"}, {\"alignmentgroup\": \"True\", \"hovertemplate\": \"neighbourhood=Westminster-Branson<br>year=%{x}<br>average_house_value=%{y}<extra></extra>\", \"legendgroup\": \"Westminster-Branson\", \"marker\": {\"color\": \"#19d3f3\"}, \"name\": \"Westminster-Branson\", \"offsetgroup\": \"Westminster-Branson\", \"orientation\": \"v\", \"showlegend\": true, \"textposition\": \"auto\", \"type\": \"bar\", \"x\": [2001, 2006, 2011, 2016], \"xaxis\": \"x\", \"y\": [212241, 310480, 388356, 486204], \"yaxis\": \"y\"}, {\"alignmentgroup\": \"True\", \"hovertemplate\": \"neighbourhood=Weston<br>year=%{x}<br>average_house_value=%{y}<extra></extra>\", \"legendgroup\": \"Weston\", \"marker\": {\"color\": \"#FF6692\"}, \"name\": \"Weston\", \"offsetgroup\": \"Weston\", \"orientation\": \"v\", \"showlegend\": true, \"textposition\": \"auto\", \"type\": \"bar\", \"x\": [2001, 2006, 2011, 2016], \"xaxis\": \"x\", \"y\": [187140, 273761, 342427, 428703], \"yaxis\": \"y\"}, {\"alignmentgroup\": \"True\", \"hovertemplate\": \"neighbourhood=Weston-Pellam Park<br>year=%{x}<br>average_house_value=%{y}<extra></extra>\", \"legendgroup\": \"Weston-Pellam Park\", \"marker\": {\"color\": \"#B6E880\"}, \"name\": \"Weston-Pellam Park\", \"offsetgroup\": \"Weston-Pellam Park\", \"orientation\": \"v\", \"showlegend\": true, \"textposition\": \"auto\", \"type\": \"bar\", \"x\": [2001, 2006, 2011, 2016], \"xaxis\": \"x\", \"y\": [213749, 312685, 391115, 489659], \"yaxis\": \"y\"}, {\"alignmentgroup\": \"True\", \"hovertemplate\": \"neighbourhood=Wexford/Maryvale<br>year=%{x}<br>average_house_value=%{y}<extra></extra>\", \"legendgroup\": \"Wexford/Maryvale\", \"marker\": {\"color\": \"#FF97FF\"}, \"name\": \"Wexford/Maryvale\", \"offsetgroup\": \"Wexford/Maryvale\", \"orientation\": \"v\", \"showlegend\": true, \"textposition\": \"auto\", \"type\": \"bar\", \"x\": [2001, 2006, 2011, 2016], \"xaxis\": \"x\", \"y\": [211633, 309590, 387243, 484811], \"yaxis\": \"y\"}, {\"alignmentgroup\": \"True\", \"hovertemplate\": \"neighbourhood=Willowdale East<br>year=%{x}<br>average_house_value=%{y}<extra></extra>\", \"legendgroup\": \"Willowdale East\", \"marker\": {\"color\": \"#FECB52\"}, \"name\": \"Willowdale East\", \"offsetgroup\": \"Willowdale East\", \"orientation\": \"v\", \"showlegend\": true, \"textposition\": \"auto\", \"type\": \"bar\", \"x\": [2001, 2006, 2011, 2016], \"xaxis\": \"x\", \"y\": [284984, 416893, 521460, 652845], \"yaxis\": \"y\"}, {\"alignmentgroup\": \"True\", \"hovertemplate\": \"neighbourhood=Willowdale West<br>year=%{x}<br>average_house_value=%{y}<extra></extra>\", \"legendgroup\": \"Willowdale West\", \"marker\": {\"color\": \"#636efa\"}, \"name\": \"Willowdale West\", \"offsetgroup\": \"Willowdale West\", \"orientation\": \"v\", \"showlegend\": true, \"textposition\": \"auto\", \"type\": \"bar\", \"x\": [2001, 2006, 2011, 2016], \"xaxis\": \"x\", \"y\": [283215, 414306, 518224, 648794], \"yaxis\": \"y\"}, {\"alignmentgroup\": \"True\", \"hovertemplate\": \"neighbourhood=Willowridge-Martingrove-Richview<br>year=%{x}<br>average_house_value=%{y}<extra></extra>\", \"legendgroup\": \"Willowridge-Martingrove-Richview\", \"marker\": {\"color\": \"#EF553B\"}, \"name\": \"Willowridge-Martingrove-Richview\", \"offsetgroup\": \"Willowridge-Martingrove-Richview\", \"orientation\": \"v\", \"showlegend\": true, \"textposition\": \"auto\", \"type\": \"bar\", \"x\": [2001, 2006, 2011, 2016], \"xaxis\": \"x\", \"y\": [282087, 412655, 516160, 646210], \"yaxis\": \"y\"}, {\"alignmentgroup\": \"True\", \"hovertemplate\": \"neighbourhood=Woburn<br>year=%{x}<br>average_house_value=%{y}<extra></extra>\", \"legendgroup\": \"Woburn\", \"marker\": {\"color\": \"#00cc96\"}, \"name\": \"Woburn\", \"offsetgroup\": \"Woburn\", \"orientation\": \"v\", \"showlegend\": true, \"textposition\": \"auto\", \"type\": \"bar\", \"x\": [2001, 2006, 2011, 2016], \"xaxis\": \"x\", \"y\": [181367, 265315, 331863, 415478], \"yaxis\": \"y\"}, {\"alignmentgroup\": \"True\", \"hovertemplate\": \"neighbourhood=Woodbine Corridor<br>year=%{x}<br>average_house_value=%{y}<extra></extra>\", \"legendgroup\": \"Woodbine Corridor\", \"marker\": {\"color\": \"#ab63fa\"}, \"name\": \"Woodbine Corridor\", \"offsetgroup\": \"Woodbine Corridor\", \"orientation\": \"v\", \"showlegend\": true, \"textposition\": \"auto\", \"type\": \"bar\", \"x\": [2001, 2006, 2011, 2016], \"xaxis\": \"x\", \"y\": [270607, 395861, 495153, 619910], \"yaxis\": \"y\"}, {\"alignmentgroup\": \"True\", \"hovertemplate\": \"neighbourhood=Woodbine-Lumsden<br>year=%{x}<br>average_house_value=%{y}<extra></extra>\", \"legendgroup\": \"Woodbine-Lumsden\", \"marker\": {\"color\": \"#FFA15A\"}, \"name\": \"Woodbine-Lumsden\", \"offsetgroup\": \"Woodbine-Lumsden\", \"orientation\": \"v\", \"showlegend\": true, \"textposition\": \"auto\", \"type\": \"bar\", \"x\": [2001, 2006, 2011, 2016], \"xaxis\": \"x\", \"y\": [224756, 328788, 411256, 514874], \"yaxis\": \"y\"}, {\"alignmentgroup\": \"True\", \"hovertemplate\": \"neighbourhood=Wychwood<br>year=%{x}<br>average_house_value=%{y}<extra></extra>\", \"legendgroup\": \"Wychwood\", \"marker\": {\"color\": \"#19d3f3\"}, \"name\": \"Wychwood\", \"offsetgroup\": \"Wychwood\", \"orientation\": \"v\", \"showlegend\": true, \"textposition\": \"auto\", \"type\": \"bar\", \"x\": [2001, 2006, 2011, 2016], \"xaxis\": \"x\", \"y\": [343877, 503046, 629223, 787760], \"yaxis\": \"y\"}, {\"alignmentgroup\": \"True\", \"hovertemplate\": \"neighbourhood=Yonge-Eglinton<br>year=%{x}<br>average_house_value=%{y}<extra></extra>\", \"legendgroup\": \"Yonge-Eglinton\", \"marker\": {\"color\": \"#FF6692\"}, \"name\": \"Yonge-Eglinton\", \"offsetgroup\": \"Yonge-Eglinton\", \"orientation\": \"v\", \"showlegend\": true, \"textposition\": \"auto\", \"type\": \"bar\", \"x\": [2001, 2006, 2011, 2016], \"xaxis\": \"x\", \"y\": [491987, 719711, 900233, 1127052], \"yaxis\": \"y\"}, {\"alignmentgroup\": \"True\", \"hovertemplate\": \"neighbourhood=Yonge-St.Clair<br>year=%{x}<br>average_house_value=%{y}<extra></extra>\", \"legendgroup\": \"Yonge-St.Clair\", \"marker\": {\"color\": \"#B6E880\"}, \"name\": \"Yonge-St.Clair\", \"offsetgroup\": \"Yonge-St.Clair\", \"orientation\": \"v\", \"showlegend\": true, \"textposition\": \"auto\", \"type\": \"bar\", \"x\": [2001, 2006, 2011, 2016], \"xaxis\": \"x\", \"y\": [494098, 722799, 904096, 1131888], \"yaxis\": \"y\"}, {\"alignmentgroup\": \"True\", \"hovertemplate\": \"neighbourhood=York University Heights<br>year=%{x}<br>average_house_value=%{y}<extra></extra>\", \"legendgroup\": \"York University Heights\", \"marker\": {\"color\": \"#FF97FF\"}, \"name\": \"York University Heights\", \"offsetgroup\": \"York University Heights\", \"orientation\": \"v\", \"showlegend\": true, \"textposition\": \"auto\", \"type\": \"bar\", \"x\": [2001, 2006, 2011, 2016], \"xaxis\": \"x\", \"y\": [185859, 271887, 340083, 425769], \"yaxis\": \"y\"}, {\"alignmentgroup\": \"True\", \"hovertemplate\": \"neighbourhood=Yorkdale-Glen Park<br>year=%{x}<br>average_house_value=%{y}<extra></extra>\", \"legendgroup\": \"Yorkdale-Glen Park\", \"marker\": {\"color\": \"#FECB52\"}, \"name\": \"Yorkdale-Glen Park\", \"offsetgroup\": \"Yorkdale-Glen Park\", \"orientation\": \"v\", \"showlegend\": true, \"textposition\": \"auto\", \"type\": \"bar\", \"x\": [2001, 2006, 2011, 2016], \"xaxis\": \"x\", \"y\": [261784, 382954, 479009, 599698], \"yaxis\": \"y\"}],                        {\"barmode\": \"relative\", \"legend\": {\"title\": {\"text\": \"neighbourhood\"}, \"tracegroupgap\": 0}, \"template\": {\"data\": {\"bar\": [{\"error_x\": {\"color\": \"#2a3f5f\"}, \"error_y\": {\"color\": \"#2a3f5f\"}, \"marker\": {\"line\": {\"color\": \"#E5ECF6\", \"width\": 0.5}}, \"type\": \"bar\"}], \"barpolar\": [{\"marker\": {\"line\": {\"color\": \"#E5ECF6\", \"width\": 0.5}}, \"type\": \"barpolar\"}], \"carpet\": [{\"aaxis\": {\"endlinecolor\": \"#2a3f5f\", \"gridcolor\": \"white\", \"linecolor\": \"white\", \"minorgridcolor\": \"white\", \"startlinecolor\": \"#2a3f5f\"}, \"baxis\": {\"endlinecolor\": \"#2a3f5f\", \"gridcolor\": \"white\", \"linecolor\": \"white\", \"minorgridcolor\": \"white\", \"startlinecolor\": \"#2a3f5f\"}, \"type\": \"carpet\"}], \"choropleth\": [{\"colorbar\": {\"outlinewidth\": 0, \"ticks\": \"\"}, \"type\": \"choropleth\"}], \"contour\": [{\"colorbar\": {\"outlinewidth\": 0, \"ticks\": \"\"}, \"colorscale\": [[0.0, \"#0d0887\"], [0.1111111111111111, \"#46039f\"], [0.2222222222222222, \"#7201a8\"], [0.3333333333333333, \"#9c179e\"], [0.4444444444444444, \"#bd3786\"], [0.5555555555555556, \"#d8576b\"], [0.6666666666666666, \"#ed7953\"], [0.7777777777777778, \"#fb9f3a\"], [0.8888888888888888, \"#fdca26\"], [1.0, \"#f0f921\"]], \"type\": \"contour\"}], \"contourcarpet\": [{\"colorbar\": {\"outlinewidth\": 0, \"ticks\": \"\"}, \"type\": \"contourcarpet\"}], \"heatmap\": [{\"colorbar\": {\"outlinewidth\": 0, \"ticks\": \"\"}, \"colorscale\": [[0.0, \"#0d0887\"], [0.1111111111111111, \"#46039f\"], [0.2222222222222222, \"#7201a8\"], [0.3333333333333333, \"#9c179e\"], [0.4444444444444444, \"#bd3786\"], [0.5555555555555556, \"#d8576b\"], [0.6666666666666666, \"#ed7953\"], [0.7777777777777778, \"#fb9f3a\"], [0.8888888888888888, \"#fdca26\"], [1.0, \"#f0f921\"]], \"type\": \"heatmap\"}], \"heatmapgl\": [{\"colorbar\": {\"outlinewidth\": 0, \"ticks\": \"\"}, \"colorscale\": [[0.0, \"#0d0887\"], [0.1111111111111111, \"#46039f\"], [0.2222222222222222, \"#7201a8\"], [0.3333333333333333, \"#9c179e\"], [0.4444444444444444, \"#bd3786\"], [0.5555555555555556, \"#d8576b\"], [0.6666666666666666, \"#ed7953\"], [0.7777777777777778, \"#fb9f3a\"], [0.8888888888888888, \"#fdca26\"], [1.0, \"#f0f921\"]], \"type\": \"heatmapgl\"}], \"histogram\": [{\"marker\": {\"colorbar\": {\"outlinewidth\": 0, \"ticks\": \"\"}}, \"type\": \"histogram\"}], \"histogram2d\": [{\"colorbar\": {\"outlinewidth\": 0, \"ticks\": \"\"}, \"colorscale\": [[0.0, \"#0d0887\"], [0.1111111111111111, \"#46039f\"], [0.2222222222222222, \"#7201a8\"], [0.3333333333333333, \"#9c179e\"], [0.4444444444444444, \"#bd3786\"], [0.5555555555555556, \"#d8576b\"], [0.6666666666666666, \"#ed7953\"], [0.7777777777777778, \"#fb9f3a\"], [0.8888888888888888, \"#fdca26\"], [1.0, \"#f0f921\"]], \"type\": \"histogram2d\"}], \"histogram2dcontour\": [{\"colorbar\": {\"outlinewidth\": 0, \"ticks\": \"\"}, \"colorscale\": [[0.0, \"#0d0887\"], [0.1111111111111111, \"#46039f\"], [0.2222222222222222, \"#7201a8\"], [0.3333333333333333, \"#9c179e\"], [0.4444444444444444, \"#bd3786\"], [0.5555555555555556, \"#d8576b\"], [0.6666666666666666, \"#ed7953\"], [0.7777777777777778, \"#fb9f3a\"], [0.8888888888888888, \"#fdca26\"], [1.0, \"#f0f921\"]], \"type\": \"histogram2dcontour\"}], \"mesh3d\": [{\"colorbar\": {\"outlinewidth\": 0, \"ticks\": \"\"}, \"type\": \"mesh3d\"}], \"parcoords\": [{\"line\": {\"colorbar\": {\"outlinewidth\": 0, \"ticks\": \"\"}}, \"type\": \"parcoords\"}], \"pie\": [{\"automargin\": true, \"type\": \"pie\"}], \"scatter\": [{\"marker\": {\"colorbar\": {\"outlinewidth\": 0, \"ticks\": \"\"}}, \"type\": \"scatter\"}], \"scatter3d\": [{\"line\": {\"colorbar\": {\"outlinewidth\": 0, \"ticks\": \"\"}}, \"marker\": {\"colorbar\": {\"outlinewidth\": 0, \"ticks\": \"\"}}, \"type\": \"scatter3d\"}], \"scattercarpet\": [{\"marker\": {\"colorbar\": {\"outlinewidth\": 0, \"ticks\": \"\"}}, \"type\": \"scattercarpet\"}], \"scattergeo\": [{\"marker\": {\"colorbar\": {\"outlinewidth\": 0, \"ticks\": \"\"}}, \"type\": \"scattergeo\"}], \"scattergl\": [{\"marker\": {\"colorbar\": {\"outlinewidth\": 0, \"ticks\": \"\"}}, \"type\": \"scattergl\"}], \"scattermapbox\": [{\"marker\": {\"colorbar\": {\"outlinewidth\": 0, \"ticks\": \"\"}}, \"type\": \"scattermapbox\"}], \"scatterpolar\": [{\"marker\": {\"colorbar\": {\"outlinewidth\": 0, \"ticks\": \"\"}}, \"type\": \"scatterpolar\"}], \"scatterpolargl\": [{\"marker\": {\"colorbar\": {\"outlinewidth\": 0, \"ticks\": \"\"}}, \"type\": \"scatterpolargl\"}], \"scatterternary\": [{\"marker\": {\"colorbar\": {\"outlinewidth\": 0, \"ticks\": \"\"}}, \"type\": \"scatterternary\"}], \"surface\": [{\"colorbar\": {\"outlinewidth\": 0, \"ticks\": \"\"}, \"colorscale\": [[0.0, \"#0d0887\"], [0.1111111111111111, \"#46039f\"], [0.2222222222222222, \"#7201a8\"], [0.3333333333333333, \"#9c179e\"], [0.4444444444444444, \"#bd3786\"], [0.5555555555555556, \"#d8576b\"], [0.6666666666666666, \"#ed7953\"], [0.7777777777777778, \"#fb9f3a\"], [0.8888888888888888, \"#fdca26\"], [1.0, \"#f0f921\"]], \"type\": \"surface\"}], \"table\": [{\"cells\": {\"fill\": {\"color\": \"#EBF0F8\"}, \"line\": {\"color\": \"white\"}}, \"header\": {\"fill\": {\"color\": \"#C8D4E3\"}, \"line\": {\"color\": \"white\"}}, \"type\": \"table\"}]}, \"layout\": {\"annotationdefaults\": {\"arrowcolor\": \"#2a3f5f\", \"arrowhead\": 0, \"arrowwidth\": 1}, \"coloraxis\": {\"colorbar\": {\"outlinewidth\": 0, \"ticks\": \"\"}}, \"colorscale\": {\"diverging\": [[0, \"#8e0152\"], [0.1, \"#c51b7d\"], [0.2, \"#de77ae\"], [0.3, \"#f1b6da\"], [0.4, \"#fde0ef\"], [0.5, \"#f7f7f7\"], [0.6, \"#e6f5d0\"], [0.7, \"#b8e186\"], [0.8, \"#7fbc41\"], [0.9, \"#4d9221\"], [1, \"#276419\"]], \"sequential\": [[0.0, \"#0d0887\"], [0.1111111111111111, \"#46039f\"], [0.2222222222222222, \"#7201a8\"], [0.3333333333333333, \"#9c179e\"], [0.4444444444444444, \"#bd3786\"], [0.5555555555555556, \"#d8576b\"], [0.6666666666666666, \"#ed7953\"], [0.7777777777777778, \"#fb9f3a\"], [0.8888888888888888, \"#fdca26\"], [1.0, \"#f0f921\"]], \"sequentialminus\": [[0.0, \"#0d0887\"], [0.1111111111111111, \"#46039f\"], [0.2222222222222222, \"#7201a8\"], [0.3333333333333333, \"#9c179e\"], [0.4444444444444444, \"#bd3786\"], [0.5555555555555556, \"#d8576b\"], [0.6666666666666666, \"#ed7953\"], [0.7777777777777778, \"#fb9f3a\"], [0.8888888888888888, \"#fdca26\"], [1.0, \"#f0f921\"]]}, \"colorway\": [\"#636efa\", \"#EF553B\", \"#00cc96\", \"#ab63fa\", \"#FFA15A\", \"#19d3f3\", \"#FF6692\", \"#B6E880\", \"#FF97FF\", \"#FECB52\"], \"font\": {\"color\": \"#2a3f5f\"}, \"geo\": {\"bgcolor\": \"white\", \"lakecolor\": \"white\", \"landcolor\": \"#E5ECF6\", \"showlakes\": true, \"showland\": true, \"subunitcolor\": \"white\"}, \"hoverlabel\": {\"align\": \"left\"}, \"hovermode\": \"closest\", \"mapbox\": {\"style\": \"light\"}, \"paper_bgcolor\": \"white\", \"plot_bgcolor\": \"#E5ECF6\", \"polar\": {\"angularaxis\": {\"gridcolor\": \"white\", \"linecolor\": \"white\", \"ticks\": \"\"}, \"bgcolor\": \"#E5ECF6\", \"radialaxis\": {\"gridcolor\": \"white\", \"linecolor\": \"white\", \"ticks\": \"\"}}, \"scene\": {\"xaxis\": {\"backgroundcolor\": \"#E5ECF6\", \"gridcolor\": \"white\", \"gridwidth\": 2, \"linecolor\": \"white\", \"showbackground\": true, \"ticks\": \"\", \"zerolinecolor\": \"white\"}, \"yaxis\": {\"backgroundcolor\": \"#E5ECF6\", \"gridcolor\": \"white\", \"gridwidth\": 2, \"linecolor\": \"white\", \"showbackground\": true, \"ticks\": \"\", \"zerolinecolor\": \"white\"}, \"zaxis\": {\"backgroundcolor\": \"#E5ECF6\", \"gridcolor\": \"white\", \"gridwidth\": 2, \"linecolor\": \"white\", \"showbackground\": true, \"ticks\": \"\", \"zerolinecolor\": \"white\"}}, \"shapedefaults\": {\"line\": {\"color\": \"#2a3f5f\"}}, \"ternary\": {\"aaxis\": {\"gridcolor\": \"white\", \"linecolor\": \"white\", \"ticks\": \"\"}, \"baxis\": {\"gridcolor\": \"white\", \"linecolor\": \"white\", \"ticks\": \"\"}, \"bgcolor\": \"#E5ECF6\", \"caxis\": {\"gridcolor\": \"white\", \"linecolor\": \"white\", \"ticks\": \"\"}}, \"title\": {\"x\": 0.05}, \"xaxis\": {\"automargin\": true, \"gridcolor\": \"white\", \"linecolor\": \"white\", \"ticks\": \"\", \"title\": {\"standoff\": 15}, \"zerolinecolor\": \"white\", \"zerolinewidth\": 2}, \"yaxis\": {\"automargin\": true, \"gridcolor\": \"white\", \"linecolor\": \"white\", \"ticks\": \"\", \"title\": {\"standoff\": 15}, \"zerolinecolor\": \"white\", \"zerolinewidth\": 2}}}, \"title\": {\"text\": \"Average House Values in Toronto\"}, \"xaxis\": {\"anchor\": \"y\", \"domain\": [0.0, 1.0], \"title\": {\"text\": \"year\"}}, \"yaxis\": {\"anchor\": \"x\", \"domain\": [0.0, 1.0], \"title\": {\"text\": \"average_house_value\"}}},                        {\"responsive\": true}                    ).then(function(){\n",
       "                            \n",
       "var gd = document.getElementById('a6b49bca-07aa-4c55-b6b2-bba2a2bca908');\n",
       "var x = new MutationObserver(function (mutations, observer) {{\n",
       "        var display = window.getComputedStyle(gd).display;\n",
       "        if (!display || display === 'none') {{\n",
       "            console.log([gd, 'removed!']);\n",
       "            Plotly.purge(gd);\n",
       "            observer.disconnect();\n",
       "        }}\n",
       "}});\n",
       "\n",
       "// Listen for the removal of the full notebook cells\n",
       "var notebookContainer = gd.closest('#notebook-container');\n",
       "if (notebookContainer) {{\n",
       "    x.observe(notebookContainer, {childList: true});\n",
       "}}\n",
       "\n",
       "// Listen for the clearing of the current output cell\n",
       "var outputEl = gd.closest('.output');\n",
       "if (outputEl) {{\n",
       "    x.observe(outputEl, {childList: true});\n",
       "}}\n",
       "\n",
       "                        })                };                });            </script>        </div>"
      ]
     },
     "metadata": {},
     "output_type": "display_data"
    }
   ],
   "source": [
    "# YOUR CODE HERE!\n",
    "\n",
    "px.bar(\n",
    "    average_house_values_by_neighbourhood, \n",
    "    x='year', y='average_house_value', \n",
    "    color=\"neighbourhood\", \n",
    "    title=\"Average House Values in Toronto\"\n",
    ")"
   ]
  },
  {
   "cell_type": "markdown",
   "metadata": {},
   "source": [
    "### Create a sunburst chart to conduct a costs analysis of most expensive neighbourhoods in Toronto per year"
   ]
  },
  {
   "cell_type": "code",
   "execution_count": 72,
   "metadata": {
    "scrolled": true
   },
   "outputs": [
    {
     "data": {
      "application/vnd.plotly.v1+json": {
       "config": {
        "plotlyServerURL": "https://plot.ly"
       },
       "data": [
        {
         "branchvalues": "total",
         "customdata": [
          [
           207799
          ],
          [
           239414
          ],
          [
           253182.25
          ],
          [
           255264.75
          ],
          [
           256880.25
          ],
          [
           260841.75
          ],
          [
           262000.25
          ],
          [
           262308.75
          ],
          [
           268341.25
          ],
          [
           268966.5
          ],
          [
           284647.5
          ],
          [
           285013.5
          ],
          [
           287233.5
          ],
          [
           287685.75
          ],
          [
           298315.75
          ],
          [
           298505.75
          ],
          [
           301123.25
          ],
          [
           305899.5
          ],
          [
           308007.75
          ],
          [
           309412
          ],
          [
           319783.75
          ],
          [
           322774.75
          ],
          [
           327597.75
          ],
          [
           329811.5
          ],
          [
           329835.75
          ],
          [
           334189
          ],
          [
           336617.75
          ],
          [
           338344.75
          ],
          [
           343254.25
          ],
          [
           344988.25
          ],
          [
           345660.25
          ],
          [
           348319.25
          ],
          [
           349320.25
          ],
          [
           350943
          ],
          [
           351802
          ],
          [
           352082.5
          ],
          [
           352133
          ],
          [
           353926.5
          ],
          [
           354555.25
          ],
          [
           360999.25
          ],
          [
           361714.25
          ],
          [
           365524.5
          ],
          [
           369373.5
          ],
          [
           369918.5
          ],
          [
           369958
          ],
          [
           369993
          ],
          [
           370927.75
          ],
          [
           373375.25
          ],
          [
           375864
          ],
          [
           376014.5
          ],
          [
           376286.75
          ],
          [
           376863
          ],
          [
           381415.5
          ],
          [
           385830.25
          ],
          [
           387055.5
          ],
          [
           392578.25
          ],
          [
           393490.5
          ],
          [
           395023
          ],
          [
           397781.75
          ],
          [
           398010.25
          ],
          [
           405431.25
          ],
          [
           406117.5
          ],
          [
           407812
          ],
          [
           409456
          ],
          [
           409862.75
          ],
          [
           411455.75
          ],
          [
           417422
          ],
          [
           419930.5
          ],
          [
           421679.25
          ],
          [
           422257.5
          ],
          [
           423653.5
          ],
          [
           427922.5
          ],
          [
           428838.5
          ],
          [
           430861.25
          ],
          [
           431090.5
          ],
          [
           433269.25
          ],
          [
           434699.5
          ],
          [
           437315
          ],
          [
           440485.75
          ],
          [
           441202.75
          ],
          [
           443373.25
          ],
          [
           443413.5
          ],
          [
           443974.75
          ],
          [
           445382.75
          ],
          [
           447478.5
          ],
          [
           449150.5
          ],
          [
           451685.25
          ],
          [
           453229
          ],
          [
           454652.5
          ],
          [
           455020.5
          ],
          [
           457588.75
          ],
          [
           460568.5
          ],
          [
           464278
          ],
          [
           466134.75
          ],
          [
           466943
          ],
          [
           468181.75
          ],
          [
           469045.5
          ],
          [
           478054.25
          ],
          [
           494110.5
          ],
          [
           501576.75
          ],
          [
           508937.25
          ],
          [
           511437
          ],
          [
           532497
          ],
          [
           534465.75
          ],
          [
           539258.75
          ],
          [
           540192.5
          ],
          [
           550432.25
          ],
          [
           551561.25
          ],
          [
           552082
          ],
          [
           559573.25
          ],
          [
           565413.5
          ],
          [
           565976.5
          ],
          [
           568936.75
          ],
          [
           582977.75
          ],
          [
           612039
          ],
          [
           613216.5
          ],
          [
           618316.75
          ],
          [
           622191.75
          ],
          [
           648859.25
          ],
          [
           650307.75
          ],
          [
           666306
          ],
          [
           677370.25
          ],
          [
           697085.5
          ],
          [
           703063.25
          ],
          [
           746977
          ],
          [
           759392.5
          ],
          [
           765746.5
          ],
          [
           796162.5
          ],
          [
           806471.75
          ],
          [
           809745.75
          ],
          [
           813220.25
          ],
          [
           843234.25
          ],
          [
           851680.5
          ],
          [
           930415.25
          ],
          [
           981064.25
          ],
          [
           999107
          ],
          [
           1093640
          ],
          [
           1094027.75
          ],
          [
           1195992.5
          ],
          [
           1526485.75
          ],
          [
           329811.5
          ],
          [
           334189
          ],
          [
           427922.5
          ],
          [
           746977
          ],
          [
           612039
          ],
          [
           501576.75
          ],
          [
           423653.5
          ],
          [
           539258.75
          ],
          [
           565413.5
          ],
          [
           930415.25
          ],
          [
           370927.75
          ],
          [
           301123.25
          ],
          [
           437315
          ],
          [
           260841.75
          ],
          [
           511437
          ],
          [
           365524.5
          ],
          [
           1526485.75
          ],
          [
           443373.25
          ],
          [
           350943
          ],
          [
           494110.5
          ],
          [
           361714.25
          ],
          [
           981064.25
          ],
          [
           409862.75
          ],
          [
           406117.5
          ],
          [
           354555.25
          ],
          [
           551561.25
          ],
          [
           417422
          ],
          [
           419930.5
          ],
          [
           466943
          ],
          [
           421679.25
          ],
          [
           398010.25
          ],
          [
           262000.25
          ],
          [
           434699.5
          ],
          [
           381415.5
          ],
          [
           457588.75
          ],
          [
           478054.25
          ],
          [
           796162.5
          ],
          [
           268966.5
          ],
          [
           268341.25
          ],
          [
           568936.75
          ],
          [
           397781.75
          ],
          [
           309412
          ],
          [
           207799
          ],
          [
           851680.5
          ],
          [
           1195992.5
          ],
          [
           327597.75
          ],
          [
           387055.5
          ],
          [
           369373.5
          ],
          [
           369958
          ],
          [
           532497
          ],
          [
           582977.75
          ],
          [
           428838.5
          ],
          [
           395023
          ],
          [
           449150.5
          ],
          [
           352082.5
          ],
          [
           319783.75
          ],
          [
           697085.5
          ],
          [
           287685.75
          ],
          [
           451685.25
          ],
          [
           433269.25
          ],
          [
           322774.75
          ],
          [
           287233.5
          ],
          [
           440485.75
          ],
          [
           338344.75
          ],
          [
           843234.25
          ],
          [
           650307.75
          ],
          [
           336617.75
          ],
          [
           613216.5
          ],
          [
           759392.5
          ],
          [
           1094027.75
          ],
          [
           806471.75
          ],
          [
           540192.5
          ],
          [
           385830.25
          ],
          [
           256880.25
          ],
          [
           453229
          ],
          [
           443974.75
          ],
          [
           344988.25
          ],
          [
           393490.5
          ],
          [
           285013.5
          ],
          [
           409456
          ],
          [
           262308.75
          ],
          [
           253182.25
          ],
          [
           677370.25
          ],
          [
           468181.75
          ],
          [
           407812
          ],
          [
           559573.25
          ],
          [
           460568.5
          ],
          [
           369993
          ],
          [
           703063.25
          ],
          [
           411455.75
          ],
          [
           298315.75
          ],
          [
           422257.5
          ],
          [
           441202.75
          ],
          [
           443413.5
          ],
          [
           622191.75
          ],
          [
           454652.5
          ],
          [
           405431.25
          ],
          [
           648859.25
          ],
          [
           373375.25
          ],
          [
           765746.5
          ],
          [
           392578.25
          ],
          [
           360999.25
          ],
          [
           345660.25
          ],
          [
           508937.25
          ],
          [
           1093640
          ],
          [
           376286.75
          ],
          [
           552082
          ],
          [
           431090.5
          ],
          [
           329835.75
          ],
          [
           447478.5
          ],
          [
           455020.5
          ],
          [
           999107
          ],
          [
           376014.5
          ],
          [
           550432.25
          ],
          [
           353926.5
          ],
          [
           239414
          ],
          [
           666306
          ],
          [
           375864
          ],
          [
           255264.75
          ],
          [
           534465.75
          ],
          [
           618316.75
          ],
          [
           352133
          ],
          [
           376863
          ],
          [
           284647.5
          ],
          [
           343254.25
          ],
          [
           349320.25
          ],
          [
           308007.75
          ],
          [
           351802
          ],
          [
           348319.25
          ],
          [
           469045.5
          ],
          [
           466134.75
          ],
          [
           464278
          ],
          [
           298505.75
          ],
          [
           445382.75
          ],
          [
           369918.5
          ],
          [
           565976.5
          ],
          [
           809745.75
          ],
          [
           813220.25
          ],
          [
           305899.5
          ],
          [
           430861.25
          ]
         ],
         "domain": {
          "x": [
           0,
           1
          ],
          "y": [
           0,
           1
          ]
         },
         "hovertemplate": "labels=%{label}<br>average_house_value_sum=%{value}<br>parent=%{parent}<br>id=%{id}<br>average_house_value=%{color}<extra></extra>",
         "ids": [
          "Flemingdon Park/207799.0",
          "Taylor-Massey/239414.0",
          "Mount Olive-Silverstone-Jamestown/253182.25",
          "Thorncliffe Park/255264.75",
          "Malvern/256880.25",
          "Black Creek/260841.75",
          "Dorset Park/262000.25",
          "Mount Dennis/262308.75",
          "Elms-Old Rexdale/268341.25",
          "Eglinton East/268966.5",
          "West Hill/284647.5",
          "Morningside/285013.5",
          "Kennedy Park/287233.5",
          "Ionview/287685.75",
          "O'Connor-Parkview/298315.75",
          "Woburn/298505.75",
          "Bendale/301123.25",
          "York University Heights/305899.5",
          "Weston/308007.75",
          "Etobicoke West Mall/309412.0",
          "Humbermede/319783.75",
          "Keelesdale-Eglinton West/322774.75",
          "Glenfield-Jane Heights/327597.75",
          "Agincourt North/329811.5",
          "Scarborough Village/329835.75",
          "Agincourt South-Malvern West/334189.0",
          "Lambton Baby Point/336617.75",
          "Kingsview Village-The Westway/338344.75",
          "West Humber-Clairville/343254.25",
          "Milliken/344988.25",
          "Rockcliffe-Smythe/345660.25",
          "Wexford/Maryvale/348319.25",
          "Westminster-Branson/349320.25",
          "Brookhaven-Amesbury/350943.0",
          "Weston-Pellam Park/351802.0",
          "Humber Summit/352082.5",
          "Victoria Village/352133.0",
          "Tam O'Shanter-Sullivan/353926.5",
          "Clairlea-Birchmount/354555.25",
          "Rexdale-Kipling/360999.25",
          "Caledonia-Fairbank/361714.25",
          "Briar Hill-Belgravia/365524.5",
          "Guildwood/369373.5",
          "Woodbine-Lumsden/369918.5",
          "Henry Farm/369958.0",
          "Niagara/369993.0",
          "Beechborough-Greenbrook/370927.75",
          "Pleasant View/373375.25",
          "Thistletown-Beaumond Heights/375864.0",
          "Steeles/376014.5",
          "Rouge/376286.75",
          "Waterfront Communities-The Island/376863.0",
          "Downsview-Roding-CFB/381415.5",
          "Long Branch/385830.25",
          "Greenwood-Coxwell/387055.5",
          "Regent Park/392578.25",
          "Mimico/393490.5",
          "Hillcrest Village/395023.0",
          "Eringate-Centennial-West Deane/397781.75",
          "Don Valley Village/398010.25",
          "Pelmo Park-Humberlea/405431.25",
          "Church-Yonge Corridor/406117.5",
          "New Toronto/407812.0",
          "Moss Park/409456.0",
          "Centennial Scarborough/409862.75",
          "North St.James Town/411455.75",
          "Cliffcrest/417422.0",
          "Corso Italia-Davenport/419930.5",
          "Danforth-East York/421679.25",
          "Oakridge/422257.5",
          "Bay Street Corridor/423653.5",
          "Alderwood/427922.5",
          "Highland Creek/428838.5",
          "Yorkdale-Glen Park/430861.25",
          "Rustic/431090.5",
          "Junction Area/433269.25",
          "Dovercourt-Wallace Emerson-Juncti/434699.5",
          "Birchcliffe-Cliffside/437315.0",
          "Kensington-Chinatown/440485.75",
          "Oakwood Village/441202.75",
          "Broadview North/443373.25",
          "Old East York/443413.5",
          "Markland Wood/443974.75",
          "Woodbine Corridor/445382.75",
          "South Parkdale/447478.5",
          "Humber Heights-Westmount/449150.5",
          "Islington-City Centre West/451685.25",
          "Maple Leaf/453229.0",
          "Parkwoods-Donalda/454652.5",
          "South Riverdale/455020.5",
          "Dufferin Grove/457588.75",
          "Newtonbrook West/460568.5",
          "Willowridge-Martingrove-Richview/464278.0",
          "Willowdale West/466134.75",
          "Danforth/466943.0",
          "Mount Pleasant West/468181.75",
          "Willowdale East/469045.5",
          "East End-Danforth/478054.25",
          "Cabbagetown-South St.James Town/494110.5",
          "Bathurst Manor/501576.75",
          "Roncesvalles/508937.25",
          "Blake-Jones/511437.0",
          "High Park North/532497.0",
          "Trinity-Bellwoods/534465.75",
          "Bayview Village/539258.75",
          "Little Portugal/540192.5",
          "Stonegate-Queensway/550432.25",
          "Clanton Park/551561.25",
          "Runnymede-Bloor West Village/552082.0",
          "Newtonbrook East/559573.25",
          "Bayview Woods-Steeles/565413.5",
          "Wychwood/565976.5",
          "Englemount-Lawrence/568936.75",
          "High Park-Swansea/582977.75",
          "Banbury-Don Mills/612039.0",
          "Lansing-Westgate/613216.5",
          "University/618316.75",
          "Palmerston-Little Italy/622191.75",
          "Playter Estates-Danforth/648859.25",
          "L'Amoreaux/650307.75",
          "The Beaches/666306.0",
          "Mount Pleasant East/677370.25",
          "Humewood-Cedarvale/697085.5",
          "North Riverdale/703063.25",
          "Annex/746977.0",
          "Lawrence Park North/759392.5",
          "Princess-Rosethorn/765746.5",
          "Edenbridge-Humber Valley/796162.5",
          "Leaside-Bennington/806471.75",
          "Yonge-Eglinton/809745.75",
          "Yonge-St.Clair/813220.25",
          "Kingsway South/843234.25",
          "Forest Hill North/851680.5",
          "Bedford Park-Nortown/930415.25",
          "Casa Loma/981064.25",
          "St.Andrew-Windfields/999107.0",
          "Rosedale-Moore Park/1093640.0",
          "Lawrence Park South/1094027.75",
          "Forest Hill South/1195992.5",
          "Bridle Path-Sunnybrook-York Mills/1526485.75",
          "Agincourt North",
          "Agincourt South-Malvern West",
          "Alderwood",
          "Annex",
          "Banbury-Don Mills",
          "Bathurst Manor",
          "Bay Street Corridor",
          "Bayview Village",
          "Bayview Woods-Steeles",
          "Bedford Park-Nortown",
          "Beechborough-Greenbrook",
          "Bendale",
          "Birchcliffe-Cliffside",
          "Black Creek",
          "Blake-Jones",
          "Briar Hill-Belgravia",
          "Bridle Path-Sunnybrook-York Mills",
          "Broadview North",
          "Brookhaven-Amesbury",
          "Cabbagetown-South St.James Town",
          "Caledonia-Fairbank",
          "Casa Loma",
          "Centennial Scarborough",
          "Church-Yonge Corridor",
          "Clairlea-Birchmount",
          "Clanton Park",
          "Cliffcrest",
          "Corso Italia-Davenport",
          "Danforth",
          "Danforth-East York",
          "Don Valley Village",
          "Dorset Park",
          "Dovercourt-Wallace Emerson-Juncti",
          "Downsview-Roding-CFB",
          "Dufferin Grove",
          "East End-Danforth",
          "Edenbridge-Humber Valley",
          "Eglinton East",
          "Elms-Old Rexdale",
          "Englemount-Lawrence",
          "Eringate-Centennial-West Deane",
          "Etobicoke West Mall",
          "Flemingdon Park",
          "Forest Hill North",
          "Forest Hill South",
          "Glenfield-Jane Heights",
          "Greenwood-Coxwell",
          "Guildwood",
          "Henry Farm",
          "High Park North",
          "High Park-Swansea",
          "Highland Creek",
          "Hillcrest Village",
          "Humber Heights-Westmount",
          "Humber Summit",
          "Humbermede",
          "Humewood-Cedarvale",
          "Ionview",
          "Islington-City Centre West",
          "Junction Area",
          "Keelesdale-Eglinton West",
          "Kennedy Park",
          "Kensington-Chinatown",
          "Kingsview Village-The Westway",
          "Kingsway South",
          "L'Amoreaux",
          "Lambton Baby Point",
          "Lansing-Westgate",
          "Lawrence Park North",
          "Lawrence Park South",
          "Leaside-Bennington",
          "Little Portugal",
          "Long Branch",
          "Malvern",
          "Maple Leaf",
          "Markland Wood",
          "Milliken",
          "Mimico",
          "Morningside",
          "Moss Park",
          "Mount Dennis",
          "Mount Olive-Silverstone-Jamestown",
          "Mount Pleasant East",
          "Mount Pleasant West",
          "New Toronto",
          "Newtonbrook East",
          "Newtonbrook West",
          "Niagara",
          "North Riverdale",
          "North St.James Town",
          "O'Connor-Parkview",
          "Oakridge",
          "Oakwood Village",
          "Old East York",
          "Palmerston-Little Italy",
          "Parkwoods-Donalda",
          "Pelmo Park-Humberlea",
          "Playter Estates-Danforth",
          "Pleasant View",
          "Princess-Rosethorn",
          "Regent Park",
          "Rexdale-Kipling",
          "Rockcliffe-Smythe",
          "Roncesvalles",
          "Rosedale-Moore Park",
          "Rouge",
          "Runnymede-Bloor West Village",
          "Rustic",
          "Scarborough Village",
          "South Parkdale",
          "South Riverdale",
          "St.Andrew-Windfields",
          "Steeles",
          "Stonegate-Queensway",
          "Tam O'Shanter-Sullivan",
          "Taylor-Massey",
          "The Beaches",
          "Thistletown-Beaumond Heights",
          "Thorncliffe Park",
          "Trinity-Bellwoods",
          "University",
          "Victoria Village",
          "Waterfront Communities-The Island",
          "West Hill",
          "West Humber-Clairville",
          "Westminster-Branson",
          "Weston",
          "Weston-Pellam Park",
          "Wexford/Maryvale",
          "Willowdale East",
          "Willowdale West",
          "Willowridge-Martingrove-Richview",
          "Woburn",
          "Woodbine Corridor",
          "Woodbine-Lumsden",
          "Wychwood",
          "Yonge-Eglinton",
          "Yonge-St.Clair",
          "York University Heights",
          "Yorkdale-Glen Park"
         ],
         "labels": [
          "207799.0",
          "239414.0",
          "253182.25",
          "255264.75",
          "256880.25",
          "260841.75",
          "262000.25",
          "262308.75",
          "268341.25",
          "268966.5",
          "284647.5",
          "285013.5",
          "287233.5",
          "287685.75",
          "298315.75",
          "298505.75",
          "301123.25",
          "305899.5",
          "308007.75",
          "309412.0",
          "319783.75",
          "322774.75",
          "327597.75",
          "329811.5",
          "329835.75",
          "334189.0",
          "336617.75",
          "338344.75",
          "343254.25",
          "344988.25",
          "345660.25",
          "348319.25",
          "349320.25",
          "350943.0",
          "351802.0",
          "352082.5",
          "352133.0",
          "353926.5",
          "354555.25",
          "360999.25",
          "361714.25",
          "365524.5",
          "369373.5",
          "369918.5",
          "369958.0",
          "369993.0",
          "370927.75",
          "373375.25",
          "375864.0",
          "376014.5",
          "376286.75",
          "376863.0",
          "381415.5",
          "385830.25",
          "387055.5",
          "392578.25",
          "393490.5",
          "395023.0",
          "397781.75",
          "398010.25",
          "405431.25",
          "406117.5",
          "407812.0",
          "409456.0",
          "409862.75",
          "411455.75",
          "417422.0",
          "419930.5",
          "421679.25",
          "422257.5",
          "423653.5",
          "427922.5",
          "428838.5",
          "430861.25",
          "431090.5",
          "433269.25",
          "434699.5",
          "437315.0",
          "440485.75",
          "441202.75",
          "443373.25",
          "443413.5",
          "443974.75",
          "445382.75",
          "447478.5",
          "449150.5",
          "451685.25",
          "453229.0",
          "454652.5",
          "455020.5",
          "457588.75",
          "460568.5",
          "464278.0",
          "466134.75",
          "466943.0",
          "468181.75",
          "469045.5",
          "478054.25",
          "494110.5",
          "501576.75",
          "508937.25",
          "511437.0",
          "532497.0",
          "534465.75",
          "539258.75",
          "540192.5",
          "550432.25",
          "551561.25",
          "552082.0",
          "559573.25",
          "565413.5",
          "565976.5",
          "568936.75",
          "582977.75",
          "612039.0",
          "613216.5",
          "618316.75",
          "622191.75",
          "648859.25",
          "650307.75",
          "666306.0",
          "677370.25",
          "697085.5",
          "703063.25",
          "746977.0",
          "759392.5",
          "765746.5",
          "796162.5",
          "806471.75",
          "809745.75",
          "813220.25",
          "843234.25",
          "851680.5",
          "930415.25",
          "981064.25",
          "999107.0",
          "1093640.0",
          "1094027.75",
          "1195992.5",
          "1526485.75",
          "Agincourt North",
          "Agincourt South-Malvern West",
          "Alderwood",
          "Annex",
          "Banbury-Don Mills",
          "Bathurst Manor",
          "Bay Street Corridor",
          "Bayview Village",
          "Bayview Woods-Steeles",
          "Bedford Park-Nortown",
          "Beechborough-Greenbrook",
          "Bendale",
          "Birchcliffe-Cliffside",
          "Black Creek",
          "Blake-Jones",
          "Briar Hill-Belgravia",
          "Bridle Path-Sunnybrook-York Mills",
          "Broadview North",
          "Brookhaven-Amesbury",
          "Cabbagetown-South St.James Town",
          "Caledonia-Fairbank",
          "Casa Loma",
          "Centennial Scarborough",
          "Church-Yonge Corridor",
          "Clairlea-Birchmount",
          "Clanton Park",
          "Cliffcrest",
          "Corso Italia-Davenport",
          "Danforth",
          "Danforth-East York",
          "Don Valley Village",
          "Dorset Park",
          "Dovercourt-Wallace Emerson-Juncti",
          "Downsview-Roding-CFB",
          "Dufferin Grove",
          "East End-Danforth",
          "Edenbridge-Humber Valley",
          "Eglinton East",
          "Elms-Old Rexdale",
          "Englemount-Lawrence",
          "Eringate-Centennial-West Deane",
          "Etobicoke West Mall",
          "Flemingdon Park",
          "Forest Hill North",
          "Forest Hill South",
          "Glenfield-Jane Heights",
          "Greenwood-Coxwell",
          "Guildwood",
          "Henry Farm",
          "High Park North",
          "High Park-Swansea",
          "Highland Creek",
          "Hillcrest Village",
          "Humber Heights-Westmount",
          "Humber Summit",
          "Humbermede",
          "Humewood-Cedarvale",
          "Ionview",
          "Islington-City Centre West",
          "Junction Area",
          "Keelesdale-Eglinton West",
          "Kennedy Park",
          "Kensington-Chinatown",
          "Kingsview Village-The Westway",
          "Kingsway South",
          "L'Amoreaux",
          "Lambton Baby Point",
          "Lansing-Westgate",
          "Lawrence Park North",
          "Lawrence Park South",
          "Leaside-Bennington",
          "Little Portugal",
          "Long Branch",
          "Malvern",
          "Maple Leaf",
          "Markland Wood",
          "Milliken",
          "Mimico",
          "Morningside",
          "Moss Park",
          "Mount Dennis",
          "Mount Olive-Silverstone-Jamestown",
          "Mount Pleasant East",
          "Mount Pleasant West",
          "New Toronto",
          "Newtonbrook East",
          "Newtonbrook West",
          "Niagara",
          "North Riverdale",
          "North St.James Town",
          "O'Connor-Parkview",
          "Oakridge",
          "Oakwood Village",
          "Old East York",
          "Palmerston-Little Italy",
          "Parkwoods-Donalda",
          "Pelmo Park-Humberlea",
          "Playter Estates-Danforth",
          "Pleasant View",
          "Princess-Rosethorn",
          "Regent Park",
          "Rexdale-Kipling",
          "Rockcliffe-Smythe",
          "Roncesvalles",
          "Rosedale-Moore Park",
          "Rouge",
          "Runnymede-Bloor West Village",
          "Rustic",
          "Scarborough Village",
          "South Parkdale",
          "South Riverdale",
          "St.Andrew-Windfields",
          "Steeles",
          "Stonegate-Queensway",
          "Tam O'Shanter-Sullivan",
          "Taylor-Massey",
          "The Beaches",
          "Thistletown-Beaumond Heights",
          "Thorncliffe Park",
          "Trinity-Bellwoods",
          "University",
          "Victoria Village",
          "Waterfront Communities-The Island",
          "West Hill",
          "West Humber-Clairville",
          "Westminster-Branson",
          "Weston",
          "Weston-Pellam Park",
          "Wexford/Maryvale",
          "Willowdale East",
          "Willowdale West",
          "Willowridge-Martingrove-Richview",
          "Woburn",
          "Woodbine Corridor",
          "Woodbine-Lumsden",
          "Wychwood",
          "Yonge-Eglinton",
          "Yonge-St.Clair",
          "York University Heights",
          "Yorkdale-Glen Park"
         ],
         "marker": {
          "coloraxis": "coloraxis",
          "colors": [
           207799,
           239414,
           253182.25,
           255264.75,
           256880.25,
           260841.75,
           262000.25,
           262308.75,
           268341.25,
           268966.5,
           284647.5,
           285013.5,
           287233.5,
           287685.75,
           298315.75,
           298505.75,
           301123.25,
           305899.5,
           308007.75,
           309412,
           319783.75,
           322774.75,
           327597.75,
           329811.5,
           329835.75,
           334189,
           336617.75,
           338344.75,
           343254.25,
           344988.25,
           345660.25,
           348319.25,
           349320.25,
           350943,
           351802,
           352082.5,
           352133,
           353926.5,
           354555.25,
           360999.25,
           361714.25,
           365524.5,
           369373.5,
           369918.5,
           369958,
           369993,
           370927.75,
           373375.25,
           375864,
           376014.5,
           376286.75,
           376863,
           381415.5,
           385830.25,
           387055.5,
           392578.25,
           393490.5,
           395023,
           397781.75,
           398010.25,
           405431.25,
           406117.5,
           407812,
           409456,
           409862.75,
           411455.75,
           417422,
           419930.5,
           421679.25,
           422257.5,
           423653.5,
           427922.5,
           428838.5,
           430861.25,
           431090.5,
           433269.25,
           434699.5,
           437315,
           440485.75,
           441202.75,
           443373.25,
           443413.5,
           443974.75,
           445382.75,
           447478.5,
           449150.5,
           451685.25,
           453229,
           454652.5,
           455020.5,
           457588.75,
           460568.5,
           464278,
           466134.75,
           466943,
           468181.75,
           469045.5,
           478054.25,
           494110.5,
           501576.75,
           508937.25,
           511437,
           532497,
           534465.75,
           539258.75,
           540192.5,
           550432.25,
           551561.25,
           552082,
           559573.25,
           565413.5,
           565976.5,
           568936.75,
           582977.75,
           612039,
           613216.5,
           618316.75,
           622191.75,
           648859.25,
           650307.75,
           666306,
           677370.25,
           697085.5,
           703063.25,
           746977,
           759392.5,
           765746.5,
           796162.5,
           806471.75,
           809745.75,
           813220.25,
           843234.25,
           851680.5,
           930415.25,
           981064.25,
           999107,
           1093640,
           1094027.75,
           1195992.5,
           1526485.75,
           329811.5,
           334189,
           427922.5,
           746977,
           612039,
           501576.75,
           423653.5,
           539258.75,
           565413.5,
           930415.25,
           370927.75,
           301123.25,
           437315,
           260841.75,
           511437,
           365524.5,
           1526485.75,
           443373.25,
           350943,
           494110.5,
           361714.25,
           981064.25,
           409862.75,
           406117.5,
           354555.25,
           551561.25,
           417422,
           419930.5,
           466943,
           421679.25,
           398010.25,
           262000.25,
           434699.5,
           381415.5,
           457588.75,
           478054.25,
           796162.5,
           268966.5,
           268341.25,
           568936.75,
           397781.75,
           309412,
           207799,
           851680.5,
           1195992.5,
           327597.75,
           387055.5,
           369373.5,
           369958,
           532497,
           582977.75,
           428838.5,
           395023,
           449150.5,
           352082.5,
           319783.75,
           697085.5,
           287685.75,
           451685.25,
           433269.25,
           322774.75,
           287233.5,
           440485.75,
           338344.75,
           843234.25,
           650307.75,
           336617.75,
           613216.5,
           759392.5,
           1094027.75,
           806471.75,
           540192.5,
           385830.25,
           256880.25,
           453229,
           443974.75,
           344988.25,
           393490.5,
           285013.5,
           409456,
           262308.75,
           253182.25,
           677370.25,
           468181.75,
           407812,
           559573.25,
           460568.5,
           369993,
           703063.25,
           411455.75,
           298315.75,
           422257.5,
           441202.75,
           443413.5,
           622191.75,
           454652.5,
           405431.25,
           648859.25,
           373375.25,
           765746.5,
           392578.25,
           360999.25,
           345660.25,
           508937.25,
           1093640,
           376286.75,
           552082,
           431090.5,
           329835.75,
           447478.5,
           455020.5,
           999107,
           376014.5,
           550432.25,
           353926.5,
           239414,
           666306,
           375864,
           255264.75,
           534465.75,
           618316.75,
           352133,
           376863,
           284647.5,
           343254.25,
           349320.25,
           308007.75,
           351802,
           348319.25,
           469045.5,
           466134.75,
           464278,
           298505.75,
           445382.75,
           369918.5,
           565976.5,
           809745.75,
           813220.25,
           305899.5,
           430861.25
          ]
         },
         "name": "",
         "parents": [
          "Flemingdon Park",
          "Taylor-Massey",
          "Mount Olive-Silverstone-Jamestown",
          "Thorncliffe Park",
          "Malvern",
          "Black Creek",
          "Dorset Park",
          "Mount Dennis",
          "Elms-Old Rexdale",
          "Eglinton East",
          "West Hill",
          "Morningside",
          "Kennedy Park",
          "Ionview",
          "O'Connor-Parkview",
          "Woburn",
          "Bendale",
          "York University Heights",
          "Weston",
          "Etobicoke West Mall",
          "Humbermede",
          "Keelesdale-Eglinton West",
          "Glenfield-Jane Heights",
          "Agincourt North",
          "Scarborough Village",
          "Agincourt South-Malvern West",
          "Lambton Baby Point",
          "Kingsview Village-The Westway",
          "West Humber-Clairville",
          "Milliken",
          "Rockcliffe-Smythe",
          "Wexford/Maryvale",
          "Westminster-Branson",
          "Brookhaven-Amesbury",
          "Weston-Pellam Park",
          "Humber Summit",
          "Victoria Village",
          "Tam O'Shanter-Sullivan",
          "Clairlea-Birchmount",
          "Rexdale-Kipling",
          "Caledonia-Fairbank",
          "Briar Hill-Belgravia",
          "Guildwood",
          "Woodbine-Lumsden",
          "Henry Farm",
          "Niagara",
          "Beechborough-Greenbrook",
          "Pleasant View",
          "Thistletown-Beaumond Heights",
          "Steeles",
          "Rouge",
          "Waterfront Communities-The Island",
          "Downsview-Roding-CFB",
          "Long Branch",
          "Greenwood-Coxwell",
          "Regent Park",
          "Mimico",
          "Hillcrest Village",
          "Eringate-Centennial-West Deane",
          "Don Valley Village",
          "Pelmo Park-Humberlea",
          "Church-Yonge Corridor",
          "New Toronto",
          "Moss Park",
          "Centennial Scarborough",
          "North St.James Town",
          "Cliffcrest",
          "Corso Italia-Davenport",
          "Danforth-East York",
          "Oakridge",
          "Bay Street Corridor",
          "Alderwood",
          "Highland Creek",
          "Yorkdale-Glen Park",
          "Rustic",
          "Junction Area",
          "Dovercourt-Wallace Emerson-Juncti",
          "Birchcliffe-Cliffside",
          "Kensington-Chinatown",
          "Oakwood Village",
          "Broadview North",
          "Old East York",
          "Markland Wood",
          "Woodbine Corridor",
          "South Parkdale",
          "Humber Heights-Westmount",
          "Islington-City Centre West",
          "Maple Leaf",
          "Parkwoods-Donalda",
          "South Riverdale",
          "Dufferin Grove",
          "Newtonbrook West",
          "Willowridge-Martingrove-Richview",
          "Willowdale West",
          "Danforth",
          "Mount Pleasant West",
          "Willowdale East",
          "East End-Danforth",
          "Cabbagetown-South St.James Town",
          "Bathurst Manor",
          "Roncesvalles",
          "Blake-Jones",
          "High Park North",
          "Trinity-Bellwoods",
          "Bayview Village",
          "Little Portugal",
          "Stonegate-Queensway",
          "Clanton Park",
          "Runnymede-Bloor West Village",
          "Newtonbrook East",
          "Bayview Woods-Steeles",
          "Wychwood",
          "Englemount-Lawrence",
          "High Park-Swansea",
          "Banbury-Don Mills",
          "Lansing-Westgate",
          "University",
          "Palmerston-Little Italy",
          "Playter Estates-Danforth",
          "L'Amoreaux",
          "The Beaches",
          "Mount Pleasant East",
          "Humewood-Cedarvale",
          "North Riverdale",
          "Annex",
          "Lawrence Park North",
          "Princess-Rosethorn",
          "Edenbridge-Humber Valley",
          "Leaside-Bennington",
          "Yonge-Eglinton",
          "Yonge-St.Clair",
          "Kingsway South",
          "Forest Hill North",
          "Bedford Park-Nortown",
          "Casa Loma",
          "St.Andrew-Windfields",
          "Rosedale-Moore Park",
          "Lawrence Park South",
          "Forest Hill South",
          "Bridle Path-Sunnybrook-York Mills",
          "",
          "",
          "",
          "",
          "",
          "",
          "",
          "",
          "",
          "",
          "",
          "",
          "",
          "",
          "",
          "",
          "",
          "",
          "",
          "",
          "",
          "",
          "",
          "",
          "",
          "",
          "",
          "",
          "",
          "",
          "",
          "",
          "",
          "",
          "",
          "",
          "",
          "",
          "",
          "",
          "",
          "",
          "",
          "",
          "",
          "",
          "",
          "",
          "",
          "",
          "",
          "",
          "",
          "",
          "",
          "",
          "",
          "",
          "",
          "",
          "",
          "",
          "",
          "",
          "",
          "",
          "",
          "",
          "",
          "",
          "",
          "",
          "",
          "",
          "",
          "",
          "",
          "",
          "",
          "",
          "",
          "",
          "",
          "",
          "",
          "",
          "",
          "",
          "",
          "",
          "",
          "",
          "",
          "",
          "",
          "",
          "",
          "",
          "",
          "",
          "",
          "",
          "",
          "",
          "",
          "",
          "",
          "",
          "",
          "",
          "",
          "",
          "",
          "",
          "",
          "",
          "",
          "",
          "",
          "",
          "",
          "",
          "",
          "",
          "",
          "",
          "",
          "",
          "",
          "",
          "",
          "",
          "",
          "",
          "",
          "",
          "",
          "",
          "",
          ""
         ],
         "type": "sunburst",
         "values": [
          207799,
          239414,
          253182.25,
          255264.75,
          256880.25,
          260841.75,
          262000.25,
          262308.75,
          268341.25,
          268966.5,
          284647.5,
          285013.5,
          287233.5,
          287685.75,
          298315.75,
          298505.75,
          301123.25,
          305899.5,
          308007.75,
          309412,
          319783.75,
          322774.75,
          327597.75,
          329811.5,
          329835.75,
          334189,
          336617.75,
          338344.75,
          343254.25,
          344988.25,
          345660.25,
          348319.25,
          349320.25,
          350943,
          351802,
          352082.5,
          352133,
          353926.5,
          354555.25,
          360999.25,
          361714.25,
          365524.5,
          369373.5,
          369918.5,
          369958,
          369993,
          370927.75,
          373375.25,
          375864,
          376014.5,
          376286.75,
          376863,
          381415.5,
          385830.25,
          387055.5,
          392578.25,
          393490.5,
          395023,
          397781.75,
          398010.25,
          405431.25,
          406117.5,
          407812,
          409456,
          409862.75,
          411455.75,
          417422,
          419930.5,
          421679.25,
          422257.5,
          423653.5,
          427922.5,
          428838.5,
          430861.25,
          431090.5,
          433269.25,
          434699.5,
          437315,
          440485.75,
          441202.75,
          443373.25,
          443413.5,
          443974.75,
          445382.75,
          447478.5,
          449150.5,
          451685.25,
          453229,
          454652.5,
          455020.5,
          457588.75,
          460568.5,
          464278,
          466134.75,
          466943,
          468181.75,
          469045.5,
          478054.25,
          494110.5,
          501576.75,
          508937.25,
          511437,
          532497,
          534465.75,
          539258.75,
          540192.5,
          550432.25,
          551561.25,
          552082,
          559573.25,
          565413.5,
          565976.5,
          568936.75,
          582977.75,
          612039,
          613216.5,
          618316.75,
          622191.75,
          648859.25,
          650307.75,
          666306,
          677370.25,
          697085.5,
          703063.25,
          746977,
          759392.5,
          765746.5,
          796162.5,
          806471.75,
          809745.75,
          813220.25,
          843234.25,
          851680.5,
          930415.25,
          981064.25,
          999107,
          1093640,
          1094027.75,
          1195992.5,
          1526485.75,
          329811.5,
          334189,
          427922.5,
          746977,
          612039,
          501576.75,
          423653.5,
          539258.75,
          565413.5,
          930415.25,
          370927.75,
          301123.25,
          437315,
          260841.75,
          511437,
          365524.5,
          1526485.75,
          443373.25,
          350943,
          494110.5,
          361714.25,
          981064.25,
          409862.75,
          406117.5,
          354555.25,
          551561.25,
          417422,
          419930.5,
          466943,
          421679.25,
          398010.25,
          262000.25,
          434699.5,
          381415.5,
          457588.75,
          478054.25,
          796162.5,
          268966.5,
          268341.25,
          568936.75,
          397781.75,
          309412,
          207799,
          851680.5,
          1195992.5,
          327597.75,
          387055.5,
          369373.5,
          369958,
          532497,
          582977.75,
          428838.5,
          395023,
          449150.5,
          352082.5,
          319783.75,
          697085.5,
          287685.75,
          451685.25,
          433269.25,
          322774.75,
          287233.5,
          440485.75,
          338344.75,
          843234.25,
          650307.75,
          336617.75,
          613216.5,
          759392.5,
          1094027.75,
          806471.75,
          540192.5,
          385830.25,
          256880.25,
          453229,
          443974.75,
          344988.25,
          393490.5,
          285013.5,
          409456,
          262308.75,
          253182.25,
          677370.25,
          468181.75,
          407812,
          559573.25,
          460568.5,
          369993,
          703063.25,
          411455.75,
          298315.75,
          422257.5,
          441202.75,
          443413.5,
          622191.75,
          454652.5,
          405431.25,
          648859.25,
          373375.25,
          765746.5,
          392578.25,
          360999.25,
          345660.25,
          508937.25,
          1093640,
          376286.75,
          552082,
          431090.5,
          329835.75,
          447478.5,
          455020.5,
          999107,
          376014.5,
          550432.25,
          353926.5,
          239414,
          666306,
          375864,
          255264.75,
          534465.75,
          618316.75,
          352133,
          376863,
          284647.5,
          343254.25,
          349320.25,
          308007.75,
          351802,
          348319.25,
          469045.5,
          466134.75,
          464278,
          298505.75,
          445382.75,
          369918.5,
          565976.5,
          809745.75,
          813220.25,
          305899.5,
          430861.25
         ]
        }
       ],
       "layout": {
        "coloraxis": {
         "colorbar": {
          "title": {
           "text": "average_house_value"
          }
         },
         "colorscale": [
          [
           0,
           "#0d0887"
          ],
          [
           0.1111111111111111,
           "#46039f"
          ],
          [
           0.2222222222222222,
           "#7201a8"
          ],
          [
           0.3333333333333333,
           "#9c179e"
          ],
          [
           0.4444444444444444,
           "#bd3786"
          ],
          [
           0.5555555555555556,
           "#d8576b"
          ],
          [
           0.6666666666666666,
           "#ed7953"
          ],
          [
           0.7777777777777778,
           "#fb9f3a"
          ],
          [
           0.8888888888888888,
           "#fdca26"
          ],
          [
           1,
           "#f0f921"
          ]
         ]
        },
        "legend": {
         "tracegroupgap": 0
        },
        "margin": {
         "t": 60
        },
        "template": {
         "data": {
          "bar": [
           {
            "error_x": {
             "color": "#2a3f5f"
            },
            "error_y": {
             "color": "#2a3f5f"
            },
            "marker": {
             "line": {
              "color": "#E5ECF6",
              "width": 0.5
             }
            },
            "type": "bar"
           }
          ],
          "barpolar": [
           {
            "marker": {
             "line": {
              "color": "#E5ECF6",
              "width": 0.5
             }
            },
            "type": "barpolar"
           }
          ],
          "carpet": [
           {
            "aaxis": {
             "endlinecolor": "#2a3f5f",
             "gridcolor": "white",
             "linecolor": "white",
             "minorgridcolor": "white",
             "startlinecolor": "#2a3f5f"
            },
            "baxis": {
             "endlinecolor": "#2a3f5f",
             "gridcolor": "white",
             "linecolor": "white",
             "minorgridcolor": "white",
             "startlinecolor": "#2a3f5f"
            },
            "type": "carpet"
           }
          ],
          "choropleth": [
           {
            "colorbar": {
             "outlinewidth": 0,
             "ticks": ""
            },
            "type": "choropleth"
           }
          ],
          "contour": [
           {
            "colorbar": {
             "outlinewidth": 0,
             "ticks": ""
            },
            "colorscale": [
             [
              0,
              "#0d0887"
             ],
             [
              0.1111111111111111,
              "#46039f"
             ],
             [
              0.2222222222222222,
              "#7201a8"
             ],
             [
              0.3333333333333333,
              "#9c179e"
             ],
             [
              0.4444444444444444,
              "#bd3786"
             ],
             [
              0.5555555555555556,
              "#d8576b"
             ],
             [
              0.6666666666666666,
              "#ed7953"
             ],
             [
              0.7777777777777778,
              "#fb9f3a"
             ],
             [
              0.8888888888888888,
              "#fdca26"
             ],
             [
              1,
              "#f0f921"
             ]
            ],
            "type": "contour"
           }
          ],
          "contourcarpet": [
           {
            "colorbar": {
             "outlinewidth": 0,
             "ticks": ""
            },
            "type": "contourcarpet"
           }
          ],
          "heatmap": [
           {
            "colorbar": {
             "outlinewidth": 0,
             "ticks": ""
            },
            "colorscale": [
             [
              0,
              "#0d0887"
             ],
             [
              0.1111111111111111,
              "#46039f"
             ],
             [
              0.2222222222222222,
              "#7201a8"
             ],
             [
              0.3333333333333333,
              "#9c179e"
             ],
             [
              0.4444444444444444,
              "#bd3786"
             ],
             [
              0.5555555555555556,
              "#d8576b"
             ],
             [
              0.6666666666666666,
              "#ed7953"
             ],
             [
              0.7777777777777778,
              "#fb9f3a"
             ],
             [
              0.8888888888888888,
              "#fdca26"
             ],
             [
              1,
              "#f0f921"
             ]
            ],
            "type": "heatmap"
           }
          ],
          "heatmapgl": [
           {
            "colorbar": {
             "outlinewidth": 0,
             "ticks": ""
            },
            "colorscale": [
             [
              0,
              "#0d0887"
             ],
             [
              0.1111111111111111,
              "#46039f"
             ],
             [
              0.2222222222222222,
              "#7201a8"
             ],
             [
              0.3333333333333333,
              "#9c179e"
             ],
             [
              0.4444444444444444,
              "#bd3786"
             ],
             [
              0.5555555555555556,
              "#d8576b"
             ],
             [
              0.6666666666666666,
              "#ed7953"
             ],
             [
              0.7777777777777778,
              "#fb9f3a"
             ],
             [
              0.8888888888888888,
              "#fdca26"
             ],
             [
              1,
              "#f0f921"
             ]
            ],
            "type": "heatmapgl"
           }
          ],
          "histogram": [
           {
            "marker": {
             "colorbar": {
              "outlinewidth": 0,
              "ticks": ""
             }
            },
            "type": "histogram"
           }
          ],
          "histogram2d": [
           {
            "colorbar": {
             "outlinewidth": 0,
             "ticks": ""
            },
            "colorscale": [
             [
              0,
              "#0d0887"
             ],
             [
              0.1111111111111111,
              "#46039f"
             ],
             [
              0.2222222222222222,
              "#7201a8"
             ],
             [
              0.3333333333333333,
              "#9c179e"
             ],
             [
              0.4444444444444444,
              "#bd3786"
             ],
             [
              0.5555555555555556,
              "#d8576b"
             ],
             [
              0.6666666666666666,
              "#ed7953"
             ],
             [
              0.7777777777777778,
              "#fb9f3a"
             ],
             [
              0.8888888888888888,
              "#fdca26"
             ],
             [
              1,
              "#f0f921"
             ]
            ],
            "type": "histogram2d"
           }
          ],
          "histogram2dcontour": [
           {
            "colorbar": {
             "outlinewidth": 0,
             "ticks": ""
            },
            "colorscale": [
             [
              0,
              "#0d0887"
             ],
             [
              0.1111111111111111,
              "#46039f"
             ],
             [
              0.2222222222222222,
              "#7201a8"
             ],
             [
              0.3333333333333333,
              "#9c179e"
             ],
             [
              0.4444444444444444,
              "#bd3786"
             ],
             [
              0.5555555555555556,
              "#d8576b"
             ],
             [
              0.6666666666666666,
              "#ed7953"
             ],
             [
              0.7777777777777778,
              "#fb9f3a"
             ],
             [
              0.8888888888888888,
              "#fdca26"
             ],
             [
              1,
              "#f0f921"
             ]
            ],
            "type": "histogram2dcontour"
           }
          ],
          "mesh3d": [
           {
            "colorbar": {
             "outlinewidth": 0,
             "ticks": ""
            },
            "type": "mesh3d"
           }
          ],
          "parcoords": [
           {
            "line": {
             "colorbar": {
              "outlinewidth": 0,
              "ticks": ""
             }
            },
            "type": "parcoords"
           }
          ],
          "pie": [
           {
            "automargin": true,
            "type": "pie"
           }
          ],
          "scatter": [
           {
            "marker": {
             "colorbar": {
              "outlinewidth": 0,
              "ticks": ""
             }
            },
            "type": "scatter"
           }
          ],
          "scatter3d": [
           {
            "line": {
             "colorbar": {
              "outlinewidth": 0,
              "ticks": ""
             }
            },
            "marker": {
             "colorbar": {
              "outlinewidth": 0,
              "ticks": ""
             }
            },
            "type": "scatter3d"
           }
          ],
          "scattercarpet": [
           {
            "marker": {
             "colorbar": {
              "outlinewidth": 0,
              "ticks": ""
             }
            },
            "type": "scattercarpet"
           }
          ],
          "scattergeo": [
           {
            "marker": {
             "colorbar": {
              "outlinewidth": 0,
              "ticks": ""
             }
            },
            "type": "scattergeo"
           }
          ],
          "scattergl": [
           {
            "marker": {
             "colorbar": {
              "outlinewidth": 0,
              "ticks": ""
             }
            },
            "type": "scattergl"
           }
          ],
          "scattermapbox": [
           {
            "marker": {
             "colorbar": {
              "outlinewidth": 0,
              "ticks": ""
             }
            },
            "type": "scattermapbox"
           }
          ],
          "scatterpolar": [
           {
            "marker": {
             "colorbar": {
              "outlinewidth": 0,
              "ticks": ""
             }
            },
            "type": "scatterpolar"
           }
          ],
          "scatterpolargl": [
           {
            "marker": {
             "colorbar": {
              "outlinewidth": 0,
              "ticks": ""
             }
            },
            "type": "scatterpolargl"
           }
          ],
          "scatterternary": [
           {
            "marker": {
             "colorbar": {
              "outlinewidth": 0,
              "ticks": ""
             }
            },
            "type": "scatterternary"
           }
          ],
          "surface": [
           {
            "colorbar": {
             "outlinewidth": 0,
             "ticks": ""
            },
            "colorscale": [
             [
              0,
              "#0d0887"
             ],
             [
              0.1111111111111111,
              "#46039f"
             ],
             [
              0.2222222222222222,
              "#7201a8"
             ],
             [
              0.3333333333333333,
              "#9c179e"
             ],
             [
              0.4444444444444444,
              "#bd3786"
             ],
             [
              0.5555555555555556,
              "#d8576b"
             ],
             [
              0.6666666666666666,
              "#ed7953"
             ],
             [
              0.7777777777777778,
              "#fb9f3a"
             ],
             [
              0.8888888888888888,
              "#fdca26"
             ],
             [
              1,
              "#f0f921"
             ]
            ],
            "type": "surface"
           }
          ],
          "table": [
           {
            "cells": {
             "fill": {
              "color": "#EBF0F8"
             },
             "line": {
              "color": "white"
             }
            },
            "header": {
             "fill": {
              "color": "#C8D4E3"
             },
             "line": {
              "color": "white"
             }
            },
            "type": "table"
           }
          ]
         },
         "layout": {
          "annotationdefaults": {
           "arrowcolor": "#2a3f5f",
           "arrowhead": 0,
           "arrowwidth": 1
          },
          "coloraxis": {
           "colorbar": {
            "outlinewidth": 0,
            "ticks": ""
           }
          },
          "colorscale": {
           "diverging": [
            [
             0,
             "#8e0152"
            ],
            [
             0.1,
             "#c51b7d"
            ],
            [
             0.2,
             "#de77ae"
            ],
            [
             0.3,
             "#f1b6da"
            ],
            [
             0.4,
             "#fde0ef"
            ],
            [
             0.5,
             "#f7f7f7"
            ],
            [
             0.6,
             "#e6f5d0"
            ],
            [
             0.7,
             "#b8e186"
            ],
            [
             0.8,
             "#7fbc41"
            ],
            [
             0.9,
             "#4d9221"
            ],
            [
             1,
             "#276419"
            ]
           ],
           "sequential": [
            [
             0,
             "#0d0887"
            ],
            [
             0.1111111111111111,
             "#46039f"
            ],
            [
             0.2222222222222222,
             "#7201a8"
            ],
            [
             0.3333333333333333,
             "#9c179e"
            ],
            [
             0.4444444444444444,
             "#bd3786"
            ],
            [
             0.5555555555555556,
             "#d8576b"
            ],
            [
             0.6666666666666666,
             "#ed7953"
            ],
            [
             0.7777777777777778,
             "#fb9f3a"
            ],
            [
             0.8888888888888888,
             "#fdca26"
            ],
            [
             1,
             "#f0f921"
            ]
           ],
           "sequentialminus": [
            [
             0,
             "#0d0887"
            ],
            [
             0.1111111111111111,
             "#46039f"
            ],
            [
             0.2222222222222222,
             "#7201a8"
            ],
            [
             0.3333333333333333,
             "#9c179e"
            ],
            [
             0.4444444444444444,
             "#bd3786"
            ],
            [
             0.5555555555555556,
             "#d8576b"
            ],
            [
             0.6666666666666666,
             "#ed7953"
            ],
            [
             0.7777777777777778,
             "#fb9f3a"
            ],
            [
             0.8888888888888888,
             "#fdca26"
            ],
            [
             1,
             "#f0f921"
            ]
           ]
          },
          "colorway": [
           "#636efa",
           "#EF553B",
           "#00cc96",
           "#ab63fa",
           "#FFA15A",
           "#19d3f3",
           "#FF6692",
           "#B6E880",
           "#FF97FF",
           "#FECB52"
          ],
          "font": {
           "color": "#2a3f5f"
          },
          "geo": {
           "bgcolor": "white",
           "lakecolor": "white",
           "landcolor": "#E5ECF6",
           "showlakes": true,
           "showland": true,
           "subunitcolor": "white"
          },
          "hoverlabel": {
           "align": "left"
          },
          "hovermode": "closest",
          "mapbox": {
           "style": "light"
          },
          "paper_bgcolor": "white",
          "plot_bgcolor": "#E5ECF6",
          "polar": {
           "angularaxis": {
            "gridcolor": "white",
            "linecolor": "white",
            "ticks": ""
           },
           "bgcolor": "#E5ECF6",
           "radialaxis": {
            "gridcolor": "white",
            "linecolor": "white",
            "ticks": ""
           }
          },
          "scene": {
           "xaxis": {
            "backgroundcolor": "#E5ECF6",
            "gridcolor": "white",
            "gridwidth": 2,
            "linecolor": "white",
            "showbackground": true,
            "ticks": "",
            "zerolinecolor": "white"
           },
           "yaxis": {
            "backgroundcolor": "#E5ECF6",
            "gridcolor": "white",
            "gridwidth": 2,
            "linecolor": "white",
            "showbackground": true,
            "ticks": "",
            "zerolinecolor": "white"
           },
           "zaxis": {
            "backgroundcolor": "#E5ECF6",
            "gridcolor": "white",
            "gridwidth": 2,
            "linecolor": "white",
            "showbackground": true,
            "ticks": "",
            "zerolinecolor": "white"
           }
          },
          "shapedefaults": {
           "line": {
            "color": "#2a3f5f"
           }
          },
          "ternary": {
           "aaxis": {
            "gridcolor": "white",
            "linecolor": "white",
            "ticks": ""
           },
           "baxis": {
            "gridcolor": "white",
            "linecolor": "white",
            "ticks": ""
           },
           "bgcolor": "#E5ECF6",
           "caxis": {
            "gridcolor": "white",
            "linecolor": "white",
            "ticks": ""
           }
          },
          "title": {
           "x": 0.05
          },
          "xaxis": {
           "automargin": true,
           "gridcolor": "white",
           "linecolor": "white",
           "ticks": "",
           "title": {
            "standoff": 15
           },
           "zerolinecolor": "white",
           "zerolinewidth": 2
          },
          "yaxis": {
           "automargin": true,
           "gridcolor": "white",
           "linecolor": "white",
           "ticks": "",
           "title": {
            "standoff": 15
           },
           "zerolinecolor": "white",
           "zerolinewidth": 2
          }
         }
        }
       }
      },
      "text/html": [
       "<div>                            <div id=\"c5a652e7-c49e-467c-b745-d2ee11dd099a\" class=\"plotly-graph-div\" style=\"height:525px; width:100%;\"></div>            <script type=\"text/javascript\">                require([\"plotly\"], function(Plotly) {                    window.PLOTLYENV=window.PLOTLYENV || {};                                    if (document.getElementById(\"c5a652e7-c49e-467c-b745-d2ee11dd099a\")) {                    Plotly.newPlot(                        \"c5a652e7-c49e-467c-b745-d2ee11dd099a\",                        [{\"branchvalues\": \"total\", \"customdata\": [[207799.0], [239414.0], [253182.25], [255264.75], [256880.25], [260841.75], [262000.25], [262308.75], [268341.25], [268966.5], [284647.5], [285013.5], [287233.5], [287685.75], [298315.75], [298505.75], [301123.25], [305899.5], [308007.75], [309412.0], [319783.75], [322774.75], [327597.75], [329811.5], [329835.75], [334189.0], [336617.75], [338344.75], [343254.25], [344988.25], [345660.25], [348319.25], [349320.25], [350943.0], [351802.0], [352082.5], [352133.0], [353926.5], [354555.25], [360999.25], [361714.25], [365524.5], [369373.5], [369918.5], [369958.0], [369993.0], [370927.75], [373375.25], [375864.0], [376014.5], [376286.75], [376863.0], [381415.5], [385830.25], [387055.5], [392578.25], [393490.5], [395023.0], [397781.75], [398010.25], [405431.25], [406117.5], [407812.0], [409456.0], [409862.75], [411455.75], [417422.0], [419930.5], [421679.25], [422257.5], [423653.5], [427922.5], [428838.5], [430861.25], [431090.5], [433269.25], [434699.5], [437315.0], [440485.75], [441202.75], [443373.25], [443413.5], [443974.75], [445382.75], [447478.5], [449150.5], [451685.25], [453229.0], [454652.5], [455020.5], [457588.75], [460568.5], [464278.0], [466134.75], [466943.0], [468181.75], [469045.5], [478054.25], [494110.5], [501576.75], [508937.25], [511437.0], [532497.0], [534465.75], [539258.75], [540192.5], [550432.25], [551561.25], [552082.0], [559573.25], [565413.5], [565976.5], [568936.75], [582977.75], [612039.0], [613216.5], [618316.75], [622191.75], [648859.25], [650307.75], [666306.0], [677370.25], [697085.5], [703063.25], [746977.0], [759392.5], [765746.5], [796162.5], [806471.75], [809745.75], [813220.25], [843234.25], [851680.5], [930415.25], [981064.25], [999107.0], [1093640.0], [1094027.75], [1195992.5], [1526485.75], [329811.5], [334189.0], [427922.5], [746977.0], [612039.0], [501576.75], [423653.5], [539258.75], [565413.5], [930415.25], [370927.75], [301123.25], [437315.0], [260841.75], [511437.0], [365524.5], [1526485.75], [443373.25], [350943.0], [494110.5], [361714.25], [981064.25], [409862.75], [406117.5], [354555.25], [551561.25], [417422.0], [419930.5], [466943.0], [421679.25], [398010.25], [262000.25], [434699.5], [381415.5], [457588.75], [478054.25], [796162.5], [268966.5], [268341.25], [568936.75], [397781.75], [309412.0], [207799.0], [851680.5], [1195992.5], [327597.75], [387055.5], [369373.5], [369958.0], [532497.0], [582977.75], [428838.5], [395023.0], [449150.5], [352082.5], [319783.75], [697085.5], [287685.75], [451685.25], [433269.25], [322774.75], [287233.5], [440485.75], [338344.75], [843234.25], [650307.75], [336617.75], [613216.5], [759392.5], [1094027.75], [806471.75], [540192.5], [385830.25], [256880.25], [453229.0], [443974.75], [344988.25], [393490.5], [285013.5], [409456.0], [262308.75], [253182.25], [677370.25], [468181.75], [407812.0], [559573.25], [460568.5], [369993.0], [703063.25], [411455.75], [298315.75], [422257.5], [441202.75], [443413.5], [622191.75], [454652.5], [405431.25], [648859.25], [373375.25], [765746.5], [392578.25], [360999.25], [345660.25], [508937.25], [1093640.0], [376286.75], [552082.0], [431090.5], [329835.75], [447478.5], [455020.5], [999107.0], [376014.5], [550432.25], [353926.5], [239414.0], [666306.0], [375864.0], [255264.75], [534465.75], [618316.75], [352133.0], [376863.0], [284647.5], [343254.25], [349320.25], [308007.75], [351802.0], [348319.25], [469045.5], [466134.75], [464278.0], [298505.75], [445382.75], [369918.5], [565976.5], [809745.75], [813220.25], [305899.5], [430861.25]], \"domain\": {\"x\": [0.0, 1.0], \"y\": [0.0, 1.0]}, \"hovertemplate\": \"labels=%{label}<br>average_house_value_sum=%{value}<br>parent=%{parent}<br>id=%{id}<br>average_house_value=%{color}<extra></extra>\", \"ids\": [\"Flemingdon Park/207799.0\", \"Taylor-Massey/239414.0\", \"Mount Olive-Silverstone-Jamestown/253182.25\", \"Thorncliffe Park/255264.75\", \"Malvern/256880.25\", \"Black Creek/260841.75\", \"Dorset Park/262000.25\", \"Mount Dennis/262308.75\", \"Elms-Old Rexdale/268341.25\", \"Eglinton East/268966.5\", \"West Hill/284647.5\", \"Morningside/285013.5\", \"Kennedy Park/287233.5\", \"Ionview/287685.75\", \"O'Connor-Parkview/298315.75\", \"Woburn/298505.75\", \"Bendale/301123.25\", \"York University Heights/305899.5\", \"Weston/308007.75\", \"Etobicoke West Mall/309412.0\", \"Humbermede/319783.75\", \"Keelesdale-Eglinton West/322774.75\", \"Glenfield-Jane Heights/327597.75\", \"Agincourt North/329811.5\", \"Scarborough Village/329835.75\", \"Agincourt South-Malvern West/334189.0\", \"Lambton Baby Point/336617.75\", \"Kingsview Village-The Westway/338344.75\", \"West Humber-Clairville/343254.25\", \"Milliken/344988.25\", \"Rockcliffe-Smythe/345660.25\", \"Wexford/Maryvale/348319.25\", \"Westminster-Branson/349320.25\", \"Brookhaven-Amesbury/350943.0\", \"Weston-Pellam Park/351802.0\", \"Humber Summit/352082.5\", \"Victoria Village/352133.0\", \"Tam O'Shanter-Sullivan/353926.5\", \"Clairlea-Birchmount/354555.25\", \"Rexdale-Kipling/360999.25\", \"Caledonia-Fairbank/361714.25\", \"Briar Hill-Belgravia/365524.5\", \"Guildwood/369373.5\", \"Woodbine-Lumsden/369918.5\", \"Henry Farm/369958.0\", \"Niagara/369993.0\", \"Beechborough-Greenbrook/370927.75\", \"Pleasant View/373375.25\", \"Thistletown-Beaumond Heights/375864.0\", \"Steeles/376014.5\", \"Rouge/376286.75\", \"Waterfront Communities-The Island/376863.0\", \"Downsview-Roding-CFB/381415.5\", \"Long Branch/385830.25\", \"Greenwood-Coxwell/387055.5\", \"Regent Park/392578.25\", \"Mimico/393490.5\", \"Hillcrest Village/395023.0\", \"Eringate-Centennial-West Deane/397781.75\", \"Don Valley Village/398010.25\", \"Pelmo Park-Humberlea/405431.25\", \"Church-Yonge Corridor/406117.5\", \"New Toronto/407812.0\", \"Moss Park/409456.0\", \"Centennial Scarborough/409862.75\", \"North St.James Town/411455.75\", \"Cliffcrest/417422.0\", \"Corso Italia-Davenport/419930.5\", \"Danforth-East York/421679.25\", \"Oakridge/422257.5\", \"Bay Street Corridor/423653.5\", \"Alderwood/427922.5\", \"Highland Creek/428838.5\", \"Yorkdale-Glen Park/430861.25\", \"Rustic/431090.5\", \"Junction Area/433269.25\", \"Dovercourt-Wallace Emerson-Juncti/434699.5\", \"Birchcliffe-Cliffside/437315.0\", \"Kensington-Chinatown/440485.75\", \"Oakwood Village/441202.75\", \"Broadview North/443373.25\", \"Old East York/443413.5\", \"Markland Wood/443974.75\", \"Woodbine Corridor/445382.75\", \"South Parkdale/447478.5\", \"Humber Heights-Westmount/449150.5\", \"Islington-City Centre West/451685.25\", \"Maple Leaf/453229.0\", \"Parkwoods-Donalda/454652.5\", \"South Riverdale/455020.5\", \"Dufferin Grove/457588.75\", \"Newtonbrook West/460568.5\", \"Willowridge-Martingrove-Richview/464278.0\", \"Willowdale West/466134.75\", \"Danforth/466943.0\", \"Mount Pleasant West/468181.75\", \"Willowdale East/469045.5\", \"East End-Danforth/478054.25\", \"Cabbagetown-South St.James Town/494110.5\", \"Bathurst Manor/501576.75\", \"Roncesvalles/508937.25\", \"Blake-Jones/511437.0\", \"High Park North/532497.0\", \"Trinity-Bellwoods/534465.75\", \"Bayview Village/539258.75\", \"Little Portugal/540192.5\", \"Stonegate-Queensway/550432.25\", \"Clanton Park/551561.25\", \"Runnymede-Bloor West Village/552082.0\", \"Newtonbrook East/559573.25\", \"Bayview Woods-Steeles/565413.5\", \"Wychwood/565976.5\", \"Englemount-Lawrence/568936.75\", \"High Park-Swansea/582977.75\", \"Banbury-Don Mills/612039.0\", \"Lansing-Westgate/613216.5\", \"University/618316.75\", \"Palmerston-Little Italy/622191.75\", \"Playter Estates-Danforth/648859.25\", \"L'Amoreaux/650307.75\", \"The Beaches/666306.0\", \"Mount Pleasant East/677370.25\", \"Humewood-Cedarvale/697085.5\", \"North Riverdale/703063.25\", \"Annex/746977.0\", \"Lawrence Park North/759392.5\", \"Princess-Rosethorn/765746.5\", \"Edenbridge-Humber Valley/796162.5\", \"Leaside-Bennington/806471.75\", \"Yonge-Eglinton/809745.75\", \"Yonge-St.Clair/813220.25\", \"Kingsway South/843234.25\", \"Forest Hill North/851680.5\", \"Bedford Park-Nortown/930415.25\", \"Casa Loma/981064.25\", \"St.Andrew-Windfields/999107.0\", \"Rosedale-Moore Park/1093640.0\", \"Lawrence Park South/1094027.75\", \"Forest Hill South/1195992.5\", \"Bridle Path-Sunnybrook-York Mills/1526485.75\", \"Agincourt North\", \"Agincourt South-Malvern West\", \"Alderwood\", \"Annex\", \"Banbury-Don Mills\", \"Bathurst Manor\", \"Bay Street Corridor\", \"Bayview Village\", \"Bayview Woods-Steeles\", \"Bedford Park-Nortown\", \"Beechborough-Greenbrook\", \"Bendale\", \"Birchcliffe-Cliffside\", \"Black Creek\", \"Blake-Jones\", \"Briar Hill-Belgravia\", \"Bridle Path-Sunnybrook-York Mills\", \"Broadview North\", \"Brookhaven-Amesbury\", \"Cabbagetown-South St.James Town\", \"Caledonia-Fairbank\", \"Casa Loma\", \"Centennial Scarborough\", \"Church-Yonge Corridor\", \"Clairlea-Birchmount\", \"Clanton Park\", \"Cliffcrest\", \"Corso Italia-Davenport\", \"Danforth\", \"Danforth-East York\", \"Don Valley Village\", \"Dorset Park\", \"Dovercourt-Wallace Emerson-Juncti\", \"Downsview-Roding-CFB\", \"Dufferin Grove\", \"East End-Danforth\", \"Edenbridge-Humber Valley\", \"Eglinton East\", \"Elms-Old Rexdale\", \"Englemount-Lawrence\", \"Eringate-Centennial-West Deane\", \"Etobicoke West Mall\", \"Flemingdon Park\", \"Forest Hill North\", \"Forest Hill South\", \"Glenfield-Jane Heights\", \"Greenwood-Coxwell\", \"Guildwood\", \"Henry Farm\", \"High Park North\", \"High Park-Swansea\", \"Highland Creek\", \"Hillcrest Village\", \"Humber Heights-Westmount\", \"Humber Summit\", \"Humbermede\", \"Humewood-Cedarvale\", \"Ionview\", \"Islington-City Centre West\", \"Junction Area\", \"Keelesdale-Eglinton West\", \"Kennedy Park\", \"Kensington-Chinatown\", \"Kingsview Village-The Westway\", \"Kingsway South\", \"L'Amoreaux\", \"Lambton Baby Point\", \"Lansing-Westgate\", \"Lawrence Park North\", \"Lawrence Park South\", \"Leaside-Bennington\", \"Little Portugal\", \"Long Branch\", \"Malvern\", \"Maple Leaf\", \"Markland Wood\", \"Milliken\", \"Mimico\", \"Morningside\", \"Moss Park\", \"Mount Dennis\", \"Mount Olive-Silverstone-Jamestown\", \"Mount Pleasant East\", \"Mount Pleasant West\", \"New Toronto\", \"Newtonbrook East\", \"Newtonbrook West\", \"Niagara\", \"North Riverdale\", \"North St.James Town\", \"O'Connor-Parkview\", \"Oakridge\", \"Oakwood Village\", \"Old East York\", \"Palmerston-Little Italy\", \"Parkwoods-Donalda\", \"Pelmo Park-Humberlea\", \"Playter Estates-Danforth\", \"Pleasant View\", \"Princess-Rosethorn\", \"Regent Park\", \"Rexdale-Kipling\", \"Rockcliffe-Smythe\", \"Roncesvalles\", \"Rosedale-Moore Park\", \"Rouge\", \"Runnymede-Bloor West Village\", \"Rustic\", \"Scarborough Village\", \"South Parkdale\", \"South Riverdale\", \"St.Andrew-Windfields\", \"Steeles\", \"Stonegate-Queensway\", \"Tam O'Shanter-Sullivan\", \"Taylor-Massey\", \"The Beaches\", \"Thistletown-Beaumond Heights\", \"Thorncliffe Park\", \"Trinity-Bellwoods\", \"University\", \"Victoria Village\", \"Waterfront Communities-The Island\", \"West Hill\", \"West Humber-Clairville\", \"Westminster-Branson\", \"Weston\", \"Weston-Pellam Park\", \"Wexford/Maryvale\", \"Willowdale East\", \"Willowdale West\", \"Willowridge-Martingrove-Richview\", \"Woburn\", \"Woodbine Corridor\", \"Woodbine-Lumsden\", \"Wychwood\", \"Yonge-Eglinton\", \"Yonge-St.Clair\", \"York University Heights\", \"Yorkdale-Glen Park\"], \"labels\": [\"207799.0\", \"239414.0\", \"253182.25\", \"255264.75\", \"256880.25\", \"260841.75\", \"262000.25\", \"262308.75\", \"268341.25\", \"268966.5\", \"284647.5\", \"285013.5\", \"287233.5\", \"287685.75\", \"298315.75\", \"298505.75\", \"301123.25\", \"305899.5\", \"308007.75\", \"309412.0\", \"319783.75\", \"322774.75\", \"327597.75\", \"329811.5\", \"329835.75\", \"334189.0\", \"336617.75\", \"338344.75\", \"343254.25\", \"344988.25\", \"345660.25\", \"348319.25\", \"349320.25\", \"350943.0\", \"351802.0\", \"352082.5\", \"352133.0\", \"353926.5\", \"354555.25\", \"360999.25\", \"361714.25\", \"365524.5\", \"369373.5\", \"369918.5\", \"369958.0\", \"369993.0\", \"370927.75\", \"373375.25\", \"375864.0\", \"376014.5\", \"376286.75\", \"376863.0\", \"381415.5\", \"385830.25\", \"387055.5\", \"392578.25\", \"393490.5\", \"395023.0\", \"397781.75\", \"398010.25\", \"405431.25\", \"406117.5\", \"407812.0\", \"409456.0\", \"409862.75\", \"411455.75\", \"417422.0\", \"419930.5\", \"421679.25\", \"422257.5\", \"423653.5\", \"427922.5\", \"428838.5\", \"430861.25\", \"431090.5\", \"433269.25\", \"434699.5\", \"437315.0\", \"440485.75\", \"441202.75\", \"443373.25\", \"443413.5\", \"443974.75\", \"445382.75\", \"447478.5\", \"449150.5\", \"451685.25\", \"453229.0\", \"454652.5\", \"455020.5\", \"457588.75\", \"460568.5\", \"464278.0\", \"466134.75\", \"466943.0\", \"468181.75\", \"469045.5\", \"478054.25\", \"494110.5\", \"501576.75\", \"508937.25\", \"511437.0\", \"532497.0\", \"534465.75\", \"539258.75\", \"540192.5\", \"550432.25\", \"551561.25\", \"552082.0\", \"559573.25\", \"565413.5\", \"565976.5\", \"568936.75\", \"582977.75\", \"612039.0\", \"613216.5\", \"618316.75\", \"622191.75\", \"648859.25\", \"650307.75\", \"666306.0\", \"677370.25\", \"697085.5\", \"703063.25\", \"746977.0\", \"759392.5\", \"765746.5\", \"796162.5\", \"806471.75\", \"809745.75\", \"813220.25\", \"843234.25\", \"851680.5\", \"930415.25\", \"981064.25\", \"999107.0\", \"1093640.0\", \"1094027.75\", \"1195992.5\", \"1526485.75\", \"Agincourt North\", \"Agincourt South-Malvern West\", \"Alderwood\", \"Annex\", \"Banbury-Don Mills\", \"Bathurst Manor\", \"Bay Street Corridor\", \"Bayview Village\", \"Bayview Woods-Steeles\", \"Bedford Park-Nortown\", \"Beechborough-Greenbrook\", \"Bendale\", \"Birchcliffe-Cliffside\", \"Black Creek\", \"Blake-Jones\", \"Briar Hill-Belgravia\", \"Bridle Path-Sunnybrook-York Mills\", \"Broadview North\", \"Brookhaven-Amesbury\", \"Cabbagetown-South St.James Town\", \"Caledonia-Fairbank\", \"Casa Loma\", \"Centennial Scarborough\", \"Church-Yonge Corridor\", \"Clairlea-Birchmount\", \"Clanton Park\", \"Cliffcrest\", \"Corso Italia-Davenport\", \"Danforth\", \"Danforth-East York\", \"Don Valley Village\", \"Dorset Park\", \"Dovercourt-Wallace Emerson-Juncti\", \"Downsview-Roding-CFB\", \"Dufferin Grove\", \"East End-Danforth\", \"Edenbridge-Humber Valley\", \"Eglinton East\", \"Elms-Old Rexdale\", \"Englemount-Lawrence\", \"Eringate-Centennial-West Deane\", \"Etobicoke West Mall\", \"Flemingdon Park\", \"Forest Hill North\", \"Forest Hill South\", \"Glenfield-Jane Heights\", \"Greenwood-Coxwell\", \"Guildwood\", \"Henry Farm\", \"High Park North\", \"High Park-Swansea\", \"Highland Creek\", \"Hillcrest Village\", \"Humber Heights-Westmount\", \"Humber Summit\", \"Humbermede\", \"Humewood-Cedarvale\", \"Ionview\", \"Islington-City Centre West\", \"Junction Area\", \"Keelesdale-Eglinton West\", \"Kennedy Park\", \"Kensington-Chinatown\", \"Kingsview Village-The Westway\", \"Kingsway South\", \"L'Amoreaux\", \"Lambton Baby Point\", \"Lansing-Westgate\", \"Lawrence Park North\", \"Lawrence Park South\", \"Leaside-Bennington\", \"Little Portugal\", \"Long Branch\", \"Malvern\", \"Maple Leaf\", \"Markland Wood\", \"Milliken\", \"Mimico\", \"Morningside\", \"Moss Park\", \"Mount Dennis\", \"Mount Olive-Silverstone-Jamestown\", \"Mount Pleasant East\", \"Mount Pleasant West\", \"New Toronto\", \"Newtonbrook East\", \"Newtonbrook West\", \"Niagara\", \"North Riverdale\", \"North St.James Town\", \"O'Connor-Parkview\", \"Oakridge\", \"Oakwood Village\", \"Old East York\", \"Palmerston-Little Italy\", \"Parkwoods-Donalda\", \"Pelmo Park-Humberlea\", \"Playter Estates-Danforth\", \"Pleasant View\", \"Princess-Rosethorn\", \"Regent Park\", \"Rexdale-Kipling\", \"Rockcliffe-Smythe\", \"Roncesvalles\", \"Rosedale-Moore Park\", \"Rouge\", \"Runnymede-Bloor West Village\", \"Rustic\", \"Scarborough Village\", \"South Parkdale\", \"South Riverdale\", \"St.Andrew-Windfields\", \"Steeles\", \"Stonegate-Queensway\", \"Tam O'Shanter-Sullivan\", \"Taylor-Massey\", \"The Beaches\", \"Thistletown-Beaumond Heights\", \"Thorncliffe Park\", \"Trinity-Bellwoods\", \"University\", \"Victoria Village\", \"Waterfront Communities-The Island\", \"West Hill\", \"West Humber-Clairville\", \"Westminster-Branson\", \"Weston\", \"Weston-Pellam Park\", \"Wexford/Maryvale\", \"Willowdale East\", \"Willowdale West\", \"Willowridge-Martingrove-Richview\", \"Woburn\", \"Woodbine Corridor\", \"Woodbine-Lumsden\", \"Wychwood\", \"Yonge-Eglinton\", \"Yonge-St.Clair\", \"York University Heights\", \"Yorkdale-Glen Park\"], \"marker\": {\"coloraxis\": \"coloraxis\", \"colors\": [207799.0, 239414.0, 253182.25, 255264.75, 256880.25, 260841.75, 262000.25, 262308.75, 268341.25, 268966.5, 284647.5, 285013.5, 287233.5, 287685.75, 298315.75, 298505.75, 301123.25, 305899.5, 308007.75, 309412.0, 319783.75, 322774.75, 327597.75, 329811.5, 329835.75, 334189.0, 336617.75, 338344.75, 343254.25, 344988.25, 345660.25, 348319.25, 349320.25, 350943.0, 351802.0, 352082.5, 352133.0, 353926.5, 354555.25, 360999.25, 361714.25, 365524.5, 369373.5, 369918.5, 369958.0, 369993.0, 370927.75, 373375.25, 375864.0, 376014.5, 376286.75, 376863.0, 381415.5, 385830.25, 387055.5, 392578.25, 393490.5, 395023.0, 397781.75, 398010.25, 405431.25, 406117.5, 407812.0, 409456.0, 409862.75, 411455.75, 417422.0, 419930.5, 421679.25, 422257.5, 423653.5, 427922.5, 428838.5, 430861.25, 431090.5, 433269.25, 434699.5, 437315.0, 440485.75, 441202.75, 443373.25, 443413.5, 443974.75, 445382.75, 447478.5, 449150.5, 451685.25, 453229.0, 454652.5, 455020.5, 457588.75, 460568.5, 464278.0, 466134.75, 466943.0, 468181.75, 469045.5, 478054.25, 494110.5, 501576.75, 508937.25, 511437.0, 532497.0, 534465.75, 539258.75, 540192.5, 550432.25, 551561.25, 552082.0, 559573.25, 565413.5, 565976.5, 568936.75, 582977.75, 612039.0, 613216.5, 618316.75, 622191.75, 648859.25, 650307.75, 666306.0, 677370.25, 697085.5, 703063.25, 746977.0, 759392.5, 765746.5, 796162.5, 806471.75, 809745.75, 813220.25, 843234.25, 851680.5, 930415.25, 981064.25, 999107.0, 1093640.0, 1094027.75, 1195992.5, 1526485.75, 329811.5, 334189.0, 427922.5, 746977.0, 612039.0, 501576.75, 423653.5, 539258.75, 565413.5, 930415.25, 370927.75, 301123.25, 437315.0, 260841.75, 511437.0, 365524.5, 1526485.75, 443373.25, 350943.0, 494110.5, 361714.25, 981064.25, 409862.75, 406117.5, 354555.25, 551561.25, 417422.0, 419930.5, 466943.0, 421679.25, 398010.25, 262000.25, 434699.5, 381415.5, 457588.75, 478054.25, 796162.5, 268966.5, 268341.25, 568936.75, 397781.75, 309412.0, 207799.0, 851680.5, 1195992.5, 327597.75, 387055.5, 369373.5, 369958.0, 532497.0, 582977.75, 428838.5, 395023.0, 449150.5, 352082.5, 319783.75, 697085.5, 287685.75, 451685.25, 433269.25, 322774.75, 287233.5, 440485.75, 338344.75, 843234.25, 650307.75, 336617.75, 613216.5, 759392.5, 1094027.75, 806471.75, 540192.5, 385830.25, 256880.25, 453229.0, 443974.75, 344988.25, 393490.5, 285013.5, 409456.0, 262308.75, 253182.25, 677370.25, 468181.75, 407812.0, 559573.25, 460568.5, 369993.0, 703063.25, 411455.75, 298315.75, 422257.5, 441202.75, 443413.5, 622191.75, 454652.5, 405431.25, 648859.25, 373375.25, 765746.5, 392578.25, 360999.25, 345660.25, 508937.25, 1093640.0, 376286.75, 552082.0, 431090.5, 329835.75, 447478.5, 455020.5, 999107.0, 376014.5, 550432.25, 353926.5, 239414.0, 666306.0, 375864.0, 255264.75, 534465.75, 618316.75, 352133.0, 376863.0, 284647.5, 343254.25, 349320.25, 308007.75, 351802.0, 348319.25, 469045.5, 466134.75, 464278.0, 298505.75, 445382.75, 369918.5, 565976.5, 809745.75, 813220.25, 305899.5, 430861.25]}, \"name\": \"\", \"parents\": [\"Flemingdon Park\", \"Taylor-Massey\", \"Mount Olive-Silverstone-Jamestown\", \"Thorncliffe Park\", \"Malvern\", \"Black Creek\", \"Dorset Park\", \"Mount Dennis\", \"Elms-Old Rexdale\", \"Eglinton East\", \"West Hill\", \"Morningside\", \"Kennedy Park\", \"Ionview\", \"O'Connor-Parkview\", \"Woburn\", \"Bendale\", \"York University Heights\", \"Weston\", \"Etobicoke West Mall\", \"Humbermede\", \"Keelesdale-Eglinton West\", \"Glenfield-Jane Heights\", \"Agincourt North\", \"Scarborough Village\", \"Agincourt South-Malvern West\", \"Lambton Baby Point\", \"Kingsview Village-The Westway\", \"West Humber-Clairville\", \"Milliken\", \"Rockcliffe-Smythe\", \"Wexford/Maryvale\", \"Westminster-Branson\", \"Brookhaven-Amesbury\", \"Weston-Pellam Park\", \"Humber Summit\", \"Victoria Village\", \"Tam O'Shanter-Sullivan\", \"Clairlea-Birchmount\", \"Rexdale-Kipling\", \"Caledonia-Fairbank\", \"Briar Hill-Belgravia\", \"Guildwood\", \"Woodbine-Lumsden\", \"Henry Farm\", \"Niagara\", \"Beechborough-Greenbrook\", \"Pleasant View\", \"Thistletown-Beaumond Heights\", \"Steeles\", \"Rouge\", \"Waterfront Communities-The Island\", \"Downsview-Roding-CFB\", \"Long Branch\", \"Greenwood-Coxwell\", \"Regent Park\", \"Mimico\", \"Hillcrest Village\", \"Eringate-Centennial-West Deane\", \"Don Valley Village\", \"Pelmo Park-Humberlea\", \"Church-Yonge Corridor\", \"New Toronto\", \"Moss Park\", \"Centennial Scarborough\", \"North St.James Town\", \"Cliffcrest\", \"Corso Italia-Davenport\", \"Danforth-East York\", \"Oakridge\", \"Bay Street Corridor\", \"Alderwood\", \"Highland Creek\", \"Yorkdale-Glen Park\", \"Rustic\", \"Junction Area\", \"Dovercourt-Wallace Emerson-Juncti\", \"Birchcliffe-Cliffside\", \"Kensington-Chinatown\", \"Oakwood Village\", \"Broadview North\", \"Old East York\", \"Markland Wood\", \"Woodbine Corridor\", \"South Parkdale\", \"Humber Heights-Westmount\", \"Islington-City Centre West\", \"Maple Leaf\", \"Parkwoods-Donalda\", \"South Riverdale\", \"Dufferin Grove\", \"Newtonbrook West\", \"Willowridge-Martingrove-Richview\", \"Willowdale West\", \"Danforth\", \"Mount Pleasant West\", \"Willowdale East\", \"East End-Danforth\", \"Cabbagetown-South St.James Town\", \"Bathurst Manor\", \"Roncesvalles\", \"Blake-Jones\", \"High Park North\", \"Trinity-Bellwoods\", \"Bayview Village\", \"Little Portugal\", \"Stonegate-Queensway\", \"Clanton Park\", \"Runnymede-Bloor West Village\", \"Newtonbrook East\", \"Bayview Woods-Steeles\", \"Wychwood\", \"Englemount-Lawrence\", \"High Park-Swansea\", \"Banbury-Don Mills\", \"Lansing-Westgate\", \"University\", \"Palmerston-Little Italy\", \"Playter Estates-Danforth\", \"L'Amoreaux\", \"The Beaches\", \"Mount Pleasant East\", \"Humewood-Cedarvale\", \"North Riverdale\", \"Annex\", \"Lawrence Park North\", \"Princess-Rosethorn\", \"Edenbridge-Humber Valley\", \"Leaside-Bennington\", \"Yonge-Eglinton\", \"Yonge-St.Clair\", \"Kingsway South\", \"Forest Hill North\", \"Bedford Park-Nortown\", \"Casa Loma\", \"St.Andrew-Windfields\", \"Rosedale-Moore Park\", \"Lawrence Park South\", \"Forest Hill South\", \"Bridle Path-Sunnybrook-York Mills\", \"\", \"\", \"\", \"\", \"\", \"\", \"\", \"\", \"\", \"\", \"\", \"\", \"\", \"\", \"\", \"\", \"\", \"\", \"\", \"\", \"\", \"\", \"\", \"\", \"\", \"\", \"\", \"\", \"\", \"\", \"\", \"\", \"\", \"\", \"\", \"\", \"\", \"\", \"\", \"\", \"\", \"\", \"\", \"\", \"\", \"\", \"\", \"\", \"\", \"\", \"\", \"\", \"\", \"\", \"\", \"\", \"\", \"\", \"\", \"\", \"\", \"\", \"\", \"\", \"\", \"\", \"\", \"\", \"\", \"\", \"\", \"\", \"\", \"\", \"\", \"\", \"\", \"\", \"\", \"\", \"\", \"\", \"\", \"\", \"\", \"\", \"\", \"\", \"\", \"\", \"\", \"\", \"\", \"\", \"\", \"\", \"\", \"\", \"\", \"\", \"\", \"\", \"\", \"\", \"\", \"\", \"\", \"\", \"\", \"\", \"\", \"\", \"\", \"\", \"\", \"\", \"\", \"\", \"\", \"\", \"\", \"\", \"\", \"\", \"\", \"\", \"\", \"\", \"\", \"\", \"\", \"\", \"\", \"\", \"\", \"\", \"\", \"\", \"\", \"\"], \"type\": \"sunburst\", \"values\": [207799.0, 239414.0, 253182.25, 255264.75, 256880.25, 260841.75, 262000.25, 262308.75, 268341.25, 268966.5, 284647.5, 285013.5, 287233.5, 287685.75, 298315.75, 298505.75, 301123.25, 305899.5, 308007.75, 309412.0, 319783.75, 322774.75, 327597.75, 329811.5, 329835.75, 334189.0, 336617.75, 338344.75, 343254.25, 344988.25, 345660.25, 348319.25, 349320.25, 350943.0, 351802.0, 352082.5, 352133.0, 353926.5, 354555.25, 360999.25, 361714.25, 365524.5, 369373.5, 369918.5, 369958.0, 369993.0, 370927.75, 373375.25, 375864.0, 376014.5, 376286.75, 376863.0, 381415.5, 385830.25, 387055.5, 392578.25, 393490.5, 395023.0, 397781.75, 398010.25, 405431.25, 406117.5, 407812.0, 409456.0, 409862.75, 411455.75, 417422.0, 419930.5, 421679.25, 422257.5, 423653.5, 427922.5, 428838.5, 430861.25, 431090.5, 433269.25, 434699.5, 437315.0, 440485.75, 441202.75, 443373.25, 443413.5, 443974.75, 445382.75, 447478.5, 449150.5, 451685.25, 453229.0, 454652.5, 455020.5, 457588.75, 460568.5, 464278.0, 466134.75, 466943.0, 468181.75, 469045.5, 478054.25, 494110.5, 501576.75, 508937.25, 511437.0, 532497.0, 534465.75, 539258.75, 540192.5, 550432.25, 551561.25, 552082.0, 559573.25, 565413.5, 565976.5, 568936.75, 582977.75, 612039.0, 613216.5, 618316.75, 622191.75, 648859.25, 650307.75, 666306.0, 677370.25, 697085.5, 703063.25, 746977.0, 759392.5, 765746.5, 796162.5, 806471.75, 809745.75, 813220.25, 843234.25, 851680.5, 930415.25, 981064.25, 999107.0, 1093640.0, 1094027.75, 1195992.5, 1526485.75, 329811.5, 334189.0, 427922.5, 746977.0, 612039.0, 501576.75, 423653.5, 539258.75, 565413.5, 930415.25, 370927.75, 301123.25, 437315.0, 260841.75, 511437.0, 365524.5, 1526485.75, 443373.25, 350943.0, 494110.5, 361714.25, 981064.25, 409862.75, 406117.5, 354555.25, 551561.25, 417422.0, 419930.5, 466943.0, 421679.25, 398010.25, 262000.25, 434699.5, 381415.5, 457588.75, 478054.25, 796162.5, 268966.5, 268341.25, 568936.75, 397781.75, 309412.0, 207799.0, 851680.5, 1195992.5, 327597.75, 387055.5, 369373.5, 369958.0, 532497.0, 582977.75, 428838.5, 395023.0, 449150.5, 352082.5, 319783.75, 697085.5, 287685.75, 451685.25, 433269.25, 322774.75, 287233.5, 440485.75, 338344.75, 843234.25, 650307.75, 336617.75, 613216.5, 759392.5, 1094027.75, 806471.75, 540192.5, 385830.25, 256880.25, 453229.0, 443974.75, 344988.25, 393490.5, 285013.5, 409456.0, 262308.75, 253182.25, 677370.25, 468181.75, 407812.0, 559573.25, 460568.5, 369993.0, 703063.25, 411455.75, 298315.75, 422257.5, 441202.75, 443413.5, 622191.75, 454652.5, 405431.25, 648859.25, 373375.25, 765746.5, 392578.25, 360999.25, 345660.25, 508937.25, 1093640.0, 376286.75, 552082.0, 431090.5, 329835.75, 447478.5, 455020.5, 999107.0, 376014.5, 550432.25, 353926.5, 239414.0, 666306.0, 375864.0, 255264.75, 534465.75, 618316.75, 352133.0, 376863.0, 284647.5, 343254.25, 349320.25, 308007.75, 351802.0, 348319.25, 469045.5, 466134.75, 464278.0, 298505.75, 445382.75, 369918.5, 565976.5, 809745.75, 813220.25, 305899.5, 430861.25]}],                        {\"coloraxis\": {\"colorbar\": {\"title\": {\"text\": \"average_house_value\"}}, \"colorscale\": [[0.0, \"#0d0887\"], [0.1111111111111111, \"#46039f\"], [0.2222222222222222, \"#7201a8\"], [0.3333333333333333, \"#9c179e\"], [0.4444444444444444, \"#bd3786\"], [0.5555555555555556, \"#d8576b\"], [0.6666666666666666, \"#ed7953\"], [0.7777777777777778, \"#fb9f3a\"], [0.8888888888888888, \"#fdca26\"], [1.0, \"#f0f921\"]]}, \"legend\": {\"tracegroupgap\": 0}, \"margin\": {\"t\": 60}, \"template\": {\"data\": {\"bar\": [{\"error_x\": {\"color\": \"#2a3f5f\"}, \"error_y\": {\"color\": \"#2a3f5f\"}, \"marker\": {\"line\": {\"color\": \"#E5ECF6\", \"width\": 0.5}}, \"type\": \"bar\"}], \"barpolar\": [{\"marker\": {\"line\": {\"color\": \"#E5ECF6\", \"width\": 0.5}}, \"type\": \"barpolar\"}], \"carpet\": [{\"aaxis\": {\"endlinecolor\": \"#2a3f5f\", \"gridcolor\": \"white\", \"linecolor\": \"white\", \"minorgridcolor\": \"white\", \"startlinecolor\": \"#2a3f5f\"}, \"baxis\": {\"endlinecolor\": \"#2a3f5f\", \"gridcolor\": \"white\", \"linecolor\": \"white\", \"minorgridcolor\": \"white\", \"startlinecolor\": \"#2a3f5f\"}, \"type\": \"carpet\"}], \"choropleth\": [{\"colorbar\": {\"outlinewidth\": 0, \"ticks\": \"\"}, \"type\": \"choropleth\"}], \"contour\": [{\"colorbar\": {\"outlinewidth\": 0, \"ticks\": \"\"}, \"colorscale\": [[0.0, \"#0d0887\"], [0.1111111111111111, \"#46039f\"], [0.2222222222222222, \"#7201a8\"], [0.3333333333333333, \"#9c179e\"], [0.4444444444444444, \"#bd3786\"], [0.5555555555555556, \"#d8576b\"], [0.6666666666666666, \"#ed7953\"], [0.7777777777777778, \"#fb9f3a\"], [0.8888888888888888, \"#fdca26\"], [1.0, \"#f0f921\"]], \"type\": \"contour\"}], \"contourcarpet\": [{\"colorbar\": {\"outlinewidth\": 0, \"ticks\": \"\"}, \"type\": \"contourcarpet\"}], \"heatmap\": [{\"colorbar\": {\"outlinewidth\": 0, \"ticks\": \"\"}, \"colorscale\": [[0.0, \"#0d0887\"], [0.1111111111111111, \"#46039f\"], [0.2222222222222222, \"#7201a8\"], [0.3333333333333333, \"#9c179e\"], [0.4444444444444444, \"#bd3786\"], [0.5555555555555556, \"#d8576b\"], [0.6666666666666666, \"#ed7953\"], [0.7777777777777778, \"#fb9f3a\"], [0.8888888888888888, \"#fdca26\"], [1.0, \"#f0f921\"]], \"type\": \"heatmap\"}], \"heatmapgl\": [{\"colorbar\": {\"outlinewidth\": 0, \"ticks\": \"\"}, \"colorscale\": [[0.0, \"#0d0887\"], [0.1111111111111111, \"#46039f\"], [0.2222222222222222, \"#7201a8\"], [0.3333333333333333, \"#9c179e\"], [0.4444444444444444, \"#bd3786\"], [0.5555555555555556, \"#d8576b\"], [0.6666666666666666, \"#ed7953\"], [0.7777777777777778, \"#fb9f3a\"], [0.8888888888888888, \"#fdca26\"], [1.0, \"#f0f921\"]], \"type\": \"heatmapgl\"}], \"histogram\": [{\"marker\": {\"colorbar\": {\"outlinewidth\": 0, \"ticks\": \"\"}}, \"type\": \"histogram\"}], \"histogram2d\": [{\"colorbar\": {\"outlinewidth\": 0, \"ticks\": \"\"}, \"colorscale\": [[0.0, \"#0d0887\"], [0.1111111111111111, \"#46039f\"], [0.2222222222222222, \"#7201a8\"], [0.3333333333333333, \"#9c179e\"], [0.4444444444444444, \"#bd3786\"], [0.5555555555555556, \"#d8576b\"], [0.6666666666666666, \"#ed7953\"], [0.7777777777777778, \"#fb9f3a\"], [0.8888888888888888, \"#fdca26\"], [1.0, \"#f0f921\"]], \"type\": \"histogram2d\"}], \"histogram2dcontour\": [{\"colorbar\": {\"outlinewidth\": 0, \"ticks\": \"\"}, \"colorscale\": [[0.0, \"#0d0887\"], [0.1111111111111111, \"#46039f\"], [0.2222222222222222, \"#7201a8\"], [0.3333333333333333, \"#9c179e\"], [0.4444444444444444, \"#bd3786\"], [0.5555555555555556, \"#d8576b\"], [0.6666666666666666, \"#ed7953\"], [0.7777777777777778, \"#fb9f3a\"], [0.8888888888888888, \"#fdca26\"], [1.0, \"#f0f921\"]], \"type\": \"histogram2dcontour\"}], \"mesh3d\": [{\"colorbar\": {\"outlinewidth\": 0, \"ticks\": \"\"}, \"type\": \"mesh3d\"}], \"parcoords\": [{\"line\": {\"colorbar\": {\"outlinewidth\": 0, \"ticks\": \"\"}}, \"type\": \"parcoords\"}], \"pie\": [{\"automargin\": true, \"type\": \"pie\"}], \"scatter\": [{\"marker\": {\"colorbar\": {\"outlinewidth\": 0, \"ticks\": \"\"}}, \"type\": \"scatter\"}], \"scatter3d\": [{\"line\": {\"colorbar\": {\"outlinewidth\": 0, \"ticks\": \"\"}}, \"marker\": {\"colorbar\": {\"outlinewidth\": 0, \"ticks\": \"\"}}, \"type\": \"scatter3d\"}], \"scattercarpet\": [{\"marker\": {\"colorbar\": {\"outlinewidth\": 0, \"ticks\": \"\"}}, \"type\": \"scattercarpet\"}], \"scattergeo\": [{\"marker\": {\"colorbar\": {\"outlinewidth\": 0, \"ticks\": \"\"}}, \"type\": \"scattergeo\"}], \"scattergl\": [{\"marker\": {\"colorbar\": {\"outlinewidth\": 0, \"ticks\": \"\"}}, \"type\": \"scattergl\"}], \"scattermapbox\": [{\"marker\": {\"colorbar\": {\"outlinewidth\": 0, \"ticks\": \"\"}}, \"type\": \"scattermapbox\"}], \"scatterpolar\": [{\"marker\": {\"colorbar\": {\"outlinewidth\": 0, \"ticks\": \"\"}}, \"type\": \"scatterpolar\"}], \"scatterpolargl\": [{\"marker\": {\"colorbar\": {\"outlinewidth\": 0, \"ticks\": \"\"}}, \"type\": \"scatterpolargl\"}], \"scatterternary\": [{\"marker\": {\"colorbar\": {\"outlinewidth\": 0, \"ticks\": \"\"}}, \"type\": \"scatterternary\"}], \"surface\": [{\"colorbar\": {\"outlinewidth\": 0, \"ticks\": \"\"}, \"colorscale\": [[0.0, \"#0d0887\"], [0.1111111111111111, \"#46039f\"], [0.2222222222222222, \"#7201a8\"], [0.3333333333333333, \"#9c179e\"], [0.4444444444444444, \"#bd3786\"], [0.5555555555555556, \"#d8576b\"], [0.6666666666666666, \"#ed7953\"], [0.7777777777777778, \"#fb9f3a\"], [0.8888888888888888, \"#fdca26\"], [1.0, \"#f0f921\"]], \"type\": \"surface\"}], \"table\": [{\"cells\": {\"fill\": {\"color\": \"#EBF0F8\"}, \"line\": {\"color\": \"white\"}}, \"header\": {\"fill\": {\"color\": \"#C8D4E3\"}, \"line\": {\"color\": \"white\"}}, \"type\": \"table\"}]}, \"layout\": {\"annotationdefaults\": {\"arrowcolor\": \"#2a3f5f\", \"arrowhead\": 0, \"arrowwidth\": 1}, \"coloraxis\": {\"colorbar\": {\"outlinewidth\": 0, \"ticks\": \"\"}}, \"colorscale\": {\"diverging\": [[0, \"#8e0152\"], [0.1, \"#c51b7d\"], [0.2, \"#de77ae\"], [0.3, \"#f1b6da\"], [0.4, \"#fde0ef\"], [0.5, \"#f7f7f7\"], [0.6, \"#e6f5d0\"], [0.7, \"#b8e186\"], [0.8, \"#7fbc41\"], [0.9, \"#4d9221\"], [1, \"#276419\"]], \"sequential\": [[0.0, \"#0d0887\"], [0.1111111111111111, \"#46039f\"], [0.2222222222222222, \"#7201a8\"], [0.3333333333333333, \"#9c179e\"], [0.4444444444444444, \"#bd3786\"], [0.5555555555555556, \"#d8576b\"], [0.6666666666666666, \"#ed7953\"], [0.7777777777777778, \"#fb9f3a\"], [0.8888888888888888, \"#fdca26\"], [1.0, \"#f0f921\"]], \"sequentialminus\": [[0.0, \"#0d0887\"], [0.1111111111111111, \"#46039f\"], [0.2222222222222222, \"#7201a8\"], [0.3333333333333333, \"#9c179e\"], [0.4444444444444444, \"#bd3786\"], [0.5555555555555556, \"#d8576b\"], [0.6666666666666666, \"#ed7953\"], [0.7777777777777778, \"#fb9f3a\"], [0.8888888888888888, \"#fdca26\"], [1.0, \"#f0f921\"]]}, \"colorway\": [\"#636efa\", \"#EF553B\", \"#00cc96\", \"#ab63fa\", \"#FFA15A\", \"#19d3f3\", \"#FF6692\", \"#B6E880\", \"#FF97FF\", \"#FECB52\"], \"font\": {\"color\": \"#2a3f5f\"}, \"geo\": {\"bgcolor\": \"white\", \"lakecolor\": \"white\", \"landcolor\": \"#E5ECF6\", \"showlakes\": true, \"showland\": true, \"subunitcolor\": \"white\"}, \"hoverlabel\": {\"align\": \"left\"}, \"hovermode\": \"closest\", \"mapbox\": {\"style\": \"light\"}, \"paper_bgcolor\": \"white\", \"plot_bgcolor\": \"#E5ECF6\", \"polar\": {\"angularaxis\": {\"gridcolor\": \"white\", \"linecolor\": \"white\", \"ticks\": \"\"}, \"bgcolor\": \"#E5ECF6\", \"radialaxis\": {\"gridcolor\": \"white\", \"linecolor\": \"white\", \"ticks\": \"\"}}, \"scene\": {\"xaxis\": {\"backgroundcolor\": \"#E5ECF6\", \"gridcolor\": \"white\", \"gridwidth\": 2, \"linecolor\": \"white\", \"showbackground\": true, \"ticks\": \"\", \"zerolinecolor\": \"white\"}, \"yaxis\": {\"backgroundcolor\": \"#E5ECF6\", \"gridcolor\": \"white\", \"gridwidth\": 2, \"linecolor\": \"white\", \"showbackground\": true, \"ticks\": \"\", \"zerolinecolor\": \"white\"}, \"zaxis\": {\"backgroundcolor\": \"#E5ECF6\", \"gridcolor\": \"white\", \"gridwidth\": 2, \"linecolor\": \"white\", \"showbackground\": true, \"ticks\": \"\", \"zerolinecolor\": \"white\"}}, \"shapedefaults\": {\"line\": {\"color\": \"#2a3f5f\"}}, \"ternary\": {\"aaxis\": {\"gridcolor\": \"white\", \"linecolor\": \"white\", \"ticks\": \"\"}, \"baxis\": {\"gridcolor\": \"white\", \"linecolor\": \"white\", \"ticks\": \"\"}, \"bgcolor\": \"#E5ECF6\", \"caxis\": {\"gridcolor\": \"white\", \"linecolor\": \"white\", \"ticks\": \"\"}}, \"title\": {\"x\": 0.05}, \"xaxis\": {\"automargin\": true, \"gridcolor\": \"white\", \"linecolor\": \"white\", \"ticks\": \"\", \"title\": {\"standoff\": 15}, \"zerolinecolor\": \"white\", \"zerolinewidth\": 2}, \"yaxis\": {\"automargin\": true, \"gridcolor\": \"white\", \"linecolor\": \"white\", \"ticks\": \"\", \"title\": {\"standoff\": 15}, \"zerolinecolor\": \"white\", \"zerolinewidth\": 2}}}},                        {\"responsive\": true}                    ).then(function(){\n",
       "                            \n",
       "var gd = document.getElementById('c5a652e7-c49e-467c-b745-d2ee11dd099a');\n",
       "var x = new MutationObserver(function (mutations, observer) {{\n",
       "        var display = window.getComputedStyle(gd).display;\n",
       "        if (!display || display === 'none') {{\n",
       "            console.log([gd, 'removed!']);\n",
       "            Plotly.purge(gd);\n",
       "            observer.disconnect();\n",
       "        }}\n",
       "}});\n",
       "\n",
       "// Listen for the removal of the full notebook cells\n",
       "var notebookContainer = gd.closest('#notebook-container');\n",
       "if (notebookContainer) {{\n",
       "    x.observe(notebookContainer, {childList: true});\n",
       "}}\n",
       "\n",
       "// Listen for the clearing of the current output cell\n",
       "var outputEl = gd.closest('.output');\n",
       "if (outputEl) {{\n",
       "    x.observe(outputEl, {childList: true});\n",
       "}}\n",
       "\n",
       "                        })                };                });            </script>        </div>"
      ]
     },
     "metadata": {},
     "output_type": "display_data"
    }
   ],
   "source": [
    "# Create the sunburst chart\n",
    "# YOUR CODE HERE!\n",
    "\n",
    "px.sunburst(merged_data, \n",
    "        path=[\"neighbourhood\",\"average_house_value\"], \n",
    "        values='average_house_value',\n",
    "        color='average_house_value'\n",
    "    )"
   ]
  },
  {
   "cell_type": "code",
   "execution_count": null,
   "metadata": {},
   "outputs": [],
   "source": []
  }
 ],
 "metadata": {
  "file_extension": ".py",
  "kernelspec": {
   "display_name": "Python 3",
   "language": "python",
   "name": "python3"
  },
  "language_info": {
   "codemirror_mode": {
    "name": "ipython",
    "version": 3
   },
   "file_extension": ".py",
   "mimetype": "text/x-python",
   "name": "python",
   "nbconvert_exporter": "python",
   "pygments_lexer": "ipython3",
   "version": "3.7.10"
  },
  "mimetype": "text/x-python",
  "name": "python",
  "npconvert_exporter": "python",
  "pygments_lexer": "ipython3",
  "version": 3
 },
 "nbformat": 4,
 "nbformat_minor": 4
}
